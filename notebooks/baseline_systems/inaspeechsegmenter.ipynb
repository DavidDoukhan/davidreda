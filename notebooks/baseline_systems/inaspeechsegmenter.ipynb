{
 "cells": [
  {
   "cell_type": "code",
   "execution_count": 1,
   "id": "f1117a99",
   "metadata": {},
   "outputs": [],
   "source": [
    "# uncomment to install speechbrain\n",
    "# !pip install inaspeechsegmenter\n",
    "# !pip install numpy==1.24.1 # some pyannote code is no more compatible with numpy >= 1.25"
   ]
  },
  {
   "cell_type": "code",
   "execution_count": 2,
   "id": "d98a5f04",
   "metadata": {},
   "outputs": [
    {
     "name": "stderr",
     "output_type": "stream",
     "text": [
      "2023-10-06 14:39:04.659135: E tensorflow/compiler/xla/stream_executor/cuda/cuda_dnn.cc:9342] Unable to register cuDNN factory: Attempting to register factory for plugin cuDNN when one has already been registered\n",
      "2023-10-06 14:39:04.659165: E tensorflow/compiler/xla/stream_executor/cuda/cuda_fft.cc:609] Unable to register cuFFT factory: Attempting to register factory for plugin cuFFT when one has already been registered\n",
      "2023-10-06 14:39:04.659227: E tensorflow/compiler/xla/stream_executor/cuda/cuda_blas.cc:1518] Unable to register cuBLAS factory: Attempting to register factory for plugin cuBLAS when one has already been registered\n",
      "2023-10-06 14:39:04.666472: I tensorflow/core/platform/cpu_feature_guard.cc:182] This TensorFlow binary is optimized to use available CPU instructions in performance-critical operations.\n",
      "To enable the following instructions: AVX2 FMA, in other operations, rebuild TensorFlow with the appropriate compiler flags.\n",
      "2023-10-06 14:39:05.321596: W tensorflow/compiler/tf2tensorrt/utils/py_utils.cc:38] TF-TRT Warning: Could not find TensorRT\n"
     ]
    }
   ],
   "source": [
    "import glob\n",
    "import pandas as pd\n",
    "from os.path import basename, splitext\n",
    "from inaSpeechSegmenter import Segmenter"
   ]
  },
  {
   "cell_type": "code",
   "execution_count": 3,
   "id": "69d100fe",
   "metadata": {},
   "outputs": [],
   "source": [
    "# replace with corpus wav path on your local machine\n",
    "wavdir = '/tmp/wav/'"
   ]
  },
  {
   "cell_type": "code",
   "execution_count": 4,
   "id": "ce51096a",
   "metadata": {},
   "outputs": [
    {
     "name": "stderr",
     "output_type": "stream",
     "text": [
      "2023-10-06 14:39:08.942383: I tensorflow/compiler/xla/stream_executor/cuda/cuda_gpu_executor.cc:894] successful NUMA node read from SysFS had negative value (-1), but there must be at least one NUMA node, so returning NUMA node zero. See more at https://github.com/torvalds/linux/blob/v6.0/Documentation/ABI/testing/sysfs-bus-pci#L344-L355\n",
      "2023-10-06 14:39:09.010128: I tensorflow/compiler/xla/stream_executor/cuda/cuda_gpu_executor.cc:894] successful NUMA node read from SysFS had negative value (-1), but there must be at least one NUMA node, so returning NUMA node zero. See more at https://github.com/torvalds/linux/blob/v6.0/Documentation/ABI/testing/sysfs-bus-pci#L344-L355\n",
      "2023-10-06 14:39:09.010343: I tensorflow/compiler/xla/stream_executor/cuda/cuda_gpu_executor.cc:894] successful NUMA node read from SysFS had negative value (-1), but there must be at least one NUMA node, so returning NUMA node zero. See more at https://github.com/torvalds/linux/blob/v6.0/Documentation/ABI/testing/sysfs-bus-pci#L344-L355\n",
      "2023-10-06 14:39:09.011734: I tensorflow/compiler/xla/stream_executor/cuda/cuda_gpu_executor.cc:894] successful NUMA node read from SysFS had negative value (-1), but there must be at least one NUMA node, so returning NUMA node zero. See more at https://github.com/torvalds/linux/blob/v6.0/Documentation/ABI/testing/sysfs-bus-pci#L344-L355\n",
      "2023-10-06 14:39:09.011935: I tensorflow/compiler/xla/stream_executor/cuda/cuda_gpu_executor.cc:894] successful NUMA node read from SysFS had negative value (-1), but there must be at least one NUMA node, so returning NUMA node zero. See more at https://github.com/torvalds/linux/blob/v6.0/Documentation/ABI/testing/sysfs-bus-pci#L344-L355\n",
      "2023-10-06 14:39:09.012091: I tensorflow/compiler/xla/stream_executor/cuda/cuda_gpu_executor.cc:894] successful NUMA node read from SysFS had negative value (-1), but there must be at least one NUMA node, so returning NUMA node zero. See more at https://github.com/torvalds/linux/blob/v6.0/Documentation/ABI/testing/sysfs-bus-pci#L344-L355\n",
      "2023-10-06 14:39:09.553419: I tensorflow/compiler/xla/stream_executor/cuda/cuda_gpu_executor.cc:894] successful NUMA node read from SysFS had negative value (-1), but there must be at least one NUMA node, so returning NUMA node zero. See more at https://github.com/torvalds/linux/blob/v6.0/Documentation/ABI/testing/sysfs-bus-pci#L344-L355\n",
      "2023-10-06 14:39:09.553612: I tensorflow/compiler/xla/stream_executor/cuda/cuda_gpu_executor.cc:894] successful NUMA node read from SysFS had negative value (-1), but there must be at least one NUMA node, so returning NUMA node zero. See more at https://github.com/torvalds/linux/blob/v6.0/Documentation/ABI/testing/sysfs-bus-pci#L344-L355\n",
      "2023-10-06 14:39:09.553769: I tensorflow/compiler/xla/stream_executor/cuda/cuda_gpu_executor.cc:894] successful NUMA node read from SysFS had negative value (-1), but there must be at least one NUMA node, so returning NUMA node zero. See more at https://github.com/torvalds/linux/blob/v6.0/Documentation/ABI/testing/sysfs-bus-pci#L344-L355\n",
      "2023-10-06 14:39:09.553888: I tensorflow/core/common_runtime/gpu/gpu_device.cc:1886] Created device /job:localhost/replica:0/task:0/device:GPU:0 with 11460 MB memory:  -> device: 0, name: NVIDIA GeForce GTX TITAN X, pci bus id: 0000:03:00.0, compute capability: 5.2\n"
     ]
    }
   ],
   "source": [
    "s = Segmenter()"
   ]
  },
  {
   "cell_type": "code",
   "execution_count": 6,
   "id": "3fc247f5",
   "metadata": {},
   "outputs": [
    {
     "name": "stdout",
     "output_type": "stream",
     "text": [
      "/tmp/wav/radio-RTL-084520.wav\n"
     ]
    },
    {
     "name": "stderr",
     "output_type": "stream",
     "text": [
      "/home/ddoukhan/git_repos/davidreda/env/lib/python3.10/site-packages/pyannote/algorithms/utils/viterbi.py:86: FutureWarning: arrays to stack must be passed as a \"sequence\" type such as list or tuple. Support for non-sequence iterables such as generators is deprecated as of NumPy 1.16 and will raise an error in the future.\n",
      "  return np.vstack(\n",
      "/home/ddoukhan/git_repos/davidreda/env/lib/python3.10/site-packages/pyannote/algorithms/utils/viterbi.py:95: FutureWarning: arrays to stack must be passed as a \"sequence\" type such as list or tuple. Support for non-sequence iterables such as generators is deprecated as of NumPy 1.16 and will raise an error in the future.\n",
      "  return np.vstack(\n"
     ]
    },
    {
     "name": "stdout",
     "output_type": "stream",
     "text": [
      "94/94 - 0s - 153ms/epoch - 2ms/step\n",
      "87/87 - 0s - 270ms/epoch - 3ms/step\n",
      "[('music', 0.0, 2.84), ('male', 2.84, 6.76), ('female', 6.76, 25.6), ('male', 25.6, 45.36), ('female', 45.36, 46.84), ('male', 46.84, 50.660000000000004), ('female', 50.660000000000004, 52.88), ('music', 52.88, 54.44), ('female', 54.44, 60.0)]\n",
      "/tmp/wav/radio-FUN-162242.wav\n"
     ]
    },
    {
     "name": "stderr",
     "output_type": "stream",
     "text": [
      "/home/ddoukhan/git_repos/davidreda/env/lib/python3.10/site-packages/pyannote/algorithms/utils/viterbi.py:86: FutureWarning: arrays to stack must be passed as a \"sequence\" type such as list or tuple. Support for non-sequence iterables such as generators is deprecated as of NumPy 1.16 and will raise an error in the future.\n",
      "  return np.vstack(\n",
      "/home/ddoukhan/git_repos/davidreda/env/lib/python3.10/site-packages/pyannote/algorithms/utils/viterbi.py:95: FutureWarning: arrays to stack must be passed as a \"sequence\" type such as list or tuple. Support for non-sequence iterables such as generators is deprecated as of NumPy 1.16 and will raise an error in the future.\n",
      "  return np.vstack(\n"
     ]
    },
    {
     "name": "stdout",
     "output_type": "stream",
     "text": [
      "94/94 - 0s - 225ms/epoch - 2ms/step\n",
      "[('music', 0.0, 60.02)]\n",
      "/tmp/wav/tv-FR5-151958.wav\n"
     ]
    },
    {
     "name": "stderr",
     "output_type": "stream",
     "text": [
      "/home/ddoukhan/git_repos/davidreda/env/lib/python3.10/site-packages/pyannote/algorithms/utils/viterbi.py:86: FutureWarning: arrays to stack must be passed as a \"sequence\" type such as list or tuple. Support for non-sequence iterables such as generators is deprecated as of NumPy 1.16 and will raise an error in the future.\n",
      "  return np.vstack(\n",
      "/home/ddoukhan/git_repos/davidreda/env/lib/python3.10/site-packages/pyannote/algorithms/utils/viterbi.py:95: FutureWarning: arrays to stack must be passed as a \"sequence\" type such as list or tuple. Support for non-sequence iterables such as generators is deprecated as of NumPy 1.16 and will raise an error in the future.\n",
      "  return np.vstack(\n"
     ]
    },
    {
     "name": "stdout",
     "output_type": "stream",
     "text": [
      "93/93 - 0s - 291ms/epoch - 3ms/step\n",
      "85/85 - 0s - 395ms/epoch - 5ms/step\n",
      "[('male', 0.0, 2.48), ('noise', 2.48, 7.5), ('male', 7.5, 19.68), ('female', 19.68, 23.34), ('male', 23.34, 26.68), ('female', 26.68, 28.900000000000002), ('male', 28.900000000000002, 53.96), ('noEnergy', 53.96, 54.9), ('male', 54.9, 56.28), ('noEnergy', 56.28, 56.82), ('female', 56.82, 58.24), ('noEnergy', 58.24, 59.04), ('male', 59.04, 61.56)]\n",
      "/tmp/wav/tv-TF1-030233.wav\n"
     ]
    },
    {
     "name": "stderr",
     "output_type": "stream",
     "text": [
      "/home/ddoukhan/git_repos/davidreda/env/lib/python3.10/site-packages/pyannote/algorithms/utils/viterbi.py:86: FutureWarning: arrays to stack must be passed as a \"sequence\" type such as list or tuple. Support for non-sequence iterables such as generators is deprecated as of NumPy 1.16 and will raise an error in the future.\n",
      "  return np.vstack(\n",
      "/home/ddoukhan/git_repos/davidreda/env/lib/python3.10/site-packages/pyannote/algorithms/utils/viterbi.py:95: FutureWarning: arrays to stack must be passed as a \"sequence\" type such as list or tuple. Support for non-sequence iterables such as generators is deprecated as of NumPy 1.16 and will raise an error in the future.\n",
      "  return np.vstack(\n"
     ]
    },
    {
     "name": "stdout",
     "output_type": "stream",
     "text": [
      "97/97 - 0s - 244ms/epoch - 3ms/step\n",
      "83/83 - 0s - 407ms/epoch - 5ms/step\n",
      "[('male', 0.0, 3.74), ('female', 3.74, 7.78), ('male', 7.78, 10.3), ('female', 10.3, 11.540000000000001), ('male', 11.540000000000001, 14.92), ('female', 14.92, 20.92), ('male', 20.92, 24.86), ('female', 24.86, 28.5), ('male', 28.5, 33.3), ('noise', 33.3, 36.7), ('male', 36.7, 56.5), ('noise', 56.5, 61.76)]\n",
      "/tmp/wav/radio-MUV-101431.wav\n"
     ]
    },
    {
     "name": "stderr",
     "output_type": "stream",
     "text": [
      "/home/ddoukhan/git_repos/davidreda/env/lib/python3.10/site-packages/pyannote/algorithms/utils/viterbi.py:86: FutureWarning: arrays to stack must be passed as a \"sequence\" type such as list or tuple. Support for non-sequence iterables such as generators is deprecated as of NumPy 1.16 and will raise an error in the future.\n",
      "  return np.vstack(\n",
      "/home/ddoukhan/git_repos/davidreda/env/lib/python3.10/site-packages/pyannote/algorithms/utils/viterbi.py:95: FutureWarning: arrays to stack must be passed as a \"sequence\" type such as list or tuple. Support for non-sequence iterables such as generators is deprecated as of NumPy 1.16 and will raise an error in the future.\n",
      "  return np.vstack(\n"
     ]
    },
    {
     "name": "stdout",
     "output_type": "stream",
     "text": [
      "94/94 - 0s - 149ms/epoch - 2ms/step\n",
      "[('music', 0.0, 60.0)]\n",
      "/tmp/wav/tv-TF1-194413.wav\n"
     ]
    },
    {
     "name": "stderr",
     "output_type": "stream",
     "text": [
      "/home/ddoukhan/git_repos/davidreda/env/lib/python3.10/site-packages/pyannote/algorithms/utils/viterbi.py:86: FutureWarning: arrays to stack must be passed as a \"sequence\" type such as list or tuple. Support for non-sequence iterables such as generators is deprecated as of NumPy 1.16 and will raise an error in the future.\n",
      "  return np.vstack(\n",
      "/home/ddoukhan/git_repos/davidreda/env/lib/python3.10/site-packages/pyannote/algorithms/utils/viterbi.py:95: FutureWarning: arrays to stack must be passed as a \"sequence\" type such as list or tuple. Support for non-sequence iterables such as generators is deprecated as of NumPy 1.16 and will raise an error in the future.\n",
      "  return np.vstack(\n"
     ]
    },
    {
     "name": "stdout",
     "output_type": "stream",
     "text": [
      "96/96 - 0s - 249ms/epoch - 3ms/step\n",
      "85/85 - 0s - 365ms/epoch - 4ms/step\n",
      "[('male', 0.0, 31.400000000000002), ('female', 31.400000000000002, 34.7), ('male', 34.7, 41.26), ('noise', 41.26, 48.44), ('female', 48.44, 61.08)]\n",
      "/tmp/wav/tv-FR3-151256.wav\n"
     ]
    },
    {
     "name": "stderr",
     "output_type": "stream",
     "text": [
      "/home/ddoukhan/git_repos/davidreda/env/lib/python3.10/site-packages/pyannote/algorithms/utils/viterbi.py:86: FutureWarning: arrays to stack must be passed as a \"sequence\" type such as list or tuple. Support for non-sequence iterables such as generators is deprecated as of NumPy 1.16 and will raise an error in the future.\n",
      "  return np.vstack(\n",
      "/home/ddoukhan/git_repos/davidreda/env/lib/python3.10/site-packages/pyannote/algorithms/utils/viterbi.py:95: FutureWarning: arrays to stack must be passed as a \"sequence\" type such as list or tuple. Support for non-sequence iterables such as generators is deprecated as of NumPy 1.16 and will raise an error in the future.\n",
      "  return np.vstack(\n"
     ]
    },
    {
     "name": "stdout",
     "output_type": "stream",
     "text": [
      "97/97 - 0s - 155ms/epoch - 2ms/step\n",
      "76/76 - 0s - 397ms/epoch - 5ms/step\n",
      "[('noise', 0.0, 1.12), ('male', 1.12, 3.3200000000000003), ('noise', 3.3200000000000003, 10.84), ('male', 10.84, 15.44), ('noise', 15.44, 17.38), ('male', 17.38, 54.96), ('noise', 54.96, 57.7), ('male', 57.7, 61.76)]\n",
      "/tmp/wav/tv-PP_-093859.wav\n"
     ]
    },
    {
     "name": "stderr",
     "output_type": "stream",
     "text": [
      "/home/ddoukhan/git_repos/davidreda/env/lib/python3.10/site-packages/pyannote/algorithms/utils/viterbi.py:86: FutureWarning: arrays to stack must be passed as a \"sequence\" type such as list or tuple. Support for non-sequence iterables such as generators is deprecated as of NumPy 1.16 and will raise an error in the future.\n",
      "  return np.vstack(\n",
      "/home/ddoukhan/git_repos/davidreda/env/lib/python3.10/site-packages/pyannote/algorithms/utils/viterbi.py:95: FutureWarning: arrays to stack must be passed as a \"sequence\" type such as list or tuple. Support for non-sequence iterables such as generators is deprecated as of NumPy 1.16 and will raise an error in the future.\n",
      "  return np.vstack(\n"
     ]
    },
    {
     "name": "stdout",
     "output_type": "stream",
     "text": [
      "95/95 - 0s - 230ms/epoch - 2ms/step\n",
      "93/93 - 0s - 454ms/epoch - 5ms/step\n",
      "[('noise', 0.0, 0.96), ('male', 0.96, 60.42)]\n",
      "/tmp/wav/tv-F24-183254.wav\n"
     ]
    },
    {
     "name": "stderr",
     "output_type": "stream",
     "text": [
      "/home/ddoukhan/git_repos/davidreda/env/lib/python3.10/site-packages/pyannote/algorithms/utils/viterbi.py:86: FutureWarning: arrays to stack must be passed as a \"sequence\" type such as list or tuple. Support for non-sequence iterables such as generators is deprecated as of NumPy 1.16 and will raise an error in the future.\n",
      "  return np.vstack(\n",
      "/home/ddoukhan/git_repos/davidreda/env/lib/python3.10/site-packages/pyannote/algorithms/utils/viterbi.py:95: FutureWarning: arrays to stack must be passed as a \"sequence\" type such as list or tuple. Support for non-sequence iterables such as generators is deprecated as of NumPy 1.16 and will raise an error in the future.\n",
      "  return np.vstack(\n"
     ]
    },
    {
     "name": "stdout",
     "output_type": "stream",
     "text": [
      "95/95 - 0s - 230ms/epoch - 2ms/step\n",
      "95/95 - 0s - 411ms/epoch - 4ms/step\n",
      "[('male', 0.0, 33.78), ('noEnergy', 33.78, 34.32), ('male', 34.32, 61.08)]\n",
      "/tmp/wav/tv-T5M-072520.wav\n"
     ]
    },
    {
     "name": "stderr",
     "output_type": "stream",
     "text": [
      "/home/ddoukhan/git_repos/davidreda/env/lib/python3.10/site-packages/pyannote/algorithms/utils/viterbi.py:86: FutureWarning: arrays to stack must be passed as a \"sequence\" type such as list or tuple. Support for non-sequence iterables such as generators is deprecated as of NumPy 1.16 and will raise an error in the future.\n",
      "  return np.vstack(\n",
      "/home/ddoukhan/git_repos/davidreda/env/lib/python3.10/site-packages/pyannote/algorithms/utils/viterbi.py:95: FutureWarning: arrays to stack must be passed as a \"sequence\" type such as list or tuple. Support for non-sequence iterables such as generators is deprecated as of NumPy 1.16 and will raise an error in the future.\n",
      "  return np.vstack(\n",
      "/home/ddoukhan/git_repos/davidreda/env/lib/python3.10/site-packages/inaSpeechSegmenter/segmenter.py:62: RuntimeWarning: invalid value encountered in subtract\n",
      "  data = (data - np.mean(data, axis=1).reshape((len(data), 1))) / np.std(data, axis=1).reshape((len(data), 1))\n",
      "/home/ddoukhan/git_repos/davidreda/env/lib/python3.10/site-packages/numpy/core/_methods.py:236: RuntimeWarning: invalid value encountered in subtract\n",
      "  x = asanyarray(arr - arrmean)\n"
     ]
    },
    {
     "name": "stdout",
     "output_type": "stream",
     "text": [
      "91/91 - 0s - 227ms/epoch - 2ms/step\n",
      "51/51 - 0s - 287ms/epoch - 6ms/step\n",
      "[('music', 0.0, 18.38), ('noEnergy', 18.38, 20.28), ('music', 20.28, 27.400000000000002), ('female', 27.400000000000002, 28.78), ('noEnergy', 28.78, 29.28), ('female', 29.28, 30.1), ('noEnergy', 30.1, 30.78), ('female', 30.78, 32.42), ('noEnergy', 32.42, 33.28), ('female', 33.28, 38.32), ('male', 38.32, 51.36), ('female', 51.36, 55.94), ('male', 55.94, 60.26), ('female', 60.26, 61.9)]\n",
      "/tmp/wav/tv-LCI-174051.wav\n"
     ]
    },
    {
     "name": "stderr",
     "output_type": "stream",
     "text": [
      "/home/ddoukhan/git_repos/davidreda/env/lib/python3.10/site-packages/pyannote/algorithms/utils/viterbi.py:86: FutureWarning: arrays to stack must be passed as a \"sequence\" type such as list or tuple. Support for non-sequence iterables such as generators is deprecated as of NumPy 1.16 and will raise an error in the future.\n",
      "  return np.vstack(\n",
      "/home/ddoukhan/git_repos/davidreda/env/lib/python3.10/site-packages/pyannote/algorithms/utils/viterbi.py:95: FutureWarning: arrays to stack must be passed as a \"sequence\" type such as list or tuple. Support for non-sequence iterables such as generators is deprecated as of NumPy 1.16 and will raise an error in the future.\n",
      "  return np.vstack(\n"
     ]
    },
    {
     "name": "stdout",
     "output_type": "stream",
     "text": [
      "96/96 - 0s - 225ms/epoch - 2ms/step\n",
      "96/96 - 0s - 413ms/epoch - 4ms/step\n",
      "[('male', 0.0, 2.58), ('noEnergy', 2.58, 3.04), ('male', 3.04, 25.580000000000002), ('female', 25.580000000000002, 49.24), ('noEnergy', 49.24, 49.660000000000004), ('female', 49.660000000000004, 61.980000000000004)]\n",
      "/tmp/wav/tv-LCI-022702.wav\n"
     ]
    },
    {
     "name": "stderr",
     "output_type": "stream",
     "text": [
      "/home/ddoukhan/git_repos/davidreda/env/lib/python3.10/site-packages/pyannote/algorithms/utils/viterbi.py:86: FutureWarning: arrays to stack must be passed as a \"sequence\" type such as list or tuple. Support for non-sequence iterables such as generators is deprecated as of NumPy 1.16 and will raise an error in the future.\n",
      "  return np.vstack(\n",
      "/home/ddoukhan/git_repos/davidreda/env/lib/python3.10/site-packages/pyannote/algorithms/utils/viterbi.py:95: FutureWarning: arrays to stack must be passed as a \"sequence\" type such as list or tuple. Support for non-sequence iterables such as generators is deprecated as of NumPy 1.16 and will raise an error in the future.\n",
      "  return np.vstack(\n"
     ]
    },
    {
     "name": "stdout",
     "output_type": "stream",
     "text": [
      "96/96 - 0s - 263ms/epoch - 3ms/step\n",
      "96/96 - 0s - 399ms/epoch - 4ms/step\n",
      "[('male', 0.0, 60.84)]\n",
      "/tmp/wav/tv-T5M-073851.wav\n"
     ]
    },
    {
     "name": "stderr",
     "output_type": "stream",
     "text": [
      "/home/ddoukhan/git_repos/davidreda/env/lib/python3.10/site-packages/pyannote/algorithms/utils/viterbi.py:86: FutureWarning: arrays to stack must be passed as a \"sequence\" type such as list or tuple. Support for non-sequence iterables such as generators is deprecated as of NumPy 1.16 and will raise an error in the future.\n",
      "  return np.vstack(\n",
      "/home/ddoukhan/git_repos/davidreda/env/lib/python3.10/site-packages/pyannote/algorithms/utils/viterbi.py:95: FutureWarning: arrays to stack must be passed as a \"sequence\" type such as list or tuple. Support for non-sequence iterables such as generators is deprecated as of NumPy 1.16 and will raise an error in the future.\n",
      "  return np.vstack(\n"
     ]
    },
    {
     "name": "stdout",
     "output_type": "stream",
     "text": [
      "93/93 - 0s - 145ms/epoch - 2ms/step\n",
      "93/93 - 0s - 403ms/epoch - 4ms/step\n",
      "[('male', 0.0, 8.9), ('female', 8.9, 21.5), ('male', 21.5, 31.48), ('female', 31.48, 40.56), ('noEnergy', 40.56, 41.56), ('female', 41.56, 60.160000000000004)]\n",
      "/tmp/wav/tv-C+_-175655.wav\n"
     ]
    },
    {
     "name": "stderr",
     "output_type": "stream",
     "text": [
      "/home/ddoukhan/git_repos/davidreda/env/lib/python3.10/site-packages/pyannote/algorithms/utils/viterbi.py:86: FutureWarning: arrays to stack must be passed as a \"sequence\" type such as list or tuple. Support for non-sequence iterables such as generators is deprecated as of NumPy 1.16 and will raise an error in the future.\n",
      "  return np.vstack(\n",
      "/home/ddoukhan/git_repos/davidreda/env/lib/python3.10/site-packages/pyannote/algorithms/utils/viterbi.py:95: FutureWarning: arrays to stack must be passed as a \"sequence\" type such as list or tuple. Support for non-sequence iterables such as generators is deprecated as of NumPy 1.16 and will raise an error in the future.\n",
      "  return np.vstack(\n"
     ]
    },
    {
     "name": "stdout",
     "output_type": "stream",
     "text": [
      "96/96 - 0s - 150ms/epoch - 2ms/step\n",
      "9/9 - 0s - 36ms/epoch - 4ms/step\n",
      "[('noise', 0.0, 22.42), ('female', 22.42, 24.060000000000002), ('noise', 24.060000000000002, 35.62), ('male', 35.62, 38.1), ('noise', 38.1, 46.44), ('male', 46.44, 47.94), ('noise', 47.94, 61.120000000000005)]\n",
      "/tmp/wav/tv-C+_-141814.wav\n"
     ]
    },
    {
     "name": "stderr",
     "output_type": "stream",
     "text": [
      "/home/ddoukhan/git_repos/davidreda/env/lib/python3.10/site-packages/pyannote/algorithms/utils/viterbi.py:86: FutureWarning: arrays to stack must be passed as a \"sequence\" type such as list or tuple. Support for non-sequence iterables such as generators is deprecated as of NumPy 1.16 and will raise an error in the future.\n",
      "  return np.vstack(\n",
      "/home/ddoukhan/git_repos/davidreda/env/lib/python3.10/site-packages/pyannote/algorithms/utils/viterbi.py:95: FutureWarning: arrays to stack must be passed as a \"sequence\" type such as list or tuple. Support for non-sequence iterables such as generators is deprecated as of NumPy 1.16 and will raise an error in the future.\n",
      "  return np.vstack(\n"
     ]
    },
    {
     "name": "stdout",
     "output_type": "stream",
     "text": [
      "95/95 - 0s - 151ms/epoch - 2ms/step\n",
      "13/13 - 0s - 201ms/epoch - 15ms/step\n",
      "[('music', 0.0, 13.040000000000001), ('noise', 13.040000000000001, 16.8), ('music', 16.8, 26.82), ('male', 26.82, 29.1), ('female', 29.1, 30.36), ('noise', 30.36, 32.56), ('male', 32.56, 34.54), ('female', 34.54, 36.72), ('noise', 36.72, 40.64), ('music', 40.64, 45.78), ('noise', 45.78, 52.68), ('music', 52.68, 60.480000000000004)]\n",
      "/tmp/wav/radio-FMU-124550.wav\n"
     ]
    },
    {
     "name": "stderr",
     "output_type": "stream",
     "text": [
      "/home/ddoukhan/git_repos/davidreda/env/lib/python3.10/site-packages/pyannote/algorithms/utils/viterbi.py:86: FutureWarning: arrays to stack must be passed as a \"sequence\" type such as list or tuple. Support for non-sequence iterables such as generators is deprecated as of NumPy 1.16 and will raise an error in the future.\n",
      "  return np.vstack(\n",
      "/home/ddoukhan/git_repos/davidreda/env/lib/python3.10/site-packages/pyannote/algorithms/utils/viterbi.py:95: FutureWarning: arrays to stack must be passed as a \"sequence\" type such as list or tuple. Support for non-sequence iterables such as generators is deprecated as of NumPy 1.16 and will raise an error in the future.\n",
      "  return np.vstack(\n"
     ]
    },
    {
     "name": "stdout",
     "output_type": "stream",
     "text": [
      "94/94 - 0s - 150ms/epoch - 2ms/step\n",
      "[('music', 0.0, 60.0)]\n",
      "/tmp/wav/radio-FMU-121018.wav\n"
     ]
    },
    {
     "name": "stderr",
     "output_type": "stream",
     "text": [
      "/home/ddoukhan/git_repos/davidreda/env/lib/python3.10/site-packages/pyannote/algorithms/utils/viterbi.py:86: FutureWarning: arrays to stack must be passed as a \"sequence\" type such as list or tuple. Support for non-sequence iterables such as generators is deprecated as of NumPy 1.16 and will raise an error in the future.\n",
      "  return np.vstack(\n",
      "/home/ddoukhan/git_repos/davidreda/env/lib/python3.10/site-packages/pyannote/algorithms/utils/viterbi.py:95: FutureWarning: arrays to stack must be passed as a \"sequence\" type such as list or tuple. Support for non-sequence iterables such as generators is deprecated as of NumPy 1.16 and will raise an error in the future.\n",
      "  return np.vstack(\n"
     ]
    },
    {
     "name": "stdout",
     "output_type": "stream",
     "text": [
      "94/94 - 0s - 150ms/epoch - 2ms/step\n",
      "[('music', 0.0, 60.02)]\n",
      "/tmp/wav/radio-FBL-051706.wav\n"
     ]
    },
    {
     "name": "stderr",
     "output_type": "stream",
     "text": [
      "/home/ddoukhan/git_repos/davidreda/env/lib/python3.10/site-packages/pyannote/algorithms/utils/viterbi.py:86: FutureWarning: arrays to stack must be passed as a \"sequence\" type such as list or tuple. Support for non-sequence iterables such as generators is deprecated as of NumPy 1.16 and will raise an error in the future.\n",
      "  return np.vstack(\n",
      "/home/ddoukhan/git_repos/davidreda/env/lib/python3.10/site-packages/pyannote/algorithms/utils/viterbi.py:95: FutureWarning: arrays to stack must be passed as a \"sequence\" type such as list or tuple. Support for non-sequence iterables such as generators is deprecated as of NumPy 1.16 and will raise an error in the future.\n",
      "  return np.vstack(\n"
     ]
    },
    {
     "name": "stdout",
     "output_type": "stream",
     "text": [
      "94/94 - 0s - 151ms/epoch - 2ms/step\n",
      "94/94 - 0s - 280ms/epoch - 3ms/step\n",
      "[('female', 0.0, 60.02)]\n",
      "/tmp/wav/radio-MUV-204427.wav\n"
     ]
    },
    {
     "name": "stderr",
     "output_type": "stream",
     "text": [
      "/home/ddoukhan/git_repos/davidreda/env/lib/python3.10/site-packages/pyannote/algorithms/utils/viterbi.py:86: FutureWarning: arrays to stack must be passed as a \"sequence\" type such as list or tuple. Support for non-sequence iterables such as generators is deprecated as of NumPy 1.16 and will raise an error in the future.\n",
      "  return np.vstack(\n",
      "/home/ddoukhan/git_repos/davidreda/env/lib/python3.10/site-packages/pyannote/algorithms/utils/viterbi.py:95: FutureWarning: arrays to stack must be passed as a \"sequence\" type such as list or tuple. Support for non-sequence iterables such as generators is deprecated as of NumPy 1.16 and will raise an error in the future.\n",
      "  return np.vstack(\n"
     ]
    },
    {
     "name": "stdout",
     "output_type": "stream",
     "text": [
      "94/94 - 0s - 146ms/epoch - 2ms/step\n",
      "[('music', 0.0, 60.02)]\n",
      "/tmp/wav/radio-MUV-090958.wav\n"
     ]
    },
    {
     "name": "stderr",
     "output_type": "stream",
     "text": [
      "/home/ddoukhan/git_repos/davidreda/env/lib/python3.10/site-packages/pyannote/algorithms/utils/viterbi.py:86: FutureWarning: arrays to stack must be passed as a \"sequence\" type such as list or tuple. Support for non-sequence iterables such as generators is deprecated as of NumPy 1.16 and will raise an error in the future.\n",
      "  return np.vstack(\n",
      "/home/ddoukhan/git_repos/davidreda/env/lib/python3.10/site-packages/pyannote/algorithms/utils/viterbi.py:95: FutureWarning: arrays to stack must be passed as a \"sequence\" type such as list or tuple. Support for non-sequence iterables such as generators is deprecated as of NumPy 1.16 and will raise an error in the future.\n",
      "  return np.vstack(\n"
     ]
    },
    {
     "name": "stdout",
     "output_type": "stream",
     "text": [
      "94/94 - 0s - 146ms/epoch - 2ms/step\n",
      "11/11 - 0s - 160ms/epoch - 15ms/step\n",
      "[('music', 0.0, 53.4), ('male', 53.4, 60.0)]\n",
      "/tmp/wav/radio-MUV-074146.wav\n"
     ]
    },
    {
     "name": "stderr",
     "output_type": "stream",
     "text": [
      "/home/ddoukhan/git_repos/davidreda/env/lib/python3.10/site-packages/pyannote/algorithms/utils/viterbi.py:86: FutureWarning: arrays to stack must be passed as a \"sequence\" type such as list or tuple. Support for non-sequence iterables such as generators is deprecated as of NumPy 1.16 and will raise an error in the future.\n",
      "  return np.vstack(\n",
      "/home/ddoukhan/git_repos/davidreda/env/lib/python3.10/site-packages/pyannote/algorithms/utils/viterbi.py:95: FutureWarning: arrays to stack must be passed as a \"sequence\" type such as list or tuple. Support for non-sequence iterables such as generators is deprecated as of NumPy 1.16 and will raise an error in the future.\n",
      "  return np.vstack(\n"
     ]
    },
    {
     "name": "stdout",
     "output_type": "stream",
     "text": [
      "94/94 - 0s - 149ms/epoch - 2ms/step\n",
      "[('music', 0.0, 60.02)]\n",
      "/tmp/wav/radio-FMU-101443.wav\n"
     ]
    },
    {
     "name": "stderr",
     "output_type": "stream",
     "text": [
      "/home/ddoukhan/git_repos/davidreda/env/lib/python3.10/site-packages/pyannote/algorithms/utils/viterbi.py:86: FutureWarning: arrays to stack must be passed as a \"sequence\" type such as list or tuple. Support for non-sequence iterables such as generators is deprecated as of NumPy 1.16 and will raise an error in the future.\n",
      "  return np.vstack(\n",
      "/home/ddoukhan/git_repos/davidreda/env/lib/python3.10/site-packages/pyannote/algorithms/utils/viterbi.py:95: FutureWarning: arrays to stack must be passed as a \"sequence\" type such as list or tuple. Support for non-sequence iterables such as generators is deprecated as of NumPy 1.16 and will raise an error in the future.\n",
      "  return np.vstack(\n"
     ]
    },
    {
     "name": "stdout",
     "output_type": "stream",
     "text": [
      "88/88 - 0s - 219ms/epoch - 2ms/step\n",
      "[('music', 0.0, 52.1), ('noEnergy', 52.1, 56.26), ('music', 56.26, 60.02)]\n",
      "/tmp/wav/tv-T5M-224001.wav\n"
     ]
    },
    {
     "name": "stderr",
     "output_type": "stream",
     "text": [
      "/home/ddoukhan/git_repos/davidreda/env/lib/python3.10/site-packages/pyannote/algorithms/utils/viterbi.py:86: FutureWarning: arrays to stack must be passed as a \"sequence\" type such as list or tuple. Support for non-sequence iterables such as generators is deprecated as of NumPy 1.16 and will raise an error in the future.\n",
      "  return np.vstack(\n",
      "/home/ddoukhan/git_repos/davidreda/env/lib/python3.10/site-packages/pyannote/algorithms/utils/viterbi.py:95: FutureWarning: arrays to stack must be passed as a \"sequence\" type such as list or tuple. Support for non-sequence iterables such as generators is deprecated as of NumPy 1.16 and will raise an error in the future.\n",
      "  return np.vstack(\n"
     ]
    },
    {
     "name": "stdout",
     "output_type": "stream",
     "text": [
      "96/96 - 0s - 152ms/epoch - 2ms/step\n",
      "12/12 - 0s - 44ms/epoch - 4ms/step\n",
      "[('noise', 0.0, 7.0600000000000005), ('female', 7.0600000000000005, 7.84), ('male', 7.84, 10.0), ('female', 10.0, 11.06), ('noise', 11.06, 13.44), ('female', 13.44, 16.52), ('noise', 16.52, 35.08), ('music', 35.08, 37.1), ('noise', 37.1, 61.300000000000004)]\n",
      "/tmp/wav/tv-FR4-203357.wav\n"
     ]
    },
    {
     "name": "stderr",
     "output_type": "stream",
     "text": [
      "/home/ddoukhan/git_repos/davidreda/env/lib/python3.10/site-packages/pyannote/algorithms/utils/viterbi.py:86: FutureWarning: arrays to stack must be passed as a \"sequence\" type such as list or tuple. Support for non-sequence iterables such as generators is deprecated as of NumPy 1.16 and will raise an error in the future.\n",
      "  return np.vstack(\n",
      "/home/ddoukhan/git_repos/davidreda/env/lib/python3.10/site-packages/pyannote/algorithms/utils/viterbi.py:95: FutureWarning: arrays to stack must be passed as a \"sequence\" type such as list or tuple. Support for non-sequence iterables such as generators is deprecated as of NumPy 1.16 and will raise an error in the future.\n",
      "  return np.vstack(\n"
     ]
    },
    {
     "name": "stdout",
     "output_type": "stream",
     "text": [
      "96/96 - 0s - 229ms/epoch - 2ms/step\n",
      "[('music', 0.0, 61.4)]\n",
      "/tmp/wav/tv-FR3-045538.wav\n"
     ]
    },
    {
     "name": "stderr",
     "output_type": "stream",
     "text": [
      "/home/ddoukhan/git_repos/davidreda/env/lib/python3.10/site-packages/pyannote/algorithms/utils/viterbi.py:86: FutureWarning: arrays to stack must be passed as a \"sequence\" type such as list or tuple. Support for non-sequence iterables such as generators is deprecated as of NumPy 1.16 and will raise an error in the future.\n",
      "  return np.vstack(\n",
      "/home/ddoukhan/git_repos/davidreda/env/lib/python3.10/site-packages/pyannote/algorithms/utils/viterbi.py:95: FutureWarning: arrays to stack must be passed as a \"sequence\" type such as list or tuple. Support for non-sequence iterables such as generators is deprecated as of NumPy 1.16 and will raise an error in the future.\n",
      "  return np.vstack(\n"
     ]
    },
    {
     "name": "stdout",
     "output_type": "stream",
     "text": [
      "90/90 - 0s - 215ms/epoch - 2ms/step\n",
      "90/90 - 0s - 376ms/epoch - 4ms/step\n",
      "[('female', 0.0, 17.6), ('male', 17.6, 19.28), ('female', 19.28, 21.92), ('noEnergy', 21.92, 22.56), ('male', 22.56, 23.88), ('female', 23.88, 26.66), ('noEnergy', 26.66, 27.36), ('female', 27.36, 29.78), ('male', 29.78, 33.52), ('noEnergy', 33.52, 33.94), ('male', 33.94, 45.76), ('noEnergy', 45.76, 46.24), ('male', 46.24, 46.92), ('noEnergy', 46.92, 47.64), ('female', 47.64, 49.64), ('noEnergy', 49.64, 50.56), ('female', 50.56, 55.64), ('male', 55.64, 57.92), ('female', 57.92, 60.94)]\n",
      "/tmp/wav/tv-FR2-193711.wav\n"
     ]
    },
    {
     "name": "stderr",
     "output_type": "stream",
     "text": [
      "/home/ddoukhan/git_repos/davidreda/env/lib/python3.10/site-packages/pyannote/algorithms/utils/viterbi.py:86: FutureWarning: arrays to stack must be passed as a \"sequence\" type such as list or tuple. Support for non-sequence iterables such as generators is deprecated as of NumPy 1.16 and will raise an error in the future.\n",
      "  return np.vstack(\n",
      "/home/ddoukhan/git_repos/davidreda/env/lib/python3.10/site-packages/pyannote/algorithms/utils/viterbi.py:95: FutureWarning: arrays to stack must be passed as a \"sequence\" type such as list or tuple. Support for non-sequence iterables such as generators is deprecated as of NumPy 1.16 and will raise an error in the future.\n",
      "  return np.vstack(\n",
      "/home/ddoukhan/git_repos/davidreda/env/lib/python3.10/site-packages/inaSpeechSegmenter/segmenter.py:62: RuntimeWarning: invalid value encountered in subtract\n",
      "  data = (data - np.mean(data, axis=1).reshape((len(data), 1))) / np.std(data, axis=1).reshape((len(data), 1))\n",
      "/home/ddoukhan/git_repos/davidreda/env/lib/python3.10/site-packages/numpy/core/_methods.py:236: RuntimeWarning: invalid value encountered in subtract\n",
      "  x = asanyarray(arr - arrmean)\n"
     ]
    },
    {
     "name": "stdout",
     "output_type": "stream",
     "text": [
      "88/88 - 0s - 182ms/epoch - 2ms/step\n",
      "31/31 - 0s - 251ms/epoch - 8ms/step\n",
      "[('music', 0.0, 4.64), ('noEnergy', 4.64, 6.2), ('noise', 6.2, 15.26), ('music', 15.26, 35.14), ('noEnergy', 35.14, 37.18), ('music', 37.18, 38.9), ('male', 38.9, 48.36), ('noEnergy', 48.36, 48.86), ('male', 48.86, 59.0), ('music', 59.0, 60.28)]\n",
      "/tmp/wav/tv-TF1-083840.wav\n"
     ]
    },
    {
     "name": "stderr",
     "output_type": "stream",
     "text": [
      "/home/ddoukhan/git_repos/davidreda/env/lib/python3.10/site-packages/pyannote/algorithms/utils/viterbi.py:86: FutureWarning: arrays to stack must be passed as a \"sequence\" type such as list or tuple. Support for non-sequence iterables such as generators is deprecated as of NumPy 1.16 and will raise an error in the future.\n",
      "  return np.vstack(\n",
      "/home/ddoukhan/git_repos/davidreda/env/lib/python3.10/site-packages/pyannote/algorithms/utils/viterbi.py:95: FutureWarning: arrays to stack must be passed as a \"sequence\" type such as list or tuple. Support for non-sequence iterables such as generators is deprecated as of NumPy 1.16 and will raise an error in the future.\n",
      "  return np.vstack(\n"
     ]
    },
    {
     "name": "stdout",
     "output_type": "stream",
     "text": [
      "92/92 - 0s - 148ms/epoch - 2ms/step\n",
      "38/38 - 0s - 119ms/epoch - 3ms/step\n",
      "[('music', 0.0, 11.06), ('noEnergy', 11.06, 11.86), ('music', 11.86, 14.66), ('male', 14.66, 23.92), ('music', 23.92, 39.26), ('female', 39.26, 54.26), ('noEnergy', 54.26, 55.44), ('music', 55.44, 60.620000000000005)]\n",
      "/tmp/wav/tv-C+N-184644.wav\n"
     ]
    },
    {
     "name": "stderr",
     "output_type": "stream",
     "text": [
      "/home/ddoukhan/git_repos/davidreda/env/lib/python3.10/site-packages/pyannote/algorithms/utils/viterbi.py:86: FutureWarning: arrays to stack must be passed as a \"sequence\" type such as list or tuple. Support for non-sequence iterables such as generators is deprecated as of NumPy 1.16 and will raise an error in the future.\n",
      "  return np.vstack(\n",
      "/home/ddoukhan/git_repos/davidreda/env/lib/python3.10/site-packages/pyannote/algorithms/utils/viterbi.py:95: FutureWarning: arrays to stack must be passed as a \"sequence\" type such as list or tuple. Support for non-sequence iterables such as generators is deprecated as of NumPy 1.16 and will raise an error in the future.\n",
      "  return np.vstack(\n"
     ]
    },
    {
     "name": "stdout",
     "output_type": "stream",
     "text": [
      "93/93 - 0s - 262ms/epoch - 3ms/step\n",
      "93/93 - 0s - 285ms/epoch - 3ms/step\n",
      "[('male', 0.0, 53.38), ('noEnergy', 53.38, 54.42), ('male', 54.42, 54.92), ('noEnergy', 54.92, 55.58), ('male', 55.58, 60.72)]\n",
      "/tmp/wav/radio-FBL-035452.wav\n"
     ]
    },
    {
     "name": "stderr",
     "output_type": "stream",
     "text": [
      "/home/ddoukhan/git_repos/davidreda/env/lib/python3.10/site-packages/pyannote/algorithms/utils/viterbi.py:86: FutureWarning: arrays to stack must be passed as a \"sequence\" type such as list or tuple. Support for non-sequence iterables such as generators is deprecated as of NumPy 1.16 and will raise an error in the future.\n",
      "  return np.vstack(\n",
      "/home/ddoukhan/git_repos/davidreda/env/lib/python3.10/site-packages/pyannote/algorithms/utils/viterbi.py:95: FutureWarning: arrays to stack must be passed as a \"sequence\" type such as list or tuple. Support for non-sequence iterables such as generators is deprecated as of NumPy 1.16 and will raise an error in the future.\n",
      "  return np.vstack(\n"
     ]
    },
    {
     "name": "stdout",
     "output_type": "stream",
     "text": [
      "94/94 - 0s - 150ms/epoch - 2ms/step\n",
      "[('music', 0.0, 60.0)]\n",
      "/tmp/wav/tv-F24-072937.wav\n"
     ]
    },
    {
     "name": "stderr",
     "output_type": "stream",
     "text": [
      "/home/ddoukhan/git_repos/davidreda/env/lib/python3.10/site-packages/pyannote/algorithms/utils/viterbi.py:86: FutureWarning: arrays to stack must be passed as a \"sequence\" type such as list or tuple. Support for non-sequence iterables such as generators is deprecated as of NumPy 1.16 and will raise an error in the future.\n",
      "  return np.vstack(\n",
      "/home/ddoukhan/git_repos/davidreda/env/lib/python3.10/site-packages/pyannote/algorithms/utils/viterbi.py:95: FutureWarning: arrays to stack must be passed as a \"sequence\" type such as list or tuple. Support for non-sequence iterables such as generators is deprecated as of NumPy 1.16 and will raise an error in the future.\n",
      "  return np.vstack(\n",
      "/home/ddoukhan/git_repos/davidreda/env/lib/python3.10/site-packages/inaSpeechSegmenter/segmenter.py:62: RuntimeWarning: invalid value encountered in subtract\n",
      "  data = (data - np.mean(data, axis=1).reshape((len(data), 1))) / np.std(data, axis=1).reshape((len(data), 1))\n",
      "/home/ddoukhan/git_repos/davidreda/env/lib/python3.10/site-packages/numpy/core/_methods.py:236: RuntimeWarning: invalid value encountered in subtract\n",
      "  x = asanyarray(arr - arrmean)\n"
     ]
    },
    {
     "name": "stdout",
     "output_type": "stream",
     "text": [
      "96/96 - 0s - 148ms/epoch - 2ms/step\n",
      "89/89 - 0s - 265ms/epoch - 3ms/step\n",
      "[('male', 0.0, 0.9400000000000001), ('female', 0.9400000000000001, 14.44), ('male', 14.44, 24.26), ('female', 24.26, 27.66), ('music', 27.66, 32.08), ('male', 32.08, 61.120000000000005)]\n",
      "/tmp/wav/tv-TF1-133551.wav\n"
     ]
    },
    {
     "name": "stderr",
     "output_type": "stream",
     "text": [
      "/home/ddoukhan/git_repos/davidreda/env/lib/python3.10/site-packages/pyannote/algorithms/utils/viterbi.py:86: FutureWarning: arrays to stack must be passed as a \"sequence\" type such as list or tuple. Support for non-sequence iterables such as generators is deprecated as of NumPy 1.16 and will raise an error in the future.\n",
      "  return np.vstack(\n",
      "/home/ddoukhan/git_repos/davidreda/env/lib/python3.10/site-packages/pyannote/algorithms/utils/viterbi.py:95: FutureWarning: arrays to stack must be passed as a \"sequence\" type such as list or tuple. Support for non-sequence iterables such as generators is deprecated as of NumPy 1.16 and will raise an error in the future.\n",
      "  return np.vstack(\n"
     ]
    },
    {
     "name": "stdout",
     "output_type": "stream",
     "text": [
      "94/94 - 0s - 241ms/epoch - 3ms/step\n",
      "87/87 - 0s - 381ms/epoch - 4ms/step\n",
      "[('male', 0.0, 6.1000000000000005), ('female', 6.1000000000000005, 12.18), ('male', 12.18, 13.32), ('female', 13.32, 15.280000000000001), ('male', 15.280000000000001, 21.52), ('music', 21.52, 24.240000000000002), ('female', 24.240000000000002, 41.14), ('noEnergy', 41.14, 41.58), ('female', 41.58, 47.72), ('male', 47.72, 50.2), ('music', 50.2, 52.08), ('female', 52.08, 60.2)]\n",
      "/tmp/wav/tv-M6_-132707.wav\n"
     ]
    },
    {
     "name": "stderr",
     "output_type": "stream",
     "text": [
      "/home/ddoukhan/git_repos/davidreda/env/lib/python3.10/site-packages/pyannote/algorithms/utils/viterbi.py:86: FutureWarning: arrays to stack must be passed as a \"sequence\" type such as list or tuple. Support for non-sequence iterables such as generators is deprecated as of NumPy 1.16 and will raise an error in the future.\n",
      "  return np.vstack(\n",
      "/home/ddoukhan/git_repos/davidreda/env/lib/python3.10/site-packages/pyannote/algorithms/utils/viterbi.py:95: FutureWarning: arrays to stack must be passed as a \"sequence\" type such as list or tuple. Support for non-sequence iterables such as generators is deprecated as of NumPy 1.16 and will raise an error in the future.\n",
      "  return np.vstack(\n",
      "/home/ddoukhan/git_repos/davidreda/env/lib/python3.10/site-packages/inaSpeechSegmenter/segmenter.py:62: RuntimeWarning: invalid value encountered in subtract\n",
      "  data = (data - np.mean(data, axis=1).reshape((len(data), 1))) / np.std(data, axis=1).reshape((len(data), 1))\n",
      "/home/ddoukhan/git_repos/davidreda/env/lib/python3.10/site-packages/numpy/core/_methods.py:236: RuntimeWarning: invalid value encountered in subtract\n",
      "  x = asanyarray(arr - arrmean)\n"
     ]
    },
    {
     "name": "stdout",
     "output_type": "stream",
     "text": [
      "91/91 - 0s - 151ms/epoch - 2ms/step\n",
      "67/67 - 0s - 319ms/epoch - 5ms/step\n",
      "[('female', 0.0, 2.92), ('male', 2.92, 7.48), ('female', 7.48, 13.82), ('music', 13.82, 16.46), ('female', 16.46, 17.400000000000002), ('noEnergy', 17.400000000000002, 18.78), ('male', 18.78, 20.2), ('female', 20.2, 24.72), ('male', 24.72, 26.66), ('noEnergy', 26.66, 27.36), ('female', 27.36, 47.14), ('noEnergy', 47.14, 47.68), ('noise', 47.68, 52.0), ('music', 52.0, 53.800000000000004), ('noise', 53.800000000000004, 58.800000000000004), ('music', 58.800000000000004, 60.7)]\n",
      "/tmp/wav/radio-FCR-214556.wav\n"
     ]
    },
    {
     "name": "stderr",
     "output_type": "stream",
     "text": [
      "/home/ddoukhan/git_repos/davidreda/env/lib/python3.10/site-packages/pyannote/algorithms/utils/viterbi.py:86: FutureWarning: arrays to stack must be passed as a \"sequence\" type such as list or tuple. Support for non-sequence iterables such as generators is deprecated as of NumPy 1.16 and will raise an error in the future.\n",
      "  return np.vstack(\n",
      "/home/ddoukhan/git_repos/davidreda/env/lib/python3.10/site-packages/pyannote/algorithms/utils/viterbi.py:95: FutureWarning: arrays to stack must be passed as a \"sequence\" type such as list or tuple. Support for non-sequence iterables such as generators is deprecated as of NumPy 1.16 and will raise an error in the future.\n",
      "  return np.vstack(\n"
     ]
    },
    {
     "name": "stdout",
     "output_type": "stream",
     "text": [
      "94/94 - 0s - 152ms/epoch - 2ms/step\n",
      "88/88 - 0s - 440ms/epoch - 5ms/step\n",
      "[('female', 0.0, 4.1), ('noise', 4.1, 5.5), ('female', 5.5, 21.42), ('noise', 21.42, 23.740000000000002), ('female', 23.740000000000002, 25.0), ('male', 25.0, 32.480000000000004), ('female', 32.480000000000004, 34.9), ('male', 34.9, 36.84), ('female', 36.84, 60.0)]\n",
      "/tmp/wav/tv-LCI-072215.wav\n"
     ]
    },
    {
     "name": "stderr",
     "output_type": "stream",
     "text": [
      "/home/ddoukhan/git_repos/davidreda/env/lib/python3.10/site-packages/pyannote/algorithms/utils/viterbi.py:86: FutureWarning: arrays to stack must be passed as a \"sequence\" type such as list or tuple. Support for non-sequence iterables such as generators is deprecated as of NumPy 1.16 and will raise an error in the future.\n",
      "  return np.vstack(\n",
      "/home/ddoukhan/git_repos/davidreda/env/lib/python3.10/site-packages/pyannote/algorithms/utils/viterbi.py:95: FutureWarning: arrays to stack must be passed as a \"sequence\" type such as list or tuple. Support for non-sequence iterables such as generators is deprecated as of NumPy 1.16 and will raise an error in the future.\n",
      "  return np.vstack(\n"
     ]
    },
    {
     "name": "stdout",
     "output_type": "stream",
     "text": [
      "97/97 - 0s - 156ms/epoch - 2ms/step\n",
      "97/97 - 0s - 440ms/epoch - 5ms/step\n",
      "[('female', 0.0, 61.92)]\n",
      "/tmp/wav/tv-M6_-173630.wav\n"
     ]
    },
    {
     "name": "stderr",
     "output_type": "stream",
     "text": [
      "/home/ddoukhan/git_repos/davidreda/env/lib/python3.10/site-packages/pyannote/algorithms/utils/viterbi.py:86: FutureWarning: arrays to stack must be passed as a \"sequence\" type such as list or tuple. Support for non-sequence iterables such as generators is deprecated as of NumPy 1.16 and will raise an error in the future.\n",
      "  return np.vstack(\n",
      "/home/ddoukhan/git_repos/davidreda/env/lib/python3.10/site-packages/pyannote/algorithms/utils/viterbi.py:95: FutureWarning: arrays to stack must be passed as a \"sequence\" type such as list or tuple. Support for non-sequence iterables such as generators is deprecated as of NumPy 1.16 and will raise an error in the future.\n",
      "  return np.vstack(\n"
     ]
    },
    {
     "name": "stdout",
     "output_type": "stream",
     "text": [
      "97/97 - 0s - 155ms/epoch - 2ms/step\n",
      "85/85 - 0s - 253ms/epoch - 3ms/step\n",
      "[('female', 0.0, 54.2), ('music', 54.2, 61.84)]\n",
      "/tmp/wav/tv-C+N-224733.wav\n"
     ]
    },
    {
     "name": "stderr",
     "output_type": "stream",
     "text": [
      "/home/ddoukhan/git_repos/davidreda/env/lib/python3.10/site-packages/pyannote/algorithms/utils/viterbi.py:86: FutureWarning: arrays to stack must be passed as a \"sequence\" type such as list or tuple. Support for non-sequence iterables such as generators is deprecated as of NumPy 1.16 and will raise an error in the future.\n",
      "  return np.vstack(\n",
      "/home/ddoukhan/git_repos/davidreda/env/lib/python3.10/site-packages/pyannote/algorithms/utils/viterbi.py:95: FutureWarning: arrays to stack must be passed as a \"sequence\" type such as list or tuple. Support for non-sequence iterables such as generators is deprecated as of NumPy 1.16 and will raise an error in the future.\n",
      "  return np.vstack(\n"
     ]
    },
    {
     "name": "stdout",
     "output_type": "stream",
     "text": [
      "96/96 - 0s - 245ms/epoch - 3ms/step\n",
      "96/96 - 0s - 417ms/epoch - 4ms/step\n",
      "[('male', 0.0, 60.96)]\n",
      "/tmp/wav/tv-BFT-170057.wav\n"
     ]
    },
    {
     "name": "stderr",
     "output_type": "stream",
     "text": [
      "/home/ddoukhan/git_repos/davidreda/env/lib/python3.10/site-packages/pyannote/algorithms/utils/viterbi.py:86: FutureWarning: arrays to stack must be passed as a \"sequence\" type such as list or tuple. Support for non-sequence iterables such as generators is deprecated as of NumPy 1.16 and will raise an error in the future.\n",
      "  return np.vstack(\n",
      "/home/ddoukhan/git_repos/davidreda/env/lib/python3.10/site-packages/pyannote/algorithms/utils/viterbi.py:95: FutureWarning: arrays to stack must be passed as a \"sequence\" type such as list or tuple. Support for non-sequence iterables such as generators is deprecated as of NumPy 1.16 and will raise an error in the future.\n",
      "  return np.vstack(\n"
     ]
    },
    {
     "name": "stdout",
     "output_type": "stream",
     "text": [
      "95/95 - 0s - 224ms/epoch - 2ms/step\n",
      "95/95 - 0s - 283ms/epoch - 3ms/step\n",
      "[('male', 0.0, 0.96), ('noEnergy', 0.96, 1.62), ('male', 1.62, 56.92), ('noEnergy', 56.92, 57.38), ('male', 57.38, 61.4)]\n",
      "/tmp/wav/tv-F24-234914.wav\n"
     ]
    },
    {
     "name": "stderr",
     "output_type": "stream",
     "text": [
      "/home/ddoukhan/git_repos/davidreda/env/lib/python3.10/site-packages/pyannote/algorithms/utils/viterbi.py:86: FutureWarning: arrays to stack must be passed as a \"sequence\" type such as list or tuple. Support for non-sequence iterables such as generators is deprecated as of NumPy 1.16 and will raise an error in the future.\n",
      "  return np.vstack(\n",
      "/home/ddoukhan/git_repos/davidreda/env/lib/python3.10/site-packages/pyannote/algorithms/utils/viterbi.py:95: FutureWarning: arrays to stack must be passed as a \"sequence\" type such as list or tuple. Support for non-sequence iterables such as generators is deprecated as of NumPy 1.16 and will raise an error in the future.\n",
      "  return np.vstack(\n"
     ]
    },
    {
     "name": "stdout",
     "output_type": "stream",
     "text": [
      "95/95 - 0s - 150ms/epoch - 2ms/step\n",
      "95/95 - 0s - 291ms/epoch - 3ms/step\n",
      "[('male', 0.0, 60.54), ('noEnergy', 60.54, 61.08)]\n",
      "/tmp/wav/tv-LCI-161025.wav\n"
     ]
    },
    {
     "name": "stderr",
     "output_type": "stream",
     "text": [
      "/home/ddoukhan/git_repos/davidreda/env/lib/python3.10/site-packages/pyannote/algorithms/utils/viterbi.py:86: FutureWarning: arrays to stack must be passed as a \"sequence\" type such as list or tuple. Support for non-sequence iterables such as generators is deprecated as of NumPy 1.16 and will raise an error in the future.\n",
      "  return np.vstack(\n",
      "/home/ddoukhan/git_repos/davidreda/env/lib/python3.10/site-packages/pyannote/algorithms/utils/viterbi.py:95: FutureWarning: arrays to stack must be passed as a \"sequence\" type such as list or tuple. Support for non-sequence iterables such as generators is deprecated as of NumPy 1.16 and will raise an error in the future.\n",
      "  return np.vstack(\n"
     ]
    },
    {
     "name": "stdout",
     "output_type": "stream",
     "text": [
      "94/94 - 0s - 147ms/epoch - 2ms/step\n",
      "76/76 - 0s - 242ms/epoch - 3ms/step\n",
      "[('female', 0.0, 7.46), ('music', 7.46, 13.3), ('noEnergy', 13.3, 14.22), ('male', 14.22, 23.26), ('music', 23.26, 24.78), ('female', 24.78, 37.34), ('music', 37.34, 40.34), ('male', 40.34, 52.1), ('noEnergy', 52.1, 53.28), ('music', 53.28, 54.32), ('male', 54.32, 61.9)]\n",
      "/tmp/wav/tv-FR3-140145.wav\n"
     ]
    },
    {
     "name": "stderr",
     "output_type": "stream",
     "text": [
      "/home/ddoukhan/git_repos/davidreda/env/lib/python3.10/site-packages/pyannote/algorithms/utils/viterbi.py:86: FutureWarning: arrays to stack must be passed as a \"sequence\" type such as list or tuple. Support for non-sequence iterables such as generators is deprecated as of NumPy 1.16 and will raise an error in the future.\n",
      "  return np.vstack(\n",
      "/home/ddoukhan/git_repos/davidreda/env/lib/python3.10/site-packages/pyannote/algorithms/utils/viterbi.py:95: FutureWarning: arrays to stack must be passed as a \"sequence\" type such as list or tuple. Support for non-sequence iterables such as generators is deprecated as of NumPy 1.16 and will raise an error in the future.\n",
      "  return np.vstack(\n"
     ]
    },
    {
     "name": "stdout",
     "output_type": "stream",
     "text": [
      "91/91 - 0s - 224ms/epoch - 2ms/step\n",
      "65/65 - 0s - 335ms/epoch - 5ms/step\n",
      "[('noEnergy', 0.0, 0.24), ('male', 0.24, 0.8), ('noEnergy', 0.8, 2.7800000000000002), ('music', 2.7800000000000002, 4.0600000000000005), ('male', 4.0600000000000005, 17.5), ('noEnergy', 17.5, 18.740000000000002), ('noise', 18.740000000000002, 26.22), ('music', 26.22, 28.740000000000002), ('male', 28.740000000000002, 33.26), ('female', 33.26, 34.64), ('male', 34.64, 50.08), ('music', 50.08, 52.24), ('female', 52.24, 56.76), ('male', 56.76, 58.22), ('noise', 58.22, 61.58)]\n",
      "/tmp/wav/radio-FIP-174614.wav\n"
     ]
    },
    {
     "name": "stderr",
     "output_type": "stream",
     "text": [
      "/home/ddoukhan/git_repos/davidreda/env/lib/python3.10/site-packages/pyannote/algorithms/utils/viterbi.py:86: FutureWarning: arrays to stack must be passed as a \"sequence\" type such as list or tuple. Support for non-sequence iterables such as generators is deprecated as of NumPy 1.16 and will raise an error in the future.\n",
      "  return np.vstack(\n",
      "/home/ddoukhan/git_repos/davidreda/env/lib/python3.10/site-packages/pyannote/algorithms/utils/viterbi.py:95: FutureWarning: arrays to stack must be passed as a \"sequence\" type such as list or tuple. Support for non-sequence iterables such as generators is deprecated as of NumPy 1.16 and will raise an error in the future.\n",
      "  return np.vstack(\n"
     ]
    },
    {
     "name": "stdout",
     "output_type": "stream",
     "text": [
      "93/93 - 0s - 147ms/epoch - 2ms/step\n",
      "[('music', 0.0, 14.18), ('noEnergy', 14.18, 14.82), ('music', 14.82, 60.0)]\n",
      "/tmp/wav/tv-F24-115128.wav\n"
     ]
    },
    {
     "name": "stderr",
     "output_type": "stream",
     "text": [
      "/home/ddoukhan/git_repos/davidreda/env/lib/python3.10/site-packages/pyannote/algorithms/utils/viterbi.py:86: FutureWarning: arrays to stack must be passed as a \"sequence\" type such as list or tuple. Support for non-sequence iterables such as generators is deprecated as of NumPy 1.16 and will raise an error in the future.\n",
      "  return np.vstack(\n",
      "/home/ddoukhan/git_repos/davidreda/env/lib/python3.10/site-packages/pyannote/algorithms/utils/viterbi.py:95: FutureWarning: arrays to stack must be passed as a \"sequence\" type such as list or tuple. Support for non-sequence iterables such as generators is deprecated as of NumPy 1.16 and will raise an error in the future.\n",
      "  return np.vstack(\n"
     ]
    },
    {
     "name": "stdout",
     "output_type": "stream",
     "text": [
      "92/92 - 0s - 222ms/epoch - 2ms/step\n",
      "92/92 - 0s - 279ms/epoch - 3ms/step\n",
      "[('female', 0.0, 8.64), ('noEnergy', 8.64, 9.48), ('male', 9.48, 15.860000000000001), ('female', 15.860000000000001, 17.46), ('noEnergy', 17.46, 17.92), ('female', 17.92, 24.8), ('noEnergy', 24.8, 25.48), ('female', 25.48, 38.54), ('male', 38.54, 50.82), ('female', 50.82, 55.06), ('noEnergy', 55.06, 55.52), ('female', 55.52, 61.300000000000004)]\n",
      "/tmp/wav/tv-FR4-082425.wav\n"
     ]
    },
    {
     "name": "stderr",
     "output_type": "stream",
     "text": [
      "/home/ddoukhan/git_repos/davidreda/env/lib/python3.10/site-packages/pyannote/algorithms/utils/viterbi.py:86: FutureWarning: arrays to stack must be passed as a \"sequence\" type such as list or tuple. Support for non-sequence iterables such as generators is deprecated as of NumPy 1.16 and will raise an error in the future.\n",
      "  return np.vstack(\n",
      "/home/ddoukhan/git_repos/davidreda/env/lib/python3.10/site-packages/pyannote/algorithms/utils/viterbi.py:95: FutureWarning: arrays to stack must be passed as a \"sequence\" type such as list or tuple. Support for non-sequence iterables such as generators is deprecated as of NumPy 1.16 and will raise an error in the future.\n",
      "  return np.vstack(\n"
     ]
    },
    {
     "name": "stdout",
     "output_type": "stream",
     "text": [
      "96/96 - 0s - 152ms/epoch - 2ms/step\n",
      "91/91 - 0s - 273ms/epoch - 3ms/step\n",
      "[('male', 0.0, 21.22), ('female', 21.22, 23.2), ('male', 23.2, 29.900000000000002), ('female', 29.900000000000002, 31.580000000000002), ('male', 31.580000000000002, 57.64), ('music', 57.64, 60.9)]\n",
      "/tmp/wav/tv-FR4-172732.wav\n"
     ]
    },
    {
     "name": "stderr",
     "output_type": "stream",
     "text": [
      "/home/ddoukhan/git_repos/davidreda/env/lib/python3.10/site-packages/pyannote/algorithms/utils/viterbi.py:86: FutureWarning: arrays to stack must be passed as a \"sequence\" type such as list or tuple. Support for non-sequence iterables such as generators is deprecated as of NumPy 1.16 and will raise an error in the future.\n",
      "  return np.vstack(\n",
      "/home/ddoukhan/git_repos/davidreda/env/lib/python3.10/site-packages/pyannote/algorithms/utils/viterbi.py:95: FutureWarning: arrays to stack must be passed as a \"sequence\" type such as list or tuple. Support for non-sequence iterables such as generators is deprecated as of NumPy 1.16 and will raise an error in the future.\n",
      "  return np.vstack(\n"
     ]
    },
    {
     "name": "stdout",
     "output_type": "stream",
     "text": [
      "95/95 - 0s - 148ms/epoch - 2ms/step\n",
      "76/76 - 0s - 366ms/epoch - 5ms/step\n",
      "[('female', 0.0, 1.48), ('noEnergy', 1.48, 2.02), ('female', 2.02, 8.3), ('noEnergy', 8.3, 8.82), ('female', 8.82, 11.78), ('music', 11.78, 18.400000000000002), ('noise', 18.400000000000002, 21.28), ('female', 21.28, 38.84), ('noise', 38.84, 41.36), ('female', 41.36, 49.22), ('male', 49.22, 51.72), ('female', 51.72, 61.4)]\n",
      "/tmp/wav/tv-TFX-230837.wav\n"
     ]
    },
    {
     "name": "stderr",
     "output_type": "stream",
     "text": [
      "/home/ddoukhan/git_repos/davidreda/env/lib/python3.10/site-packages/pyannote/algorithms/utils/viterbi.py:86: FutureWarning: arrays to stack must be passed as a \"sequence\" type such as list or tuple. Support for non-sequence iterables such as generators is deprecated as of NumPy 1.16 and will raise an error in the future.\n",
      "  return np.vstack(\n",
      "/home/ddoukhan/git_repos/davidreda/env/lib/python3.10/site-packages/pyannote/algorithms/utils/viterbi.py:95: FutureWarning: arrays to stack must be passed as a \"sequence\" type such as list or tuple. Support for non-sequence iterables such as generators is deprecated as of NumPy 1.16 and will raise an error in the future.\n",
      "  return np.vstack(\n"
     ]
    },
    {
     "name": "stdout",
     "output_type": "stream",
     "text": [
      "95/95 - 0s - 148ms/epoch - 2ms/step\n",
      "63/63 - 0s - 329ms/epoch - 5ms/step\n",
      "[('male', 0.0, 3.68), ('female', 3.68, 13.82), ('male', 13.82, 17.34), ('female', 17.34, 19.84), ('male', 19.84, 26.22), ('music', 26.22, 32.3), ('female', 32.3, 46.300000000000004), ('music', 46.300000000000004, 60.480000000000004)]\n",
      "/tmp/wav/radio-RMC-191036.wav\n"
     ]
    },
    {
     "name": "stderr",
     "output_type": "stream",
     "text": [
      "/home/ddoukhan/git_repos/davidreda/env/lib/python3.10/site-packages/pyannote/algorithms/utils/viterbi.py:86: FutureWarning: arrays to stack must be passed as a \"sequence\" type such as list or tuple. Support for non-sequence iterables such as generators is deprecated as of NumPy 1.16 and will raise an error in the future.\n",
      "  return np.vstack(\n",
      "/home/ddoukhan/git_repos/davidreda/env/lib/python3.10/site-packages/pyannote/algorithms/utils/viterbi.py:95: FutureWarning: arrays to stack must be passed as a \"sequence\" type such as list or tuple. Support for non-sequence iterables such as generators is deprecated as of NumPy 1.16 and will raise an error in the future.\n",
      "  return np.vstack(\n"
     ]
    },
    {
     "name": "stdout",
     "output_type": "stream",
     "text": [
      "94/94 - 0s - 148ms/epoch - 2ms/step\n",
      "94/94 - 0s - 286ms/epoch - 3ms/step\n",
      "[('male', 0.0, 60.0)]\n",
      "/tmp/wav/tv-BFT-183616.wav\n"
     ]
    },
    {
     "name": "stderr",
     "output_type": "stream",
     "text": [
      "/home/ddoukhan/git_repos/davidreda/env/lib/python3.10/site-packages/pyannote/algorithms/utils/viterbi.py:86: FutureWarning: arrays to stack must be passed as a \"sequence\" type such as list or tuple. Support for non-sequence iterables such as generators is deprecated as of NumPy 1.16 and will raise an error in the future.\n",
      "  return np.vstack(\n",
      "/home/ddoukhan/git_repos/davidreda/env/lib/python3.10/site-packages/pyannote/algorithms/utils/viterbi.py:95: FutureWarning: arrays to stack must be passed as a \"sequence\" type such as list or tuple. Support for non-sequence iterables such as generators is deprecated as of NumPy 1.16 and will raise an error in the future.\n",
      "  return np.vstack(\n"
     ]
    },
    {
     "name": "stdout",
     "output_type": "stream",
     "text": [
      "96/96 - 0s - 150ms/epoch - 2ms/step\n",
      "96/96 - 0s - 429ms/epoch - 4ms/step\n",
      "[('male', 0.0, 9.16), ('female', 9.16, 10.540000000000001), ('male', 10.540000000000001, 23.8), ('female', 23.8, 37.72), ('male', 37.72, 38.78), ('female', 38.78, 61.04)]\n",
      "/tmp/wav/tv-LCI-180921.wav\n"
     ]
    },
    {
     "name": "stderr",
     "output_type": "stream",
     "text": [
      "/home/ddoukhan/git_repos/davidreda/env/lib/python3.10/site-packages/pyannote/algorithms/utils/viterbi.py:86: FutureWarning: arrays to stack must be passed as a \"sequence\" type such as list or tuple. Support for non-sequence iterables such as generators is deprecated as of NumPy 1.16 and will raise an error in the future.\n",
      "  return np.vstack(\n",
      "/home/ddoukhan/git_repos/davidreda/env/lib/python3.10/site-packages/pyannote/algorithms/utils/viterbi.py:95: FutureWarning: arrays to stack must be passed as a \"sequence\" type such as list or tuple. Support for non-sequence iterables such as generators is deprecated as of NumPy 1.16 and will raise an error in the future.\n",
      "  return np.vstack(\n"
     ]
    },
    {
     "name": "stdout",
     "output_type": "stream",
     "text": [
      "96/96 - 0s - 227ms/epoch - 2ms/step\n",
      "96/96 - 0s - 291ms/epoch - 3ms/step\n",
      "[('male', 0.0, 61.26)]\n",
      "/tmp/wav/tv-ART-174303.wav\n"
     ]
    },
    {
     "name": "stderr",
     "output_type": "stream",
     "text": [
      "/home/ddoukhan/git_repos/davidreda/env/lib/python3.10/site-packages/pyannote/algorithms/utils/viterbi.py:86: FutureWarning: arrays to stack must be passed as a \"sequence\" type such as list or tuple. Support for non-sequence iterables such as generators is deprecated as of NumPy 1.16 and will raise an error in the future.\n",
      "  return np.vstack(\n",
      "/home/ddoukhan/git_repos/davidreda/env/lib/python3.10/site-packages/pyannote/algorithms/utils/viterbi.py:95: FutureWarning: arrays to stack must be passed as a \"sequence\" type such as list or tuple. Support for non-sequence iterables such as generators is deprecated as of NumPy 1.16 and will raise an error in the future.\n",
      "  return np.vstack(\n"
     ]
    },
    {
     "name": "stdout",
     "output_type": "stream",
     "text": [
      "94/94 - 0s - 148ms/epoch - 2ms/step\n",
      "94/94 - 0s - 280ms/epoch - 3ms/step\n",
      "[('female', 0.0, 18.44), ('noEnergy', 18.44, 19.2), ('male', 19.2, 31.66), ('female', 31.66, 43.24), ('male', 43.24, 60.120000000000005), ('noEnergy', 60.120000000000005, 60.56), ('male', 60.56, 61.04)]\n",
      "/tmp/wav/radio-FIT-013224.wav\n"
     ]
    },
    {
     "name": "stderr",
     "output_type": "stream",
     "text": [
      "/home/ddoukhan/git_repos/davidreda/env/lib/python3.10/site-packages/pyannote/algorithms/utils/viterbi.py:86: FutureWarning: arrays to stack must be passed as a \"sequence\" type such as list or tuple. Support for non-sequence iterables such as generators is deprecated as of NumPy 1.16 and will raise an error in the future.\n",
      "  return np.vstack(\n",
      "/home/ddoukhan/git_repos/davidreda/env/lib/python3.10/site-packages/pyannote/algorithms/utils/viterbi.py:95: FutureWarning: arrays to stack must be passed as a \"sequence\" type such as list or tuple. Support for non-sequence iterables such as generators is deprecated as of NumPy 1.16 and will raise an error in the future.\n",
      "  return np.vstack(\n"
     ]
    },
    {
     "name": "stdout",
     "output_type": "stream",
     "text": [
      "93/93 - 0s - 145ms/epoch - 2ms/step\n",
      "50/50 - 0s - 153ms/epoch - 3ms/step\n",
      "[('male', 0.0, 0.14), ('noEnergy', 0.14, 0.58), ('male', 0.58, 3.5), ('noEnergy', 3.5, 3.92), ('male', 3.92, 30.02), ('female', 30.02, 32.34), ('music', 32.34, 60.0)]\n",
      "/tmp/wav/radio-FIT-130412.wav\n"
     ]
    },
    {
     "name": "stderr",
     "output_type": "stream",
     "text": [
      "/home/ddoukhan/git_repos/davidreda/env/lib/python3.10/site-packages/pyannote/algorithms/utils/viterbi.py:86: FutureWarning: arrays to stack must be passed as a \"sequence\" type such as list or tuple. Support for non-sequence iterables such as generators is deprecated as of NumPy 1.16 and will raise an error in the future.\n",
      "  return np.vstack(\n",
      "/home/ddoukhan/git_repos/davidreda/env/lib/python3.10/site-packages/pyannote/algorithms/utils/viterbi.py:95: FutureWarning: arrays to stack must be passed as a \"sequence\" type such as list or tuple. Support for non-sequence iterables such as generators is deprecated as of NumPy 1.16 and will raise an error in the future.\n",
      "  return np.vstack(\n"
     ]
    },
    {
     "name": "stdout",
     "output_type": "stream",
     "text": [
      "94/94 - 0s - 150ms/epoch - 2ms/step\n",
      "94/94 - 0s - 282ms/epoch - 3ms/step\n",
      "[('male', 0.0, 56.4), ('female', 56.4, 60.0)]\n",
      "/tmp/wav/tv-FR5-140935.wav\n"
     ]
    },
    {
     "name": "stderr",
     "output_type": "stream",
     "text": [
      "/home/ddoukhan/git_repos/davidreda/env/lib/python3.10/site-packages/pyannote/algorithms/utils/viterbi.py:86: FutureWarning: arrays to stack must be passed as a \"sequence\" type such as list or tuple. Support for non-sequence iterables such as generators is deprecated as of NumPy 1.16 and will raise an error in the future.\n",
      "  return np.vstack(\n",
      "/home/ddoukhan/git_repos/davidreda/env/lib/python3.10/site-packages/pyannote/algorithms/utils/viterbi.py:95: FutureWarning: arrays to stack must be passed as a \"sequence\" type such as list or tuple. Support for non-sequence iterables such as generators is deprecated as of NumPy 1.16 and will raise an error in the future.\n",
      "  return np.vstack(\n"
     ]
    },
    {
     "name": "stdout",
     "output_type": "stream",
     "text": [
      "94/94 - 0s - 148ms/epoch - 2ms/step\n",
      "94/94 - 0s - 283ms/epoch - 3ms/step\n",
      "[('female', 0.0, 6.32), ('male', 6.32, 38.06), ('female', 38.06, 49.08), ('noEnergy', 49.08, 50.5), ('female', 50.5, 61.120000000000005)]\n",
      "/tmp/wav/radio-RMC-161225.wav\n"
     ]
    },
    {
     "name": "stderr",
     "output_type": "stream",
     "text": [
      "/home/ddoukhan/git_repos/davidreda/env/lib/python3.10/site-packages/pyannote/algorithms/utils/viterbi.py:86: FutureWarning: arrays to stack must be passed as a \"sequence\" type such as list or tuple. Support for non-sequence iterables such as generators is deprecated as of NumPy 1.16 and will raise an error in the future.\n",
      "  return np.vstack(\n",
      "/home/ddoukhan/git_repos/davidreda/env/lib/python3.10/site-packages/pyannote/algorithms/utils/viterbi.py:95: FutureWarning: arrays to stack must be passed as a \"sequence\" type such as list or tuple. Support for non-sequence iterables such as generators is deprecated as of NumPy 1.16 and will raise an error in the future.\n",
      "  return np.vstack(\n"
     ]
    },
    {
     "name": "stdout",
     "output_type": "stream",
     "text": [
      "94/94 - 0s - 150ms/epoch - 2ms/step\n",
      "94/94 - 0s - 282ms/epoch - 3ms/step\n",
      "[('male', 0.0, 60.02)]\n",
      "/tmp/wav/tv-FR4-042505.wav\n"
     ]
    },
    {
     "name": "stderr",
     "output_type": "stream",
     "text": [
      "/home/ddoukhan/git_repos/davidreda/env/lib/python3.10/site-packages/pyannote/algorithms/utils/viterbi.py:86: FutureWarning: arrays to stack must be passed as a \"sequence\" type such as list or tuple. Support for non-sequence iterables such as generators is deprecated as of NumPy 1.16 and will raise an error in the future.\n",
      "  return np.vstack(\n",
      "/home/ddoukhan/git_repos/davidreda/env/lib/python3.10/site-packages/pyannote/algorithms/utils/viterbi.py:95: FutureWarning: arrays to stack must be passed as a \"sequence\" type such as list or tuple. Support for non-sequence iterables such as generators is deprecated as of NumPy 1.16 and will raise an error in the future.\n",
      "  return np.vstack(\n"
     ]
    },
    {
     "name": "stdout",
     "output_type": "stream",
     "text": [
      "82/82 - 0s - 132ms/epoch - 2ms/step\n",
      "38/38 - 0s - 120ms/epoch - 3ms/step\n",
      "[('male', 0.0, 14.22), ('noise', 14.22, 16.1), ('noEnergy', 16.1, 22.740000000000002), ('music', 22.740000000000002, 23.42), ('noEnergy', 23.42, 23.86), ('music', 23.86, 24.94), ('noEnergy', 24.94, 25.98), ('music', 25.98, 29.16), ('noEnergy', 29.16, 29.6), ('music', 29.6, 30.580000000000002), ('noEnergy', 30.580000000000002, 31.76), ('music', 31.76, 46.480000000000004), ('female', 46.480000000000004, 56.18), ('music', 56.18, 61.68)]\n",
      "/tmp/wav/tv-ART-223617.wav\n"
     ]
    },
    {
     "name": "stderr",
     "output_type": "stream",
     "text": [
      "/home/ddoukhan/git_repos/davidreda/env/lib/python3.10/site-packages/pyannote/algorithms/utils/viterbi.py:86: FutureWarning: arrays to stack must be passed as a \"sequence\" type such as list or tuple. Support for non-sequence iterables such as generators is deprecated as of NumPy 1.16 and will raise an error in the future.\n",
      "  return np.vstack(\n",
      "/home/ddoukhan/git_repos/davidreda/env/lib/python3.10/site-packages/pyannote/algorithms/utils/viterbi.py:95: FutureWarning: arrays to stack must be passed as a \"sequence\" type such as list or tuple. Support for non-sequence iterables such as generators is deprecated as of NumPy 1.16 and will raise an error in the future.\n",
      "  return np.vstack(\n"
     ]
    },
    {
     "name": "stdout",
     "output_type": "stream",
     "text": [
      "94/94 - 0s - 147ms/epoch - 2ms/step\n",
      "89/89 - 0s - 267ms/epoch - 3ms/step\n",
      "[('music', 0.0, 1.46), ('male', 1.46, 10.700000000000001), ('noEnergy', 10.700000000000001, 11.4), ('female', 11.4, 12.36), ('male', 12.36, 24.080000000000002), ('noise', 24.080000000000002, 26.04), ('male', 26.04, 60.68)]\n",
      "/tmp/wav/radio-FMU-154738.wav\n"
     ]
    },
    {
     "name": "stderr",
     "output_type": "stream",
     "text": [
      "/home/ddoukhan/git_repos/davidreda/env/lib/python3.10/site-packages/pyannote/algorithms/utils/viterbi.py:86: FutureWarning: arrays to stack must be passed as a \"sequence\" type such as list or tuple. Support for non-sequence iterables such as generators is deprecated as of NumPy 1.16 and will raise an error in the future.\n",
      "  return np.vstack(\n",
      "/home/ddoukhan/git_repos/davidreda/env/lib/python3.10/site-packages/pyannote/algorithms/utils/viterbi.py:95: FutureWarning: arrays to stack must be passed as a \"sequence\" type such as list or tuple. Support for non-sequence iterables such as generators is deprecated as of NumPy 1.16 and will raise an error in the future.\n",
      "  return np.vstack(\n"
     ]
    },
    {
     "name": "stdout",
     "output_type": "stream",
     "text": [
      "94/94 - 0s - 148ms/epoch - 2ms/step\n",
      "[('music', 0.0, 60.02)]\n",
      "/tmp/wav/radio-FIT-020307.wav\n"
     ]
    },
    {
     "name": "stderr",
     "output_type": "stream",
     "text": [
      "/home/ddoukhan/git_repos/davidreda/env/lib/python3.10/site-packages/pyannote/algorithms/utils/viterbi.py:86: FutureWarning: arrays to stack must be passed as a \"sequence\" type such as list or tuple. Support for non-sequence iterables such as generators is deprecated as of NumPy 1.16 and will raise an error in the future.\n",
      "  return np.vstack(\n",
      "/home/ddoukhan/git_repos/davidreda/env/lib/python3.10/site-packages/pyannote/algorithms/utils/viterbi.py:95: FutureWarning: arrays to stack must be passed as a \"sequence\" type such as list or tuple. Support for non-sequence iterables such as generators is deprecated as of NumPy 1.16 and will raise an error in the future.\n",
      "  return np.vstack(\n"
     ]
    },
    {
     "name": "stdout",
     "output_type": "stream",
     "text": [
      "92/92 - 0s - 214ms/epoch - 2ms/step\n",
      "66/66 - 0s - 200ms/epoch - 3ms/step\n",
      "[('male', 0.0, 5.98), ('noEnergy', 5.98, 7.7), ('music', 7.7, 11.26), ('female', 11.26, 16.46), ('music', 16.46, 18.02), ('male', 18.02, 25.580000000000002), ('female', 25.580000000000002, 29.7), ('music', 29.7, 38.7), ('male', 38.7, 53.54), ('music', 53.54, 56.0), ('male', 56.0, 60.02)]\n",
      "/tmp/wav/tv-C+_-165141.wav\n"
     ]
    },
    {
     "name": "stderr",
     "output_type": "stream",
     "text": [
      "/home/ddoukhan/git_repos/davidreda/env/lib/python3.10/site-packages/pyannote/algorithms/utils/viterbi.py:86: FutureWarning: arrays to stack must be passed as a \"sequence\" type such as list or tuple. Support for non-sequence iterables such as generators is deprecated as of NumPy 1.16 and will raise an error in the future.\n",
      "  return np.vstack(\n",
      "/home/ddoukhan/git_repos/davidreda/env/lib/python3.10/site-packages/pyannote/algorithms/utils/viterbi.py:95: FutureWarning: arrays to stack must be passed as a \"sequence\" type such as list or tuple. Support for non-sequence iterables such as generators is deprecated as of NumPy 1.16 and will raise an error in the future.\n",
      "  return np.vstack(\n"
     ]
    },
    {
     "name": "stdout",
     "output_type": "stream",
     "text": [
      "91/91 - 0s - 144ms/epoch - 2ms/step\n",
      "22/22 - 0s - 74ms/epoch - 3ms/step\n",
      "[('noise', 0.0, 21.240000000000002), ('music', 21.240000000000002, 24.92), ('noise', 24.92, 44.46), ('noEnergy', 44.46, 44.88), ('male', 44.88, 47.4), ('female', 47.4, 48.620000000000005), ('male', 48.620000000000005, 50.76), ('female', 50.76, 52.300000000000004), ('noEnergy', 52.300000000000004, 52.980000000000004), ('female', 52.980000000000004, 55.78), ('male', 55.78, 57.88), ('noEnergy', 57.88, 58.92), ('male', 58.92, 60.36), ('noEnergy', 60.36, 61.480000000000004)]\n",
      "/tmp/wav/radio-FIP-232113.wav\n"
     ]
    },
    {
     "name": "stderr",
     "output_type": "stream",
     "text": [
      "/home/ddoukhan/git_repos/davidreda/env/lib/python3.10/site-packages/pyannote/algorithms/utils/viterbi.py:86: FutureWarning: arrays to stack must be passed as a \"sequence\" type such as list or tuple. Support for non-sequence iterables such as generators is deprecated as of NumPy 1.16 and will raise an error in the future.\n",
      "  return np.vstack(\n",
      "/home/ddoukhan/git_repos/davidreda/env/lib/python3.10/site-packages/pyannote/algorithms/utils/viterbi.py:95: FutureWarning: arrays to stack must be passed as a \"sequence\" type such as list or tuple. Support for non-sequence iterables such as generators is deprecated as of NumPy 1.16 and will raise an error in the future.\n",
      "  return np.vstack(\n"
     ]
    },
    {
     "name": "stdout",
     "output_type": "stream",
     "text": [
      "94/94 - 0s - 147ms/epoch - 2ms/step\n",
      "[('music', 0.0, 60.02)]\n",
      "/tmp/wav/tv-C+_-083705.wav\n"
     ]
    },
    {
     "name": "stderr",
     "output_type": "stream",
     "text": [
      "/home/ddoukhan/git_repos/davidreda/env/lib/python3.10/site-packages/pyannote/algorithms/utils/viterbi.py:86: FutureWarning: arrays to stack must be passed as a \"sequence\" type such as list or tuple. Support for non-sequence iterables such as generators is deprecated as of NumPy 1.16 and will raise an error in the future.\n",
      "  return np.vstack(\n",
      "/home/ddoukhan/git_repos/davidreda/env/lib/python3.10/site-packages/pyannote/algorithms/utils/viterbi.py:95: FutureWarning: arrays to stack must be passed as a \"sequence\" type such as list or tuple. Support for non-sequence iterables such as generators is deprecated as of NumPy 1.16 and will raise an error in the future.\n",
      "  return np.vstack(\n"
     ]
    },
    {
     "name": "stdout",
     "output_type": "stream",
     "text": [
      "93/93 - 0s - 148ms/epoch - 2ms/step\n",
      "33/33 - 0s - 106ms/epoch - 3ms/step\n",
      "[('female', 0.0, 7.48), ('male', 7.48, 9.58), ('female', 9.58, 14.02), ('noEnergy', 14.02, 14.88), ('noise', 14.88, 18.22), ('female', 18.22, 24.26), ('noise', 24.26, 31.740000000000002), ('female', 31.740000000000002, 32.62), ('music', 32.62, 50.120000000000005), ('noise', 50.120000000000005, 55.08), ('noEnergy', 55.08, 56.160000000000004), ('noise', 56.160000000000004, 60.56), ('noEnergy', 60.56, 61.160000000000004), ('noise', 61.160000000000004, 61.54)]\n",
      "/tmp/wav/tv-FR4-101704.wav\n"
     ]
    },
    {
     "name": "stderr",
     "output_type": "stream",
     "text": [
      "/home/ddoukhan/git_repos/davidreda/env/lib/python3.10/site-packages/pyannote/algorithms/utils/viterbi.py:86: FutureWarning: arrays to stack must be passed as a \"sequence\" type such as list or tuple. Support for non-sequence iterables such as generators is deprecated as of NumPy 1.16 and will raise an error in the future.\n",
      "  return np.vstack(\n",
      "/home/ddoukhan/git_repos/davidreda/env/lib/python3.10/site-packages/pyannote/algorithms/utils/viterbi.py:95: FutureWarning: arrays to stack must be passed as a \"sequence\" type such as list or tuple. Support for non-sequence iterables such as generators is deprecated as of NumPy 1.16 and will raise an error in the future.\n",
      "  return np.vstack(\n"
     ]
    },
    {
     "name": "stdout",
     "output_type": "stream",
     "text": [
      "96/96 - 0s - 150ms/epoch - 2ms/step\n",
      "18/18 - 0s - 179ms/epoch - 10ms/step\n",
      "[('female', 0.0, 10.120000000000001), ('music', 10.120000000000001, 22.82), ('noise', 22.82, 28.18), ('music', 28.18, 38.2), ('noise', 38.2, 44.68), ('music', 44.68, 58.22), ('noise', 58.22, 60.42), ('female', 60.42, 61.4)]\n",
      "/tmp/wav/radio-FCR-074934.wav\n"
     ]
    },
    {
     "name": "stderr",
     "output_type": "stream",
     "text": [
      "/home/ddoukhan/git_repos/davidreda/env/lib/python3.10/site-packages/pyannote/algorithms/utils/viterbi.py:86: FutureWarning: arrays to stack must be passed as a \"sequence\" type such as list or tuple. Support for non-sequence iterables such as generators is deprecated as of NumPy 1.16 and will raise an error in the future.\n",
      "  return np.vstack(\n",
      "/home/ddoukhan/git_repos/davidreda/env/lib/python3.10/site-packages/pyannote/algorithms/utils/viterbi.py:95: FutureWarning: arrays to stack must be passed as a \"sequence\" type such as list or tuple. Support for non-sequence iterables such as generators is deprecated as of NumPy 1.16 and will raise an error in the future.\n",
      "  return np.vstack(\n"
     ]
    },
    {
     "name": "stdout",
     "output_type": "stream",
     "text": [
      "92/92 - 0s - 146ms/epoch - 2ms/step\n",
      "92/92 - 0s - 274ms/epoch - 3ms/step\n",
      "[('male', 0.0, 17.240000000000002), ('noEnergy', 17.240000000000002, 17.740000000000002), ('female', 17.740000000000002, 19.240000000000002), ('male', 19.240000000000002, 25.36), ('noEnergy', 25.36, 26.16), ('male', 26.16, 60.0)]\n",
      "/tmp/wav/tv-TF1-110550.wav\n"
     ]
    },
    {
     "name": "stderr",
     "output_type": "stream",
     "text": [
      "/home/ddoukhan/git_repos/davidreda/env/lib/python3.10/site-packages/pyannote/algorithms/utils/viterbi.py:86: FutureWarning: arrays to stack must be passed as a \"sequence\" type such as list or tuple. Support for non-sequence iterables such as generators is deprecated as of NumPy 1.16 and will raise an error in the future.\n",
      "  return np.vstack(\n",
      "/home/ddoukhan/git_repos/davidreda/env/lib/python3.10/site-packages/pyannote/algorithms/utils/viterbi.py:95: FutureWarning: arrays to stack must be passed as a \"sequence\" type such as list or tuple. Support for non-sequence iterables such as generators is deprecated as of NumPy 1.16 and will raise an error in the future.\n",
      "  return np.vstack(\n"
     ]
    },
    {
     "name": "stdout",
     "output_type": "stream",
     "text": [
      "74/74 - 0s - 119ms/epoch - 2ms/step\n",
      "74/74 - 0s - 224ms/epoch - 3ms/step\n",
      "[('male', 0.0, 3.38), ('noEnergy', 3.38, 3.86), ('male', 3.86, 5.46), ('noEnergy', 5.46, 6.54), ('male', 6.54, 9.700000000000001), ('noEnergy', 9.700000000000001, 10.72), ('male', 10.72, 17.1), ('noEnergy', 17.1, 18.400000000000002), ('noise', 18.400000000000002, 18.72), ('noEnergy', 18.72, 19.22), ('male', 19.22, 22.12), ('noEnergy', 22.12, 23.54), ('male', 23.54, 32.06), ('noEnergy', 32.06, 33.58), ('female', 33.58, 35.34), ('noEnergy', 35.34, 36.660000000000004), ('male', 36.660000000000004, 38.74), ('noEnergy', 38.74, 40.2), ('male', 40.2, 45.160000000000004), ('noEnergy', 45.160000000000004, 45.58), ('female', 45.58, 48.58), ('noEnergy', 48.58, 49.5), ('male', 49.5, 50.42), ('noEnergy', 50.42, 53.1), ('male', 53.1, 55.9), ('noEnergy', 55.9, 56.46), ('male', 56.46, 61.88)]\n",
      "/tmp/wav/tv-M6_-142753.wav\n"
     ]
    },
    {
     "name": "stderr",
     "output_type": "stream",
     "text": [
      "/home/ddoukhan/git_repos/davidreda/env/lib/python3.10/site-packages/pyannote/algorithms/utils/viterbi.py:86: FutureWarning: arrays to stack must be passed as a \"sequence\" type such as list or tuple. Support for non-sequence iterables such as generators is deprecated as of NumPy 1.16 and will raise an error in the future.\n",
      "  return np.vstack(\n",
      "/home/ddoukhan/git_repos/davidreda/env/lib/python3.10/site-packages/pyannote/algorithms/utils/viterbi.py:95: FutureWarning: arrays to stack must be passed as a \"sequence\" type such as list or tuple. Support for non-sequence iterables such as generators is deprecated as of NumPy 1.16 and will raise an error in the future.\n",
      "  return np.vstack(\n"
     ]
    },
    {
     "name": "stdout",
     "output_type": "stream",
     "text": [
      "91/91 - 0s - 144ms/epoch - 2ms/step\n",
      "37/37 - 0s - 237ms/epoch - 6ms/step\n",
      "[('music', 0.0, 1.84), ('noEnergy', 1.84, 2.38), ('music', 2.38, 26.32), ('female', 26.32, 32.1), ('noEnergy', 32.1, 33.480000000000004), ('male', 33.480000000000004, 35.54), ('female', 35.54, 38.08), ('music', 38.08, 41.160000000000004), ('female', 41.160000000000004, 43.06), ('music', 43.06, 47.78), ('male', 47.78, 51.0), ('female', 51.0, 51.660000000000004), ('music', 51.660000000000004, 52.660000000000004), ('noEnergy', 52.660000000000004, 53.34), ('female', 53.34, 60.480000000000004)]\n",
      "/tmp/wav/tv-LCI-200518.wav\n"
     ]
    },
    {
     "name": "stderr",
     "output_type": "stream",
     "text": [
      "/home/ddoukhan/git_repos/davidreda/env/lib/python3.10/site-packages/pyannote/algorithms/utils/viterbi.py:86: FutureWarning: arrays to stack must be passed as a \"sequence\" type such as list or tuple. Support for non-sequence iterables such as generators is deprecated as of NumPy 1.16 and will raise an error in the future.\n",
      "  return np.vstack(\n",
      "/home/ddoukhan/git_repos/davidreda/env/lib/python3.10/site-packages/pyannote/algorithms/utils/viterbi.py:95: FutureWarning: arrays to stack must be passed as a \"sequence\" type such as list or tuple. Support for non-sequence iterables such as generators is deprecated as of NumPy 1.16 and will raise an error in the future.\n",
      "  return np.vstack(\n",
      "/home/ddoukhan/git_repos/davidreda/env/lib/python3.10/site-packages/inaSpeechSegmenter/segmenter.py:62: RuntimeWarning: invalid value encountered in subtract\n",
      "  data = (data - np.mean(data, axis=1).reshape((len(data), 1))) / np.std(data, axis=1).reshape((len(data), 1))\n",
      "/home/ddoukhan/git_repos/davidreda/env/lib/python3.10/site-packages/numpy/core/_methods.py:236: RuntimeWarning: invalid value encountered in subtract\n",
      "  x = asanyarray(arr - arrmean)\n"
     ]
    },
    {
     "name": "stdout",
     "output_type": "stream",
     "text": [
      "87/87 - 0s - 215ms/epoch - 2ms/step\n",
      "50/50 - 0s - 155ms/epoch - 3ms/step\n",
      "[('female', 0.0, 3.22), ('noEnergy', 3.22, 3.62), ('music', 3.62, 6.42), ('noEnergy', 6.42, 7.16), ('female', 7.16, 10.1), ('noEnergy', 10.1, 12.0), ('music', 12.0, 13.1), ('male', 13.1, 28.2), ('music', 28.2, 31.720000000000002), ('noEnergy', 31.720000000000002, 32.660000000000004), ('noise', 32.660000000000004, 34.2), ('music', 34.2, 48.300000000000004), ('male', 48.300000000000004, 50.46), ('noEnergy', 50.46, 52.82), ('female', 52.82, 60.88), ('noise', 60.88, 61.6)]\n",
      "/tmp/wav/tv-F24-145503.wav\n"
     ]
    },
    {
     "name": "stderr",
     "output_type": "stream",
     "text": [
      "/home/ddoukhan/git_repos/davidreda/env/lib/python3.10/site-packages/pyannote/algorithms/utils/viterbi.py:86: FutureWarning: arrays to stack must be passed as a \"sequence\" type such as list or tuple. Support for non-sequence iterables such as generators is deprecated as of NumPy 1.16 and will raise an error in the future.\n",
      "  return np.vstack(\n",
      "/home/ddoukhan/git_repos/davidreda/env/lib/python3.10/site-packages/pyannote/algorithms/utils/viterbi.py:95: FutureWarning: arrays to stack must be passed as a \"sequence\" type such as list or tuple. Support for non-sequence iterables such as generators is deprecated as of NumPy 1.16 and will raise an error in the future.\n",
      "  return np.vstack(\n"
     ]
    },
    {
     "name": "stdout",
     "output_type": "stream",
     "text": [
      "93/93 - 0s - 146ms/epoch - 2ms/step\n",
      "93/93 - 0s - 296ms/epoch - 3ms/step\n",
      "[('male', 0.0, 28.52), ('noEnergy', 28.52, 29.04), ('male', 29.04, 37.32), ('female', 37.32, 54.7), ('noEnergy', 54.7, 55.4), ('female', 55.4, 60.4)]\n",
      "/tmp/wav/tv-T5M-040130.wav\n"
     ]
    },
    {
     "name": "stderr",
     "output_type": "stream",
     "text": [
      "/home/ddoukhan/git_repos/davidreda/env/lib/python3.10/site-packages/pyannote/algorithms/utils/viterbi.py:86: FutureWarning: arrays to stack must be passed as a \"sequence\" type such as list or tuple. Support for non-sequence iterables such as generators is deprecated as of NumPy 1.16 and will raise an error in the future.\n",
      "  return np.vstack(\n",
      "/home/ddoukhan/git_repos/davidreda/env/lib/python3.10/site-packages/pyannote/algorithms/utils/viterbi.py:95: FutureWarning: arrays to stack must be passed as a \"sequence\" type such as list or tuple. Support for non-sequence iterables such as generators is deprecated as of NumPy 1.16 and will raise an error in the future.\n",
      "  return np.vstack(\n",
      "/home/ddoukhan/git_repos/davidreda/env/lib/python3.10/site-packages/inaSpeechSegmenter/segmenter.py:62: RuntimeWarning: invalid value encountered in subtract\n",
      "  data = (data - np.mean(data, axis=1).reshape((len(data), 1))) / np.std(data, axis=1).reshape((len(data), 1))\n",
      "/home/ddoukhan/git_repos/davidreda/env/lib/python3.10/site-packages/numpy/core/_methods.py:236: RuntimeWarning: invalid value encountered in subtract\n",
      "  x = asanyarray(arr - arrmean)\n"
     ]
    },
    {
     "name": "stdout",
     "output_type": "stream",
     "text": [
      "93/93 - 0s - 149ms/epoch - 2ms/step\n",
      "46/46 - 0s - 142ms/epoch - 3ms/step\n",
      "[('music', 0.0, 5.8), ('female', 5.8, 16.240000000000002), ('male', 16.240000000000002, 18.900000000000002), ('female', 18.900000000000002, 31.84), ('music', 31.84, 38.88), ('noEnergy', 38.88, 39.300000000000004), ('music', 39.300000000000004, 48.34), ('noEnergy', 48.34, 49.34), ('noise', 49.34, 51.38), ('music', 51.38, 57.72), ('male', 57.72, 60.58)]\n",
      "/tmp/wav/tv-C+_-220437.wav\n"
     ]
    },
    {
     "name": "stderr",
     "output_type": "stream",
     "text": [
      "/home/ddoukhan/git_repos/davidreda/env/lib/python3.10/site-packages/pyannote/algorithms/utils/viterbi.py:86: FutureWarning: arrays to stack must be passed as a \"sequence\" type such as list or tuple. Support for non-sequence iterables such as generators is deprecated as of NumPy 1.16 and will raise an error in the future.\n",
      "  return np.vstack(\n",
      "/home/ddoukhan/git_repos/davidreda/env/lib/python3.10/site-packages/pyannote/algorithms/utils/viterbi.py:95: FutureWarning: arrays to stack must be passed as a \"sequence\" type such as list or tuple. Support for non-sequence iterables such as generators is deprecated as of NumPy 1.16 and will raise an error in the future.\n",
      "  return np.vstack(\n"
     ]
    },
    {
     "name": "stdout",
     "output_type": "stream",
     "text": [
      "91/91 - 0s - 145ms/epoch - 2ms/step\n",
      "[('noise', 0.0, 0.3), ('noEnergy', 0.3, 1.4000000000000001), ('music', 1.4000000000000001, 4.88), ('noEnergy', 4.88, 5.54), ('music', 5.54, 20.72), ('noEnergy', 20.72, 21.36), ('noise', 21.36, 24.0), ('noEnergy', 24.0, 24.42), ('music', 24.42, 60.64)]\n",
      "/tmp/wav/tv-ART-094118.wav\n"
     ]
    },
    {
     "name": "stderr",
     "output_type": "stream",
     "text": [
      "/home/ddoukhan/git_repos/davidreda/env/lib/python3.10/site-packages/pyannote/algorithms/utils/viterbi.py:86: FutureWarning: arrays to stack must be passed as a \"sequence\" type such as list or tuple. Support for non-sequence iterables such as generators is deprecated as of NumPy 1.16 and will raise an error in the future.\n",
      "  return np.vstack(\n",
      "/home/ddoukhan/git_repos/davidreda/env/lib/python3.10/site-packages/pyannote/algorithms/utils/viterbi.py:95: FutureWarning: arrays to stack must be passed as a \"sequence\" type such as list or tuple. Support for non-sequence iterables such as generators is deprecated as of NumPy 1.16 and will raise an error in the future.\n",
      "  return np.vstack(\n"
     ]
    },
    {
     "name": "stdout",
     "output_type": "stream",
     "text": [
      "94/94 - 0s - 227ms/epoch - 2ms/step\n",
      "52/52 - 0s - 159ms/epoch - 3ms/step\n",
      "[('female', 0.0, 3.94), ('noise', 3.94, 10.08), ('female', 10.08, 14.32), ('noEnergy', 14.32, 14.74), ('female', 14.74, 15.48), ('noise', 15.48, 23.740000000000002), ('female', 23.740000000000002, 28.060000000000002), ('noise', 28.060000000000002, 34.42), ('female', 34.42, 38.68), ('noise', 38.68, 41.68), ('female', 41.68, 50.96), ('noise', 50.96, 53.14), ('female', 53.14, 56.2), ('noise', 56.2, 57.52), ('female', 57.52, 60.36)]\n",
      "/tmp/wav/radio-MUV-112050.wav\n"
     ]
    },
    {
     "name": "stderr",
     "output_type": "stream",
     "text": [
      "/home/ddoukhan/git_repos/davidreda/env/lib/python3.10/site-packages/pyannote/algorithms/utils/viterbi.py:86: FutureWarning: arrays to stack must be passed as a \"sequence\" type such as list or tuple. Support for non-sequence iterables such as generators is deprecated as of NumPy 1.16 and will raise an error in the future.\n",
      "  return np.vstack(\n",
      "/home/ddoukhan/git_repos/davidreda/env/lib/python3.10/site-packages/pyannote/algorithms/utils/viterbi.py:95: FutureWarning: arrays to stack must be passed as a \"sequence\" type such as list or tuple. Support for non-sequence iterables such as generators is deprecated as of NumPy 1.16 and will raise an error in the future.\n",
      "  return np.vstack(\n"
     ]
    },
    {
     "name": "stdout",
     "output_type": "stream",
     "text": [
      "94/94 - 0s - 146ms/epoch - 2ms/step\n",
      "[('music', 0.0, 60.02)]\n",
      "/tmp/wav/radio-FBL-044522.wav\n"
     ]
    },
    {
     "name": "stderr",
     "output_type": "stream",
     "text": [
      "/home/ddoukhan/git_repos/davidreda/env/lib/python3.10/site-packages/pyannote/algorithms/utils/viterbi.py:86: FutureWarning: arrays to stack must be passed as a \"sequence\" type such as list or tuple. Support for non-sequence iterables such as generators is deprecated as of NumPy 1.16 and will raise an error in the future.\n",
      "  return np.vstack(\n",
      "/home/ddoukhan/git_repos/davidreda/env/lib/python3.10/site-packages/pyannote/algorithms/utils/viterbi.py:95: FutureWarning: arrays to stack must be passed as a \"sequence\" type such as list or tuple. Support for non-sequence iterables such as generators is deprecated as of NumPy 1.16 and will raise an error in the future.\n",
      "  return np.vstack(\n"
     ]
    },
    {
     "name": "stdout",
     "output_type": "stream",
     "text": [
      "93/93 - 0s - 154ms/epoch - 2ms/step\n",
      "[('music', 0.0, 16.36), ('noEnergy', 16.36, 16.9), ('music', 16.9, 60.02)]\n",
      "/tmp/wav/tv-FR5-155103.wav\n"
     ]
    },
    {
     "name": "stderr",
     "output_type": "stream",
     "text": [
      "/home/ddoukhan/git_repos/davidreda/env/lib/python3.10/site-packages/pyannote/algorithms/utils/viterbi.py:86: FutureWarning: arrays to stack must be passed as a \"sequence\" type such as list or tuple. Support for non-sequence iterables such as generators is deprecated as of NumPy 1.16 and will raise an error in the future.\n",
      "  return np.vstack(\n",
      "/home/ddoukhan/git_repos/davidreda/env/lib/python3.10/site-packages/pyannote/algorithms/utils/viterbi.py:95: FutureWarning: arrays to stack must be passed as a \"sequence\" type such as list or tuple. Support for non-sequence iterables such as generators is deprecated as of NumPy 1.16 and will raise an error in the future.\n",
      "  return np.vstack(\n"
     ]
    },
    {
     "name": "stdout",
     "output_type": "stream",
     "text": [
      "94/94 - 0s - 150ms/epoch - 2ms/step\n",
      "56/56 - 0s - 178ms/epoch - 3ms/step\n",
      "[('male', 0.0, 11.14), ('female', 11.14, 14.26), ('music', 14.26, 19.22), ('male', 19.22, 22.400000000000002), ('music', 22.400000000000002, 24.240000000000002), ('male', 24.240000000000002, 26.54), ('music', 26.54, 29.42), ('male', 29.42, 32.94), ('female', 32.94, 34.7), ('noise', 34.7, 39.14), ('male', 39.14, 49.7), ('noise', 49.7, 60.160000000000004)]\n",
      "/tmp/wav/radio-MUV-152706.wav\n"
     ]
    },
    {
     "name": "stderr",
     "output_type": "stream",
     "text": [
      "/home/ddoukhan/git_repos/davidreda/env/lib/python3.10/site-packages/pyannote/algorithms/utils/viterbi.py:86: FutureWarning: arrays to stack must be passed as a \"sequence\" type such as list or tuple. Support for non-sequence iterables such as generators is deprecated as of NumPy 1.16 and will raise an error in the future.\n",
      "  return np.vstack(\n",
      "/home/ddoukhan/git_repos/davidreda/env/lib/python3.10/site-packages/pyannote/algorithms/utils/viterbi.py:95: FutureWarning: arrays to stack must be passed as a \"sequence\" type such as list or tuple. Support for non-sequence iterables such as generators is deprecated as of NumPy 1.16 and will raise an error in the future.\n",
      "  return np.vstack(\n"
     ]
    },
    {
     "name": "stdout",
     "output_type": "stream",
     "text": [
      "94/94 - 0s - 152ms/epoch - 2ms/step\n",
      "[('music', 0.0, 60.02)]\n",
      "/tmp/wav/radio-FBL-132313.wav\n"
     ]
    },
    {
     "name": "stderr",
     "output_type": "stream",
     "text": [
      "/home/ddoukhan/git_repos/davidreda/env/lib/python3.10/site-packages/pyannote/algorithms/utils/viterbi.py:86: FutureWarning: arrays to stack must be passed as a \"sequence\" type such as list or tuple. Support for non-sequence iterables such as generators is deprecated as of NumPy 1.16 and will raise an error in the future.\n",
      "  return np.vstack(\n",
      "/home/ddoukhan/git_repos/davidreda/env/lib/python3.10/site-packages/pyannote/algorithms/utils/viterbi.py:95: FutureWarning: arrays to stack must be passed as a \"sequence\" type such as list or tuple. Support for non-sequence iterables such as generators is deprecated as of NumPy 1.16 and will raise an error in the future.\n",
      "  return np.vstack(\n"
     ]
    },
    {
     "name": "stdout",
     "output_type": "stream",
     "text": [
      "94/94 - 0s - 149ms/epoch - 2ms/step\n",
      "[('music', 0.0, 60.02)]\n",
      "/tmp/wav/tv-C25-032841.wav\n"
     ]
    },
    {
     "name": "stderr",
     "output_type": "stream",
     "text": [
      "/home/ddoukhan/git_repos/davidreda/env/lib/python3.10/site-packages/pyannote/algorithms/utils/viterbi.py:86: FutureWarning: arrays to stack must be passed as a \"sequence\" type such as list or tuple. Support for non-sequence iterables such as generators is deprecated as of NumPy 1.16 and will raise an error in the future.\n",
      "  return np.vstack(\n",
      "/home/ddoukhan/git_repos/davidreda/env/lib/python3.10/site-packages/pyannote/algorithms/utils/viterbi.py:95: FutureWarning: arrays to stack must be passed as a \"sequence\" type such as list or tuple. Support for non-sequence iterables such as generators is deprecated as of NumPy 1.16 and will raise an error in the future.\n",
      "  return np.vstack(\n"
     ]
    },
    {
     "name": "stdout",
     "output_type": "stream",
     "text": [
      "92/92 - 0s - 145ms/epoch - 2ms/step\n",
      "69/69 - 0s - 209ms/epoch - 3ms/step\n",
      "[('female', 0.0, 3.8200000000000003), ('noEnergy', 3.8200000000000003, 4.58), ('female', 4.58, 5.1000000000000005), ('noEnergy', 5.1000000000000005, 6.0200000000000005), ('female', 6.0200000000000005, 8.86), ('music', 8.86, 11.72), ('noEnergy', 11.72, 12.200000000000001), ('music', 12.200000000000001, 22.22), ('female', 22.22, 26.28), ('music', 26.28, 27.7), ('noEnergy', 27.7, 28.22), ('male', 28.22, 29.6), ('female', 29.6, 31.34), ('male', 31.34, 34.38), ('female', 34.38, 36.88), ('male', 36.88, 46.88), ('female', 46.88, 50.88), ('male', 50.88, 52.300000000000004), ('female', 52.300000000000004, 61.04)]\n",
      "/tmp/wav/tv-C+N-100141.wav\n"
     ]
    },
    {
     "name": "stderr",
     "output_type": "stream",
     "text": [
      "/home/ddoukhan/git_repos/davidreda/env/lib/python3.10/site-packages/pyannote/algorithms/utils/viterbi.py:86: FutureWarning: arrays to stack must be passed as a \"sequence\" type such as list or tuple. Support for non-sequence iterables such as generators is deprecated as of NumPy 1.16 and will raise an error in the future.\n",
      "  return np.vstack(\n",
      "/home/ddoukhan/git_repos/davidreda/env/lib/python3.10/site-packages/pyannote/algorithms/utils/viterbi.py:95: FutureWarning: arrays to stack must be passed as a \"sequence\" type such as list or tuple. Support for non-sequence iterables such as generators is deprecated as of NumPy 1.16 and will raise an error in the future.\n",
      "  return np.vstack(\n"
     ]
    },
    {
     "name": "stdout",
     "output_type": "stream",
     "text": [
      "93/93 - 0s - 223ms/epoch - 2ms/step\n",
      "93/93 - 0s - 281ms/epoch - 3ms/step\n",
      "[('female', 0.0, 44.12), ('male', 44.12, 50.660000000000004), ('noEnergy', 50.660000000000004, 51.36), ('male', 51.36, 60.160000000000004)]\n",
      "/tmp/wav/radio-RMC-212532.wav\n"
     ]
    },
    {
     "name": "stderr",
     "output_type": "stream",
     "text": [
      "/home/ddoukhan/git_repos/davidreda/env/lib/python3.10/site-packages/pyannote/algorithms/utils/viterbi.py:86: FutureWarning: arrays to stack must be passed as a \"sequence\" type such as list or tuple. Support for non-sequence iterables such as generators is deprecated as of NumPy 1.16 and will raise an error in the future.\n",
      "  return np.vstack(\n",
      "/home/ddoukhan/git_repos/davidreda/env/lib/python3.10/site-packages/pyannote/algorithms/utils/viterbi.py:95: FutureWarning: arrays to stack must be passed as a \"sequence\" type such as list or tuple. Support for non-sequence iterables such as generators is deprecated as of NumPy 1.16 and will raise an error in the future.\n",
      "  return np.vstack(\n"
     ]
    },
    {
     "name": "stdout",
     "output_type": "stream",
     "text": [
      "94/94 - 0s - 147ms/epoch - 2ms/step\n",
      "94/94 - 0s - 288ms/epoch - 3ms/step\n",
      "[('male', 0.0, 3.18), ('female', 3.18, 4.22), ('male', 4.22, 5.76), ('female', 5.76, 29.04), ('male', 29.04, 34.58), ('female', 34.58, 38.6), ('male', 38.6, 42.160000000000004), ('female', 42.160000000000004, 51.58), ('male', 51.58, 60.0)]\n",
      "/tmp/wav/tv-FR2-151739.wav\n"
     ]
    },
    {
     "name": "stderr",
     "output_type": "stream",
     "text": [
      "/home/ddoukhan/git_repos/davidreda/env/lib/python3.10/site-packages/pyannote/algorithms/utils/viterbi.py:86: FutureWarning: arrays to stack must be passed as a \"sequence\" type such as list or tuple. Support for non-sequence iterables such as generators is deprecated as of NumPy 1.16 and will raise an error in the future.\n",
      "  return np.vstack(\n",
      "/home/ddoukhan/git_repos/davidreda/env/lib/python3.10/site-packages/pyannote/algorithms/utils/viterbi.py:95: FutureWarning: arrays to stack must be passed as a \"sequence\" type such as list or tuple. Support for non-sequence iterables such as generators is deprecated as of NumPy 1.16 and will raise an error in the future.\n",
      "  return np.vstack(\n"
     ]
    },
    {
     "name": "stdout",
     "output_type": "stream",
     "text": [
      "92/92 - 0s - 144ms/epoch - 2ms/step\n",
      "92/92 - 0s - 277ms/epoch - 3ms/step\n",
      "[('noEnergy', 0.0, 0.84), ('female', 0.84, 12.6), ('noEnergy', 12.6, 13.4), ('female', 13.4, 22.86), ('noEnergy', 22.86, 23.98), ('female', 23.98, 39.52), ('noEnergy', 39.52, 40.160000000000004), ('female', 40.160000000000004, 62.02)]\n",
      "/tmp/wav/tv-ART-104726.wav\n"
     ]
    },
    {
     "name": "stderr",
     "output_type": "stream",
     "text": [
      "/home/ddoukhan/git_repos/davidreda/env/lib/python3.10/site-packages/pyannote/algorithms/utils/viterbi.py:86: FutureWarning: arrays to stack must be passed as a \"sequence\" type such as list or tuple. Support for non-sequence iterables such as generators is deprecated as of NumPy 1.16 and will raise an error in the future.\n",
      "  return np.vstack(\n",
      "/home/ddoukhan/git_repos/davidreda/env/lib/python3.10/site-packages/pyannote/algorithms/utils/viterbi.py:95: FutureWarning: arrays to stack must be passed as a \"sequence\" type such as list or tuple. Support for non-sequence iterables such as generators is deprecated as of NumPy 1.16 and will raise an error in the future.\n",
      "  return np.vstack(\n"
     ]
    },
    {
     "name": "stdout",
     "output_type": "stream",
     "text": [
      "95/95 - 0s - 152ms/epoch - 2ms/step\n",
      "50/50 - 0s - 154ms/epoch - 3ms/step\n",
      "[('male', 0.0, 13.08), ('music', 13.08, 20.2), ('noise', 20.2, 21.78), ('male', 21.78, 33.64), ('music', 33.64, 35.0), ('male', 35.0, 37.480000000000004), ('music', 37.480000000000004, 52.26), ('male', 52.26, 56.44), ('music', 56.44, 60.28)]\n",
      "/tmp/wav/tv-M6_-231052.wav\n"
     ]
    },
    {
     "name": "stderr",
     "output_type": "stream",
     "text": [
      "/home/ddoukhan/git_repos/davidreda/env/lib/python3.10/site-packages/pyannote/algorithms/utils/viterbi.py:86: FutureWarning: arrays to stack must be passed as a \"sequence\" type such as list or tuple. Support for non-sequence iterables such as generators is deprecated as of NumPy 1.16 and will raise an error in the future.\n",
      "  return np.vstack(\n",
      "/home/ddoukhan/git_repos/davidreda/env/lib/python3.10/site-packages/pyannote/algorithms/utils/viterbi.py:95: FutureWarning: arrays to stack must be passed as a \"sequence\" type such as list or tuple. Support for non-sequence iterables such as generators is deprecated as of NumPy 1.16 and will raise an error in the future.\n",
      "  return np.vstack(\n"
     ]
    },
    {
     "name": "stdout",
     "output_type": "stream",
     "text": [
      "95/95 - 0s - 152ms/epoch - 2ms/step\n",
      "95/95 - 0s - 288ms/epoch - 3ms/step\n",
      "[('female', 0.0, 3.06), ('male', 3.06, 6.5600000000000005), ('female', 6.5600000000000005, 8.36), ('male', 8.36, 11.02), ('female', 11.02, 14.5), ('male', 14.5, 20.3), ('female', 20.3, 24.560000000000002), ('male', 24.560000000000002, 26.88), ('female', 26.88, 45.74), ('male', 45.74, 47.26), ('female', 47.26, 60.26)]\n",
      "/tmp/wav/tv-FR4-034901.wav\n"
     ]
    },
    {
     "name": "stderr",
     "output_type": "stream",
     "text": [
      "/home/ddoukhan/git_repos/davidreda/env/lib/python3.10/site-packages/pyannote/algorithms/utils/viterbi.py:86: FutureWarning: arrays to stack must be passed as a \"sequence\" type such as list or tuple. Support for non-sequence iterables such as generators is deprecated as of NumPy 1.16 and will raise an error in the future.\n",
      "  return np.vstack(\n",
      "/home/ddoukhan/git_repos/davidreda/env/lib/python3.10/site-packages/pyannote/algorithms/utils/viterbi.py:95: FutureWarning: arrays to stack must be passed as a \"sequence\" type such as list or tuple. Support for non-sequence iterables such as generators is deprecated as of NumPy 1.16 and will raise an error in the future.\n",
      "  return np.vstack(\n"
     ]
    },
    {
     "name": "stdout",
     "output_type": "stream",
     "text": [
      "91/91 - 0s - 226ms/epoch - 2ms/step\n",
      "2/2 - 0s - 126ms/epoch - 63ms/step\n",
      "[('music', 0.0, 1.42), ('noEnergy', 1.42, 3.34), ('music', 3.34, 7.04), ('noEnergy', 7.04, 7.5), ('music', 7.5, 10.76), ('noEnergy', 10.76, 11.200000000000001), ('music', 11.200000000000001, 14.040000000000001), ('noEnergy', 14.040000000000001, 14.52), ('female', 14.52, 15.22), ('music', 15.22, 22.44), ('noise', 22.44, 25.18), ('music', 25.18, 42.300000000000004), ('noise', 42.300000000000004, 47.5), ('music', 47.5, 61.24)]\n",
      "/tmp/wav/tv-C+N-231002.wav\n"
     ]
    },
    {
     "name": "stderr",
     "output_type": "stream",
     "text": [
      "/home/ddoukhan/git_repos/davidreda/env/lib/python3.10/site-packages/pyannote/algorithms/utils/viterbi.py:86: FutureWarning: arrays to stack must be passed as a \"sequence\" type such as list or tuple. Support for non-sequence iterables such as generators is deprecated as of NumPy 1.16 and will raise an error in the future.\n",
      "  return np.vstack(\n",
      "/home/ddoukhan/git_repos/davidreda/env/lib/python3.10/site-packages/pyannote/algorithms/utils/viterbi.py:95: FutureWarning: arrays to stack must be passed as a \"sequence\" type such as list or tuple. Support for non-sequence iterables such as generators is deprecated as of NumPy 1.16 and will raise an error in the future.\n",
      "  return np.vstack(\n"
     ]
    },
    {
     "name": "stdout",
     "output_type": "stream",
     "text": [
      "92/92 - 0s - 222ms/epoch - 2ms/step\n",
      "92/92 - 0s - 278ms/epoch - 3ms/step\n",
      "[('male', 0.0, 53.980000000000004), ('noEnergy', 53.980000000000004, 55.6), ('male', 55.6, 59.14), ('noEnergy', 59.14, 59.86), ('male', 59.86, 61.120000000000005)]\n",
      "/tmp/wav/tv-C+N-191413.wav\n"
     ]
    },
    {
     "name": "stderr",
     "output_type": "stream",
     "text": [
      "/home/ddoukhan/git_repos/davidreda/env/lib/python3.10/site-packages/pyannote/algorithms/utils/viterbi.py:86: FutureWarning: arrays to stack must be passed as a \"sequence\" type such as list or tuple. Support for non-sequence iterables such as generators is deprecated as of NumPy 1.16 and will raise an error in the future.\n",
      "  return np.vstack(\n",
      "/home/ddoukhan/git_repos/davidreda/env/lib/python3.10/site-packages/pyannote/algorithms/utils/viterbi.py:95: FutureWarning: arrays to stack must be passed as a \"sequence\" type such as list or tuple. Support for non-sequence iterables such as generators is deprecated as of NumPy 1.16 and will raise an error in the future.\n",
      "  return np.vstack(\n"
     ]
    },
    {
     "name": "stdout",
     "output_type": "stream",
     "text": [
      "94/94 - 0s - 151ms/epoch - 2ms/step\n",
      "94/94 - 0s - 289ms/epoch - 3ms/step\n",
      "[('male', 0.0, 50.02), ('noEnergy', 50.02, 50.86), ('female', 50.86, 53.58), ('male', 53.58, 60.480000000000004)]\n",
      "/tmp/wav/tv-C+N-035413.wav\n"
     ]
    },
    {
     "name": "stderr",
     "output_type": "stream",
     "text": [
      "/home/ddoukhan/git_repos/davidreda/env/lib/python3.10/site-packages/pyannote/algorithms/utils/viterbi.py:86: FutureWarning: arrays to stack must be passed as a \"sequence\" type such as list or tuple. Support for non-sequence iterables such as generators is deprecated as of NumPy 1.16 and will raise an error in the future.\n",
      "  return np.vstack(\n",
      "/home/ddoukhan/git_repos/davidreda/env/lib/python3.10/site-packages/pyannote/algorithms/utils/viterbi.py:95: FutureWarning: arrays to stack must be passed as a \"sequence\" type such as list or tuple. Support for non-sequence iterables such as generators is deprecated as of NumPy 1.16 and will raise an error in the future.\n",
      "  return np.vstack(\n"
     ]
    },
    {
     "name": "stdout",
     "output_type": "stream",
     "text": [
      "96/96 - 0s - 243ms/epoch - 3ms/step\n",
      "96/96 - 0s - 289ms/epoch - 3ms/step\n",
      "[('male', 0.0, 61.36)]\n",
      "/tmp/wav/tv-FR5-102414.wav\n"
     ]
    },
    {
     "name": "stderr",
     "output_type": "stream",
     "text": [
      "/home/ddoukhan/git_repos/davidreda/env/lib/python3.10/site-packages/pyannote/algorithms/utils/viterbi.py:86: FutureWarning: arrays to stack must be passed as a \"sequence\" type such as list or tuple. Support for non-sequence iterables such as generators is deprecated as of NumPy 1.16 and will raise an error in the future.\n",
      "  return np.vstack(\n",
      "/home/ddoukhan/git_repos/davidreda/env/lib/python3.10/site-packages/pyannote/algorithms/utils/viterbi.py:95: FutureWarning: arrays to stack must be passed as a \"sequence\" type such as list or tuple. Support for non-sequence iterables such as generators is deprecated as of NumPy 1.16 and will raise an error in the future.\n",
      "  return np.vstack(\n"
     ]
    },
    {
     "name": "stdout",
     "output_type": "stream",
     "text": [
      "96/96 - 0s - 146ms/epoch - 2ms/step\n",
      "96/96 - 0s - 286ms/epoch - 3ms/step\n",
      "[('female', 0.0, 11.66), ('noEnergy', 11.66, 12.1), ('female', 12.1, 14.3), ('male', 14.3, 28.16), ('female', 28.16, 41.1), ('male', 41.1, 45.800000000000004), ('female', 45.800000000000004, 49.44), ('male', 49.44, 51.14), ('female', 51.14, 57.1), ('male', 57.1, 58.56), ('female', 58.56, 59.82), ('male', 59.82, 61.84)]\n",
      "/tmp/wav/tv-FR5-120828.wav\n"
     ]
    },
    {
     "name": "stderr",
     "output_type": "stream",
     "text": [
      "/home/ddoukhan/git_repos/davidreda/env/lib/python3.10/site-packages/pyannote/algorithms/utils/viterbi.py:86: FutureWarning: arrays to stack must be passed as a \"sequence\" type such as list or tuple. Support for non-sequence iterables such as generators is deprecated as of NumPy 1.16 and will raise an error in the future.\n",
      "  return np.vstack(\n",
      "/home/ddoukhan/git_repos/davidreda/env/lib/python3.10/site-packages/pyannote/algorithms/utils/viterbi.py:95: FutureWarning: arrays to stack must be passed as a \"sequence\" type such as list or tuple. Support for non-sequence iterables such as generators is deprecated as of NumPy 1.16 and will raise an error in the future.\n",
      "  return np.vstack(\n"
     ]
    },
    {
     "name": "stdout",
     "output_type": "stream",
     "text": [
      "97/97 - 0s - 150ms/epoch - 2ms/step\n",
      "83/83 - 0s - 249ms/epoch - 3ms/step\n",
      "[('male', 0.0, 41.56), ('music', 41.56, 46.38), ('male', 46.38, 57.84), ('music', 57.84, 61.84)]\n",
      "/tmp/wav/tv-C+_-112835.wav\n"
     ]
    },
    {
     "name": "stderr",
     "output_type": "stream",
     "text": [
      "/home/ddoukhan/git_repos/davidreda/env/lib/python3.10/site-packages/pyannote/algorithms/utils/viterbi.py:86: FutureWarning: arrays to stack must be passed as a \"sequence\" type such as list or tuple. Support for non-sequence iterables such as generators is deprecated as of NumPy 1.16 and will raise an error in the future.\n",
      "  return np.vstack(\n",
      "/home/ddoukhan/git_repos/davidreda/env/lib/python3.10/site-packages/pyannote/algorithms/utils/viterbi.py:95: FutureWarning: arrays to stack must be passed as a \"sequence\" type such as list or tuple. Support for non-sequence iterables such as generators is deprecated as of NumPy 1.16 and will raise an error in the future.\n",
      "  return np.vstack(\n"
     ]
    },
    {
     "name": "stdout",
     "output_type": "stream",
     "text": [
      "95/95 - 0s - 147ms/epoch - 2ms/step\n",
      "61/61 - 0s - 190ms/epoch - 3ms/step\n",
      "[('male', 0.0, 28.900000000000002), ('music', 28.900000000000002, 38.300000000000004), ('noise', 38.300000000000004, 43.480000000000004), ('music', 43.480000000000004, 47.0), ('noise', 47.0, 50.76), ('male', 50.76, 60.74)]\n",
      "/tmp/wav/tv-BFT-162139.wav\n"
     ]
    },
    {
     "name": "stderr",
     "output_type": "stream",
     "text": [
      "/home/ddoukhan/git_repos/davidreda/env/lib/python3.10/site-packages/pyannote/algorithms/utils/viterbi.py:86: FutureWarning: arrays to stack must be passed as a \"sequence\" type such as list or tuple. Support for non-sequence iterables such as generators is deprecated as of NumPy 1.16 and will raise an error in the future.\n",
      "  return np.vstack(\n",
      "/home/ddoukhan/git_repos/davidreda/env/lib/python3.10/site-packages/pyannote/algorithms/utils/viterbi.py:95: FutureWarning: arrays to stack must be passed as a \"sequence\" type such as list or tuple. Support for non-sequence iterables such as generators is deprecated as of NumPy 1.16 and will raise an error in the future.\n",
      "  return np.vstack(\n"
     ]
    },
    {
     "name": "stdout",
     "output_type": "stream",
     "text": [
      "92/92 - 0s - 228ms/epoch - 2ms/step\n",
      "82/82 - 0s - 254ms/epoch - 3ms/step\n",
      "[('male', 0.0, 2.86), ('noise', 2.86, 5.82), ('male', 5.82, 10.82), ('noise', 10.82, 12.24), ('male', 12.24, 22.8), ('noise', 22.8, 24.76), ('male', 24.76, 40.14), ('noEnergy', 40.14, 40.72), ('male', 40.72, 43.72), ('noEnergy', 43.72, 44.300000000000004), ('male', 44.300000000000004, 48.04), ('noEnergy', 48.04, 48.86), ('male', 48.86, 52.800000000000004), ('noEnergy', 52.800000000000004, 53.5), ('male', 53.5, 55.18), ('noEnergy', 55.18, 55.68), ('male', 55.68, 57.56), ('noEnergy', 57.56, 57.96), ('male', 57.96, 62.02)]\n",
      "/tmp/wav/tv-TF1-183922.wav\n"
     ]
    },
    {
     "name": "stderr",
     "output_type": "stream",
     "text": [
      "/home/ddoukhan/git_repos/davidreda/env/lib/python3.10/site-packages/pyannote/algorithms/utils/viterbi.py:86: FutureWarning: arrays to stack must be passed as a \"sequence\" type such as list or tuple. Support for non-sequence iterables such as generators is deprecated as of NumPy 1.16 and will raise an error in the future.\n",
      "  return np.vstack(\n",
      "/home/ddoukhan/git_repos/davidreda/env/lib/python3.10/site-packages/pyannote/algorithms/utils/viterbi.py:95: FutureWarning: arrays to stack must be passed as a \"sequence\" type such as list or tuple. Support for non-sequence iterables such as generators is deprecated as of NumPy 1.16 and will raise an error in the future.\n",
      "  return np.vstack(\n"
     ]
    },
    {
     "name": "stdout",
     "output_type": "stream",
     "text": [
      "95/95 - 0s - 163ms/epoch - 2ms/step\n",
      "20/20 - 0s - 67ms/epoch - 3ms/step\n",
      "[('male', 0.0, 2.04), ('female', 2.04, 3.58), ('male', 3.58, 12.8), ('music', 12.8, 50.9), ('noise', 50.9, 57.94), ('music', 57.94, 60.56)]\n",
      "/tmp/wav/tv-FR4-100835.wav\n"
     ]
    },
    {
     "name": "stderr",
     "output_type": "stream",
     "text": [
      "/home/ddoukhan/git_repos/davidreda/env/lib/python3.10/site-packages/pyannote/algorithms/utils/viterbi.py:86: FutureWarning: arrays to stack must be passed as a \"sequence\" type such as list or tuple. Support for non-sequence iterables such as generators is deprecated as of NumPy 1.16 and will raise an error in the future.\n",
      "  return np.vstack(\n",
      "/home/ddoukhan/git_repos/davidreda/env/lib/python3.10/site-packages/pyannote/algorithms/utils/viterbi.py:95: FutureWarning: arrays to stack must be passed as a \"sequence\" type such as list or tuple. Support for non-sequence iterables such as generators is deprecated as of NumPy 1.16 and will raise an error in the future.\n",
      "  return np.vstack(\n"
     ]
    },
    {
     "name": "stdout",
     "output_type": "stream",
     "text": [
      "97/97 - 0s - 155ms/epoch - 2ms/step\n",
      "97/97 - 0s - 292ms/epoch - 3ms/step\n",
      "[('female', 0.0, 61.620000000000005)]\n",
      "/tmp/wav/tv-FR3-003727.wav\n"
     ]
    },
    {
     "name": "stderr",
     "output_type": "stream",
     "text": [
      "/home/ddoukhan/git_repos/davidreda/env/lib/python3.10/site-packages/pyannote/algorithms/utils/viterbi.py:86: FutureWarning: arrays to stack must be passed as a \"sequence\" type such as list or tuple. Support for non-sequence iterables such as generators is deprecated as of NumPy 1.16 and will raise an error in the future.\n",
      "  return np.vstack(\n",
      "/home/ddoukhan/git_repos/davidreda/env/lib/python3.10/site-packages/pyannote/algorithms/utils/viterbi.py:95: FutureWarning: arrays to stack must be passed as a \"sequence\" type such as list or tuple. Support for non-sequence iterables such as generators is deprecated as of NumPy 1.16 and will raise an error in the future.\n",
      "  return np.vstack(\n"
     ]
    },
    {
     "name": "stdout",
     "output_type": "stream",
     "text": [
      "95/95 - 0s - 150ms/epoch - 2ms/step\n",
      "74/74 - 0s - 224ms/epoch - 3ms/step\n",
      "[('female', 0.0, 5.8), ('music', 5.8, 17.28), ('female', 17.28, 27.28), ('noise', 27.28, 29.44), ('male', 29.44, 52.06), ('female', 52.06, 57.2), ('male', 57.2, 60.76)]\n",
      "/tmp/wav/radio-FIF-222221.wav\n"
     ]
    },
    {
     "name": "stderr",
     "output_type": "stream",
     "text": [
      "/home/ddoukhan/git_repos/davidreda/env/lib/python3.10/site-packages/pyannote/algorithms/utils/viterbi.py:86: FutureWarning: arrays to stack must be passed as a \"sequence\" type such as list or tuple. Support for non-sequence iterables such as generators is deprecated as of NumPy 1.16 and will raise an error in the future.\n",
      "  return np.vstack(\n",
      "/home/ddoukhan/git_repos/davidreda/env/lib/python3.10/site-packages/pyannote/algorithms/utils/viterbi.py:95: FutureWarning: arrays to stack must be passed as a \"sequence\" type such as list or tuple. Support for non-sequence iterables such as generators is deprecated as of NumPy 1.16 and will raise an error in the future.\n",
      "  return np.vstack(\n"
     ]
    },
    {
     "name": "stdout",
     "output_type": "stream",
     "text": [
      "94/94 - 0s - 147ms/epoch - 2ms/step\n",
      "94/94 - 0s - 282ms/epoch - 3ms/step\n",
      "[('male', 0.0, 60.0)]\n",
      "/tmp/wav/radio-FIT-141155.wav\n"
     ]
    },
    {
     "name": "stderr",
     "output_type": "stream",
     "text": [
      "/home/ddoukhan/git_repos/davidreda/env/lib/python3.10/site-packages/pyannote/algorithms/utils/viterbi.py:86: FutureWarning: arrays to stack must be passed as a \"sequence\" type such as list or tuple. Support for non-sequence iterables such as generators is deprecated as of NumPy 1.16 and will raise an error in the future.\n",
      "  return np.vstack(\n",
      "/home/ddoukhan/git_repos/davidreda/env/lib/python3.10/site-packages/pyannote/algorithms/utils/viterbi.py:95: FutureWarning: arrays to stack must be passed as a \"sequence\" type such as list or tuple. Support for non-sequence iterables such as generators is deprecated as of NumPy 1.16 and will raise an error in the future.\n",
      "  return np.vstack(\n"
     ]
    },
    {
     "name": "stdout",
     "output_type": "stream",
     "text": [
      "94/94 - 0s - 150ms/epoch - 2ms/step\n",
      "94/94 - 0s - 283ms/epoch - 3ms/step\n",
      "[('female', 0.0, 37.32), ('male', 37.32, 52.04), ('noEnergy', 52.04, 52.42), ('male', 52.42, 60.02)]\n",
      "/tmp/wav/tv-GUL-154214.wav\n"
     ]
    },
    {
     "name": "stderr",
     "output_type": "stream",
     "text": [
      "/home/ddoukhan/git_repos/davidreda/env/lib/python3.10/site-packages/pyannote/algorithms/utils/viterbi.py:86: FutureWarning: arrays to stack must be passed as a \"sequence\" type such as list or tuple. Support for non-sequence iterables such as generators is deprecated as of NumPy 1.16 and will raise an error in the future.\n",
      "  return np.vstack(\n",
      "/home/ddoukhan/git_repos/davidreda/env/lib/python3.10/site-packages/pyannote/algorithms/utils/viterbi.py:95: FutureWarning: arrays to stack must be passed as a \"sequence\" type such as list or tuple. Support for non-sequence iterables such as generators is deprecated as of NumPy 1.16 and will raise an error in the future.\n",
      "  return np.vstack(\n"
     ]
    },
    {
     "name": "stdout",
     "output_type": "stream",
     "text": [
      "96/96 - 0s - 152ms/epoch - 2ms/step\n",
      "11/11 - 0s - 48ms/epoch - 4ms/step\n",
      "[('music', 0.0, 0.64), ('noise', 0.64, 4.72), ('music', 4.72, 29.72), ('noise', 29.72, 31.560000000000002), ('music', 31.560000000000002, 42.22), ('female', 42.22, 43.92), ('male', 43.92, 45.36), ('noise', 45.36, 51.46), ('music', 51.46, 54.34), ('female', 54.34, 57.82), ('noise', 57.82, 61.28)]\n",
      "/tmp/wav/tv-F24-212253.wav\n"
     ]
    },
    {
     "name": "stderr",
     "output_type": "stream",
     "text": [
      "/home/ddoukhan/git_repos/davidreda/env/lib/python3.10/site-packages/pyannote/algorithms/utils/viterbi.py:86: FutureWarning: arrays to stack must be passed as a \"sequence\" type such as list or tuple. Support for non-sequence iterables such as generators is deprecated as of NumPy 1.16 and will raise an error in the future.\n",
      "  return np.vstack(\n",
      "/home/ddoukhan/git_repos/davidreda/env/lib/python3.10/site-packages/pyannote/algorithms/utils/viterbi.py:95: FutureWarning: arrays to stack must be passed as a \"sequence\" type such as list or tuple. Support for non-sequence iterables such as generators is deprecated as of NumPy 1.16 and will raise an error in the future.\n",
      "  return np.vstack(\n"
     ]
    },
    {
     "name": "stdout",
     "output_type": "stream",
     "text": [
      "95/95 - 0s - 218ms/epoch - 2ms/step\n",
      "37/37 - 0s - 118ms/epoch - 3ms/step\n",
      "[('music', 0.0, 20.72), ('male', 20.72, 43.96), ('music', 43.96, 60.18)]\n",
      "/tmp/wav/tv-F24-235242.wav\n"
     ]
    },
    {
     "name": "stderr",
     "output_type": "stream",
     "text": [
      "/home/ddoukhan/git_repos/davidreda/env/lib/python3.10/site-packages/pyannote/algorithms/utils/viterbi.py:86: FutureWarning: arrays to stack must be passed as a \"sequence\" type such as list or tuple. Support for non-sequence iterables such as generators is deprecated as of NumPy 1.16 and will raise an error in the future.\n",
      "  return np.vstack(\n",
      "/home/ddoukhan/git_repos/davidreda/env/lib/python3.10/site-packages/pyannote/algorithms/utils/viterbi.py:95: FutureWarning: arrays to stack must be passed as a \"sequence\" type such as list or tuple. Support for non-sequence iterables such as generators is deprecated as of NumPy 1.16 and will raise an error in the future.\n",
      "  return np.vstack(\n"
     ]
    },
    {
     "name": "stdout",
     "output_type": "stream",
     "text": [
      "95/95 - 0s - 157ms/epoch - 2ms/step\n",
      "95/95 - 0s - 418ms/epoch - 4ms/step\n",
      "[('noEnergy', 0.0, 0.32), ('male', 0.32, 32.8), ('female', 32.8, 35.72), ('male', 35.72, 56.34), ('noEnergy', 56.34, 56.82), ('male', 56.82, 61.300000000000004)]\n",
      "/tmp/wav/tv-C+_-134103.wav\n"
     ]
    },
    {
     "name": "stderr",
     "output_type": "stream",
     "text": [
      "/home/ddoukhan/git_repos/davidreda/env/lib/python3.10/site-packages/pyannote/algorithms/utils/viterbi.py:86: FutureWarning: arrays to stack must be passed as a \"sequence\" type such as list or tuple. Support for non-sequence iterables such as generators is deprecated as of NumPy 1.16 and will raise an error in the future.\n",
      "  return np.vstack(\n",
      "/home/ddoukhan/git_repos/davidreda/env/lib/python3.10/site-packages/pyannote/algorithms/utils/viterbi.py:95: FutureWarning: arrays to stack must be passed as a \"sequence\" type such as list or tuple. Support for non-sequence iterables such as generators is deprecated as of NumPy 1.16 and will raise an error in the future.\n",
      "  return np.vstack(\n"
     ]
    },
    {
     "name": "stdout",
     "output_type": "stream",
     "text": [
      "97/97 - 0s - 153ms/epoch - 2ms/step\n",
      "61/61 - 0s - 187ms/epoch - 3ms/step\n",
      "[('music', 0.0, 2.6), ('female', 2.6, 11.38), ('music', 11.38, 13.700000000000001), ('female', 13.700000000000001, 25.12), ('male', 25.12, 27.94), ('female', 27.94, 29.96), ('music', 29.96, 32.64), ('female', 32.64, 35.6), ('male', 35.6, 38.12), ('female', 38.12, 39.92), ('music', 39.92, 55.300000000000004), ('male', 55.300000000000004, 61.58)]\n",
      "/tmp/wav/radio-MUV-031209.wav\n"
     ]
    },
    {
     "name": "stderr",
     "output_type": "stream",
     "text": [
      "/home/ddoukhan/git_repos/davidreda/env/lib/python3.10/site-packages/pyannote/algorithms/utils/viterbi.py:86: FutureWarning: arrays to stack must be passed as a \"sequence\" type such as list or tuple. Support for non-sequence iterables such as generators is deprecated as of NumPy 1.16 and will raise an error in the future.\n",
      "  return np.vstack(\n",
      "/home/ddoukhan/git_repos/davidreda/env/lib/python3.10/site-packages/pyannote/algorithms/utils/viterbi.py:95: FutureWarning: arrays to stack must be passed as a \"sequence\" type such as list or tuple. Support for non-sequence iterables such as generators is deprecated as of NumPy 1.16 and will raise an error in the future.\n",
      "  return np.vstack(\n"
     ]
    },
    {
     "name": "stdout",
     "output_type": "stream",
     "text": [
      "94/94 - 0s - 147ms/epoch - 2ms/step\n",
      "[('music', 0.0, 60.02)]\n",
      "/tmp/wav/radio-MUV-091537.wav\n"
     ]
    },
    {
     "name": "stderr",
     "output_type": "stream",
     "text": [
      "/home/ddoukhan/git_repos/davidreda/env/lib/python3.10/site-packages/pyannote/algorithms/utils/viterbi.py:86: FutureWarning: arrays to stack must be passed as a \"sequence\" type such as list or tuple. Support for non-sequence iterables such as generators is deprecated as of NumPy 1.16 and will raise an error in the future.\n",
      "  return np.vstack(\n",
      "/home/ddoukhan/git_repos/davidreda/env/lib/python3.10/site-packages/pyannote/algorithms/utils/viterbi.py:95: FutureWarning: arrays to stack must be passed as a \"sequence\" type such as list or tuple. Support for non-sequence iterables such as generators is deprecated as of NumPy 1.16 and will raise an error in the future.\n",
      "  return np.vstack(\n"
     ]
    },
    {
     "name": "stdout",
     "output_type": "stream",
     "text": [
      "94/94 - 0s - 148ms/epoch - 2ms/step\n",
      "27/27 - 0s - 88ms/epoch - 3ms/step\n",
      "[('music', 0.0, 37.76), ('male', 37.76, 54.9), ('music', 54.9, 60.02)]\n",
      "/tmp/wav/radio-FBL-012717.wav\n"
     ]
    },
    {
     "name": "stderr",
     "output_type": "stream",
     "text": [
      "/home/ddoukhan/git_repos/davidreda/env/lib/python3.10/site-packages/pyannote/algorithms/utils/viterbi.py:86: FutureWarning: arrays to stack must be passed as a \"sequence\" type such as list or tuple. Support for non-sequence iterables such as generators is deprecated as of NumPy 1.16 and will raise an error in the future.\n",
      "  return np.vstack(\n",
      "/home/ddoukhan/git_repos/davidreda/env/lib/python3.10/site-packages/pyannote/algorithms/utils/viterbi.py:95: FutureWarning: arrays to stack must be passed as a \"sequence\" type such as list or tuple. Support for non-sequence iterables such as generators is deprecated as of NumPy 1.16 and will raise an error in the future.\n",
      "  return np.vstack(\n"
     ]
    },
    {
     "name": "stdout",
     "output_type": "stream",
     "text": [
      "94/94 - 0s - 150ms/epoch - 2ms/step\n",
      "[('music', 0.0, 60.0)]\n",
      "/tmp/wav/radio-FCR-083707.wav\n"
     ]
    },
    {
     "name": "stderr",
     "output_type": "stream",
     "text": [
      "/home/ddoukhan/git_repos/davidreda/env/lib/python3.10/site-packages/pyannote/algorithms/utils/viterbi.py:86: FutureWarning: arrays to stack must be passed as a \"sequence\" type such as list or tuple. Support for non-sequence iterables such as generators is deprecated as of NumPy 1.16 and will raise an error in the future.\n",
      "  return np.vstack(\n",
      "/home/ddoukhan/git_repos/davidreda/env/lib/python3.10/site-packages/pyannote/algorithms/utils/viterbi.py:95: FutureWarning: arrays to stack must be passed as a \"sequence\" type such as list or tuple. Support for non-sequence iterables such as generators is deprecated as of NumPy 1.16 and will raise an error in the future.\n",
      "  return np.vstack(\n"
     ]
    },
    {
     "name": "stdout",
     "output_type": "stream",
     "text": [
      "94/94 - 0s - 151ms/epoch - 2ms/step\n",
      "94/94 - 0s - 281ms/epoch - 3ms/step\n",
      "[('male', 0.0, 60.02)]\n",
      "/tmp/wav/tv-LCI-142245.wav\n"
     ]
    },
    {
     "name": "stderr",
     "output_type": "stream",
     "text": [
      "/home/ddoukhan/git_repos/davidreda/env/lib/python3.10/site-packages/pyannote/algorithms/utils/viterbi.py:86: FutureWarning: arrays to stack must be passed as a \"sequence\" type such as list or tuple. Support for non-sequence iterables such as generators is deprecated as of NumPy 1.16 and will raise an error in the future.\n",
      "  return np.vstack(\n",
      "/home/ddoukhan/git_repos/davidreda/env/lib/python3.10/site-packages/pyannote/algorithms/utils/viterbi.py:95: FutureWarning: arrays to stack must be passed as a \"sequence\" type such as list or tuple. Support for non-sequence iterables such as generators is deprecated as of NumPy 1.16 and will raise an error in the future.\n",
      "  return np.vstack(\n"
     ]
    },
    {
     "name": "stdout",
     "output_type": "stream",
     "text": [
      "91/91 - 0s - 148ms/epoch - 2ms/step\n",
      "55/55 - 0s - 300ms/epoch - 5ms/step\n",
      "[('female', 0.0, 24.740000000000002), ('music', 24.740000000000002, 30.080000000000002), ('noEnergy', 30.080000000000002, 31.3), ('music', 31.3, 32.82), ('noEnergy', 32.82, 33.2), ('music', 33.2, 38.300000000000004), ('male', 38.300000000000004, 48.2), ('noEnergy', 48.2, 48.74), ('music', 48.74, 54.36), ('noise', 54.36, 58.54), ('noEnergy', 58.54, 59.76), ('noise', 59.76, 61.0)]\n",
      "/tmp/wav/radio-FIP-063229.wav\n"
     ]
    },
    {
     "name": "stderr",
     "output_type": "stream",
     "text": [
      "/home/ddoukhan/git_repos/davidreda/env/lib/python3.10/site-packages/pyannote/algorithms/utils/viterbi.py:86: FutureWarning: arrays to stack must be passed as a \"sequence\" type such as list or tuple. Support for non-sequence iterables such as generators is deprecated as of NumPy 1.16 and will raise an error in the future.\n",
      "  return np.vstack(\n",
      "/home/ddoukhan/git_repos/davidreda/env/lib/python3.10/site-packages/pyannote/algorithms/utils/viterbi.py:95: FutureWarning: arrays to stack must be passed as a \"sequence\" type such as list or tuple. Support for non-sequence iterables such as generators is deprecated as of NumPy 1.16 and will raise an error in the future.\n",
      "  return np.vstack(\n"
     ]
    },
    {
     "name": "stdout",
     "output_type": "stream",
     "text": [
      "94/94 - 0s - 148ms/epoch - 2ms/step\n",
      "[('music', 0.0, 60.0)]\n",
      "/tmp/wav/tv-F24-125747.wav\n"
     ]
    },
    {
     "name": "stderr",
     "output_type": "stream",
     "text": [
      "/home/ddoukhan/git_repos/davidreda/env/lib/python3.10/site-packages/pyannote/algorithms/utils/viterbi.py:86: FutureWarning: arrays to stack must be passed as a \"sequence\" type such as list or tuple. Support for non-sequence iterables such as generators is deprecated as of NumPy 1.16 and will raise an error in the future.\n",
      "  return np.vstack(\n",
      "/home/ddoukhan/git_repos/davidreda/env/lib/python3.10/site-packages/pyannote/algorithms/utils/viterbi.py:95: FutureWarning: arrays to stack must be passed as a \"sequence\" type such as list or tuple. Support for non-sequence iterables such as generators is deprecated as of NumPy 1.16 and will raise an error in the future.\n",
      "  return np.vstack(\n"
     ]
    },
    {
     "name": "stdout",
     "output_type": "stream",
     "text": [
      "92/92 - 0s - 147ms/epoch - 2ms/step\n",
      "92/92 - 0s - 275ms/epoch - 3ms/step\n",
      "[('female', 0.0, 15.4), ('male', 15.4, 15.96), ('noEnergy', 15.96, 16.78), ('male', 16.78, 17.12), ('noEnergy', 17.12, 17.6), ('male', 17.6, 17.98), ('noEnergy', 17.98, 18.54), ('female', 18.54, 19.16), ('noEnergy', 19.16, 19.84), ('male', 19.84, 20.46), ('female', 20.46, 26.44), ('male', 26.44, 27.5), ('noEnergy', 27.5, 27.96), ('male', 27.96, 29.560000000000002), ('female', 29.560000000000002, 40.160000000000004), ('male', 40.160000000000004, 41.06), ('noEnergy', 41.06, 41.46), ('female', 41.46, 55.36), ('male', 55.36, 57.06), ('female', 57.06, 61.92)]\n",
      "/tmp/wav/tv-FR5-222424.wav\n"
     ]
    },
    {
     "name": "stderr",
     "output_type": "stream",
     "text": [
      "/home/ddoukhan/git_repos/davidreda/env/lib/python3.10/site-packages/pyannote/algorithms/utils/viterbi.py:86: FutureWarning: arrays to stack must be passed as a \"sequence\" type such as list or tuple. Support for non-sequence iterables such as generators is deprecated as of NumPy 1.16 and will raise an error in the future.\n",
      "  return np.vstack(\n",
      "/home/ddoukhan/git_repos/davidreda/env/lib/python3.10/site-packages/pyannote/algorithms/utils/viterbi.py:95: FutureWarning: arrays to stack must be passed as a \"sequence\" type such as list or tuple. Support for non-sequence iterables such as generators is deprecated as of NumPy 1.16 and will raise an error in the future.\n",
      "  return np.vstack(\n"
     ]
    },
    {
     "name": "stdout",
     "output_type": "stream",
     "text": [
      "95/95 - 0s - 149ms/epoch - 2ms/step\n",
      "57/57 - 0s - 173ms/epoch - 3ms/step\n",
      "[('music', 0.0, 0.76), ('male', 0.76, 6.46), ('noise', 6.46, 12.3), ('male', 12.3, 15.64), ('noise', 15.64, 23.2), ('male', 23.2, 40.56), ('noise', 40.56, 47.14), ('male', 47.14, 55.88), ('noise', 55.88, 59.120000000000005), ('male', 59.120000000000005, 60.36)]\n",
      "/tmp/wav/radio-RMC-030205.wav\n"
     ]
    },
    {
     "name": "stderr",
     "output_type": "stream",
     "text": [
      "/home/ddoukhan/git_repos/davidreda/env/lib/python3.10/site-packages/pyannote/algorithms/utils/viterbi.py:86: FutureWarning: arrays to stack must be passed as a \"sequence\" type such as list or tuple. Support for non-sequence iterables such as generators is deprecated as of NumPy 1.16 and will raise an error in the future.\n",
      "  return np.vstack(\n",
      "/home/ddoukhan/git_repos/davidreda/env/lib/python3.10/site-packages/pyannote/algorithms/utils/viterbi.py:95: FutureWarning: arrays to stack must be passed as a \"sequence\" type such as list or tuple. Support for non-sequence iterables such as generators is deprecated as of NumPy 1.16 and will raise an error in the future.\n",
      "  return np.vstack(\n"
     ]
    },
    {
     "name": "stdout",
     "output_type": "stream",
     "text": [
      "94/94 - 0s - 147ms/epoch - 2ms/step\n",
      "94/94 - 0s - 280ms/epoch - 3ms/step\n",
      "[('male', 0.0, 47.64), ('female', 47.64, 53.800000000000004), ('male', 53.800000000000004, 60.0)]\n",
      "/tmp/wav/tv-M6_-002520.wav\n"
     ]
    },
    {
     "name": "stderr",
     "output_type": "stream",
     "text": [
      "/home/ddoukhan/git_repos/davidreda/env/lib/python3.10/site-packages/pyannote/algorithms/utils/viterbi.py:86: FutureWarning: arrays to stack must be passed as a \"sequence\" type such as list or tuple. Support for non-sequence iterables such as generators is deprecated as of NumPy 1.16 and will raise an error in the future.\n",
      "  return np.vstack(\n",
      "/home/ddoukhan/git_repos/davidreda/env/lib/python3.10/site-packages/pyannote/algorithms/utils/viterbi.py:95: FutureWarning: arrays to stack must be passed as a \"sequence\" type such as list or tuple. Support for non-sequence iterables such as generators is deprecated as of NumPy 1.16 and will raise an error in the future.\n",
      "  return np.vstack(\n",
      "/home/ddoukhan/git_repos/davidreda/env/lib/python3.10/site-packages/inaSpeechSegmenter/segmenter.py:62: RuntimeWarning: invalid value encountered in subtract\n",
      "  data = (data - np.mean(data, axis=1).reshape((len(data), 1))) / np.std(data, axis=1).reshape((len(data), 1))\n",
      "/home/ddoukhan/git_repos/davidreda/env/lib/python3.10/site-packages/numpy/core/_methods.py:236: RuntimeWarning: invalid value encountered in subtract\n",
      "  x = asanyarray(arr - arrmean)\n"
     ]
    },
    {
     "name": "stdout",
     "output_type": "stream",
     "text": [
      "91/91 - 0s - 145ms/epoch - 2ms/step\n",
      "48/48 - 0s - 148ms/epoch - 3ms/step\n",
      "[('noise', 0.0, 13.72), ('male', 13.72, 17.22), ('noise', 17.22, 18.66), ('noEnergy', 18.66, 19.48), ('noise', 19.48, 23.14), ('music', 23.14, 31.720000000000002), ('female', 31.720000000000002, 39.38), ('noEnergy', 39.38, 39.980000000000004), ('female', 39.980000000000004, 58.94), ('noEnergy', 58.94, 60.480000000000004), ('male', 60.480000000000004, 60.84)]\n",
      "/tmp/wav/radio-FBL-105429.wav\n"
     ]
    },
    {
     "name": "stderr",
     "output_type": "stream",
     "text": [
      "/home/ddoukhan/git_repos/davidreda/env/lib/python3.10/site-packages/pyannote/algorithms/utils/viterbi.py:86: FutureWarning: arrays to stack must be passed as a \"sequence\" type such as list or tuple. Support for non-sequence iterables such as generators is deprecated as of NumPy 1.16 and will raise an error in the future.\n",
      "  return np.vstack(\n",
      "/home/ddoukhan/git_repos/davidreda/env/lib/python3.10/site-packages/pyannote/algorithms/utils/viterbi.py:95: FutureWarning: arrays to stack must be passed as a \"sequence\" type such as list or tuple. Support for non-sequence iterables such as generators is deprecated as of NumPy 1.16 and will raise an error in the future.\n",
      "  return np.vstack(\n"
     ]
    },
    {
     "name": "stdout",
     "output_type": "stream",
     "text": [
      "94/94 - 0s - 147ms/epoch - 2ms/step\n",
      "[('music', 0.0, 60.0)]\n",
      "/tmp/wav/tv-C+N-065324.wav\n"
     ]
    },
    {
     "name": "stderr",
     "output_type": "stream",
     "text": [
      "/home/ddoukhan/git_repos/davidreda/env/lib/python3.10/site-packages/pyannote/algorithms/utils/viterbi.py:86: FutureWarning: arrays to stack must be passed as a \"sequence\" type such as list or tuple. Support for non-sequence iterables such as generators is deprecated as of NumPy 1.16 and will raise an error in the future.\n",
      "  return np.vstack(\n",
      "/home/ddoukhan/git_repos/davidreda/env/lib/python3.10/site-packages/pyannote/algorithms/utils/viterbi.py:95: FutureWarning: arrays to stack must be passed as a \"sequence\" type such as list or tuple. Support for non-sequence iterables such as generators is deprecated as of NumPy 1.16 and will raise an error in the future.\n",
      "  return np.vstack(\n"
     ]
    },
    {
     "name": "stdout",
     "output_type": "stream",
     "text": [
      "95/95 - 0s - 148ms/epoch - 2ms/step\n",
      "95/95 - 0s - 285ms/epoch - 3ms/step\n",
      "[('male', 0.0, 60.78)]\n",
      "/tmp/wav/tv-C+_-204601.wav\n"
     ]
    },
    {
     "name": "stderr",
     "output_type": "stream",
     "text": [
      "/home/ddoukhan/git_repos/davidreda/env/lib/python3.10/site-packages/pyannote/algorithms/utils/viterbi.py:86: FutureWarning: arrays to stack must be passed as a \"sequence\" type such as list or tuple. Support for non-sequence iterables such as generators is deprecated as of NumPy 1.16 and will raise an error in the future.\n",
      "  return np.vstack(\n",
      "/home/ddoukhan/git_repos/davidreda/env/lib/python3.10/site-packages/pyannote/algorithms/utils/viterbi.py:95: FutureWarning: arrays to stack must be passed as a \"sequence\" type such as list or tuple. Support for non-sequence iterables such as generators is deprecated as of NumPy 1.16 and will raise an error in the future.\n",
      "  return np.vstack(\n"
     ]
    },
    {
     "name": "stdout",
     "output_type": "stream",
     "text": [
      "95/95 - 0s - 152ms/epoch - 2ms/step\n",
      "90/90 - 0s - 272ms/epoch - 3ms/step\n",
      "[('male', 0.0, 16.06), ('noise', 16.06, 19.580000000000002), ('male', 19.580000000000002, 25.7), ('female', 25.7, 56.980000000000004), ('male', 56.980000000000004, 60.68)]\n",
      "/tmp/wav/radio-FIF-164413.wav\n"
     ]
    },
    {
     "name": "stderr",
     "output_type": "stream",
     "text": [
      "/home/ddoukhan/git_repos/davidreda/env/lib/python3.10/site-packages/pyannote/algorithms/utils/viterbi.py:86: FutureWarning: arrays to stack must be passed as a \"sequence\" type such as list or tuple. Support for non-sequence iterables such as generators is deprecated as of NumPy 1.16 and will raise an error in the future.\n",
      "  return np.vstack(\n",
      "/home/ddoukhan/git_repos/davidreda/env/lib/python3.10/site-packages/pyannote/algorithms/utils/viterbi.py:95: FutureWarning: arrays to stack must be passed as a \"sequence\" type such as list or tuple. Support for non-sequence iterables such as generators is deprecated as of NumPy 1.16 and will raise an error in the future.\n",
      "  return np.vstack(\n"
     ]
    },
    {
     "name": "stdout",
     "output_type": "stream",
     "text": [
      "93/93 - 0s - 151ms/epoch - 2ms/step\n",
      "93/93 - 0s - 275ms/epoch - 3ms/step\n",
      "[('male', 0.0, 12.540000000000001), ('female', 12.540000000000001, 18.86), ('noEnergy', 18.86, 19.92), ('male', 19.92, 43.32), ('female', 43.32, 48.06), ('male', 48.06, 56.14), ('female', 56.14, 60.0)]\n",
      "/tmp/wav/tv-F24-055841.wav\n"
     ]
    },
    {
     "name": "stderr",
     "output_type": "stream",
     "text": [
      "/home/ddoukhan/git_repos/davidreda/env/lib/python3.10/site-packages/pyannote/algorithms/utils/viterbi.py:86: FutureWarning: arrays to stack must be passed as a \"sequence\" type such as list or tuple. Support for non-sequence iterables such as generators is deprecated as of NumPy 1.16 and will raise an error in the future.\n",
      "  return np.vstack(\n",
      "/home/ddoukhan/git_repos/davidreda/env/lib/python3.10/site-packages/pyannote/algorithms/utils/viterbi.py:95: FutureWarning: arrays to stack must be passed as a \"sequence\" type such as list or tuple. Support for non-sequence iterables such as generators is deprecated as of NumPy 1.16 and will raise an error in the future.\n",
      "  return np.vstack(\n",
      "/home/ddoukhan/git_repos/davidreda/env/lib/python3.10/site-packages/inaSpeechSegmenter/segmenter.py:62: RuntimeWarning: invalid value encountered in subtract\n",
      "  data = (data - np.mean(data, axis=1).reshape((len(data), 1))) / np.std(data, axis=1).reshape((len(data), 1))\n",
      "/home/ddoukhan/git_repos/davidreda/env/lib/python3.10/site-packages/numpy/core/_methods.py:236: RuntimeWarning: invalid value encountered in subtract\n",
      "  x = asanyarray(arr - arrmean)\n"
     ]
    },
    {
     "name": "stdout",
     "output_type": "stream",
     "text": [
      "92/92 - 0s - 146ms/epoch - 2ms/step\n",
      "75/75 - 0s - 225ms/epoch - 3ms/step\n",
      "[('music', 0.0, 8.32), ('noEnergy', 8.32, 9.120000000000001), ('male', 9.120000000000001, 22.82), ('female', 22.82, 26.3), ('music', 26.3, 28.46), ('noEnergy', 28.46, 28.98), ('female', 28.98, 54.92), ('male', 54.92, 59.36), ('noEnergy', 59.36, 60.1), ('music', 60.1, 60.4)]\n",
      "/tmp/wav/radio-FIF-103502.wav\n"
     ]
    },
    {
     "name": "stderr",
     "output_type": "stream",
     "text": [
      "/home/ddoukhan/git_repos/davidreda/env/lib/python3.10/site-packages/pyannote/algorithms/utils/viterbi.py:86: FutureWarning: arrays to stack must be passed as a \"sequence\" type such as list or tuple. Support for non-sequence iterables such as generators is deprecated as of NumPy 1.16 and will raise an error in the future.\n",
      "  return np.vstack(\n",
      "/home/ddoukhan/git_repos/davidreda/env/lib/python3.10/site-packages/pyannote/algorithms/utils/viterbi.py:95: FutureWarning: arrays to stack must be passed as a \"sequence\" type such as list or tuple. Support for non-sequence iterables such as generators is deprecated as of NumPy 1.16 and will raise an error in the future.\n",
      "  return np.vstack(\n"
     ]
    },
    {
     "name": "stdout",
     "output_type": "stream",
     "text": [
      "94/94 - 0s - 149ms/epoch - 2ms/step\n",
      "94/94 - 0s - 303ms/epoch - 3ms/step\n",
      "[('male', 0.0, 60.0)]\n",
      "/tmp/wav/radio-FIF-223325.wav\n"
     ]
    },
    {
     "name": "stderr",
     "output_type": "stream",
     "text": [
      "/home/ddoukhan/git_repos/davidreda/env/lib/python3.10/site-packages/pyannote/algorithms/utils/viterbi.py:86: FutureWarning: arrays to stack must be passed as a \"sequence\" type such as list or tuple. Support for non-sequence iterables such as generators is deprecated as of NumPy 1.16 and will raise an error in the future.\n",
      "  return np.vstack(\n",
      "/home/ddoukhan/git_repos/davidreda/env/lib/python3.10/site-packages/pyannote/algorithms/utils/viterbi.py:95: FutureWarning: arrays to stack must be passed as a \"sequence\" type such as list or tuple. Support for non-sequence iterables such as generators is deprecated as of NumPy 1.16 and will raise an error in the future.\n",
      "  return np.vstack(\n"
     ]
    },
    {
     "name": "stdout",
     "output_type": "stream",
     "text": [
      "94/94 - 0s - 148ms/epoch - 2ms/step\n",
      "94/94 - 0s - 283ms/epoch - 3ms/step\n",
      "[('female', 0.0, 60.0)]\n",
      "/tmp/wav/radio-FIF-221229.wav\n"
     ]
    },
    {
     "name": "stderr",
     "output_type": "stream",
     "text": [
      "/home/ddoukhan/git_repos/davidreda/env/lib/python3.10/site-packages/pyannote/algorithms/utils/viterbi.py:86: FutureWarning: arrays to stack must be passed as a \"sequence\" type such as list or tuple. Support for non-sequence iterables such as generators is deprecated as of NumPy 1.16 and will raise an error in the future.\n",
      "  return np.vstack(\n",
      "/home/ddoukhan/git_repos/davidreda/env/lib/python3.10/site-packages/pyannote/algorithms/utils/viterbi.py:95: FutureWarning: arrays to stack must be passed as a \"sequence\" type such as list or tuple. Support for non-sequence iterables such as generators is deprecated as of NumPy 1.16 and will raise an error in the future.\n",
      "  return np.vstack(\n"
     ]
    },
    {
     "name": "stdout",
     "output_type": "stream",
     "text": [
      "93/93 - 0s - 147ms/epoch - 2ms/step\n",
      "93/93 - 0s - 277ms/epoch - 3ms/step\n",
      "[('female', 0.0, 0.38), ('noEnergy', 0.38, 1.12), ('male', 1.12, 38.56), ('female', 38.56, 52.5), ('male', 52.5, 60.0)]\n",
      "/tmp/wav/radio-RMC-094259.wav\n"
     ]
    },
    {
     "name": "stderr",
     "output_type": "stream",
     "text": [
      "/home/ddoukhan/git_repos/davidreda/env/lib/python3.10/site-packages/pyannote/algorithms/utils/viterbi.py:86: FutureWarning: arrays to stack must be passed as a \"sequence\" type such as list or tuple. Support for non-sequence iterables such as generators is deprecated as of NumPy 1.16 and will raise an error in the future.\n",
      "  return np.vstack(\n",
      "/home/ddoukhan/git_repos/davidreda/env/lib/python3.10/site-packages/pyannote/algorithms/utils/viterbi.py:95: FutureWarning: arrays to stack must be passed as a \"sequence\" type such as list or tuple. Support for non-sequence iterables such as generators is deprecated as of NumPy 1.16 and will raise an error in the future.\n",
      "  return np.vstack(\n"
     ]
    },
    {
     "name": "stdout",
     "output_type": "stream",
     "text": [
      "94/94 - 0s - 146ms/epoch - 2ms/step\n",
      "94/94 - 0s - 282ms/epoch - 3ms/step\n",
      "[('male', 0.0, 60.02)]\n",
      "/tmp/wav/tv-FR3-065106.wav\n"
     ]
    },
    {
     "name": "stderr",
     "output_type": "stream",
     "text": [
      "/home/ddoukhan/git_repos/davidreda/env/lib/python3.10/site-packages/pyannote/algorithms/utils/viterbi.py:86: FutureWarning: arrays to stack must be passed as a \"sequence\" type such as list or tuple. Support for non-sequence iterables such as generators is deprecated as of NumPy 1.16 and will raise an error in the future.\n",
      "  return np.vstack(\n",
      "/home/ddoukhan/git_repos/davidreda/env/lib/python3.10/site-packages/pyannote/algorithms/utils/viterbi.py:95: FutureWarning: arrays to stack must be passed as a \"sequence\" type such as list or tuple. Support for non-sequence iterables such as generators is deprecated as of NumPy 1.16 and will raise an error in the future.\n",
      "  return np.vstack(\n"
     ]
    },
    {
     "name": "stdout",
     "output_type": "stream",
     "text": [
      "95/95 - 0s - 158ms/epoch - 2ms/step\n",
      "86/86 - 0s - 282ms/epoch - 3ms/step\n",
      "[('male', 0.0, 5.94), ('noEnergy', 5.94, 6.4), ('male', 6.4, 11.98), ('female', 11.98, 18.36), ('male', 18.36, 27.080000000000002), ('noise', 27.080000000000002, 29.82), ('male', 29.82, 34.9), ('noEnergy', 34.9, 35.4), ('male', 35.4, 39.24), ('female', 39.24, 43.480000000000004), ('noise', 43.480000000000004, 46.68), ('male', 46.68, 61.480000000000004)]\n",
      "/tmp/wav/tv-FR3-223745.wav\n"
     ]
    },
    {
     "name": "stderr",
     "output_type": "stream",
     "text": [
      "/home/ddoukhan/git_repos/davidreda/env/lib/python3.10/site-packages/pyannote/algorithms/utils/viterbi.py:86: FutureWarning: arrays to stack must be passed as a \"sequence\" type such as list or tuple. Support for non-sequence iterables such as generators is deprecated as of NumPy 1.16 and will raise an error in the future.\n",
      "  return np.vstack(\n",
      "/home/ddoukhan/git_repos/davidreda/env/lib/python3.10/site-packages/pyannote/algorithms/utils/viterbi.py:95: FutureWarning: arrays to stack must be passed as a \"sequence\" type such as list or tuple. Support for non-sequence iterables such as generators is deprecated as of NumPy 1.16 and will raise an error in the future.\n",
      "  return np.vstack(\n"
     ]
    },
    {
     "name": "stdout",
     "output_type": "stream",
     "text": [
      "94/94 - 0s - 147ms/epoch - 2ms/step\n",
      "12/12 - 0s - 45ms/epoch - 4ms/step\n",
      "[('noise', 0.0, 1.6), ('music', 1.6, 4.94), ('female', 4.94, 6.22), ('music', 6.22, 10.36), ('female', 10.36, 11.78), ('music', 11.78, 18.88), ('female', 18.88, 20.04), ('music', 20.04, 26.38), ('female', 26.38, 28.560000000000002), ('music', 28.560000000000002, 39.1), ('female', 39.1, 40.6), ('music', 40.6, 56.120000000000005), ('noise', 56.120000000000005, 60.160000000000004)]\n",
      "/tmp/wav/tv-ART-152238.wav\n"
     ]
    },
    {
     "name": "stderr",
     "output_type": "stream",
     "text": [
      "/home/ddoukhan/git_repos/davidreda/env/lib/python3.10/site-packages/pyannote/algorithms/utils/viterbi.py:86: FutureWarning: arrays to stack must be passed as a \"sequence\" type such as list or tuple. Support for non-sequence iterables such as generators is deprecated as of NumPy 1.16 and will raise an error in the future.\n",
      "  return np.vstack(\n",
      "/home/ddoukhan/git_repos/davidreda/env/lib/python3.10/site-packages/pyannote/algorithms/utils/viterbi.py:95: FutureWarning: arrays to stack must be passed as a \"sequence\" type such as list or tuple. Support for non-sequence iterables such as generators is deprecated as of NumPy 1.16 and will raise an error in the future.\n",
      "  return np.vstack(\n"
     ]
    },
    {
     "name": "stdout",
     "output_type": "stream",
     "text": [
      "96/96 - 0s - 151ms/epoch - 2ms/step\n",
      "84/84 - 0s - 252ms/epoch - 3ms/step\n",
      "[('music', 0.0, 1.46), ('female', 1.46, 22.7), ('music', 22.7, 26.740000000000002), ('male', 26.740000000000002, 49.1), ('music', 49.1, 51.08), ('male', 51.08, 61.0)]\n",
      "/tmp/wav/tv-F24-081209.wav\n"
     ]
    },
    {
     "name": "stderr",
     "output_type": "stream",
     "text": [
      "/home/ddoukhan/git_repos/davidreda/env/lib/python3.10/site-packages/pyannote/algorithms/utils/viterbi.py:86: FutureWarning: arrays to stack must be passed as a \"sequence\" type such as list or tuple. Support for non-sequence iterables such as generators is deprecated as of NumPy 1.16 and will raise an error in the future.\n",
      "  return np.vstack(\n",
      "/home/ddoukhan/git_repos/davidreda/env/lib/python3.10/site-packages/pyannote/algorithms/utils/viterbi.py:95: FutureWarning: arrays to stack must be passed as a \"sequence\" type such as list or tuple. Support for non-sequence iterables such as generators is deprecated as of NumPy 1.16 and will raise an error in the future.\n",
      "  return np.vstack(\n",
      "/home/ddoukhan/git_repos/davidreda/env/lib/python3.10/site-packages/inaSpeechSegmenter/segmenter.py:62: RuntimeWarning: invalid value encountered in subtract\n",
      "  data = (data - np.mean(data, axis=1).reshape((len(data), 1))) / np.std(data, axis=1).reshape((len(data), 1))\n",
      "/home/ddoukhan/git_repos/davidreda/env/lib/python3.10/site-packages/numpy/core/_methods.py:236: RuntimeWarning: invalid value encountered in subtract\n",
      "  x = asanyarray(arr - arrmean)\n"
     ]
    },
    {
     "name": "stdout",
     "output_type": "stream",
     "text": [
      "92/92 - 0s - 143ms/epoch - 2ms/step\n",
      "92/92 - 0s - 273ms/epoch - 3ms/step\n",
      "[('male', 0.0, 10.24), ('noEnergy', 10.24, 11.86), ('female', 11.86, 46.18), ('noEnergy', 46.18, 47.04), ('male', 47.04, 60.94)]\n",
      "/tmp/wav/tv-N12-182632.wav\n"
     ]
    },
    {
     "name": "stderr",
     "output_type": "stream",
     "text": [
      "/home/ddoukhan/git_repos/davidreda/env/lib/python3.10/site-packages/pyannote/algorithms/utils/viterbi.py:86: FutureWarning: arrays to stack must be passed as a \"sequence\" type such as list or tuple. Support for non-sequence iterables such as generators is deprecated as of NumPy 1.16 and will raise an error in the future.\n",
      "  return np.vstack(\n",
      "/home/ddoukhan/git_repos/davidreda/env/lib/python3.10/site-packages/pyannote/algorithms/utils/viterbi.py:95: FutureWarning: arrays to stack must be passed as a \"sequence\" type such as list or tuple. Support for non-sequence iterables such as generators is deprecated as of NumPy 1.16 and will raise an error in the future.\n",
      "  return np.vstack(\n",
      "/home/ddoukhan/git_repos/davidreda/env/lib/python3.10/site-packages/inaSpeechSegmenter/segmenter.py:62: RuntimeWarning: invalid value encountered in subtract\n",
      "  data = (data - np.mean(data, axis=1).reshape((len(data), 1))) / np.std(data, axis=1).reshape((len(data), 1))\n",
      "/home/ddoukhan/git_repos/davidreda/env/lib/python3.10/site-packages/numpy/core/_methods.py:236: RuntimeWarning: invalid value encountered in subtract\n",
      "  x = asanyarray(arr - arrmean)\n"
     ]
    },
    {
     "name": "stdout",
     "output_type": "stream",
     "text": [
      "93/93 - 0s - 144ms/epoch - 2ms/step\n",
      "60/60 - 0s - 187ms/epoch - 3ms/step\n",
      "[('male', 0.0, 8.52), ('music', 8.52, 26.46), ('male', 26.46, 32.3), ('female', 32.3, 43.5), ('noise', 43.5, 46.7), ('noEnergy', 46.7, 47.58), ('female', 47.58, 50.300000000000004), ('noEnergy', 50.300000000000004, 51.36), ('female', 51.36, 61.22)]\n",
      "/tmp/wav/radio-FBL-090844.wav\n"
     ]
    },
    {
     "name": "stderr",
     "output_type": "stream",
     "text": [
      "/home/ddoukhan/git_repos/davidreda/env/lib/python3.10/site-packages/pyannote/algorithms/utils/viterbi.py:86: FutureWarning: arrays to stack must be passed as a \"sequence\" type such as list or tuple. Support for non-sequence iterables such as generators is deprecated as of NumPy 1.16 and will raise an error in the future.\n",
      "  return np.vstack(\n",
      "/home/ddoukhan/git_repos/davidreda/env/lib/python3.10/site-packages/pyannote/algorithms/utils/viterbi.py:95: FutureWarning: arrays to stack must be passed as a \"sequence\" type such as list or tuple. Support for non-sequence iterables such as generators is deprecated as of NumPy 1.16 and will raise an error in the future.\n",
      "  return np.vstack(\n"
     ]
    },
    {
     "name": "stdout",
     "output_type": "stream",
     "text": [
      "94/94 - 0s - 153ms/epoch - 2ms/step\n",
      "94/94 - 0s - 287ms/epoch - 3ms/step\n",
      "[('male', 0.0, 54.120000000000005), ('female', 54.120000000000005, 60.0)]\n",
      "/tmp/wav/tv-LCI-200527.wav\n"
     ]
    },
    {
     "name": "stderr",
     "output_type": "stream",
     "text": [
      "/home/ddoukhan/git_repos/davidreda/env/lib/python3.10/site-packages/pyannote/algorithms/utils/viterbi.py:86: FutureWarning: arrays to stack must be passed as a \"sequence\" type such as list or tuple. Support for non-sequence iterables such as generators is deprecated as of NumPy 1.16 and will raise an error in the future.\n",
      "  return np.vstack(\n",
      "/home/ddoukhan/git_repos/davidreda/env/lib/python3.10/site-packages/pyannote/algorithms/utils/viterbi.py:95: FutureWarning: arrays to stack must be passed as a \"sequence\" type such as list or tuple. Support for non-sequence iterables such as generators is deprecated as of NumPy 1.16 and will raise an error in the future.\n",
      "  return np.vstack(\n"
     ]
    },
    {
     "name": "stdout",
     "output_type": "stream",
     "text": [
      "94/94 - 0s - 147ms/epoch - 2ms/step\n",
      "89/89 - 0s - 267ms/epoch - 3ms/step\n",
      "[('male', 0.0, 34.52), ('noEnergy', 34.52, 35.74), ('noise', 35.74, 37.02), ('male', 37.02, 56.72), ('noise', 56.72, 58.4), ('male', 58.4, 60.84)]\n",
      "/tmp/wav/radio-FBL-025455.wav\n"
     ]
    },
    {
     "name": "stderr",
     "output_type": "stream",
     "text": [
      "/home/ddoukhan/git_repos/davidreda/env/lib/python3.10/site-packages/pyannote/algorithms/utils/viterbi.py:86: FutureWarning: arrays to stack must be passed as a \"sequence\" type such as list or tuple. Support for non-sequence iterables such as generators is deprecated as of NumPy 1.16 and will raise an error in the future.\n",
      "  return np.vstack(\n",
      "/home/ddoukhan/git_repos/davidreda/env/lib/python3.10/site-packages/pyannote/algorithms/utils/viterbi.py:95: FutureWarning: arrays to stack must be passed as a \"sequence\" type such as list or tuple. Support for non-sequence iterables such as generators is deprecated as of NumPy 1.16 and will raise an error in the future.\n",
      "  return np.vstack(\n"
     ]
    },
    {
     "name": "stdout",
     "output_type": "stream",
     "text": [
      "94/94 - 0s - 149ms/epoch - 2ms/step\n",
      "[('music', 0.0, 60.0)]\n",
      "/tmp/wav/tv-ART-093525.wav\n"
     ]
    },
    {
     "name": "stderr",
     "output_type": "stream",
     "text": [
      "/home/ddoukhan/git_repos/davidreda/env/lib/python3.10/site-packages/pyannote/algorithms/utils/viterbi.py:86: FutureWarning: arrays to stack must be passed as a \"sequence\" type such as list or tuple. Support for non-sequence iterables such as generators is deprecated as of NumPy 1.16 and will raise an error in the future.\n",
      "  return np.vstack(\n",
      "/home/ddoukhan/git_repos/davidreda/env/lib/python3.10/site-packages/pyannote/algorithms/utils/viterbi.py:95: FutureWarning: arrays to stack must be passed as a \"sequence\" type such as list or tuple. Support for non-sequence iterables such as generators is deprecated as of NumPy 1.16 and will raise an error in the future.\n",
      "  return np.vstack(\n"
     ]
    },
    {
     "name": "stdout",
     "output_type": "stream",
     "text": [
      "96/96 - 0s - 162ms/epoch - 2ms/step\n",
      "66/66 - 0s - 202ms/epoch - 3ms/step\n",
      "[('music', 0.0, 3.8000000000000003), ('male', 3.8000000000000003, 13.26), ('music', 13.26, 16.4), ('male', 16.4, 20.18), ('music', 20.18, 21.98), ('male', 21.98, 26.240000000000002), ('noEnergy', 26.240000000000002, 26.7), ('male', 26.7, 29.42), ('noise', 29.42, 34.300000000000004), ('male', 34.300000000000004, 38.980000000000004), ('female', 38.980000000000004, 41.72), ('music', 41.72, 45.160000000000004), ('male', 45.160000000000004, 58.02), ('noise', 58.02, 59.92), ('male', 59.92, 61.52)]\n",
      "/tmp/wav/tv-C+N-070441.wav\n"
     ]
    },
    {
     "name": "stderr",
     "output_type": "stream",
     "text": [
      "/home/ddoukhan/git_repos/davidreda/env/lib/python3.10/site-packages/pyannote/algorithms/utils/viterbi.py:86: FutureWarning: arrays to stack must be passed as a \"sequence\" type such as list or tuple. Support for non-sequence iterables such as generators is deprecated as of NumPy 1.16 and will raise an error in the future.\n",
      "  return np.vstack(\n",
      "/home/ddoukhan/git_repos/davidreda/env/lib/python3.10/site-packages/pyannote/algorithms/utils/viterbi.py:95: FutureWarning: arrays to stack must be passed as a \"sequence\" type such as list or tuple. Support for non-sequence iterables such as generators is deprecated as of NumPy 1.16 and will raise an error in the future.\n",
      "  return np.vstack(\n"
     ]
    },
    {
     "name": "stdout",
     "output_type": "stream",
     "text": [
      "95/95 - 0s - 150ms/epoch - 2ms/step\n",
      "95/95 - 0s - 285ms/epoch - 3ms/step\n",
      "[('female', 0.0, 58.82), ('male', 58.82, 60.76)]\n",
      "/tmp/wav/tv-FR4-034920.wav\n"
     ]
    },
    {
     "name": "stderr",
     "output_type": "stream",
     "text": [
      "/home/ddoukhan/git_repos/davidreda/env/lib/python3.10/site-packages/pyannote/algorithms/utils/viterbi.py:86: FutureWarning: arrays to stack must be passed as a \"sequence\" type such as list or tuple. Support for non-sequence iterables such as generators is deprecated as of NumPy 1.16 and will raise an error in the future.\n",
      "  return np.vstack(\n",
      "/home/ddoukhan/git_repos/davidreda/env/lib/python3.10/site-packages/pyannote/algorithms/utils/viterbi.py:95: FutureWarning: arrays to stack must be passed as a \"sequence\" type such as list or tuple. Support for non-sequence iterables such as generators is deprecated as of NumPy 1.16 and will raise an error in the future.\n",
      "  return np.vstack(\n"
     ]
    },
    {
     "name": "stdout",
     "output_type": "stream",
     "text": [
      "89/89 - 0s - 140ms/epoch - 2ms/step\n",
      "6/6 - 0s - 28ms/epoch - 5ms/step\n",
      "[('music', 0.0, 47.300000000000004), ('noise', 47.300000000000004, 51.18), ('male', 51.18, 52.14), ('noEnergy', 52.14, 52.660000000000004), ('male', 52.660000000000004, 52.92), ('noEnergy', 52.92, 53.38), ('male', 53.38, 55.02), ('noEnergy', 55.02, 56.14), ('male', 56.14, 56.56), ('noEnergy', 56.56, 58.980000000000004), ('music', 58.980000000000004, 60.96)]\n",
      "/tmp/wav/tv-C+N-091809.wav\n"
     ]
    },
    {
     "name": "stderr",
     "output_type": "stream",
     "text": [
      "/home/ddoukhan/git_repos/davidreda/env/lib/python3.10/site-packages/pyannote/algorithms/utils/viterbi.py:86: FutureWarning: arrays to stack must be passed as a \"sequence\" type such as list or tuple. Support for non-sequence iterables such as generators is deprecated as of NumPy 1.16 and will raise an error in the future.\n",
      "  return np.vstack(\n",
      "/home/ddoukhan/git_repos/davidreda/env/lib/python3.10/site-packages/pyannote/algorithms/utils/viterbi.py:95: FutureWarning: arrays to stack must be passed as a \"sequence\" type such as list or tuple. Support for non-sequence iterables such as generators is deprecated as of NumPy 1.16 and will raise an error in the future.\n",
      "  return np.vstack(\n",
      "/home/ddoukhan/git_repos/davidreda/env/lib/python3.10/site-packages/inaSpeechSegmenter/segmenter.py:62: RuntimeWarning: invalid value encountered in subtract\n",
      "  data = (data - np.mean(data, axis=1).reshape((len(data), 1))) / np.std(data, axis=1).reshape((len(data), 1))\n",
      "/home/ddoukhan/git_repos/davidreda/env/lib/python3.10/site-packages/numpy/core/_methods.py:236: RuntimeWarning: invalid value encountered in subtract\n",
      "  x = asanyarray(arr - arrmean)\n"
     ]
    },
    {
     "name": "stdout",
     "output_type": "stream",
     "text": [
      "88/88 - 0s - 140ms/epoch - 2ms/step\n",
      "88/88 - 0s - 267ms/epoch - 3ms/step\n",
      "[('male', 0.0, 2.52), ('noEnergy', 2.52, 2.92), ('male', 2.92, 7.82), ('noEnergy', 7.82, 8.36), ('male', 8.36, 9.48), ('noEnergy', 9.48, 10.66), ('male', 10.66, 17.14), ('noEnergy', 17.14, 18.78), ('male', 18.78, 42.28), ('noEnergy', 42.28, 42.68), ('male', 42.68, 51.160000000000004), ('noEnergy', 51.160000000000004, 51.660000000000004), ('male', 51.660000000000004, 54.480000000000004), ('noEnergy', 54.480000000000004, 54.92), ('male', 54.92, 60.980000000000004)]\n",
      "/tmp/wav/radio-FIF-121714.wav\n"
     ]
    },
    {
     "name": "stderr",
     "output_type": "stream",
     "text": [
      "/home/ddoukhan/git_repos/davidreda/env/lib/python3.10/site-packages/pyannote/algorithms/utils/viterbi.py:86: FutureWarning: arrays to stack must be passed as a \"sequence\" type such as list or tuple. Support for non-sequence iterables such as generators is deprecated as of NumPy 1.16 and will raise an error in the future.\n",
      "  return np.vstack(\n",
      "/home/ddoukhan/git_repos/davidreda/env/lib/python3.10/site-packages/pyannote/algorithms/utils/viterbi.py:95: FutureWarning: arrays to stack must be passed as a \"sequence\" type such as list or tuple. Support for non-sequence iterables such as generators is deprecated as of NumPy 1.16 and will raise an error in the future.\n",
      "  return np.vstack(\n"
     ]
    },
    {
     "name": "stdout",
     "output_type": "stream",
     "text": [
      "92/92 - 0s - 146ms/epoch - 2ms/step\n",
      "92/92 - 0s - 279ms/epoch - 3ms/step\n",
      "[('noEnergy', 0.0, 0.42), ('male', 0.42, 53.72), ('noEnergy', 53.72, 54.54), ('male', 54.54, 60.02)]\n",
      "/tmp/wav/radio-MUV-210509.wav\n"
     ]
    },
    {
     "name": "stderr",
     "output_type": "stream",
     "text": [
      "/home/ddoukhan/git_repos/davidreda/env/lib/python3.10/site-packages/pyannote/algorithms/utils/viterbi.py:86: FutureWarning: arrays to stack must be passed as a \"sequence\" type such as list or tuple. Support for non-sequence iterables such as generators is deprecated as of NumPy 1.16 and will raise an error in the future.\n",
      "  return np.vstack(\n",
      "/home/ddoukhan/git_repos/davidreda/env/lib/python3.10/site-packages/pyannote/algorithms/utils/viterbi.py:95: FutureWarning: arrays to stack must be passed as a \"sequence\" type such as list or tuple. Support for non-sequence iterables such as generators is deprecated as of NumPy 1.16 and will raise an error in the future.\n",
      "  return np.vstack(\n"
     ]
    },
    {
     "name": "stdout",
     "output_type": "stream",
     "text": [
      "94/94 - 0s - 145ms/epoch - 2ms/step\n",
      "[('music', 0.0, 60.0)]\n",
      "/tmp/wav/radio-FBL-083109.wav\n"
     ]
    },
    {
     "name": "stderr",
     "output_type": "stream",
     "text": [
      "/home/ddoukhan/git_repos/davidreda/env/lib/python3.10/site-packages/pyannote/algorithms/utils/viterbi.py:86: FutureWarning: arrays to stack must be passed as a \"sequence\" type such as list or tuple. Support for non-sequence iterables such as generators is deprecated as of NumPy 1.16 and will raise an error in the future.\n",
      "  return np.vstack(\n",
      "/home/ddoukhan/git_repos/davidreda/env/lib/python3.10/site-packages/pyannote/algorithms/utils/viterbi.py:95: FutureWarning: arrays to stack must be passed as a \"sequence\" type such as list or tuple. Support for non-sequence iterables such as generators is deprecated as of NumPy 1.16 and will raise an error in the future.\n",
      "  return np.vstack(\n"
     ]
    },
    {
     "name": "stdout",
     "output_type": "stream",
     "text": [
      "94/94 - 0s - 149ms/epoch - 2ms/step\n",
      "94/94 - 0s - 284ms/epoch - 3ms/step\n",
      "[('female', 0.0, 4.0600000000000005), ('male', 4.0600000000000005, 9.3), ('female', 9.3, 60.0)]\n",
      "/tmp/wav/tv-ART-072411.wav\n"
     ]
    },
    {
     "name": "stderr",
     "output_type": "stream",
     "text": [
      "/home/ddoukhan/git_repos/davidreda/env/lib/python3.10/site-packages/pyannote/algorithms/utils/viterbi.py:86: FutureWarning: arrays to stack must be passed as a \"sequence\" type such as list or tuple. Support for non-sequence iterables such as generators is deprecated as of NumPy 1.16 and will raise an error in the future.\n",
      "  return np.vstack(\n",
      "/home/ddoukhan/git_repos/davidreda/env/lib/python3.10/site-packages/pyannote/algorithms/utils/viterbi.py:95: FutureWarning: arrays to stack must be passed as a \"sequence\" type such as list or tuple. Support for non-sequence iterables such as generators is deprecated as of NumPy 1.16 and will raise an error in the future.\n",
      "  return np.vstack(\n"
     ]
    },
    {
     "name": "stdout",
     "output_type": "stream",
     "text": [
      "93/93 - 0s - 147ms/epoch - 2ms/step\n",
      "46/46 - 0s - 144ms/epoch - 3ms/step\n",
      "[('music', 0.0, 5.26), ('noise', 5.26, 11.66), ('music', 11.66, 16.92), ('noise', 16.92, 29.560000000000002), ('male', 29.560000000000002, 50.02), ('noEnergy', 50.02, 50.42), ('male', 50.42, 57.44), ('noEnergy', 57.44, 58.0), ('male', 58.0, 58.96), ('noEnergy', 58.96, 59.620000000000005), ('male', 59.620000000000005, 60.46), ('noEnergy', 60.46, 61.160000000000004), ('noise', 61.160000000000004, 61.56)]\n",
      "/tmp/wav/tv-C+N-081613.wav\n"
     ]
    },
    {
     "name": "stderr",
     "output_type": "stream",
     "text": [
      "/home/ddoukhan/git_repos/davidreda/env/lib/python3.10/site-packages/pyannote/algorithms/utils/viterbi.py:86: FutureWarning: arrays to stack must be passed as a \"sequence\" type such as list or tuple. Support for non-sequence iterables such as generators is deprecated as of NumPy 1.16 and will raise an error in the future.\n",
      "  return np.vstack(\n",
      "/home/ddoukhan/git_repos/davidreda/env/lib/python3.10/site-packages/pyannote/algorithms/utils/viterbi.py:95: FutureWarning: arrays to stack must be passed as a \"sequence\" type such as list or tuple. Support for non-sequence iterables such as generators is deprecated as of NumPy 1.16 and will raise an error in the future.\n",
      "  return np.vstack(\n"
     ]
    },
    {
     "name": "stdout",
     "output_type": "stream",
     "text": [
      "94/94 - 0s - 149ms/epoch - 2ms/step\n",
      "81/81 - 0s - 254ms/epoch - 3ms/step\n",
      "[('female', 0.0, 0.86), ('music', 0.86, 9.38), ('noEnergy', 9.38, 11.120000000000001), ('male', 11.120000000000001, 17.3), ('female', 17.3, 27.52), ('male', 27.52, 61.56)]\n",
      "/tmp/wav/radio-FIF-143447.wav\n"
     ]
    },
    {
     "name": "stderr",
     "output_type": "stream",
     "text": [
      "/home/ddoukhan/git_repos/davidreda/env/lib/python3.10/site-packages/pyannote/algorithms/utils/viterbi.py:86: FutureWarning: arrays to stack must be passed as a \"sequence\" type such as list or tuple. Support for non-sequence iterables such as generators is deprecated as of NumPy 1.16 and will raise an error in the future.\n",
      "  return np.vstack(\n",
      "/home/ddoukhan/git_repos/davidreda/env/lib/python3.10/site-packages/pyannote/algorithms/utils/viterbi.py:95: FutureWarning: arrays to stack must be passed as a \"sequence\" type such as list or tuple. Support for non-sequence iterables such as generators is deprecated as of NumPy 1.16 and will raise an error in the future.\n",
      "  return np.vstack(\n"
     ]
    },
    {
     "name": "stdout",
     "output_type": "stream",
     "text": [
      "94/94 - 0s - 147ms/epoch - 2ms/step\n",
      "94/94 - 0s - 283ms/epoch - 3ms/step\n",
      "[('female', 0.0, 9.3), ('noEnergy', 9.3, 9.72), ('male', 9.72, 60.0)]\n",
      "/tmp/wav/tv-LCI-145713.wav\n"
     ]
    },
    {
     "name": "stderr",
     "output_type": "stream",
     "text": [
      "/home/ddoukhan/git_repos/davidreda/env/lib/python3.10/site-packages/pyannote/algorithms/utils/viterbi.py:86: FutureWarning: arrays to stack must be passed as a \"sequence\" type such as list or tuple. Support for non-sequence iterables such as generators is deprecated as of NumPy 1.16 and will raise an error in the future.\n",
      "  return np.vstack(\n",
      "/home/ddoukhan/git_repos/davidreda/env/lib/python3.10/site-packages/pyannote/algorithms/utils/viterbi.py:95: FutureWarning: arrays to stack must be passed as a \"sequence\" type such as list or tuple. Support for non-sequence iterables such as generators is deprecated as of NumPy 1.16 and will raise an error in the future.\n",
      "  return np.vstack(\n",
      "/home/ddoukhan/git_repos/davidreda/env/lib/python3.10/site-packages/inaSpeechSegmenter/segmenter.py:62: RuntimeWarning: invalid value encountered in subtract\n",
      "  data = (data - np.mean(data, axis=1).reshape((len(data), 1))) / np.std(data, axis=1).reshape((len(data), 1))\n",
      "/home/ddoukhan/git_repos/davidreda/env/lib/python3.10/site-packages/numpy/core/_methods.py:236: RuntimeWarning: invalid value encountered in subtract\n",
      "  x = asanyarray(arr - arrmean)\n"
     ]
    },
    {
     "name": "stdout",
     "output_type": "stream",
     "text": [
      "93/93 - 0s - 156ms/epoch - 2ms/step\n",
      "51/51 - 0s - 159ms/epoch - 3ms/step\n",
      "[('noise', 0.0, 3.62), ('music', 3.62, 15.46), ('male', 15.46, 20.2), ('noEnergy', 20.2, 20.900000000000002), ('music', 20.900000000000002, 22.26), ('noise', 22.26, 24.8), ('music', 24.8, 26.66), ('female', 26.66, 35.9), ('noEnergy', 35.9, 36.36), ('music', 36.36, 41.92), ('male', 41.92, 60.14), ('noEnergy', 60.14, 60.68)]\n",
      "/tmp/wav/tv-C+_-181000.wav\n"
     ]
    },
    {
     "name": "stderr",
     "output_type": "stream",
     "text": [
      "/home/ddoukhan/git_repos/davidreda/env/lib/python3.10/site-packages/pyannote/algorithms/utils/viterbi.py:86: FutureWarning: arrays to stack must be passed as a \"sequence\" type such as list or tuple. Support for non-sequence iterables such as generators is deprecated as of NumPy 1.16 and will raise an error in the future.\n",
      "  return np.vstack(\n",
      "/home/ddoukhan/git_repos/davidreda/env/lib/python3.10/site-packages/pyannote/algorithms/utils/viterbi.py:95: FutureWarning: arrays to stack must be passed as a \"sequence\" type such as list or tuple. Support for non-sequence iterables such as generators is deprecated as of NumPy 1.16 and will raise an error in the future.\n",
      "  return np.vstack(\n"
     ]
    },
    {
     "name": "stdout",
     "output_type": "stream",
     "text": [
      "93/93 - 0s - 150ms/epoch - 2ms/step\n",
      "72/72 - 0s - 218ms/epoch - 3ms/step\n",
      "[('noise', 0.0, 5.46), ('music', 5.46, 8.86), ('male', 8.86, 11.4), ('female', 11.4, 14.4), ('male', 14.4, 15.3), ('female', 15.3, 16.48), ('male', 16.48, 20.8), ('noEnergy', 20.8, 21.3), ('male', 21.3, 22.36), ('female', 22.36, 28.66), ('noEnergy', 28.66, 29.44), ('male', 29.44, 55.9), ('music', 55.9, 60.36)]\n",
      "/tmp/wav/tv-T5M-210834.wav\n"
     ]
    },
    {
     "name": "stderr",
     "output_type": "stream",
     "text": [
      "/home/ddoukhan/git_repos/davidreda/env/lib/python3.10/site-packages/pyannote/algorithms/utils/viterbi.py:86: FutureWarning: arrays to stack must be passed as a \"sequence\" type such as list or tuple. Support for non-sequence iterables such as generators is deprecated as of NumPy 1.16 and will raise an error in the future.\n",
      "  return np.vstack(\n",
      "/home/ddoukhan/git_repos/davidreda/env/lib/python3.10/site-packages/pyannote/algorithms/utils/viterbi.py:95: FutureWarning: arrays to stack must be passed as a \"sequence\" type such as list or tuple. Support for non-sequence iterables such as generators is deprecated as of NumPy 1.16 and will raise an error in the future.\n",
      "  return np.vstack(\n"
     ]
    },
    {
     "name": "stdout",
     "output_type": "stream",
     "text": [
      "93/93 - 0s - 149ms/epoch - 2ms/step\n",
      "74/74 - 0s - 223ms/epoch - 3ms/step\n",
      "[('music', 0.0, 9.46), ('female', 9.46, 36.660000000000004), ('male', 36.660000000000004, 37.52), ('music', 37.52, 40.660000000000004), ('male', 40.660000000000004, 48.96), ('noEnergy', 48.96, 49.480000000000004), ('male', 49.480000000000004, 52.26), ('noEnergy', 52.26, 52.76), ('male', 52.76, 59.620000000000005), ('noEnergy', 59.620000000000005, 60.2), ('male', 60.2, 60.660000000000004), ('noEnergy', 60.660000000000004, 61.1), ('male', 61.1, 61.54)]\n",
      "/tmp/wav/tv-TF1-225026.wav\n"
     ]
    },
    {
     "name": "stderr",
     "output_type": "stream",
     "text": [
      "/home/ddoukhan/git_repos/davidreda/env/lib/python3.10/site-packages/pyannote/algorithms/utils/viterbi.py:86: FutureWarning: arrays to stack must be passed as a \"sequence\" type such as list or tuple. Support for non-sequence iterables such as generators is deprecated as of NumPy 1.16 and will raise an error in the future.\n",
      "  return np.vstack(\n",
      "/home/ddoukhan/git_repos/davidreda/env/lib/python3.10/site-packages/pyannote/algorithms/utils/viterbi.py:95: FutureWarning: arrays to stack must be passed as a \"sequence\" type such as list or tuple. Support for non-sequence iterables such as generators is deprecated as of NumPy 1.16 and will raise an error in the future.\n",
      "  return np.vstack(\n"
     ]
    },
    {
     "name": "stdout",
     "output_type": "stream",
     "text": [
      "96/96 - 0s - 148ms/epoch - 2ms/step\n",
      "96/96 - 0s - 289ms/epoch - 3ms/step\n",
      "[('male', 0.0, 4.16), ('female', 4.16, 14.540000000000001), ('male', 14.540000000000001, 36.58), ('female', 36.58, 38.0), ('male', 38.0, 45.46), ('female', 45.46, 48.4), ('male', 48.4, 60.84)]\n",
      "/tmp/wav/tv-ART-094745.wav\n"
     ]
    },
    {
     "name": "stderr",
     "output_type": "stream",
     "text": [
      "/home/ddoukhan/git_repos/davidreda/env/lib/python3.10/site-packages/pyannote/algorithms/utils/viterbi.py:86: FutureWarning: arrays to stack must be passed as a \"sequence\" type such as list or tuple. Support for non-sequence iterables such as generators is deprecated as of NumPy 1.16 and will raise an error in the future.\n",
      "  return np.vstack(\n",
      "/home/ddoukhan/git_repos/davidreda/env/lib/python3.10/site-packages/pyannote/algorithms/utils/viterbi.py:95: FutureWarning: arrays to stack must be passed as a \"sequence\" type such as list or tuple. Support for non-sequence iterables such as generators is deprecated as of NumPy 1.16 and will raise an error in the future.\n",
      "  return np.vstack(\n"
     ]
    },
    {
     "name": "stdout",
     "output_type": "stream",
     "text": [
      "95/95 - 0s - 154ms/epoch - 2ms/step\n",
      "16/16 - 0s - 57ms/epoch - 4ms/step\n",
      "[('music', 0.0, 3.66), ('male', 3.66, 6.0200000000000005), ('music', 6.0200000000000005, 11.64), ('male', 11.64, 19.04), ('music', 19.04, 24.26), ('noise', 24.26, 35.36), ('music', 35.36, 46.54), ('noise', 46.54, 50.38), ('music', 50.38, 60.72)]\n",
      "/tmp/wav/radio-FBL-220712.wav\n"
     ]
    },
    {
     "name": "stderr",
     "output_type": "stream",
     "text": [
      "/home/ddoukhan/git_repos/davidreda/env/lib/python3.10/site-packages/pyannote/algorithms/utils/viterbi.py:86: FutureWarning: arrays to stack must be passed as a \"sequence\" type such as list or tuple. Support for non-sequence iterables such as generators is deprecated as of NumPy 1.16 and will raise an error in the future.\n",
      "  return np.vstack(\n",
      "/home/ddoukhan/git_repos/davidreda/env/lib/python3.10/site-packages/pyannote/algorithms/utils/viterbi.py:95: FutureWarning: arrays to stack must be passed as a \"sequence\" type such as list or tuple. Support for non-sequence iterables such as generators is deprecated as of NumPy 1.16 and will raise an error in the future.\n",
      "  return np.vstack(\n"
     ]
    },
    {
     "name": "stdout",
     "output_type": "stream",
     "text": [
      "94/94 - 0s - 147ms/epoch - 2ms/step\n",
      "84/84 - 0s - 253ms/epoch - 3ms/step\n",
      "[('male', 0.0, 6.68), ('female', 6.68, 8.38), ('male', 8.38, 19.0), ('female', 19.0, 20.66), ('male', 20.66, 53.46), ('music', 53.46, 60.0)]\n",
      "/tmp/wav/radio-FIP-222530.wav\n"
     ]
    },
    {
     "name": "stderr",
     "output_type": "stream",
     "text": [
      "/home/ddoukhan/git_repos/davidreda/env/lib/python3.10/site-packages/pyannote/algorithms/utils/viterbi.py:86: FutureWarning: arrays to stack must be passed as a \"sequence\" type such as list or tuple. Support for non-sequence iterables such as generators is deprecated as of NumPy 1.16 and will raise an error in the future.\n",
      "  return np.vstack(\n",
      "/home/ddoukhan/git_repos/davidreda/env/lib/python3.10/site-packages/pyannote/algorithms/utils/viterbi.py:95: FutureWarning: arrays to stack must be passed as a \"sequence\" type such as list or tuple. Support for non-sequence iterables such as generators is deprecated as of NumPy 1.16 and will raise an error in the future.\n",
      "  return np.vstack(\n"
     ]
    },
    {
     "name": "stdout",
     "output_type": "stream",
     "text": [
      "94/94 - 0s - 145ms/epoch - 2ms/step\n",
      "[('music', 0.0, 60.02)]\n",
      "/tmp/wav/radio-FIP-180932.wav\n"
     ]
    },
    {
     "name": "stderr",
     "output_type": "stream",
     "text": [
      "/home/ddoukhan/git_repos/davidreda/env/lib/python3.10/site-packages/pyannote/algorithms/utils/viterbi.py:86: FutureWarning: arrays to stack must be passed as a \"sequence\" type such as list or tuple. Support for non-sequence iterables such as generators is deprecated as of NumPy 1.16 and will raise an error in the future.\n",
      "  return np.vstack(\n",
      "/home/ddoukhan/git_repos/davidreda/env/lib/python3.10/site-packages/pyannote/algorithms/utils/viterbi.py:95: FutureWarning: arrays to stack must be passed as a \"sequence\" type such as list or tuple. Support for non-sequence iterables such as generators is deprecated as of NumPy 1.16 and will raise an error in the future.\n",
      "  return np.vstack(\n"
     ]
    },
    {
     "name": "stdout",
     "output_type": "stream",
     "text": [
      "94/94 - 0s - 148ms/epoch - 2ms/step\n",
      "[('music', 0.0, 60.0)]\n",
      "/tmp/wav/radio-MUV-203547.wav\n"
     ]
    },
    {
     "name": "stderr",
     "output_type": "stream",
     "text": [
      "/home/ddoukhan/git_repos/davidreda/env/lib/python3.10/site-packages/pyannote/algorithms/utils/viterbi.py:86: FutureWarning: arrays to stack must be passed as a \"sequence\" type such as list or tuple. Support for non-sequence iterables such as generators is deprecated as of NumPy 1.16 and will raise an error in the future.\n",
      "  return np.vstack(\n",
      "/home/ddoukhan/git_repos/davidreda/env/lib/python3.10/site-packages/pyannote/algorithms/utils/viterbi.py:95: FutureWarning: arrays to stack must be passed as a \"sequence\" type such as list or tuple. Support for non-sequence iterables such as generators is deprecated as of NumPy 1.16 and will raise an error in the future.\n",
      "  return np.vstack(\n"
     ]
    },
    {
     "name": "stdout",
     "output_type": "stream",
     "text": [
      "94/94 - 0s - 149ms/epoch - 2ms/step\n",
      "[('music', 0.0, 60.02)]\n",
      "/tmp/wav/tv-F24-182237.wav\n"
     ]
    },
    {
     "name": "stderr",
     "output_type": "stream",
     "text": [
      "/home/ddoukhan/git_repos/davidreda/env/lib/python3.10/site-packages/pyannote/algorithms/utils/viterbi.py:86: FutureWarning: arrays to stack must be passed as a \"sequence\" type such as list or tuple. Support for non-sequence iterables such as generators is deprecated as of NumPy 1.16 and will raise an error in the future.\n",
      "  return np.vstack(\n",
      "/home/ddoukhan/git_repos/davidreda/env/lib/python3.10/site-packages/pyannote/algorithms/utils/viterbi.py:95: FutureWarning: arrays to stack must be passed as a \"sequence\" type such as list or tuple. Support for non-sequence iterables such as generators is deprecated as of NumPy 1.16 and will raise an error in the future.\n",
      "  return np.vstack(\n"
     ]
    },
    {
     "name": "stdout",
     "output_type": "stream",
     "text": [
      "91/91 - 0s - 142ms/epoch - 2ms/step\n",
      "91/91 - 0s - 278ms/epoch - 3ms/step\n",
      "[('female', 0.0, 21.02), ('male', 21.02, 25.18), ('noEnergy', 25.18, 26.3), ('female', 26.3, 41.08), ('noEnergy', 41.08, 41.9), ('male', 41.9, 54.480000000000004), ('noEnergy', 54.480000000000004, 55.300000000000004), ('male', 55.300000000000004, 60.4)]\n",
      "/tmp/wav/radio-RMC-144937.wav\n"
     ]
    },
    {
     "name": "stderr",
     "output_type": "stream",
     "text": [
      "/home/ddoukhan/git_repos/davidreda/env/lib/python3.10/site-packages/pyannote/algorithms/utils/viterbi.py:86: FutureWarning: arrays to stack must be passed as a \"sequence\" type such as list or tuple. Support for non-sequence iterables such as generators is deprecated as of NumPy 1.16 and will raise an error in the future.\n",
      "  return np.vstack(\n",
      "/home/ddoukhan/git_repos/davidreda/env/lib/python3.10/site-packages/pyannote/algorithms/utils/viterbi.py:95: FutureWarning: arrays to stack must be passed as a \"sequence\" type such as list or tuple. Support for non-sequence iterables such as generators is deprecated as of NumPy 1.16 and will raise an error in the future.\n",
      "  return np.vstack(\n"
     ]
    },
    {
     "name": "stdout",
     "output_type": "stream",
     "text": [
      "94/94 - 0s - 148ms/epoch - 2ms/step\n",
      "94/94 - 0s - 285ms/epoch - 3ms/step\n",
      "[('male', 0.0, 60.02)]\n",
      "/tmp/wav/radio-FIT-022227.wav\n"
     ]
    },
    {
     "name": "stderr",
     "output_type": "stream",
     "text": [
      "/home/ddoukhan/git_repos/davidreda/env/lib/python3.10/site-packages/pyannote/algorithms/utils/viterbi.py:86: FutureWarning: arrays to stack must be passed as a \"sequence\" type such as list or tuple. Support for non-sequence iterables such as generators is deprecated as of NumPy 1.16 and will raise an error in the future.\n",
      "  return np.vstack(\n",
      "/home/ddoukhan/git_repos/davidreda/env/lib/python3.10/site-packages/pyannote/algorithms/utils/viterbi.py:95: FutureWarning: arrays to stack must be passed as a \"sequence\" type such as list or tuple. Support for non-sequence iterables such as generators is deprecated as of NumPy 1.16 and will raise an error in the future.\n",
      "  return np.vstack(\n"
     ]
    },
    {
     "name": "stdout",
     "output_type": "stream",
     "text": [
      "94/94 - 0s - 148ms/epoch - 2ms/step\n",
      "76/76 - 0s - 242ms/epoch - 3ms/step\n",
      "[('male', 0.0, 17.56), ('music', 17.56, 22.06), ('male', 22.06, 24.36), ('music', 24.36, 28.1), ('male', 28.1, 48.2), ('music', 48.2, 50.46), ('male', 50.46, 58.86), ('music', 58.86, 60.02)]\n",
      "/tmp/wav/radio-FMU-051309.wav\n"
     ]
    },
    {
     "name": "stderr",
     "output_type": "stream",
     "text": [
      "/home/ddoukhan/git_repos/davidreda/env/lib/python3.10/site-packages/pyannote/algorithms/utils/viterbi.py:86: FutureWarning: arrays to stack must be passed as a \"sequence\" type such as list or tuple. Support for non-sequence iterables such as generators is deprecated as of NumPy 1.16 and will raise an error in the future.\n",
      "  return np.vstack(\n",
      "/home/ddoukhan/git_repos/davidreda/env/lib/python3.10/site-packages/pyannote/algorithms/utils/viterbi.py:95: FutureWarning: arrays to stack must be passed as a \"sequence\" type such as list or tuple. Support for non-sequence iterables such as generators is deprecated as of NumPy 1.16 and will raise an error in the future.\n",
      "  return np.vstack(\n"
     ]
    },
    {
     "name": "stdout",
     "output_type": "stream",
     "text": [
      "90/90 - 0s - 144ms/epoch - 2ms/step\n",
      "80/80 - 0s - 242ms/epoch - 3ms/step\n",
      "[('male', 0.0, 50.6), ('noEnergy', 50.6, 53.1), ('noise', 53.1, 57.94), ('music', 57.94, 60.0)]\n",
      "/tmp/wav/radio-FIF-140426.wav\n"
     ]
    },
    {
     "name": "stderr",
     "output_type": "stream",
     "text": [
      "/home/ddoukhan/git_repos/davidreda/env/lib/python3.10/site-packages/pyannote/algorithms/utils/viterbi.py:86: FutureWarning: arrays to stack must be passed as a \"sequence\" type such as list or tuple. Support for non-sequence iterables such as generators is deprecated as of NumPy 1.16 and will raise an error in the future.\n",
      "  return np.vstack(\n",
      "/home/ddoukhan/git_repos/davidreda/env/lib/python3.10/site-packages/pyannote/algorithms/utils/viterbi.py:95: FutureWarning: arrays to stack must be passed as a \"sequence\" type such as list or tuple. Support for non-sequence iterables such as generators is deprecated as of NumPy 1.16 and will raise an error in the future.\n",
      "  return np.vstack(\n"
     ]
    },
    {
     "name": "stdout",
     "output_type": "stream",
     "text": [
      "94/94 - 0s - 232ms/epoch - 2ms/step\n",
      "94/94 - 0s - 282ms/epoch - 3ms/step\n",
      "[('male', 0.0, 53.5), ('noEnergy', 53.5, 53.92), ('male', 53.92, 60.02)]\n",
      "/tmp/wav/radio-RTL-170615.wav\n"
     ]
    },
    {
     "name": "stderr",
     "output_type": "stream",
     "text": [
      "/home/ddoukhan/git_repos/davidreda/env/lib/python3.10/site-packages/pyannote/algorithms/utils/viterbi.py:86: FutureWarning: arrays to stack must be passed as a \"sequence\" type such as list or tuple. Support for non-sequence iterables such as generators is deprecated as of NumPy 1.16 and will raise an error in the future.\n",
      "  return np.vstack(\n",
      "/home/ddoukhan/git_repos/davidreda/env/lib/python3.10/site-packages/pyannote/algorithms/utils/viterbi.py:95: FutureWarning: arrays to stack must be passed as a \"sequence\" type such as list or tuple. Support for non-sequence iterables such as generators is deprecated as of NumPy 1.16 and will raise an error in the future.\n",
      "  return np.vstack(\n"
     ]
    },
    {
     "name": "stdout",
     "output_type": "stream",
     "text": [
      "94/94 - 0s - 148ms/epoch - 2ms/step\n",
      "91/91 - 0s - 276ms/epoch - 3ms/step\n",
      "[('male', 0.0, 12.06), ('female', 12.06, 14.42), ('male', 14.42, 52.64), ('noise', 52.64, 54.5), ('male', 54.5, 60.0)]\n",
      "/tmp/wav/tv-M6_-223613.wav\n"
     ]
    },
    {
     "name": "stderr",
     "output_type": "stream",
     "text": [
      "/home/ddoukhan/git_repos/davidreda/env/lib/python3.10/site-packages/pyannote/algorithms/utils/viterbi.py:86: FutureWarning: arrays to stack must be passed as a \"sequence\" type such as list or tuple. Support for non-sequence iterables such as generators is deprecated as of NumPy 1.16 and will raise an error in the future.\n",
      "  return np.vstack(\n",
      "/home/ddoukhan/git_repos/davidreda/env/lib/python3.10/site-packages/pyannote/algorithms/utils/viterbi.py:95: FutureWarning: arrays to stack must be passed as a \"sequence\" type such as list or tuple. Support for non-sequence iterables such as generators is deprecated as of NumPy 1.16 and will raise an error in the future.\n",
      "  return np.vstack(\n"
     ]
    },
    {
     "name": "stdout",
     "output_type": "stream",
     "text": [
      "95/95 - 0s - 152ms/epoch - 2ms/step\n",
      "48/48 - 0s - 149ms/epoch - 3ms/step\n",
      "[('music', 0.0, 10.72), ('male', 10.72, 30.04), ('noise', 30.04, 49.56), ('male', 49.56, 60.620000000000005)]\n",
      "/tmp/wav/radio-MUV-103937.wav\n"
     ]
    },
    {
     "name": "stderr",
     "output_type": "stream",
     "text": [
      "/home/ddoukhan/git_repos/davidreda/env/lib/python3.10/site-packages/pyannote/algorithms/utils/viterbi.py:86: FutureWarning: arrays to stack must be passed as a \"sequence\" type such as list or tuple. Support for non-sequence iterables such as generators is deprecated as of NumPy 1.16 and will raise an error in the future.\n",
      "  return np.vstack(\n",
      "/home/ddoukhan/git_repos/davidreda/env/lib/python3.10/site-packages/pyannote/algorithms/utils/viterbi.py:95: FutureWarning: arrays to stack must be passed as a \"sequence\" type such as list or tuple. Support for non-sequence iterables such as generators is deprecated as of NumPy 1.16 and will raise an error in the future.\n",
      "  return np.vstack(\n"
     ]
    },
    {
     "name": "stdout",
     "output_type": "stream",
     "text": [
      "92/92 - 0s - 149ms/epoch - 2ms/step\n",
      "59/59 - 0s - 185ms/epoch - 3ms/step\n",
      "[('music', 0.0, 16.16), ('female', 16.16, 19.080000000000002), ('music', 19.080000000000002, 22.26), ('female', 22.26, 37.22), ('male', 37.22, 39.14), ('noEnergy', 39.14, 39.92), ('music', 39.92, 42.06), ('male', 42.06, 44.62), ('female', 44.62, 49.36), ('male', 49.36, 54.480000000000004), ('female', 54.480000000000004, 58.74), ('noEnergy', 58.74, 59.22), ('male', 59.22, 60.02)]\n",
      "/tmp/wav/radio-FIP-065712.wav\n"
     ]
    },
    {
     "name": "stderr",
     "output_type": "stream",
     "text": [
      "/home/ddoukhan/git_repos/davidreda/env/lib/python3.10/site-packages/pyannote/algorithms/utils/viterbi.py:86: FutureWarning: arrays to stack must be passed as a \"sequence\" type such as list or tuple. Support for non-sequence iterables such as generators is deprecated as of NumPy 1.16 and will raise an error in the future.\n",
      "  return np.vstack(\n",
      "/home/ddoukhan/git_repos/davidreda/env/lib/python3.10/site-packages/pyannote/algorithms/utils/viterbi.py:95: FutureWarning: arrays to stack must be passed as a \"sequence\" type such as list or tuple. Support for non-sequence iterables such as generators is deprecated as of NumPy 1.16 and will raise an error in the future.\n",
      "  return np.vstack(\n"
     ]
    },
    {
     "name": "stdout",
     "output_type": "stream",
     "text": [
      "94/94 - 0s - 148ms/epoch - 2ms/step\n",
      "[('music', 0.0, 60.0)]\n",
      "/tmp/wav/radio-FUN-122734.wav\n"
     ]
    },
    {
     "name": "stderr",
     "output_type": "stream",
     "text": [
      "/home/ddoukhan/git_repos/davidreda/env/lib/python3.10/site-packages/pyannote/algorithms/utils/viterbi.py:86: FutureWarning: arrays to stack must be passed as a \"sequence\" type such as list or tuple. Support for non-sequence iterables such as generators is deprecated as of NumPy 1.16 and will raise an error in the future.\n",
      "  return np.vstack(\n",
      "/home/ddoukhan/git_repos/davidreda/env/lib/python3.10/site-packages/pyannote/algorithms/utils/viterbi.py:95: FutureWarning: arrays to stack must be passed as a \"sequence\" type such as list or tuple. Support for non-sequence iterables such as generators is deprecated as of NumPy 1.16 and will raise an error in the future.\n",
      "  return np.vstack(\n"
     ]
    },
    {
     "name": "stdout",
     "output_type": "stream",
     "text": [
      "94/94 - 0s - 146ms/epoch - 2ms/step\n",
      "86/86 - 0s - 293ms/epoch - 3ms/step\n",
      "[('male', 0.0, 9.52), ('music', 9.52, 11.32), ('male', 11.32, 14.540000000000001), ('female', 14.540000000000001, 17.72), ('male', 17.72, 20.26), ('female', 20.26, 50.26), ('music', 50.26, 53.56), ('female', 53.56, 54.26), ('male', 54.26, 60.0)]\n",
      "/tmp/wav/tv-C+N-104137.wav\n"
     ]
    },
    {
     "name": "stderr",
     "output_type": "stream",
     "text": [
      "/home/ddoukhan/git_repos/davidreda/env/lib/python3.10/site-packages/pyannote/algorithms/utils/viterbi.py:86: FutureWarning: arrays to stack must be passed as a \"sequence\" type such as list or tuple. Support for non-sequence iterables such as generators is deprecated as of NumPy 1.16 and will raise an error in the future.\n",
      "  return np.vstack(\n",
      "/home/ddoukhan/git_repos/davidreda/env/lib/python3.10/site-packages/pyannote/algorithms/utils/viterbi.py:95: FutureWarning: arrays to stack must be passed as a \"sequence\" type such as list or tuple. Support for non-sequence iterables such as generators is deprecated as of NumPy 1.16 and will raise an error in the future.\n",
      "  return np.vstack(\n"
     ]
    },
    {
     "name": "stdout",
     "output_type": "stream",
     "text": [
      "95/95 - 0s - 149ms/epoch - 2ms/step\n",
      "89/89 - 0s - 270ms/epoch - 3ms/step\n",
      "[('female', 0.0, 1.48), ('male', 1.48, 3.22), ('female', 3.22, 17.98), ('music', 17.98, 19.32), ('male', 19.32, 27.18), ('female', 27.18, 31.2), ('music', 31.2, 33.68), ('male', 33.68, 60.26)]\n",
      "/tmp/wav/radio-MUV-110303.wav\n"
     ]
    },
    {
     "name": "stderr",
     "output_type": "stream",
     "text": [
      "/home/ddoukhan/git_repos/davidreda/env/lib/python3.10/site-packages/pyannote/algorithms/utils/viterbi.py:86: FutureWarning: arrays to stack must be passed as a \"sequence\" type such as list or tuple. Support for non-sequence iterables such as generators is deprecated as of NumPy 1.16 and will raise an error in the future.\n",
      "  return np.vstack(\n",
      "/home/ddoukhan/git_repos/davidreda/env/lib/python3.10/site-packages/pyannote/algorithms/utils/viterbi.py:95: FutureWarning: arrays to stack must be passed as a \"sequence\" type such as list or tuple. Support for non-sequence iterables such as generators is deprecated as of NumPy 1.16 and will raise an error in the future.\n",
      "  return np.vstack(\n"
     ]
    },
    {
     "name": "stdout",
     "output_type": "stream",
     "text": [
      "94/94 - 0s - 147ms/epoch - 2ms/step\n",
      "20/20 - 0s - 68ms/epoch - 3ms/step\n",
      "[('music', 0.0, 34.12), ('male', 34.12, 42.24), ('music', 42.24, 55.92), ('male', 55.92, 60.0)]\n",
      "/tmp/wav/tv-C+_-054514.wav\n"
     ]
    },
    {
     "name": "stderr",
     "output_type": "stream",
     "text": [
      "/home/ddoukhan/git_repos/davidreda/env/lib/python3.10/site-packages/pyannote/algorithms/utils/viterbi.py:86: FutureWarning: arrays to stack must be passed as a \"sequence\" type such as list or tuple. Support for non-sequence iterables such as generators is deprecated as of NumPy 1.16 and will raise an error in the future.\n",
      "  return np.vstack(\n",
      "/home/ddoukhan/git_repos/davidreda/env/lib/python3.10/site-packages/pyannote/algorithms/utils/viterbi.py:95: FutureWarning: arrays to stack must be passed as a \"sequence\" type such as list or tuple. Support for non-sequence iterables such as generators is deprecated as of NumPy 1.16 and will raise an error in the future.\n",
      "  return np.vstack(\n"
     ]
    },
    {
     "name": "stdout",
     "output_type": "stream",
     "text": [
      "96/96 - 0s - 151ms/epoch - 2ms/step\n",
      "91/91 - 0s - 277ms/epoch - 3ms/step\n",
      "[('music', 0.0, 1.28), ('male', 1.28, 11.88), ('music', 11.88, 13.72), ('male', 13.72, 61.28)]\n",
      "/tmp/wav/radio-FBL-205100.wav\n"
     ]
    },
    {
     "name": "stderr",
     "output_type": "stream",
     "text": [
      "/home/ddoukhan/git_repos/davidreda/env/lib/python3.10/site-packages/pyannote/algorithms/utils/viterbi.py:86: FutureWarning: arrays to stack must be passed as a \"sequence\" type such as list or tuple. Support for non-sequence iterables such as generators is deprecated as of NumPy 1.16 and will raise an error in the future.\n",
      "  return np.vstack(\n",
      "/home/ddoukhan/git_repos/davidreda/env/lib/python3.10/site-packages/pyannote/algorithms/utils/viterbi.py:95: FutureWarning: arrays to stack must be passed as a \"sequence\" type such as list or tuple. Support for non-sequence iterables such as generators is deprecated as of NumPy 1.16 and will raise an error in the future.\n",
      "  return np.vstack(\n"
     ]
    },
    {
     "name": "stdout",
     "output_type": "stream",
     "text": [
      "94/94 - 0s - 149ms/epoch - 2ms/step\n",
      "[('music', 0.0, 60.0)]\n",
      "/tmp/wav/tv-C+N-234951.wav\n"
     ]
    },
    {
     "name": "stderr",
     "output_type": "stream",
     "text": [
      "/home/ddoukhan/git_repos/davidreda/env/lib/python3.10/site-packages/pyannote/algorithms/utils/viterbi.py:86: FutureWarning: arrays to stack must be passed as a \"sequence\" type such as list or tuple. Support for non-sequence iterables such as generators is deprecated as of NumPy 1.16 and will raise an error in the future.\n",
      "  return np.vstack(\n",
      "/home/ddoukhan/git_repos/davidreda/env/lib/python3.10/site-packages/pyannote/algorithms/utils/viterbi.py:95: FutureWarning: arrays to stack must be passed as a \"sequence\" type such as list or tuple. Support for non-sequence iterables such as generators is deprecated as of NumPy 1.16 and will raise an error in the future.\n",
      "  return np.vstack(\n"
     ]
    },
    {
     "name": "stdout",
     "output_type": "stream",
     "text": [
      "95/95 - 0s - 149ms/epoch - 2ms/step\n",
      "95/95 - 0s - 291ms/epoch - 3ms/step\n",
      "[('male', 0.0, 11.52), ('noEnergy', 11.52, 11.96), ('male', 11.96, 21.68), ('noEnergy', 21.68, 22.44), ('male', 22.44, 61.96)]\n",
      "/tmp/wav/tv-C+N-072654.wav\n"
     ]
    },
    {
     "name": "stderr",
     "output_type": "stream",
     "text": [
      "/home/ddoukhan/git_repos/davidreda/env/lib/python3.10/site-packages/pyannote/algorithms/utils/viterbi.py:86: FutureWarning: arrays to stack must be passed as a \"sequence\" type such as list or tuple. Support for non-sequence iterables such as generators is deprecated as of NumPy 1.16 and will raise an error in the future.\n",
      "  return np.vstack(\n",
      "/home/ddoukhan/git_repos/davidreda/env/lib/python3.10/site-packages/pyannote/algorithms/utils/viterbi.py:95: FutureWarning: arrays to stack must be passed as a \"sequence\" type such as list or tuple. Support for non-sequence iterables such as generators is deprecated as of NumPy 1.16 and will raise an error in the future.\n",
      "  return np.vstack(\n",
      "/home/ddoukhan/git_repos/davidreda/env/lib/python3.10/site-packages/inaSpeechSegmenter/segmenter.py:62: RuntimeWarning: invalid value encountered in subtract\n",
      "  data = (data - np.mean(data, axis=1).reshape((len(data), 1))) / np.std(data, axis=1).reshape((len(data), 1))\n",
      "/home/ddoukhan/git_repos/davidreda/env/lib/python3.10/site-packages/numpy/core/_methods.py:236: RuntimeWarning: invalid value encountered in subtract\n",
      "  x = asanyarray(arr - arrmean)\n"
     ]
    },
    {
     "name": "stdout",
     "output_type": "stream",
     "text": [
      "93/93 - 0s - 148ms/epoch - 2ms/step\n",
      "38/38 - 0s - 120ms/epoch - 3ms/step\n",
      "[('noise', 0.0, 1.18), ('music', 1.18, 12.8), ('male', 12.8, 16.88), ('noEnergy', 16.88, 17.84), ('male', 17.84, 22.48), ('music', 22.48, 29.52), ('female', 29.52, 35.34), ('male', 35.34, 38.18), ('music', 38.18, 41.26), ('female', 41.26, 47.800000000000004), ('noEnergy', 47.800000000000004, 48.32), ('music', 48.32, 60.84)]\n",
      "/tmp/wav/radio-FIP-220055.wav\n"
     ]
    },
    {
     "name": "stderr",
     "output_type": "stream",
     "text": [
      "/home/ddoukhan/git_repos/davidreda/env/lib/python3.10/site-packages/pyannote/algorithms/utils/viterbi.py:86: FutureWarning: arrays to stack must be passed as a \"sequence\" type such as list or tuple. Support for non-sequence iterables such as generators is deprecated as of NumPy 1.16 and will raise an error in the future.\n",
      "  return np.vstack(\n",
      "/home/ddoukhan/git_repos/davidreda/env/lib/python3.10/site-packages/pyannote/algorithms/utils/viterbi.py:95: FutureWarning: arrays to stack must be passed as a \"sequence\" type such as list or tuple. Support for non-sequence iterables such as generators is deprecated as of NumPy 1.16 and will raise an error in the future.\n",
      "  return np.vstack(\n"
     ]
    },
    {
     "name": "stdout",
     "output_type": "stream",
     "text": [
      "94/94 - 0s - 145ms/epoch - 2ms/step\n",
      "11/11 - 0s - 41ms/epoch - 4ms/step\n",
      "[('female', 0.0, 7.04), ('music', 7.04, 60.0)]\n",
      "/tmp/wav/tv-FR2-081050.wav\n"
     ]
    },
    {
     "name": "stderr",
     "output_type": "stream",
     "text": [
      "/home/ddoukhan/git_repos/davidreda/env/lib/python3.10/site-packages/pyannote/algorithms/utils/viterbi.py:86: FutureWarning: arrays to stack must be passed as a \"sequence\" type such as list or tuple. Support for non-sequence iterables such as generators is deprecated as of NumPy 1.16 and will raise an error in the future.\n",
      "  return np.vstack(\n",
      "/home/ddoukhan/git_repos/davidreda/env/lib/python3.10/site-packages/pyannote/algorithms/utils/viterbi.py:95: FutureWarning: arrays to stack must be passed as a \"sequence\" type such as list or tuple. Support for non-sequence iterables such as generators is deprecated as of NumPy 1.16 and will raise an error in the future.\n",
      "  return np.vstack(\n",
      "/home/ddoukhan/git_repos/davidreda/env/lib/python3.10/site-packages/inaSpeechSegmenter/segmenter.py:62: RuntimeWarning: invalid value encountered in subtract\n",
      "  data = (data - np.mean(data, axis=1).reshape((len(data), 1))) / np.std(data, axis=1).reshape((len(data), 1))\n",
      "/home/ddoukhan/git_repos/davidreda/env/lib/python3.10/site-packages/numpy/core/_methods.py:236: RuntimeWarning: invalid value encountered in subtract\n",
      "  x = asanyarray(arr - arrmean)\n"
     ]
    },
    {
     "name": "stdout",
     "output_type": "stream",
     "text": [
      "95/95 - 0s - 152ms/epoch - 2ms/step\n",
      "95/95 - 0s - 287ms/epoch - 3ms/step\n",
      "[('female', 0.0, 17.12), ('noEnergy', 17.12, 17.56), ('male', 17.56, 57.92), ('female', 57.92, 61.2)]\n",
      "/tmp/wav/tv-TF1-190336.wav\n"
     ]
    },
    {
     "name": "stderr",
     "output_type": "stream",
     "text": [
      "/home/ddoukhan/git_repos/davidreda/env/lib/python3.10/site-packages/pyannote/algorithms/utils/viterbi.py:86: FutureWarning: arrays to stack must be passed as a \"sequence\" type such as list or tuple. Support for non-sequence iterables such as generators is deprecated as of NumPy 1.16 and will raise an error in the future.\n",
      "  return np.vstack(\n",
      "/home/ddoukhan/git_repos/davidreda/env/lib/python3.10/site-packages/pyannote/algorithms/utils/viterbi.py:95: FutureWarning: arrays to stack must be passed as a \"sequence\" type such as list or tuple. Support for non-sequence iterables such as generators is deprecated as of NumPy 1.16 and will raise an error in the future.\n",
      "  return np.vstack(\n"
     ]
    },
    {
     "name": "stdout",
     "output_type": "stream",
     "text": [
      "91/91 - 0s - 147ms/epoch - 2ms/step\n",
      "68/68 - 0s - 208ms/epoch - 3ms/step\n",
      "[('female', 0.0, 0.54), ('male', 0.54, 2.0), ('noise', 2.0, 8.22), ('female', 8.22, 13.66), ('male', 13.66, 14.5), ('noEnergy', 14.5, 16.5), ('noise', 16.5, 24.96), ('male', 24.96, 35.980000000000004), ('female', 35.980000000000004, 38.32), ('male', 38.32, 40.980000000000004), ('noEnergy', 40.980000000000004, 41.660000000000004), ('male', 41.660000000000004, 48.08), ('female', 48.08, 49.74), ('male', 49.74, 56.02), ('female', 56.02, 58.84), ('male', 58.84, 60.44)]\n",
      "/tmp/wav/tv-T5M-012133.wav\n"
     ]
    },
    {
     "name": "stderr",
     "output_type": "stream",
     "text": [
      "/home/ddoukhan/git_repos/davidreda/env/lib/python3.10/site-packages/pyannote/algorithms/utils/viterbi.py:86: FutureWarning: arrays to stack must be passed as a \"sequence\" type such as list or tuple. Support for non-sequence iterables such as generators is deprecated as of NumPy 1.16 and will raise an error in the future.\n",
      "  return np.vstack(\n",
      "/home/ddoukhan/git_repos/davidreda/env/lib/python3.10/site-packages/pyannote/algorithms/utils/viterbi.py:95: FutureWarning: arrays to stack must be passed as a \"sequence\" type such as list or tuple. Support for non-sequence iterables such as generators is deprecated as of NumPy 1.16 and will raise an error in the future.\n",
      "  return np.vstack(\n"
     ]
    },
    {
     "name": "stdout",
     "output_type": "stream",
     "text": [
      "97/97 - 0s - 152ms/epoch - 2ms/step\n",
      "97/97 - 0s - 337ms/epoch - 3ms/step\n",
      "[('male', 0.0, 12.120000000000001), ('female', 12.120000000000001, 20.72), ('male', 20.72, 43.94), ('female', 43.94, 61.92)]\n",
      "/tmp/wav/tv-FR2-070013.wav\n"
     ]
    },
    {
     "name": "stderr",
     "output_type": "stream",
     "text": [
      "/home/ddoukhan/git_repos/davidreda/env/lib/python3.10/site-packages/pyannote/algorithms/utils/viterbi.py:86: FutureWarning: arrays to stack must be passed as a \"sequence\" type such as list or tuple. Support for non-sequence iterables such as generators is deprecated as of NumPy 1.16 and will raise an error in the future.\n",
      "  return np.vstack(\n",
      "/home/ddoukhan/git_repos/davidreda/env/lib/python3.10/site-packages/pyannote/algorithms/utils/viterbi.py:95: FutureWarning: arrays to stack must be passed as a \"sequence\" type such as list or tuple. Support for non-sequence iterables such as generators is deprecated as of NumPy 1.16 and will raise an error in the future.\n",
      "  return np.vstack(\n"
     ]
    },
    {
     "name": "stdout",
     "output_type": "stream",
     "text": [
      "94/94 - 0s - 149ms/epoch - 2ms/step\n",
      "90/90 - 0s - 274ms/epoch - 3ms/step\n",
      "[('female', 0.0, 2.54), ('noEnergy', 2.54, 3.22), ('music', 3.22, 5.32), ('female', 5.32, 24.66), ('noEnergy', 24.66, 25.060000000000002), ('male', 25.060000000000002, 33.5), ('female', 33.5, 41.42), ('male', 41.42, 44.980000000000004), ('female', 44.980000000000004, 47.32), ('male', 47.32, 60.64)]\n",
      "/tmp/wav/tv-LCI-202813.wav\n"
     ]
    },
    {
     "name": "stderr",
     "output_type": "stream",
     "text": [
      "/home/ddoukhan/git_repos/davidreda/env/lib/python3.10/site-packages/pyannote/algorithms/utils/viterbi.py:86: FutureWarning: arrays to stack must be passed as a \"sequence\" type such as list or tuple. Support for non-sequence iterables such as generators is deprecated as of NumPy 1.16 and will raise an error in the future.\n",
      "  return np.vstack(\n",
      "/home/ddoukhan/git_repos/davidreda/env/lib/python3.10/site-packages/pyannote/algorithms/utils/viterbi.py:95: FutureWarning: arrays to stack must be passed as a \"sequence\" type such as list or tuple. Support for non-sequence iterables such as generators is deprecated as of NumPy 1.16 and will raise an error in the future.\n",
      "  return np.vstack(\n"
     ]
    },
    {
     "name": "stdout",
     "output_type": "stream",
     "text": [
      "94/94 - 0s - 151ms/epoch - 2ms/step\n",
      "94/94 - 0s - 286ms/epoch - 3ms/step\n",
      "[('female', 0.0, 1.72), ('male', 1.72, 6.84), ('female', 6.84, 28.52), ('noEnergy', 28.52, 29.3), ('female', 29.3, 60.56)]\n",
      "/tmp/wav/tv-T5M-220844.wav\n"
     ]
    },
    {
     "name": "stderr",
     "output_type": "stream",
     "text": [
      "/home/ddoukhan/git_repos/davidreda/env/lib/python3.10/site-packages/pyannote/algorithms/utils/viterbi.py:86: FutureWarning: arrays to stack must be passed as a \"sequence\" type such as list or tuple. Support for non-sequence iterables such as generators is deprecated as of NumPy 1.16 and will raise an error in the future.\n",
      "  return np.vstack(\n",
      "/home/ddoukhan/git_repos/davidreda/env/lib/python3.10/site-packages/pyannote/algorithms/utils/viterbi.py:95: FutureWarning: arrays to stack must be passed as a \"sequence\" type such as list or tuple. Support for non-sequence iterables such as generators is deprecated as of NumPy 1.16 and will raise an error in the future.\n",
      "  return np.vstack(\n"
     ]
    },
    {
     "name": "stdout",
     "output_type": "stream",
     "text": [
      "95/95 - 0s - 147ms/epoch - 2ms/step\n",
      "91/91 - 0s - 275ms/epoch - 3ms/step\n",
      "[('female', 0.0, 17.82), ('music', 17.82, 20.38), ('male', 20.38, 22.88), ('female', 22.88, 34.58), ('male', 34.58, 58.5), ('female', 58.5, 60.76)]\n",
      "/tmp/wav/radio-FMU-144831.wav\n"
     ]
    },
    {
     "name": "stderr",
     "output_type": "stream",
     "text": [
      "/home/ddoukhan/git_repos/davidreda/env/lib/python3.10/site-packages/pyannote/algorithms/utils/viterbi.py:86: FutureWarning: arrays to stack must be passed as a \"sequence\" type such as list or tuple. Support for non-sequence iterables such as generators is deprecated as of NumPy 1.16 and will raise an error in the future.\n",
      "  return np.vstack(\n",
      "/home/ddoukhan/git_repos/davidreda/env/lib/python3.10/site-packages/pyannote/algorithms/utils/viterbi.py:95: FutureWarning: arrays to stack must be passed as a \"sequence\" type such as list or tuple. Support for non-sequence iterables such as generators is deprecated as of NumPy 1.16 and will raise an error in the future.\n",
      "  return np.vstack(\n"
     ]
    },
    {
     "name": "stdout",
     "output_type": "stream",
     "text": [
      "91/91 - 0s - 143ms/epoch - 2ms/step\n",
      "71/71 - 0s - 218ms/epoch - 3ms/step\n",
      "[('male', 0.0, 20.44), ('noEnergy', 20.44, 20.98), ('male', 20.98, 45.480000000000004), ('noEnergy', 45.480000000000004, 47.26), ('music', 47.26, 60.0)]\n",
      "/tmp/wav/radio-FIT-193651.wav\n"
     ]
    },
    {
     "name": "stderr",
     "output_type": "stream",
     "text": [
      "/home/ddoukhan/git_repos/davidreda/env/lib/python3.10/site-packages/pyannote/algorithms/utils/viterbi.py:86: FutureWarning: arrays to stack must be passed as a \"sequence\" type such as list or tuple. Support for non-sequence iterables such as generators is deprecated as of NumPy 1.16 and will raise an error in the future.\n",
      "  return np.vstack(\n",
      "/home/ddoukhan/git_repos/davidreda/env/lib/python3.10/site-packages/pyannote/algorithms/utils/viterbi.py:95: FutureWarning: arrays to stack must be passed as a \"sequence\" type such as list or tuple. Support for non-sequence iterables such as generators is deprecated as of NumPy 1.16 and will raise an error in the future.\n",
      "  return np.vstack(\n"
     ]
    },
    {
     "name": "stdout",
     "output_type": "stream",
     "text": [
      "93/93 - 0s - 146ms/epoch - 2ms/step\n",
      "93/93 - 0s - 283ms/epoch - 3ms/step\n",
      "[('male', 0.0, 32.22), ('noEnergy', 32.22, 32.82), ('male', 32.82, 53.52), ('female', 53.52, 60.02)]\n",
      "/tmp/wav/tv-LCI-030611.wav\n"
     ]
    },
    {
     "name": "stderr",
     "output_type": "stream",
     "text": [
      "/home/ddoukhan/git_repos/davidreda/env/lib/python3.10/site-packages/pyannote/algorithms/utils/viterbi.py:86: FutureWarning: arrays to stack must be passed as a \"sequence\" type such as list or tuple. Support for non-sequence iterables such as generators is deprecated as of NumPy 1.16 and will raise an error in the future.\n",
      "  return np.vstack(\n",
      "/home/ddoukhan/git_repos/davidreda/env/lib/python3.10/site-packages/pyannote/algorithms/utils/viterbi.py:95: FutureWarning: arrays to stack must be passed as a \"sequence\" type such as list or tuple. Support for non-sequence iterables such as generators is deprecated as of NumPy 1.16 and will raise an error in the future.\n",
      "  return np.vstack(\n"
     ]
    },
    {
     "name": "stdout",
     "output_type": "stream",
     "text": [
      "92/92 - 0s - 142ms/epoch - 2ms/step\n",
      "92/92 - 0s - 279ms/epoch - 3ms/step\n",
      "[('male', 0.0, 0.96), ('noEnergy', 0.96, 1.96), ('male', 1.96, 17.1), ('noEnergy', 17.1, 17.66), ('male', 17.66, 21.0), ('noEnergy', 21.0, 22.12), ('male', 22.12, 61.02)]\n",
      "/tmp/wav/tv-FR3-190726.wav\n"
     ]
    },
    {
     "name": "stderr",
     "output_type": "stream",
     "text": [
      "/home/ddoukhan/git_repos/davidreda/env/lib/python3.10/site-packages/pyannote/algorithms/utils/viterbi.py:86: FutureWarning: arrays to stack must be passed as a \"sequence\" type such as list or tuple. Support for non-sequence iterables such as generators is deprecated as of NumPy 1.16 and will raise an error in the future.\n",
      "  return np.vstack(\n",
      "/home/ddoukhan/git_repos/davidreda/env/lib/python3.10/site-packages/pyannote/algorithms/utils/viterbi.py:95: FutureWarning: arrays to stack must be passed as a \"sequence\" type such as list or tuple. Support for non-sequence iterables such as generators is deprecated as of NumPy 1.16 and will raise an error in the future.\n",
      "  return np.vstack(\n"
     ]
    },
    {
     "name": "stdout",
     "output_type": "stream",
     "text": [
      "97/97 - 0s - 151ms/epoch - 2ms/step\n",
      "97/97 - 0s - 296ms/epoch - 3ms/step\n",
      "[('male', 0.0, 3.2), ('female', 3.2, 11.72), ('male', 11.72, 37.06), ('female', 37.06, 61.56)]\n",
      "/tmp/wav/radio-FCR-115618.wav\n"
     ]
    },
    {
     "name": "stderr",
     "output_type": "stream",
     "text": [
      "/home/ddoukhan/git_repos/davidreda/env/lib/python3.10/site-packages/pyannote/algorithms/utils/viterbi.py:86: FutureWarning: arrays to stack must be passed as a \"sequence\" type such as list or tuple. Support for non-sequence iterables such as generators is deprecated as of NumPy 1.16 and will raise an error in the future.\n",
      "  return np.vstack(\n",
      "/home/ddoukhan/git_repos/davidreda/env/lib/python3.10/site-packages/pyannote/algorithms/utils/viterbi.py:95: FutureWarning: arrays to stack must be passed as a \"sequence\" type such as list or tuple. Support for non-sequence iterables such as generators is deprecated as of NumPy 1.16 and will raise an error in the future.\n",
      "  return np.vstack(\n"
     ]
    },
    {
     "name": "stdout",
     "output_type": "stream",
     "text": [
      "93/93 - 0s - 147ms/epoch - 2ms/step\n",
      "93/93 - 0s - 280ms/epoch - 3ms/step\n",
      "[('male', 0.0, 17.1), ('noEnergy', 17.1, 17.62), ('male', 17.62, 60.02)]\n",
      "/tmp/wav/tv-F24-042912.wav\n"
     ]
    },
    {
     "name": "stderr",
     "output_type": "stream",
     "text": [
      "/home/ddoukhan/git_repos/davidreda/env/lib/python3.10/site-packages/pyannote/algorithms/utils/viterbi.py:86: FutureWarning: arrays to stack must be passed as a \"sequence\" type such as list or tuple. Support for non-sequence iterables such as generators is deprecated as of NumPy 1.16 and will raise an error in the future.\n",
      "  return np.vstack(\n",
      "/home/ddoukhan/git_repos/davidreda/env/lib/python3.10/site-packages/pyannote/algorithms/utils/viterbi.py:95: FutureWarning: arrays to stack must be passed as a \"sequence\" type such as list or tuple. Support for non-sequence iterables such as generators is deprecated as of NumPy 1.16 and will raise an error in the future.\n",
      "  return np.vstack(\n",
      "/home/ddoukhan/git_repos/davidreda/env/lib/python3.10/site-packages/inaSpeechSegmenter/segmenter.py:62: RuntimeWarning: invalid value encountered in subtract\n",
      "  data = (data - np.mean(data, axis=1).reshape((len(data), 1))) / np.std(data, axis=1).reshape((len(data), 1))\n",
      "/home/ddoukhan/git_repos/davidreda/env/lib/python3.10/site-packages/numpy/core/_methods.py:236: RuntimeWarning: invalid value encountered in subtract\n",
      "  x = asanyarray(arr - arrmean)\n"
     ]
    },
    {
     "name": "stdout",
     "output_type": "stream",
     "text": [
      "93/93 - 0s - 147ms/epoch - 2ms/step\n",
      "28/28 - 0s - 92ms/epoch - 3ms/step\n",
      "[('music', 0.0, 25.080000000000002), ('noEnergy', 25.080000000000002, 25.88), ('male', 25.88, 32.480000000000004), ('noise', 32.480000000000004, 36.74), ('male', 36.74, 39.18), ('noise', 39.18, 45.92), ('male', 45.92, 54.300000000000004), ('noEnergy', 54.300000000000004, 55.26), ('music', 55.26, 61.22)]\n",
      "/tmp/wav/tv-TF1-031751.wav\n"
     ]
    },
    {
     "name": "stderr",
     "output_type": "stream",
     "text": [
      "/home/ddoukhan/git_repos/davidreda/env/lib/python3.10/site-packages/pyannote/algorithms/utils/viterbi.py:86: FutureWarning: arrays to stack must be passed as a \"sequence\" type such as list or tuple. Support for non-sequence iterables such as generators is deprecated as of NumPy 1.16 and will raise an error in the future.\n",
      "  return np.vstack(\n",
      "/home/ddoukhan/git_repos/davidreda/env/lib/python3.10/site-packages/pyannote/algorithms/utils/viterbi.py:95: FutureWarning: arrays to stack must be passed as a \"sequence\" type such as list or tuple. Support for non-sequence iterables such as generators is deprecated as of NumPy 1.16 and will raise an error in the future.\n",
      "  return np.vstack(\n"
     ]
    },
    {
     "name": "stdout",
     "output_type": "stream",
     "text": [
      "97/97 - 0s - 236ms/epoch - 2ms/step\n",
      "47/47 - 0s - 147ms/epoch - 3ms/step\n",
      "[('female', 0.0, 0.8), ('music', 0.8, 2.4), ('male', 2.4, 16.26), ('noise', 16.26, 21.46), ('music', 21.46, 26.78), ('noise', 26.78, 36.28), ('music', 36.28, 38.4), ('male', 38.4, 40.2), ('female', 40.2, 42.0), ('male', 42.0, 49.06), ('noise', 49.06, 57.2), ('female', 57.2, 60.160000000000004), ('male', 60.160000000000004, 61.88)]\n",
      "/tmp/wav/tv-TF1-021706.wav\n"
     ]
    },
    {
     "name": "stderr",
     "output_type": "stream",
     "text": [
      "/home/ddoukhan/git_repos/davidreda/env/lib/python3.10/site-packages/pyannote/algorithms/utils/viterbi.py:86: FutureWarning: arrays to stack must be passed as a \"sequence\" type such as list or tuple. Support for non-sequence iterables such as generators is deprecated as of NumPy 1.16 and will raise an error in the future.\n",
      "  return np.vstack(\n",
      "/home/ddoukhan/git_repos/davidreda/env/lib/python3.10/site-packages/pyannote/algorithms/utils/viterbi.py:95: FutureWarning: arrays to stack must be passed as a \"sequence\" type such as list or tuple. Support for non-sequence iterables such as generators is deprecated as of NumPy 1.16 and will raise an error in the future.\n",
      "  return np.vstack(\n"
     ]
    },
    {
     "name": "stdout",
     "output_type": "stream",
     "text": [
      "93/93 - 0s - 146ms/epoch - 2ms/step\n",
      "86/86 - 0s - 261ms/epoch - 3ms/step\n",
      "[('noEnergy', 0.0, 0.5), ('music', 0.5, 1.5), ('female', 1.5, 4.22), ('noEnergy', 4.22, 4.64), ('female', 4.64, 13.3), ('music', 13.3, 17.18), ('male', 17.18, 18.92), ('female', 18.92, 20.66), ('male', 20.66, 29.080000000000002), ('female', 29.080000000000002, 49.42), ('male', 49.42, 55.24), ('female', 55.24, 60.24)]\n",
      "/tmp/wav/tv-M6_-193323.wav\n"
     ]
    },
    {
     "name": "stderr",
     "output_type": "stream",
     "text": [
      "/home/ddoukhan/git_repos/davidreda/env/lib/python3.10/site-packages/pyannote/algorithms/utils/viterbi.py:86: FutureWarning: arrays to stack must be passed as a \"sequence\" type such as list or tuple. Support for non-sequence iterables such as generators is deprecated as of NumPy 1.16 and will raise an error in the future.\n",
      "  return np.vstack(\n",
      "/home/ddoukhan/git_repos/davidreda/env/lib/python3.10/site-packages/pyannote/algorithms/utils/viterbi.py:95: FutureWarning: arrays to stack must be passed as a \"sequence\" type such as list or tuple. Support for non-sequence iterables such as generators is deprecated as of NumPy 1.16 and will raise an error in the future.\n",
      "  return np.vstack(\n"
     ]
    },
    {
     "name": "stdout",
     "output_type": "stream",
     "text": [
      "95/95 - 0s - 152ms/epoch - 2ms/step\n",
      "94/94 - 0s - 286ms/epoch - 3ms/step\n",
      "[('female', 0.0, 2.94), ('male', 2.94, 8.94), ('female', 8.94, 15.44), ('male', 15.44, 16.12), ('female', 16.12, 30.580000000000002), ('male', 30.580000000000002, 32.06), ('female', 32.06, 41.44), ('male', 41.44, 46.38), ('noEnergy', 46.38, 46.96), ('music', 46.96, 47.86), ('female', 47.86, 61.06)]\n",
      "/tmp/wav/radio-FIF-145356.wav\n"
     ]
    },
    {
     "name": "stderr",
     "output_type": "stream",
     "text": [
      "/home/ddoukhan/git_repos/davidreda/env/lib/python3.10/site-packages/pyannote/algorithms/utils/viterbi.py:86: FutureWarning: arrays to stack must be passed as a \"sequence\" type such as list or tuple. Support for non-sequence iterables such as generators is deprecated as of NumPy 1.16 and will raise an error in the future.\n",
      "  return np.vstack(\n",
      "/home/ddoukhan/git_repos/davidreda/env/lib/python3.10/site-packages/pyannote/algorithms/utils/viterbi.py:95: FutureWarning: arrays to stack must be passed as a \"sequence\" type such as list or tuple. Support for non-sequence iterables such as generators is deprecated as of NumPy 1.16 and will raise an error in the future.\n",
      "  return np.vstack(\n"
     ]
    },
    {
     "name": "stdout",
     "output_type": "stream",
     "text": [
      "94/94 - 0s - 147ms/epoch - 2ms/step\n",
      "94/94 - 0s - 286ms/epoch - 3ms/step\n",
      "[('female', 0.0, 60.0)]\n",
      "/tmp/wav/radio-FCR-102514.wav\n"
     ]
    },
    {
     "name": "stderr",
     "output_type": "stream",
     "text": [
      "/home/ddoukhan/git_repos/davidreda/env/lib/python3.10/site-packages/pyannote/algorithms/utils/viterbi.py:86: FutureWarning: arrays to stack must be passed as a \"sequence\" type such as list or tuple. Support for non-sequence iterables such as generators is deprecated as of NumPy 1.16 and will raise an error in the future.\n",
      "  return np.vstack(\n",
      "/home/ddoukhan/git_repos/davidreda/env/lib/python3.10/site-packages/pyannote/algorithms/utils/viterbi.py:95: FutureWarning: arrays to stack must be passed as a \"sequence\" type such as list or tuple. Support for non-sequence iterables such as generators is deprecated as of NumPy 1.16 and will raise an error in the future.\n",
      "  return np.vstack(\n"
     ]
    },
    {
     "name": "stdout",
     "output_type": "stream",
     "text": [
      "90/90 - 0s - 141ms/epoch - 2ms/step\n",
      "90/90 - 0s - 272ms/epoch - 3ms/step\n",
      "[('male', 0.0, 10.4), ('noEnergy', 10.4, 10.82), ('male', 10.82, 14.3), ('noEnergy', 14.3, 15.08), ('male', 15.08, 24.54), ('noEnergy', 24.54, 25.12), ('male', 25.12, 35.44), ('noEnergy', 35.44, 36.14), ('male', 36.14, 37.160000000000004), ('noEnergy', 37.160000000000004, 37.6), ('male', 37.6, 60.02)]\n",
      "/tmp/wav/tv-T5M-230247.wav\n"
     ]
    },
    {
     "name": "stderr",
     "output_type": "stream",
     "text": [
      "/home/ddoukhan/git_repos/davidreda/env/lib/python3.10/site-packages/pyannote/algorithms/utils/viterbi.py:86: FutureWarning: arrays to stack must be passed as a \"sequence\" type such as list or tuple. Support for non-sequence iterables such as generators is deprecated as of NumPy 1.16 and will raise an error in the future.\n",
      "  return np.vstack(\n",
      "/home/ddoukhan/git_repos/davidreda/env/lib/python3.10/site-packages/pyannote/algorithms/utils/viterbi.py:95: FutureWarning: arrays to stack must be passed as a \"sequence\" type such as list or tuple. Support for non-sequence iterables such as generators is deprecated as of NumPy 1.16 and will raise an error in the future.\n",
      "  return np.vstack(\n"
     ]
    },
    {
     "name": "stdout",
     "output_type": "stream",
     "text": [
      "91/91 - 0s - 146ms/epoch - 2ms/step\n",
      "80/80 - 0s - 242ms/epoch - 3ms/step\n",
      "[('male', 0.0, 1.8800000000000001), ('noEnergy', 1.8800000000000001, 2.5), ('noise', 2.5, 3.72), ('music', 3.72, 9.68), ('female', 9.68, 30.18), ('noEnergy', 30.18, 30.68), ('female', 30.68, 53.02), ('male', 53.02, 55.84), ('noEnergy', 55.84, 56.6), ('male', 56.6, 57.7), ('noEnergy', 57.7, 58.1), ('male', 58.1, 60.28)]\n",
      "/tmp/wav/radio-FBL-011904.wav\n"
     ]
    },
    {
     "name": "stderr",
     "output_type": "stream",
     "text": [
      "/home/ddoukhan/git_repos/davidreda/env/lib/python3.10/site-packages/pyannote/algorithms/utils/viterbi.py:86: FutureWarning: arrays to stack must be passed as a \"sequence\" type such as list or tuple. Support for non-sequence iterables such as generators is deprecated as of NumPy 1.16 and will raise an error in the future.\n",
      "  return np.vstack(\n",
      "/home/ddoukhan/git_repos/davidreda/env/lib/python3.10/site-packages/pyannote/algorithms/utils/viterbi.py:95: FutureWarning: arrays to stack must be passed as a \"sequence\" type such as list or tuple. Support for non-sequence iterables such as generators is deprecated as of NumPy 1.16 and will raise an error in the future.\n",
      "  return np.vstack(\n"
     ]
    },
    {
     "name": "stdout",
     "output_type": "stream",
     "text": [
      "94/94 - 0s - 149ms/epoch - 2ms/step\n",
      "[('music', 0.0, 60.0)]\n",
      "/tmp/wav/tv-C+N-060402.wav\n"
     ]
    },
    {
     "name": "stderr",
     "output_type": "stream",
     "text": [
      "/home/ddoukhan/git_repos/davidreda/env/lib/python3.10/site-packages/pyannote/algorithms/utils/viterbi.py:86: FutureWarning: arrays to stack must be passed as a \"sequence\" type such as list or tuple. Support for non-sequence iterables such as generators is deprecated as of NumPy 1.16 and will raise an error in the future.\n",
      "  return np.vstack(\n",
      "/home/ddoukhan/git_repos/davidreda/env/lib/python3.10/site-packages/pyannote/algorithms/utils/viterbi.py:95: FutureWarning: arrays to stack must be passed as a \"sequence\" type such as list or tuple. Support for non-sequence iterables such as generators is deprecated as of NumPy 1.16 and will raise an error in the future.\n",
      "  return np.vstack(\n"
     ]
    },
    {
     "name": "stdout",
     "output_type": "stream",
     "text": [
      "93/93 - 0s - 144ms/epoch - 2ms/step\n",
      "93/93 - 0s - 286ms/epoch - 3ms/step\n",
      "[('female', 0.0, 24.560000000000002), ('noEnergy', 24.560000000000002, 26.02), ('female', 26.02, 50.08), ('noEnergy', 50.08, 51.38), ('female', 51.38, 61.940000000000005)]\n",
      "/tmp/wav/tv-T5M-211131.wav\n"
     ]
    },
    {
     "name": "stderr",
     "output_type": "stream",
     "text": [
      "/home/ddoukhan/git_repos/davidreda/env/lib/python3.10/site-packages/pyannote/algorithms/utils/viterbi.py:86: FutureWarning: arrays to stack must be passed as a \"sequence\" type such as list or tuple. Support for non-sequence iterables such as generators is deprecated as of NumPy 1.16 and will raise an error in the future.\n",
      "  return np.vstack(\n",
      "/home/ddoukhan/git_repos/davidreda/env/lib/python3.10/site-packages/pyannote/algorithms/utils/viterbi.py:95: FutureWarning: arrays to stack must be passed as a \"sequence\" type such as list or tuple. Support for non-sequence iterables such as generators is deprecated as of NumPy 1.16 and will raise an error in the future.\n",
      "  return np.vstack(\n"
     ]
    },
    {
     "name": "stdout",
     "output_type": "stream",
     "text": [
      "92/92 - 0s - 145ms/epoch - 2ms/step\n",
      "70/70 - 0s - 214ms/epoch - 3ms/step\n",
      "[('noise', 0.0, 2.2600000000000002), ('noEnergy', 2.2600000000000002, 3.24), ('male', 3.24, 7.32), ('female', 7.32, 30.6), ('noEnergy', 30.6, 31.26), ('female', 31.26, 48.44), ('noEnergy', 48.44, 48.84), ('noise', 48.84, 51.52), ('music', 51.52, 60.300000000000004)]\n",
      "/tmp/wav/radio-FMU-204117.wav\n"
     ]
    },
    {
     "name": "stderr",
     "output_type": "stream",
     "text": [
      "/home/ddoukhan/git_repos/davidreda/env/lib/python3.10/site-packages/pyannote/algorithms/utils/viterbi.py:86: FutureWarning: arrays to stack must be passed as a \"sequence\" type such as list or tuple. Support for non-sequence iterables such as generators is deprecated as of NumPy 1.16 and will raise an error in the future.\n",
      "  return np.vstack(\n",
      "/home/ddoukhan/git_repos/davidreda/env/lib/python3.10/site-packages/pyannote/algorithms/utils/viterbi.py:95: FutureWarning: arrays to stack must be passed as a \"sequence\" type such as list or tuple. Support for non-sequence iterables such as generators is deprecated as of NumPy 1.16 and will raise an error in the future.\n",
      "  return np.vstack(\n"
     ]
    },
    {
     "name": "stdout",
     "output_type": "stream",
     "text": [
      "89/89 - 0s - 145ms/epoch - 2ms/step\n",
      "[('music', 0.0, 22.78), ('noEnergy', 22.78, 26.34), ('music', 26.34, 60.0)]\n",
      "/tmp/wav/tv-LCI-100827.wav\n"
     ]
    },
    {
     "name": "stderr",
     "output_type": "stream",
     "text": [
      "/home/ddoukhan/git_repos/davidreda/env/lib/python3.10/site-packages/pyannote/algorithms/utils/viterbi.py:86: FutureWarning: arrays to stack must be passed as a \"sequence\" type such as list or tuple. Support for non-sequence iterables such as generators is deprecated as of NumPy 1.16 and will raise an error in the future.\n",
      "  return np.vstack(\n",
      "/home/ddoukhan/git_repos/davidreda/env/lib/python3.10/site-packages/pyannote/algorithms/utils/viterbi.py:95: FutureWarning: arrays to stack must be passed as a \"sequence\" type such as list or tuple. Support for non-sequence iterables such as generators is deprecated as of NumPy 1.16 and will raise an error in the future.\n",
      "  return np.vstack(\n"
     ]
    },
    {
     "name": "stdout",
     "output_type": "stream",
     "text": [
      "96/96 - 0s - 152ms/epoch - 2ms/step\n",
      "96/96 - 0s - 290ms/epoch - 3ms/step\n",
      "[('female', 0.0, 61.06)]\n",
      "/tmp/wav/tv-C+N-071121.wav\n"
     ]
    },
    {
     "name": "stderr",
     "output_type": "stream",
     "text": [
      "/home/ddoukhan/git_repos/davidreda/env/lib/python3.10/site-packages/pyannote/algorithms/utils/viterbi.py:86: FutureWarning: arrays to stack must be passed as a \"sequence\" type such as list or tuple. Support for non-sequence iterables such as generators is deprecated as of NumPy 1.16 and will raise an error in the future.\n",
      "  return np.vstack(\n",
      "/home/ddoukhan/git_repos/davidreda/env/lib/python3.10/site-packages/pyannote/algorithms/utils/viterbi.py:95: FutureWarning: arrays to stack must be passed as a \"sequence\" type such as list or tuple. Support for non-sequence iterables such as generators is deprecated as of NumPy 1.16 and will raise an error in the future.\n",
      "  return np.vstack(\n"
     ]
    },
    {
     "name": "stdout",
     "output_type": "stream",
     "text": [
      "94/94 - 0s - 148ms/epoch - 2ms/step\n",
      "94/94 - 0s - 286ms/epoch - 3ms/step\n",
      "[('male', 0.0, 57.44), ('noEnergy', 57.44, 57.84), ('male', 57.84, 60.160000000000004)]\n",
      "/tmp/wav/tv-BFT-183240.wav\n"
     ]
    },
    {
     "name": "stderr",
     "output_type": "stream",
     "text": [
      "/home/ddoukhan/git_repos/davidreda/env/lib/python3.10/site-packages/pyannote/algorithms/utils/viterbi.py:86: FutureWarning: arrays to stack must be passed as a \"sequence\" type such as list or tuple. Support for non-sequence iterables such as generators is deprecated as of NumPy 1.16 and will raise an error in the future.\n",
      "  return np.vstack(\n",
      "/home/ddoukhan/git_repos/davidreda/env/lib/python3.10/site-packages/pyannote/algorithms/utils/viterbi.py:95: FutureWarning: arrays to stack must be passed as a \"sequence\" type such as list or tuple. Support for non-sequence iterables such as generators is deprecated as of NumPy 1.16 and will raise an error in the future.\n",
      "  return np.vstack(\n"
     ]
    },
    {
     "name": "stdout",
     "output_type": "stream",
     "text": [
      "94/94 - 0s - 150ms/epoch - 2ms/step\n",
      "94/94 - 0s - 441ms/epoch - 5ms/step\n",
      "[('male', 0.0, 8.72), ('noEnergy', 8.72, 9.16), ('male', 9.16, 60.480000000000004)]\n",
      "/tmp/wav/radio-FMU-224627.wav\n"
     ]
    },
    {
     "name": "stderr",
     "output_type": "stream",
     "text": [
      "/home/ddoukhan/git_repos/davidreda/env/lib/python3.10/site-packages/pyannote/algorithms/utils/viterbi.py:86: FutureWarning: arrays to stack must be passed as a \"sequence\" type such as list or tuple. Support for non-sequence iterables such as generators is deprecated as of NumPy 1.16 and will raise an error in the future.\n",
      "  return np.vstack(\n",
      "/home/ddoukhan/git_repos/davidreda/env/lib/python3.10/site-packages/pyannote/algorithms/utils/viterbi.py:95: FutureWarning: arrays to stack must be passed as a \"sequence\" type such as list or tuple. Support for non-sequence iterables such as generators is deprecated as of NumPy 1.16 and will raise an error in the future.\n",
      "  return np.vstack(\n"
     ]
    },
    {
     "name": "stdout",
     "output_type": "stream",
     "text": [
      "92/92 - 0s - 150ms/epoch - 2ms/step\n",
      "92/92 - 0s - 276ms/epoch - 3ms/step\n",
      "[('male', 0.0, 11.28), ('noEnergy', 11.28, 11.700000000000001), ('male', 11.700000000000001, 22.48), ('noEnergy', 22.48, 22.88), ('male', 22.88, 40.74), ('noEnergy', 40.74, 41.22), ('male', 41.22, 60.02)]\n",
      "/tmp/wav/tv-FR5-081326.wav\n"
     ]
    },
    {
     "name": "stderr",
     "output_type": "stream",
     "text": [
      "/home/ddoukhan/git_repos/davidreda/env/lib/python3.10/site-packages/pyannote/algorithms/utils/viterbi.py:86: FutureWarning: arrays to stack must be passed as a \"sequence\" type such as list or tuple. Support for non-sequence iterables such as generators is deprecated as of NumPy 1.16 and will raise an error in the future.\n",
      "  return np.vstack(\n",
      "/home/ddoukhan/git_repos/davidreda/env/lib/python3.10/site-packages/pyannote/algorithms/utils/viterbi.py:95: FutureWarning: arrays to stack must be passed as a \"sequence\" type such as list or tuple. Support for non-sequence iterables such as generators is deprecated as of NumPy 1.16 and will raise an error in the future.\n",
      "  return np.vstack(\n"
     ]
    },
    {
     "name": "stdout",
     "output_type": "stream",
     "text": [
      "88/88 - 0s - 139ms/epoch - 2ms/step\n",
      "58/58 - 0s - 182ms/epoch - 3ms/step\n",
      "[('female', 0.0, 1.72), ('noEnergy', 1.72, 3.52), ('music', 3.52, 6.58), ('noise', 6.58, 7.66), ('male', 7.66, 11.44), ('female', 11.44, 15.72), ('male', 15.72, 18.26), ('female', 18.26, 20.38), ('male', 20.38, 21.26), ('noEnergy', 21.26, 22.2), ('male', 22.2, 23.42), ('noEnergy', 23.42, 24.22), ('male', 24.22, 28.22), ('noEnergy', 28.22, 28.86), ('noise', 28.86, 30.64), ('noEnergy', 30.64, 31.04), ('male', 31.04, 32.46), ('female', 32.46, 36.160000000000004), ('music', 36.160000000000004, 40.300000000000004), ('male', 40.300000000000004, 43.300000000000004), ('female', 43.300000000000004, 45.14), ('male', 45.14, 48.6), ('female', 48.6, 51.56), ('music', 51.56, 60.84)]\n",
      "/tmp/wav/tv-TF1-012319.wav\n"
     ]
    },
    {
     "name": "stderr",
     "output_type": "stream",
     "text": [
      "/home/ddoukhan/git_repos/davidreda/env/lib/python3.10/site-packages/pyannote/algorithms/utils/viterbi.py:86: FutureWarning: arrays to stack must be passed as a \"sequence\" type such as list or tuple. Support for non-sequence iterables such as generators is deprecated as of NumPy 1.16 and will raise an error in the future.\n",
      "  return np.vstack(\n",
      "/home/ddoukhan/git_repos/davidreda/env/lib/python3.10/site-packages/pyannote/algorithms/utils/viterbi.py:95: FutureWarning: arrays to stack must be passed as a \"sequence\" type such as list or tuple. Support for non-sequence iterables such as generators is deprecated as of NumPy 1.16 and will raise an error in the future.\n",
      "  return np.vstack(\n"
     ]
    },
    {
     "name": "stdout",
     "output_type": "stream",
     "text": [
      "93/93 - 0s - 146ms/epoch - 2ms/step\n",
      "72/72 - 0s - 218ms/epoch - 3ms/step\n",
      "[('male', 0.0, 0.6), ('female', 0.6, 4.4), ('noEnergy', 4.4, 5.16), ('female', 5.16, 7.8), ('male', 7.8, 23.0), ('noise', 23.0, 26.02), ('music', 26.02, 30.18), ('male', 30.18, 44.7), ('noise', 44.7, 50.4), ('male', 50.4, 53.660000000000004), ('noEnergy', 53.660000000000004, 54.120000000000005), ('male', 54.120000000000005, 55.620000000000005), ('noEnergy', 55.620000000000005, 56.04), ('male', 56.04, 60.6)]\n",
      "/tmp/wav/radio-FIF-120453.wav\n"
     ]
    },
    {
     "name": "stderr",
     "output_type": "stream",
     "text": [
      "/home/ddoukhan/git_repos/davidreda/env/lib/python3.10/site-packages/pyannote/algorithms/utils/viterbi.py:86: FutureWarning: arrays to stack must be passed as a \"sequence\" type such as list or tuple. Support for non-sequence iterables such as generators is deprecated as of NumPy 1.16 and will raise an error in the future.\n",
      "  return np.vstack(\n",
      "/home/ddoukhan/git_repos/davidreda/env/lib/python3.10/site-packages/pyannote/algorithms/utils/viterbi.py:95: FutureWarning: arrays to stack must be passed as a \"sequence\" type such as list or tuple. Support for non-sequence iterables such as generators is deprecated as of NumPy 1.16 and will raise an error in the future.\n",
      "  return np.vstack(\n"
     ]
    },
    {
     "name": "stdout",
     "output_type": "stream",
     "text": [
      "94/94 - 0s - 151ms/epoch - 2ms/step\n",
      "94/94 - 0s - 286ms/epoch - 3ms/step\n",
      "[('male', 0.0, 60.0)]\n",
      "/tmp/wav/radio-FMU-135816.wav\n"
     ]
    },
    {
     "name": "stderr",
     "output_type": "stream",
     "text": [
      "/home/ddoukhan/git_repos/davidreda/env/lib/python3.10/site-packages/pyannote/algorithms/utils/viterbi.py:86: FutureWarning: arrays to stack must be passed as a \"sequence\" type such as list or tuple. Support for non-sequence iterables such as generators is deprecated as of NumPy 1.16 and will raise an error in the future.\n",
      "  return np.vstack(\n",
      "/home/ddoukhan/git_repos/davidreda/env/lib/python3.10/site-packages/pyannote/algorithms/utils/viterbi.py:95: FutureWarning: arrays to stack must be passed as a \"sequence\" type such as list or tuple. Support for non-sequence iterables such as generators is deprecated as of NumPy 1.16 and will raise an error in the future.\n",
      "  return np.vstack(\n"
     ]
    },
    {
     "name": "stdout",
     "output_type": "stream",
     "text": [
      "88/88 - 0s - 140ms/epoch - 2ms/step\n",
      "7/7 - 0s - 159ms/epoch - 23ms/step\n",
      "[('noise', 0.0, 2.56), ('noEnergy', 2.56, 5.4), ('music', 5.4, 54.7), ('noEnergy', 54.7, 55.74), ('male', 55.74, 60.0)]\n",
      "/tmp/wav/radio-RMC-190319.wav\n"
     ]
    },
    {
     "name": "stderr",
     "output_type": "stream",
     "text": [
      "/home/ddoukhan/git_repos/davidreda/env/lib/python3.10/site-packages/pyannote/algorithms/utils/viterbi.py:86: FutureWarning: arrays to stack must be passed as a \"sequence\" type such as list or tuple. Support for non-sequence iterables such as generators is deprecated as of NumPy 1.16 and will raise an error in the future.\n",
      "  return np.vstack(\n",
      "/home/ddoukhan/git_repos/davidreda/env/lib/python3.10/site-packages/pyannote/algorithms/utils/viterbi.py:95: FutureWarning: arrays to stack must be passed as a \"sequence\" type such as list or tuple. Support for non-sequence iterables such as generators is deprecated as of NumPy 1.16 and will raise an error in the future.\n",
      "  return np.vstack(\n"
     ]
    },
    {
     "name": "stdout",
     "output_type": "stream",
     "text": [
      "94/94 - 0s - 152ms/epoch - 2ms/step\n",
      "94/94 - 0s - 283ms/epoch - 3ms/step\n",
      "[('male', 0.0, 7.22), ('female', 7.22, 12.48), ('male', 12.48, 13.9), ('female', 13.9, 24.72), ('noEnergy', 24.72, 25.18), ('male', 25.18, 60.0)]\n",
      "/tmp/wav/radio-FIF-111258.wav\n"
     ]
    },
    {
     "name": "stderr",
     "output_type": "stream",
     "text": [
      "/home/ddoukhan/git_repos/davidreda/env/lib/python3.10/site-packages/pyannote/algorithms/utils/viterbi.py:86: FutureWarning: arrays to stack must be passed as a \"sequence\" type such as list or tuple. Support for non-sequence iterables such as generators is deprecated as of NumPy 1.16 and will raise an error in the future.\n",
      "  return np.vstack(\n",
      "/home/ddoukhan/git_repos/davidreda/env/lib/python3.10/site-packages/pyannote/algorithms/utils/viterbi.py:95: FutureWarning: arrays to stack must be passed as a \"sequence\" type such as list or tuple. Support for non-sequence iterables such as generators is deprecated as of NumPy 1.16 and will raise an error in the future.\n",
      "  return np.vstack(\n"
     ]
    },
    {
     "name": "stdout",
     "output_type": "stream",
     "text": [
      "94/94 - 0s - 145ms/epoch - 2ms/step\n",
      "94/94 - 0s - 285ms/epoch - 3ms/step\n",
      "[('male', 0.0, 60.02)]\n",
      "/tmp/wav/radio-SKY-010856.wav\n"
     ]
    },
    {
     "name": "stderr",
     "output_type": "stream",
     "text": [
      "/home/ddoukhan/git_repos/davidreda/env/lib/python3.10/site-packages/pyannote/algorithms/utils/viterbi.py:86: FutureWarning: arrays to stack must be passed as a \"sequence\" type such as list or tuple. Support for non-sequence iterables such as generators is deprecated as of NumPy 1.16 and will raise an error in the future.\n",
      "  return np.vstack(\n",
      "/home/ddoukhan/git_repos/davidreda/env/lib/python3.10/site-packages/pyannote/algorithms/utils/viterbi.py:95: FutureWarning: arrays to stack must be passed as a \"sequence\" type such as list or tuple. Support for non-sequence iterables such as generators is deprecated as of NumPy 1.16 and will raise an error in the future.\n",
      "  return np.vstack(\n"
     ]
    },
    {
     "name": "stdout",
     "output_type": "stream",
     "text": [
      "94/94 - 0s - 147ms/epoch - 2ms/step\n",
      "[('music', 0.0, 60.0)]\n",
      "/tmp/wav/tv-BFT-161228.wav\n"
     ]
    },
    {
     "name": "stderr",
     "output_type": "stream",
     "text": [
      "/home/ddoukhan/git_repos/davidreda/env/lib/python3.10/site-packages/pyannote/algorithms/utils/viterbi.py:86: FutureWarning: arrays to stack must be passed as a \"sequence\" type such as list or tuple. Support for non-sequence iterables such as generators is deprecated as of NumPy 1.16 and will raise an error in the future.\n",
      "  return np.vstack(\n",
      "/home/ddoukhan/git_repos/davidreda/env/lib/python3.10/site-packages/pyannote/algorithms/utils/viterbi.py:95: FutureWarning: arrays to stack must be passed as a \"sequence\" type such as list or tuple. Support for non-sequence iterables such as generators is deprecated as of NumPy 1.16 and will raise an error in the future.\n",
      "  return np.vstack(\n"
     ]
    },
    {
     "name": "stdout",
     "output_type": "stream",
     "text": [
      "95/95 - 0s - 150ms/epoch - 2ms/step\n",
      "95/95 - 0s - 288ms/epoch - 3ms/step\n",
      "[('female', 0.0, 56.32), ('noEnergy', 56.32, 56.72), ('female', 56.72, 60.82)]\n",
      "/tmp/wav/radio-FCR-171139.wav\n"
     ]
    },
    {
     "name": "stderr",
     "output_type": "stream",
     "text": [
      "/home/ddoukhan/git_repos/davidreda/env/lib/python3.10/site-packages/pyannote/algorithms/utils/viterbi.py:86: FutureWarning: arrays to stack must be passed as a \"sequence\" type such as list or tuple. Support for non-sequence iterables such as generators is deprecated as of NumPy 1.16 and will raise an error in the future.\n",
      "  return np.vstack(\n",
      "/home/ddoukhan/git_repos/davidreda/env/lib/python3.10/site-packages/pyannote/algorithms/utils/viterbi.py:95: FutureWarning: arrays to stack must be passed as a \"sequence\" type such as list or tuple. Support for non-sequence iterables such as generators is deprecated as of NumPy 1.16 and will raise an error in the future.\n",
      "  return np.vstack(\n"
     ]
    },
    {
     "name": "stdout",
     "output_type": "stream",
     "text": [
      "78/78 - 0s - 130ms/epoch - 2ms/step\n",
      "78/78 - 0s - 239ms/epoch - 3ms/step\n",
      "[('male', 0.0, 2.2600000000000002), ('noEnergy', 2.2600000000000002, 3.0), ('male', 3.0, 4.66), ('noEnergy', 4.66, 5.94), ('female', 5.94, 10.200000000000001), ('noEnergy', 10.200000000000001, 10.78), ('male', 10.78, 17.7), ('noEnergy', 17.7, 19.42), ('male', 19.42, 30.14), ('noEnergy', 30.14, 31.68), ('male', 31.68, 36.62), ('noEnergy', 36.62, 37.14), ('male', 37.14, 37.86), ('noEnergy', 37.86, 38.68), ('male', 38.68, 39.6), ('noEnergy', 39.6, 40.46), ('male', 40.46, 54.32), ('noEnergy', 54.32, 55.300000000000004), ('male', 55.300000000000004, 56.46), ('noEnergy', 56.46, 57.2), ('female', 57.2, 59.1), ('noEnergy', 59.1, 60.02)]\n",
      "/tmp/wav/radio-FIT-041739.wav\n"
     ]
    },
    {
     "name": "stderr",
     "output_type": "stream",
     "text": [
      "/home/ddoukhan/git_repos/davidreda/env/lib/python3.10/site-packages/pyannote/algorithms/utils/viterbi.py:86: FutureWarning: arrays to stack must be passed as a \"sequence\" type such as list or tuple. Support for non-sequence iterables such as generators is deprecated as of NumPy 1.16 and will raise an error in the future.\n",
      "  return np.vstack(\n",
      "/home/ddoukhan/git_repos/davidreda/env/lib/python3.10/site-packages/pyannote/algorithms/utils/viterbi.py:95: FutureWarning: arrays to stack must be passed as a \"sequence\" type such as list or tuple. Support for non-sequence iterables such as generators is deprecated as of NumPy 1.16 and will raise an error in the future.\n",
      "  return np.vstack(\n"
     ]
    },
    {
     "name": "stdout",
     "output_type": "stream",
     "text": [
      "94/94 - 0s - 156ms/epoch - 2ms/step\n",
      "94/94 - 0s - 285ms/epoch - 3ms/step\n",
      "[('male', 0.0, 60.02)]\n",
      "/tmp/wav/radio-FIF-141149.wav\n"
     ]
    },
    {
     "name": "stderr",
     "output_type": "stream",
     "text": [
      "/home/ddoukhan/git_repos/davidreda/env/lib/python3.10/site-packages/pyannote/algorithms/utils/viterbi.py:86: FutureWarning: arrays to stack must be passed as a \"sequence\" type such as list or tuple. Support for non-sequence iterables such as generators is deprecated as of NumPy 1.16 and will raise an error in the future.\n",
      "  return np.vstack(\n",
      "/home/ddoukhan/git_repos/davidreda/env/lib/python3.10/site-packages/pyannote/algorithms/utils/viterbi.py:95: FutureWarning: arrays to stack must be passed as a \"sequence\" type such as list or tuple. Support for non-sequence iterables such as generators is deprecated as of NumPy 1.16 and will raise an error in the future.\n",
      "  return np.vstack(\n"
     ]
    },
    {
     "name": "stdout",
     "output_type": "stream",
     "text": [
      "91/91 - 0s - 174ms/epoch - 2ms/step\n",
      "91/91 - 0s - 276ms/epoch - 3ms/step\n",
      "[('female', 0.0, 34.22), ('noEnergy', 34.22, 35.1), ('male', 35.1, 35.82), ('female', 35.82, 58.54), ('noEnergy', 58.54, 60.0)]\n",
      "/tmp/wav/tv-BFT-075249.wav\n"
     ]
    },
    {
     "name": "stderr",
     "output_type": "stream",
     "text": [
      "/home/ddoukhan/git_repos/davidreda/env/lib/python3.10/site-packages/pyannote/algorithms/utils/viterbi.py:86: FutureWarning: arrays to stack must be passed as a \"sequence\" type such as list or tuple. Support for non-sequence iterables such as generators is deprecated as of NumPy 1.16 and will raise an error in the future.\n",
      "  return np.vstack(\n",
      "/home/ddoukhan/git_repos/davidreda/env/lib/python3.10/site-packages/pyannote/algorithms/utils/viterbi.py:95: FutureWarning: arrays to stack must be passed as a \"sequence\" type such as list or tuple. Support for non-sequence iterables such as generators is deprecated as of NumPy 1.16 and will raise an error in the future.\n",
      "  return np.vstack(\n"
     ]
    },
    {
     "name": "stdout",
     "output_type": "stream",
     "text": [
      "94/94 - 0s - 152ms/epoch - 2ms/step\n",
      "94/94 - 0s - 283ms/epoch - 3ms/step\n",
      "[('female', 0.0, 19.04), ('male', 19.04, 20.7), ('female', 20.7, 48.32), ('noEnergy', 48.32, 49.44), ('male', 49.44, 60.72)]\n",
      "/tmp/wav/radio-FIT-142945.wav\n"
     ]
    },
    {
     "name": "stderr",
     "output_type": "stream",
     "text": [
      "/home/ddoukhan/git_repos/davidreda/env/lib/python3.10/site-packages/pyannote/algorithms/utils/viterbi.py:86: FutureWarning: arrays to stack must be passed as a \"sequence\" type such as list or tuple. Support for non-sequence iterables such as generators is deprecated as of NumPy 1.16 and will raise an error in the future.\n",
      "  return np.vstack(\n",
      "/home/ddoukhan/git_repos/davidreda/env/lib/python3.10/site-packages/pyannote/algorithms/utils/viterbi.py:95: FutureWarning: arrays to stack must be passed as a \"sequence\" type such as list or tuple. Support for non-sequence iterables such as generators is deprecated as of NumPy 1.16 and will raise an error in the future.\n",
      "  return np.vstack(\n"
     ]
    },
    {
     "name": "stdout",
     "output_type": "stream",
     "text": [
      "94/94 - 0s - 148ms/epoch - 2ms/step\n",
      "94/94 - 0s - 285ms/epoch - 3ms/step\n",
      "[('male', 0.0, 15.34), ('female', 15.34, 48.5), ('male', 48.5, 51.34), ('female', 51.34, 60.02)]\n",
      "/tmp/wav/tv-FR4-183020.wav\n"
     ]
    },
    {
     "name": "stderr",
     "output_type": "stream",
     "text": [
      "/home/ddoukhan/git_repos/davidreda/env/lib/python3.10/site-packages/pyannote/algorithms/utils/viterbi.py:86: FutureWarning: arrays to stack must be passed as a \"sequence\" type such as list or tuple. Support for non-sequence iterables such as generators is deprecated as of NumPy 1.16 and will raise an error in the future.\n",
      "  return np.vstack(\n",
      "/home/ddoukhan/git_repos/davidreda/env/lib/python3.10/site-packages/pyannote/algorithms/utils/viterbi.py:95: FutureWarning: arrays to stack must be passed as a \"sequence\" type such as list or tuple. Support for non-sequence iterables such as generators is deprecated as of NumPy 1.16 and will raise an error in the future.\n",
      "  return np.vstack(\n"
     ]
    },
    {
     "name": "stdout",
     "output_type": "stream",
     "text": [
      "96/96 - 0s - 151ms/epoch - 2ms/step\n",
      "66/66 - 0s - 202ms/epoch - 3ms/step\n",
      "[('noise', 0.0, 2.96), ('male', 2.96, 6.0200000000000005), ('female', 6.0200000000000005, 8.700000000000001), ('male', 8.700000000000001, 18.7), ('female', 18.7, 22.76), ('male', 22.76, 30.5), ('noise', 30.5, 39.980000000000004), ('female', 39.980000000000004, 43.18), ('noise', 43.18, 48.18), ('male', 48.18, 59.44), ('music', 59.44, 60.88)]\n",
      "/tmp/wav/tv-T5M-061236.wav\n"
     ]
    },
    {
     "name": "stderr",
     "output_type": "stream",
     "text": [
      "/home/ddoukhan/git_repos/davidreda/env/lib/python3.10/site-packages/pyannote/algorithms/utils/viterbi.py:86: FutureWarning: arrays to stack must be passed as a \"sequence\" type such as list or tuple. Support for non-sequence iterables such as generators is deprecated as of NumPy 1.16 and will raise an error in the future.\n",
      "  return np.vstack(\n",
      "/home/ddoukhan/git_repos/davidreda/env/lib/python3.10/site-packages/pyannote/algorithms/utils/viterbi.py:95: FutureWarning: arrays to stack must be passed as a \"sequence\" type such as list or tuple. Support for non-sequence iterables such as generators is deprecated as of NumPy 1.16 and will raise an error in the future.\n",
      "  return np.vstack(\n"
     ]
    },
    {
     "name": "stdout",
     "output_type": "stream",
     "text": [
      "84/84 - 0s - 135ms/epoch - 2ms/step\n",
      "45/45 - 0s - 144ms/epoch - 3ms/step\n",
      "[('male', 0.0, 11.58), ('female', 11.58, 13.200000000000001), ('noise', 13.200000000000001, 23.64), ('music', 23.64, 26.68), ('male', 26.68, 27.44), ('noEnergy', 27.44, 29.580000000000002), ('male', 29.580000000000002, 31.54), ('noEnergy', 31.54, 32.64), ('male', 32.64, 33.26), ('noEnergy', 33.26, 33.82), ('male', 33.82, 35.08), ('noEnergy', 35.08, 37.14), ('male', 37.14, 37.96), ('noEnergy', 37.96, 39.08), ('male', 39.08, 39.92), ('noEnergy', 39.92, 40.64), ('music', 40.64, 42.88), ('male', 42.88, 46.88), ('music', 46.88, 52.14), ('male', 52.14, 57.0), ('music', 57.0, 61.36)]\n",
      "/tmp/wav/tv-TF1-101331.wav\n"
     ]
    },
    {
     "name": "stderr",
     "output_type": "stream",
     "text": [
      "/home/ddoukhan/git_repos/davidreda/env/lib/python3.10/site-packages/pyannote/algorithms/utils/viterbi.py:86: FutureWarning: arrays to stack must be passed as a \"sequence\" type such as list or tuple. Support for non-sequence iterables such as generators is deprecated as of NumPy 1.16 and will raise an error in the future.\n",
      "  return np.vstack(\n",
      "/home/ddoukhan/git_repos/davidreda/env/lib/python3.10/site-packages/pyannote/algorithms/utils/viterbi.py:95: FutureWarning: arrays to stack must be passed as a \"sequence\" type such as list or tuple. Support for non-sequence iterables such as generators is deprecated as of NumPy 1.16 and will raise an error in the future.\n",
      "  return np.vstack(\n",
      "/home/ddoukhan/git_repos/davidreda/env/lib/python3.10/site-packages/inaSpeechSegmenter/segmenter.py:62: RuntimeWarning: invalid value encountered in subtract\n",
      "  data = (data - np.mean(data, axis=1).reshape((len(data), 1))) / np.std(data, axis=1).reshape((len(data), 1))\n",
      "/home/ddoukhan/git_repos/davidreda/env/lib/python3.10/site-packages/numpy/core/_methods.py:236: RuntimeWarning: invalid value encountered in subtract\n",
      "  x = asanyarray(arr - arrmean)\n"
     ]
    },
    {
     "name": "stdout",
     "output_type": "stream",
     "text": [
      "94/94 - 0s - 157ms/epoch - 2ms/step\n",
      "81/81 - 0s - 246ms/epoch - 3ms/step\n",
      "[('female', 0.0, 8.86), ('male', 8.86, 17.46), ('noEnergy', 17.46, 18.52), ('male', 18.52, 44.74), ('music', 44.74, 48.5), ('noEnergy', 48.5, 48.9), ('music', 48.9, 50.56), ('female', 50.56, 52.06), ('male', 52.06, 53.94), ('female', 53.94, 55.96), ('male', 55.96, 58.26), ('music', 58.26, 61.26)]\n",
      "/tmp/wav/radio-RTL-193856.wav\n"
     ]
    },
    {
     "name": "stderr",
     "output_type": "stream",
     "text": [
      "/home/ddoukhan/git_repos/davidreda/env/lib/python3.10/site-packages/pyannote/algorithms/utils/viterbi.py:86: FutureWarning: arrays to stack must be passed as a \"sequence\" type such as list or tuple. Support for non-sequence iterables such as generators is deprecated as of NumPy 1.16 and will raise an error in the future.\n",
      "  return np.vstack(\n",
      "/home/ddoukhan/git_repos/davidreda/env/lib/python3.10/site-packages/pyannote/algorithms/utils/viterbi.py:95: FutureWarning: arrays to stack must be passed as a \"sequence\" type such as list or tuple. Support for non-sequence iterables such as generators is deprecated as of NumPy 1.16 and will raise an error in the future.\n",
      "  return np.vstack(\n"
     ]
    },
    {
     "name": "stdout",
     "output_type": "stream",
     "text": [
      "94/94 - 0s - 155ms/epoch - 2ms/step\n",
      "84/84 - 0s - 253ms/epoch - 3ms/step\n",
      "[('male', 0.0, 34.58), ('music', 34.58, 37.82), ('male', 37.82, 44.72), ('music', 44.72, 48.28), ('male', 48.28, 60.0)]\n",
      "/tmp/wav/radio-RTL-133218.wav\n"
     ]
    },
    {
     "name": "stderr",
     "output_type": "stream",
     "text": [
      "/home/ddoukhan/git_repos/davidreda/env/lib/python3.10/site-packages/pyannote/algorithms/utils/viterbi.py:86: FutureWarning: arrays to stack must be passed as a \"sequence\" type such as list or tuple. Support for non-sequence iterables such as generators is deprecated as of NumPy 1.16 and will raise an error in the future.\n",
      "  return np.vstack(\n",
      "/home/ddoukhan/git_repos/davidreda/env/lib/python3.10/site-packages/pyannote/algorithms/utils/viterbi.py:95: FutureWarning: arrays to stack must be passed as a \"sequence\" type such as list or tuple. Support for non-sequence iterables such as generators is deprecated as of NumPy 1.16 and will raise an error in the future.\n",
      "  return np.vstack(\n"
     ]
    },
    {
     "name": "stdout",
     "output_type": "stream",
     "text": [
      "94/94 - 0s - 149ms/epoch - 2ms/step\n",
      "88/88 - 0s - 275ms/epoch - 3ms/step\n",
      "[('male', 0.0, 22.46), ('music', 22.46, 26.38), ('female', 26.38, 27.96), ('male', 27.96, 60.02)]\n",
      "/tmp/wav/radio-FIT-202337.wav\n"
     ]
    },
    {
     "name": "stderr",
     "output_type": "stream",
     "text": [
      "/home/ddoukhan/git_repos/davidreda/env/lib/python3.10/site-packages/pyannote/algorithms/utils/viterbi.py:86: FutureWarning: arrays to stack must be passed as a \"sequence\" type such as list or tuple. Support for non-sequence iterables such as generators is deprecated as of NumPy 1.16 and will raise an error in the future.\n",
      "  return np.vstack(\n",
      "/home/ddoukhan/git_repos/davidreda/env/lib/python3.10/site-packages/pyannote/algorithms/utils/viterbi.py:95: FutureWarning: arrays to stack must be passed as a \"sequence\" type such as list or tuple. Support for non-sequence iterables such as generators is deprecated as of NumPy 1.16 and will raise an error in the future.\n",
      "  return np.vstack(\n"
     ]
    },
    {
     "name": "stdout",
     "output_type": "stream",
     "text": [
      "91/91 - 0s - 143ms/epoch - 2ms/step\n",
      "91/91 - 0s - 274ms/epoch - 3ms/step\n",
      "[('female', 0.0, 8.86), ('noEnergy', 8.86, 9.58), ('female', 9.58, 21.8), ('noEnergy', 21.8, 22.44), ('female', 22.44, 52.82), ('noEnergy', 52.82, 53.56), ('female', 53.56, 60.02)]\n",
      "/tmp/wav/tv-C+N-005054.wav\n"
     ]
    },
    {
     "name": "stderr",
     "output_type": "stream",
     "text": [
      "/home/ddoukhan/git_repos/davidreda/env/lib/python3.10/site-packages/pyannote/algorithms/utils/viterbi.py:86: FutureWarning: arrays to stack must be passed as a \"sequence\" type such as list or tuple. Support for non-sequence iterables such as generators is deprecated as of NumPy 1.16 and will raise an error in the future.\n",
      "  return np.vstack(\n",
      "/home/ddoukhan/git_repos/davidreda/env/lib/python3.10/site-packages/pyannote/algorithms/utils/viterbi.py:95: FutureWarning: arrays to stack must be passed as a \"sequence\" type such as list or tuple. Support for non-sequence iterables such as generators is deprecated as of NumPy 1.16 and will raise an error in the future.\n",
      "  return np.vstack(\n",
      "/home/ddoukhan/git_repos/davidreda/env/lib/python3.10/site-packages/inaSpeechSegmenter/segmenter.py:62: RuntimeWarning: invalid value encountered in subtract\n",
      "  data = (data - np.mean(data, axis=1).reshape((len(data), 1))) / np.std(data, axis=1).reshape((len(data), 1))\n",
      "/home/ddoukhan/git_repos/davidreda/env/lib/python3.10/site-packages/numpy/core/_methods.py:236: RuntimeWarning: invalid value encountered in subtract\n",
      "  x = asanyarray(arr - arrmean)\n"
     ]
    },
    {
     "name": "stdout",
     "output_type": "stream",
     "text": [
      "92/92 - 0s - 147ms/epoch - 2ms/step\n",
      "75/75 - 0s - 228ms/epoch - 3ms/step\n",
      "[('male', 0.0, 0.74), ('female', 0.74, 17.240000000000002), ('male', 17.240000000000002, 18.580000000000002), ('music', 18.580000000000002, 23.46), ('noEnergy', 23.46, 23.900000000000002), ('female', 23.900000000000002, 30.8), ('noEnergy', 30.8, 31.900000000000002), ('music', 31.900000000000002, 37.64), ('noEnergy', 37.64, 38.34), ('male', 38.34, 60.68)]\n",
      "/tmp/wav/radio-FUN-013906.wav\n"
     ]
    },
    {
     "name": "stderr",
     "output_type": "stream",
     "text": [
      "/home/ddoukhan/git_repos/davidreda/env/lib/python3.10/site-packages/pyannote/algorithms/utils/viterbi.py:86: FutureWarning: arrays to stack must be passed as a \"sequence\" type such as list or tuple. Support for non-sequence iterables such as generators is deprecated as of NumPy 1.16 and will raise an error in the future.\n",
      "  return np.vstack(\n",
      "/home/ddoukhan/git_repos/davidreda/env/lib/python3.10/site-packages/pyannote/algorithms/utils/viterbi.py:95: FutureWarning: arrays to stack must be passed as a \"sequence\" type such as list or tuple. Support for non-sequence iterables such as generators is deprecated as of NumPy 1.16 and will raise an error in the future.\n",
      "  return np.vstack(\n"
     ]
    },
    {
     "name": "stdout",
     "output_type": "stream",
     "text": [
      "94/94 - 0s - 148ms/epoch - 2ms/step\n",
      "[('music', 0.0, 60.02)]\n",
      "/tmp/wav/tv-FR2-190223.wav\n"
     ]
    },
    {
     "name": "stderr",
     "output_type": "stream",
     "text": [
      "/home/ddoukhan/git_repos/davidreda/env/lib/python3.10/site-packages/pyannote/algorithms/utils/viterbi.py:86: FutureWarning: arrays to stack must be passed as a \"sequence\" type such as list or tuple. Support for non-sequence iterables such as generators is deprecated as of NumPy 1.16 and will raise an error in the future.\n",
      "  return np.vstack(\n",
      "/home/ddoukhan/git_repos/davidreda/env/lib/python3.10/site-packages/pyannote/algorithms/utils/viterbi.py:95: FutureWarning: arrays to stack must be passed as a \"sequence\" type such as list or tuple. Support for non-sequence iterables such as generators is deprecated as of NumPy 1.16 and will raise an error in the future.\n",
      "  return np.vstack(\n"
     ]
    },
    {
     "name": "stdout",
     "output_type": "stream",
     "text": [
      "96/96 - 0s - 152ms/epoch - 2ms/step\n",
      "32/32 - 0s - 106ms/epoch - 3ms/step\n",
      "[('male', 0.0, 1.26), ('female', 1.26, 9.02), ('male', 9.02, 20.06), ('music', 20.06, 60.96)]\n",
      "/tmp/wav/radio-FIF-033339.wav\n"
     ]
    },
    {
     "name": "stderr",
     "output_type": "stream",
     "text": [
      "/home/ddoukhan/git_repos/davidreda/env/lib/python3.10/site-packages/pyannote/algorithms/utils/viterbi.py:86: FutureWarning: arrays to stack must be passed as a \"sequence\" type such as list or tuple. Support for non-sequence iterables such as generators is deprecated as of NumPy 1.16 and will raise an error in the future.\n",
      "  return np.vstack(\n",
      "/home/ddoukhan/git_repos/davidreda/env/lib/python3.10/site-packages/pyannote/algorithms/utils/viterbi.py:95: FutureWarning: arrays to stack must be passed as a \"sequence\" type such as list or tuple. Support for non-sequence iterables such as generators is deprecated as of NumPy 1.16 and will raise an error in the future.\n",
      "  return np.vstack(\n"
     ]
    },
    {
     "name": "stdout",
     "output_type": "stream",
     "text": [
      "94/94 - 0s - 150ms/epoch - 2ms/step\n",
      "94/94 - 0s - 284ms/epoch - 3ms/step\n",
      "[('male', 0.0, 17.02), ('noEnergy', 17.02, 17.5), ('male', 17.5, 60.02)]\n",
      "/tmp/wav/tv-M6_-165521.wav\n"
     ]
    },
    {
     "name": "stderr",
     "output_type": "stream",
     "text": [
      "/home/ddoukhan/git_repos/davidreda/env/lib/python3.10/site-packages/pyannote/algorithms/utils/viterbi.py:86: FutureWarning: arrays to stack must be passed as a \"sequence\" type such as list or tuple. Support for non-sequence iterables such as generators is deprecated as of NumPy 1.16 and will raise an error in the future.\n",
      "  return np.vstack(\n",
      "/home/ddoukhan/git_repos/davidreda/env/lib/python3.10/site-packages/pyannote/algorithms/utils/viterbi.py:95: FutureWarning: arrays to stack must be passed as a \"sequence\" type such as list or tuple. Support for non-sequence iterables such as generators is deprecated as of NumPy 1.16 and will raise an error in the future.\n",
      "  return np.vstack(\n"
     ]
    },
    {
     "name": "stdout",
     "output_type": "stream",
     "text": [
      "95/95 - 0s - 148ms/epoch - 2ms/step\n",
      "87/87 - 0s - 264ms/epoch - 3ms/step\n",
      "[('male', 0.0, 34.160000000000004), ('music', 34.160000000000004, 37.92), ('male', 37.92, 53.22), ('music', 53.22, 54.42), ('male', 54.42, 60.44)]\n",
      "/tmp/wav/radio-FMU-195602.wav\n"
     ]
    },
    {
     "name": "stderr",
     "output_type": "stream",
     "text": [
      "/home/ddoukhan/git_repos/davidreda/env/lib/python3.10/site-packages/pyannote/algorithms/utils/viterbi.py:86: FutureWarning: arrays to stack must be passed as a \"sequence\" type such as list or tuple. Support for non-sequence iterables such as generators is deprecated as of NumPy 1.16 and will raise an error in the future.\n",
      "  return np.vstack(\n",
      "/home/ddoukhan/git_repos/davidreda/env/lib/python3.10/site-packages/pyannote/algorithms/utils/viterbi.py:95: FutureWarning: arrays to stack must be passed as a \"sequence\" type such as list or tuple. Support for non-sequence iterables such as generators is deprecated as of NumPy 1.16 and will raise an error in the future.\n",
      "  return np.vstack(\n"
     ]
    },
    {
     "name": "stdout",
     "output_type": "stream",
     "text": [
      "93/93 - 0s - 147ms/epoch - 2ms/step\n",
      "2/2 - 0s - 16ms/epoch - 8ms/step\n",
      "[('music', 0.0, 36.52), ('male', 36.52, 37.46), ('noEnergy', 37.46, 38.06), ('music', 38.06, 39.82), ('noEnergy', 39.82, 40.26), ('music', 40.26, 60.02)]\n",
      "/tmp/wav/tv-T5M-235452.wav\n"
     ]
    },
    {
     "name": "stderr",
     "output_type": "stream",
     "text": [
      "/home/ddoukhan/git_repos/davidreda/env/lib/python3.10/site-packages/pyannote/algorithms/utils/viterbi.py:86: FutureWarning: arrays to stack must be passed as a \"sequence\" type such as list or tuple. Support for non-sequence iterables such as generators is deprecated as of NumPy 1.16 and will raise an error in the future.\n",
      "  return np.vstack(\n",
      "/home/ddoukhan/git_repos/davidreda/env/lib/python3.10/site-packages/pyannote/algorithms/utils/viterbi.py:95: FutureWarning: arrays to stack must be passed as a \"sequence\" type such as list or tuple. Support for non-sequence iterables such as generators is deprecated as of NumPy 1.16 and will raise an error in the future.\n",
      "  return np.vstack(\n"
     ]
    },
    {
     "name": "stdout",
     "output_type": "stream",
     "text": [
      "95/95 - 0s - 150ms/epoch - 2ms/step\n",
      "91/91 - 0s - 274ms/epoch - 3ms/step\n",
      "[('female', 0.0, 1.1400000000000001), ('male', 1.1400000000000001, 2.92), ('female', 2.92, 23.52), ('noEnergy', 23.52, 24.36), ('male', 24.36, 26.86), ('noEnergy', 26.86, 27.54), ('noise', 27.54, 29.94), ('male', 29.94, 31.32), ('female', 31.32, 61.96)]\n",
      "/tmp/wav/tv-T5M-232204.wav\n"
     ]
    },
    {
     "name": "stderr",
     "output_type": "stream",
     "text": [
      "/home/ddoukhan/git_repos/davidreda/env/lib/python3.10/site-packages/pyannote/algorithms/utils/viterbi.py:86: FutureWarning: arrays to stack must be passed as a \"sequence\" type such as list or tuple. Support for non-sequence iterables such as generators is deprecated as of NumPy 1.16 and will raise an error in the future.\n",
      "  return np.vstack(\n",
      "/home/ddoukhan/git_repos/davidreda/env/lib/python3.10/site-packages/pyannote/algorithms/utils/viterbi.py:95: FutureWarning: arrays to stack must be passed as a \"sequence\" type such as list or tuple. Support for non-sequence iterables such as generators is deprecated as of NumPy 1.16 and will raise an error in the future.\n",
      "  return np.vstack(\n"
     ]
    },
    {
     "name": "stdout",
     "output_type": "stream",
     "text": [
      "97/97 - 0s - 154ms/epoch - 2ms/step\n",
      "97/97 - 0s - 295ms/epoch - 3ms/step\n",
      "[('male', 0.0, 45.64), ('female', 45.64, 52.74), ('male', 52.74, 61.6)]\n",
      "/tmp/wav/radio-FIT-230305.wav\n"
     ]
    },
    {
     "name": "stderr",
     "output_type": "stream",
     "text": [
      "/home/ddoukhan/git_repos/davidreda/env/lib/python3.10/site-packages/pyannote/algorithms/utils/viterbi.py:86: FutureWarning: arrays to stack must be passed as a \"sequence\" type such as list or tuple. Support for non-sequence iterables such as generators is deprecated as of NumPy 1.16 and will raise an error in the future.\n",
      "  return np.vstack(\n",
      "/home/ddoukhan/git_repos/davidreda/env/lib/python3.10/site-packages/pyannote/algorithms/utils/viterbi.py:95: FutureWarning: arrays to stack must be passed as a \"sequence\" type such as list or tuple. Support for non-sequence iterables such as generators is deprecated as of NumPy 1.16 and will raise an error in the future.\n",
      "  return np.vstack(\n"
     ]
    },
    {
     "name": "stdout",
     "output_type": "stream",
     "text": [
      "94/94 - 0s - 152ms/epoch - 2ms/step\n",
      "94/94 - 0s - 291ms/epoch - 3ms/step\n",
      "[('female', 0.0, 10.78), ('male', 10.78, 16.32), ('female', 16.32, 18.580000000000002), ('male', 18.580000000000002, 20.16), ('female', 20.16, 60.02)]\n",
      "/tmp/wav/tv-M6_-041900.wav\n"
     ]
    },
    {
     "name": "stderr",
     "output_type": "stream",
     "text": [
      "/home/ddoukhan/git_repos/davidreda/env/lib/python3.10/site-packages/pyannote/algorithms/utils/viterbi.py:86: FutureWarning: arrays to stack must be passed as a \"sequence\" type such as list or tuple. Support for non-sequence iterables such as generators is deprecated as of NumPy 1.16 and will raise an error in the future.\n",
      "  return np.vstack(\n",
      "/home/ddoukhan/git_repos/davidreda/env/lib/python3.10/site-packages/pyannote/algorithms/utils/viterbi.py:95: FutureWarning: arrays to stack must be passed as a \"sequence\" type such as list or tuple. Support for non-sequence iterables such as generators is deprecated as of NumPy 1.16 and will raise an error in the future.\n",
      "  return np.vstack(\n"
     ]
    },
    {
     "name": "stdout",
     "output_type": "stream",
     "text": [
      "95/95 - 0s - 151ms/epoch - 2ms/step\n",
      "[('music', 0.0, 60.26)]\n",
      "/tmp/wav/tv-FR3-124503.wav\n"
     ]
    },
    {
     "name": "stderr",
     "output_type": "stream",
     "text": [
      "/home/ddoukhan/git_repos/davidreda/env/lib/python3.10/site-packages/pyannote/algorithms/utils/viterbi.py:86: FutureWarning: arrays to stack must be passed as a \"sequence\" type such as list or tuple. Support for non-sequence iterables such as generators is deprecated as of NumPy 1.16 and will raise an error in the future.\n",
      "  return np.vstack(\n",
      "/home/ddoukhan/git_repos/davidreda/env/lib/python3.10/site-packages/pyannote/algorithms/utils/viterbi.py:95: FutureWarning: arrays to stack must be passed as a \"sequence\" type such as list or tuple. Support for non-sequence iterables such as generators is deprecated as of NumPy 1.16 and will raise an error in the future.\n",
      "  return np.vstack(\n"
     ]
    },
    {
     "name": "stdout",
     "output_type": "stream",
     "text": [
      "95/95 - 0s - 152ms/epoch - 2ms/step\n",
      "95/95 - 0s - 289ms/epoch - 3ms/step\n",
      "[('female', 0.0, 6.78), ('noEnergy', 6.78, 7.38), ('female', 7.38, 19.36), ('male', 19.36, 32.78), ('female', 32.78, 50.9), ('male', 50.9, 61.0)]\n",
      "/tmp/wav/tv-M6_-162155.wav\n"
     ]
    },
    {
     "name": "stderr",
     "output_type": "stream",
     "text": [
      "/home/ddoukhan/git_repos/davidreda/env/lib/python3.10/site-packages/pyannote/algorithms/utils/viterbi.py:86: FutureWarning: arrays to stack must be passed as a \"sequence\" type such as list or tuple. Support for non-sequence iterables such as generators is deprecated as of NumPy 1.16 and will raise an error in the future.\n",
      "  return np.vstack(\n",
      "/home/ddoukhan/git_repos/davidreda/env/lib/python3.10/site-packages/pyannote/algorithms/utils/viterbi.py:95: FutureWarning: arrays to stack must be passed as a \"sequence\" type such as list or tuple. Support for non-sequence iterables such as generators is deprecated as of NumPy 1.16 and will raise an error in the future.\n",
      "  return np.vstack(\n"
     ]
    },
    {
     "name": "stdout",
     "output_type": "stream",
     "text": [
      "96/96 - 0s - 152ms/epoch - 2ms/step\n",
      "96/96 - 0s - 290ms/epoch - 3ms/step\n",
      "[('female', 0.0, 1.76), ('male', 1.76, 3.3200000000000003), ('female', 3.3200000000000003, 4.68), ('male', 4.68, 7.26), ('female', 7.26, 11.66), ('male', 11.66, 17.04), ('female', 17.04, 35.08), ('male', 35.08, 41.58), ('female', 41.58, 57.1), ('male', 57.1, 61.300000000000004)]\n",
      "/tmp/wav/radio-MUV-061408.wav\n"
     ]
    },
    {
     "name": "stderr",
     "output_type": "stream",
     "text": [
      "/home/ddoukhan/git_repos/davidreda/env/lib/python3.10/site-packages/pyannote/algorithms/utils/viterbi.py:86: FutureWarning: arrays to stack must be passed as a \"sequence\" type such as list or tuple. Support for non-sequence iterables such as generators is deprecated as of NumPy 1.16 and will raise an error in the future.\n",
      "  return np.vstack(\n",
      "/home/ddoukhan/git_repos/davidreda/env/lib/python3.10/site-packages/pyannote/algorithms/utils/viterbi.py:95: FutureWarning: arrays to stack must be passed as a \"sequence\" type such as list or tuple. Support for non-sequence iterables such as generators is deprecated as of NumPy 1.16 and will raise an error in the future.\n",
      "  return np.vstack(\n"
     ]
    },
    {
     "name": "stdout",
     "output_type": "stream",
     "text": [
      "94/94 - 0s - 155ms/epoch - 2ms/step\n",
      "[('music', 0.0, 60.0)]\n",
      "/tmp/wav/radio-FMU-182133.wav\n"
     ]
    },
    {
     "name": "stderr",
     "output_type": "stream",
     "text": [
      "/home/ddoukhan/git_repos/davidreda/env/lib/python3.10/site-packages/pyannote/algorithms/utils/viterbi.py:86: FutureWarning: arrays to stack must be passed as a \"sequence\" type such as list or tuple. Support for non-sequence iterables such as generators is deprecated as of NumPy 1.16 and will raise an error in the future.\n",
      "  return np.vstack(\n",
      "/home/ddoukhan/git_repos/davidreda/env/lib/python3.10/site-packages/pyannote/algorithms/utils/viterbi.py:95: FutureWarning: arrays to stack must be passed as a \"sequence\" type such as list or tuple. Support for non-sequence iterables such as generators is deprecated as of NumPy 1.16 and will raise an error in the future.\n",
      "  return np.vstack(\n"
     ]
    },
    {
     "name": "stdout",
     "output_type": "stream",
     "text": [
      "94/94 - 0s - 149ms/epoch - 2ms/step\n",
      "[('music', 0.0, 60.0)]\n",
      "/tmp/wav/tv-LCI-153206.wav\n"
     ]
    },
    {
     "name": "stderr",
     "output_type": "stream",
     "text": [
      "/home/ddoukhan/git_repos/davidreda/env/lib/python3.10/site-packages/pyannote/algorithms/utils/viterbi.py:86: FutureWarning: arrays to stack must be passed as a \"sequence\" type such as list or tuple. Support for non-sequence iterables such as generators is deprecated as of NumPy 1.16 and will raise an error in the future.\n",
      "  return np.vstack(\n",
      "/home/ddoukhan/git_repos/davidreda/env/lib/python3.10/site-packages/pyannote/algorithms/utils/viterbi.py:95: FutureWarning: arrays to stack must be passed as a \"sequence\" type such as list or tuple. Support for non-sequence iterables such as generators is deprecated as of NumPy 1.16 and will raise an error in the future.\n",
      "  return np.vstack(\n"
     ]
    },
    {
     "name": "stdout",
     "output_type": "stream",
     "text": [
      "94/94 - 0s - 144ms/epoch - 2ms/step\n",
      "94/94 - 0s - 286ms/epoch - 3ms/step\n",
      "[('male', 0.0, 32.62), ('noEnergy', 32.62, 33.34), ('male', 33.34, 60.28)]\n",
      "/tmp/wav/tv-BFT-050937.wav\n"
     ]
    },
    {
     "name": "stderr",
     "output_type": "stream",
     "text": [
      "/home/ddoukhan/git_repos/davidreda/env/lib/python3.10/site-packages/pyannote/algorithms/utils/viterbi.py:86: FutureWarning: arrays to stack must be passed as a \"sequence\" type such as list or tuple. Support for non-sequence iterables such as generators is deprecated as of NumPy 1.16 and will raise an error in the future.\n",
      "  return np.vstack(\n",
      "/home/ddoukhan/git_repos/davidreda/env/lib/python3.10/site-packages/pyannote/algorithms/utils/viterbi.py:95: FutureWarning: arrays to stack must be passed as a \"sequence\" type such as list or tuple. Support for non-sequence iterables such as generators is deprecated as of NumPy 1.16 and will raise an error in the future.\n",
      "  return np.vstack(\n",
      "/home/ddoukhan/git_repos/davidreda/env/lib/python3.10/site-packages/inaSpeechSegmenter/segmenter.py:62: RuntimeWarning: invalid value encountered in subtract\n",
      "  data = (data - np.mean(data, axis=1).reshape((len(data), 1))) / np.std(data, axis=1).reshape((len(data), 1))\n",
      "/home/ddoukhan/git_repos/davidreda/env/lib/python3.10/site-packages/numpy/core/_methods.py:236: RuntimeWarning: invalid value encountered in subtract\n",
      "  x = asanyarray(arr - arrmean)\n"
     ]
    },
    {
     "name": "stdout",
     "output_type": "stream",
     "text": [
      "93/93 - 0s - 146ms/epoch - 2ms/step\n",
      "93/93 - 0s - 279ms/epoch - 3ms/step\n",
      "[('female', 0.0, 1.1), ('male', 1.1, 5.2), ('female', 5.2, 11.16), ('male', 11.16, 21.6), ('female', 21.6, 36.84), ('male', 36.84, 43.36), ('noEnergy', 43.36, 43.9), ('female', 43.9, 51.160000000000004), ('noEnergy', 51.160000000000004, 52.88), ('male', 52.88, 58.7), ('female', 58.7, 61.64)]\n",
      "/tmp/wav/radio-SKY-172758.wav\n"
     ]
    },
    {
     "name": "stderr",
     "output_type": "stream",
     "text": [
      "/home/ddoukhan/git_repos/davidreda/env/lib/python3.10/site-packages/pyannote/algorithms/utils/viterbi.py:86: FutureWarning: arrays to stack must be passed as a \"sequence\" type such as list or tuple. Support for non-sequence iterables such as generators is deprecated as of NumPy 1.16 and will raise an error in the future.\n",
      "  return np.vstack(\n",
      "/home/ddoukhan/git_repos/davidreda/env/lib/python3.10/site-packages/pyannote/algorithms/utils/viterbi.py:95: FutureWarning: arrays to stack must be passed as a \"sequence\" type such as list or tuple. Support for non-sequence iterables such as generators is deprecated as of NumPy 1.16 and will raise an error in the future.\n",
      "  return np.vstack(\n"
     ]
    },
    {
     "name": "stdout",
     "output_type": "stream",
     "text": [
      "94/94 - 0s - 154ms/epoch - 2ms/step\n",
      "[('music', 0.0, 60.0)]\n",
      "/tmp/wav/tv-BFT-165932.wav\n"
     ]
    },
    {
     "name": "stderr",
     "output_type": "stream",
     "text": [
      "/home/ddoukhan/git_repos/davidreda/env/lib/python3.10/site-packages/pyannote/algorithms/utils/viterbi.py:86: FutureWarning: arrays to stack must be passed as a \"sequence\" type such as list or tuple. Support for non-sequence iterables such as generators is deprecated as of NumPy 1.16 and will raise an error in the future.\n",
      "  return np.vstack(\n",
      "/home/ddoukhan/git_repos/davidreda/env/lib/python3.10/site-packages/pyannote/algorithms/utils/viterbi.py:95: FutureWarning: arrays to stack must be passed as a \"sequence\" type such as list or tuple. Support for non-sequence iterables such as generators is deprecated as of NumPy 1.16 and will raise an error in the future.\n",
      "  return np.vstack(\n"
     ]
    },
    {
     "name": "stdout",
     "output_type": "stream",
     "text": [
      "94/94 - 0s - 150ms/epoch - 2ms/step\n",
      "94/94 - 0s - 284ms/epoch - 3ms/step\n",
      "[('female', 0.0, 60.0)]\n",
      "/tmp/wav/radio-FBL-150454.wav\n"
     ]
    },
    {
     "name": "stderr",
     "output_type": "stream",
     "text": [
      "/home/ddoukhan/git_repos/davidreda/env/lib/python3.10/site-packages/pyannote/algorithms/utils/viterbi.py:86: FutureWarning: arrays to stack must be passed as a \"sequence\" type such as list or tuple. Support for non-sequence iterables such as generators is deprecated as of NumPy 1.16 and will raise an error in the future.\n",
      "  return np.vstack(\n",
      "/home/ddoukhan/git_repos/davidreda/env/lib/python3.10/site-packages/pyannote/algorithms/utils/viterbi.py:95: FutureWarning: arrays to stack must be passed as a \"sequence\" type such as list or tuple. Support for non-sequence iterables such as generators is deprecated as of NumPy 1.16 and will raise an error in the future.\n",
      "  return np.vstack(\n"
     ]
    },
    {
     "name": "stdout",
     "output_type": "stream",
     "text": [
      "92/92 - 0s - 148ms/epoch - 2ms/step\n",
      "92/92 - 0s - 277ms/epoch - 3ms/step\n",
      "[('female', 0.0, 8.040000000000001), ('male', 8.040000000000001, 11.6), ('female', 11.6, 26.580000000000002), ('noEnergy', 26.580000000000002, 27.18), ('female', 27.18, 37.14), ('noEnergy', 37.14, 37.94), ('female', 37.94, 60.0)]\n",
      "/tmp/wav/tv-FR4-215612.wav\n"
     ]
    },
    {
     "name": "stderr",
     "output_type": "stream",
     "text": [
      "/home/ddoukhan/git_repos/davidreda/env/lib/python3.10/site-packages/pyannote/algorithms/utils/viterbi.py:86: FutureWarning: arrays to stack must be passed as a \"sequence\" type such as list or tuple. Support for non-sequence iterables such as generators is deprecated as of NumPy 1.16 and will raise an error in the future.\n",
      "  return np.vstack(\n",
      "/home/ddoukhan/git_repos/davidreda/env/lib/python3.10/site-packages/pyannote/algorithms/utils/viterbi.py:95: FutureWarning: arrays to stack must be passed as a \"sequence\" type such as list or tuple. Support for non-sequence iterables such as generators is deprecated as of NumPy 1.16 and will raise an error in the future.\n",
      "  return np.vstack(\n"
     ]
    },
    {
     "name": "stdout",
     "output_type": "stream",
     "text": [
      "97/97 - 0s - 154ms/epoch - 2ms/step\n",
      "[('music', 0.0, 61.52)]\n",
      "/tmp/wav/radio-FCR-031913.wav\n"
     ]
    },
    {
     "name": "stderr",
     "output_type": "stream",
     "text": [
      "/home/ddoukhan/git_repos/davidreda/env/lib/python3.10/site-packages/pyannote/algorithms/utils/viterbi.py:86: FutureWarning: arrays to stack must be passed as a \"sequence\" type such as list or tuple. Support for non-sequence iterables such as generators is deprecated as of NumPy 1.16 and will raise an error in the future.\n",
      "  return np.vstack(\n",
      "/home/ddoukhan/git_repos/davidreda/env/lib/python3.10/site-packages/pyannote/algorithms/utils/viterbi.py:95: FutureWarning: arrays to stack must be passed as a \"sequence\" type such as list or tuple. Support for non-sequence iterables such as generators is deprecated as of NumPy 1.16 and will raise an error in the future.\n",
      "  return np.vstack(\n"
     ]
    },
    {
     "name": "stdout",
     "output_type": "stream",
     "text": [
      "77/77 - 0s - 123ms/epoch - 2ms/step\n",
      "71/71 - 0s - 216ms/epoch - 3ms/step\n",
      "[('male', 0.0, 0.4), ('noEnergy', 0.4, 1.74), ('male', 1.74, 2.5), ('noEnergy', 2.5, 3.52), ('male', 3.52, 8.9), ('noEnergy', 8.9, 10.84), ('male', 10.84, 13.9), ('noEnergy', 13.9, 15.040000000000001), ('male', 15.040000000000001, 16.2), ('noEnergy', 16.2, 16.94), ('male', 16.94, 19.42), ('noEnergy', 19.42, 20.1), ('male', 20.1, 22.82), ('noEnergy', 22.82, 24.44), ('male', 24.44, 29.92), ('noise', 29.92, 31.62), ('noEnergy', 31.62, 32.14), ('male', 32.14, 40.5), ('noise', 40.5, 42.660000000000004), ('male', 42.660000000000004, 54.18), ('noEnergy', 54.18, 56.04), ('male', 56.04, 60.02)]\n",
      "/tmp/wav/radio-FCR-225430.wav\n"
     ]
    },
    {
     "name": "stderr",
     "output_type": "stream",
     "text": [
      "/home/ddoukhan/git_repos/davidreda/env/lib/python3.10/site-packages/pyannote/algorithms/utils/viterbi.py:86: FutureWarning: arrays to stack must be passed as a \"sequence\" type such as list or tuple. Support for non-sequence iterables such as generators is deprecated as of NumPy 1.16 and will raise an error in the future.\n",
      "  return np.vstack(\n",
      "/home/ddoukhan/git_repos/davidreda/env/lib/python3.10/site-packages/pyannote/algorithms/utils/viterbi.py:95: FutureWarning: arrays to stack must be passed as a \"sequence\" type such as list or tuple. Support for non-sequence iterables such as generators is deprecated as of NumPy 1.16 and will raise an error in the future.\n",
      "  return np.vstack(\n"
     ]
    },
    {
     "name": "stdout",
     "output_type": "stream",
     "text": [
      "94/94 - 0s - 149ms/epoch - 2ms/step\n",
      "94/94 - 0s - 285ms/epoch - 3ms/step\n",
      "[('male', 0.0, 60.0)]\n",
      "/tmp/wav/radio-FUN-072856.wav\n"
     ]
    },
    {
     "name": "stderr",
     "output_type": "stream",
     "text": [
      "/home/ddoukhan/git_repos/davidreda/env/lib/python3.10/site-packages/pyannote/algorithms/utils/viterbi.py:86: FutureWarning: arrays to stack must be passed as a \"sequence\" type such as list or tuple. Support for non-sequence iterables such as generators is deprecated as of NumPy 1.16 and will raise an error in the future.\n",
      "  return np.vstack(\n",
      "/home/ddoukhan/git_repos/davidreda/env/lib/python3.10/site-packages/pyannote/algorithms/utils/viterbi.py:95: FutureWarning: arrays to stack must be passed as a \"sequence\" type such as list or tuple. Support for non-sequence iterables such as generators is deprecated as of NumPy 1.16 and will raise an error in the future.\n",
      "  return np.vstack(\n"
     ]
    },
    {
     "name": "stdout",
     "output_type": "stream",
     "text": [
      "94/94 - 0s - 152ms/epoch - 2ms/step\n",
      "82/82 - 0s - 255ms/epoch - 3ms/step\n",
      "[('male', 0.0, 5.38), ('music', 5.38, 13.32), ('male', 13.32, 16.4), ('female', 16.4, 21.28), ('male', 21.28, 31.54), ('female', 31.54, 35.02), ('male', 35.02, 47.52), ('female', 47.52, 60.0)]\n",
      "/tmp/wav/tv-LCI-213519.wav\n"
     ]
    },
    {
     "name": "stderr",
     "output_type": "stream",
     "text": [
      "/home/ddoukhan/git_repos/davidreda/env/lib/python3.10/site-packages/pyannote/algorithms/utils/viterbi.py:86: FutureWarning: arrays to stack must be passed as a \"sequence\" type such as list or tuple. Support for non-sequence iterables such as generators is deprecated as of NumPy 1.16 and will raise an error in the future.\n",
      "  return np.vstack(\n",
      "/home/ddoukhan/git_repos/davidreda/env/lib/python3.10/site-packages/pyannote/algorithms/utils/viterbi.py:95: FutureWarning: arrays to stack must be passed as a \"sequence\" type such as list or tuple. Support for non-sequence iterables such as generators is deprecated as of NumPy 1.16 and will raise an error in the future.\n",
      "  return np.vstack(\n"
     ]
    },
    {
     "name": "stdout",
     "output_type": "stream",
     "text": [
      "96/96 - 0s - 148ms/epoch - 2ms/step\n",
      "96/96 - 0s - 299ms/epoch - 3ms/step\n",
      "[('female', 0.0, 61.44)]\n",
      "/tmp/wav/radio-MUV-013043.wav\n"
     ]
    },
    {
     "name": "stderr",
     "output_type": "stream",
     "text": [
      "/home/ddoukhan/git_repos/davidreda/env/lib/python3.10/site-packages/pyannote/algorithms/utils/viterbi.py:86: FutureWarning: arrays to stack must be passed as a \"sequence\" type such as list or tuple. Support for non-sequence iterables such as generators is deprecated as of NumPy 1.16 and will raise an error in the future.\n",
      "  return np.vstack(\n",
      "/home/ddoukhan/git_repos/davidreda/env/lib/python3.10/site-packages/pyannote/algorithms/utils/viterbi.py:95: FutureWarning: arrays to stack must be passed as a \"sequence\" type such as list or tuple. Support for non-sequence iterables such as generators is deprecated as of NumPy 1.16 and will raise an error in the future.\n",
      "  return np.vstack(\n"
     ]
    },
    {
     "name": "stdout",
     "output_type": "stream",
     "text": [
      "94/94 - 0s - 147ms/epoch - 2ms/step\n",
      "[('music', 0.0, 60.02)]\n",
      "/tmp/wav/radio-FCR-032010.wav\n"
     ]
    },
    {
     "name": "stderr",
     "output_type": "stream",
     "text": [
      "/home/ddoukhan/git_repos/davidreda/env/lib/python3.10/site-packages/pyannote/algorithms/utils/viterbi.py:86: FutureWarning: arrays to stack must be passed as a \"sequence\" type such as list or tuple. Support for non-sequence iterables such as generators is deprecated as of NumPy 1.16 and will raise an error in the future.\n",
      "  return np.vstack(\n",
      "/home/ddoukhan/git_repos/davidreda/env/lib/python3.10/site-packages/pyannote/algorithms/utils/viterbi.py:95: FutureWarning: arrays to stack must be passed as a \"sequence\" type such as list or tuple. Support for non-sequence iterables such as generators is deprecated as of NumPy 1.16 and will raise an error in the future.\n",
      "  return np.vstack(\n"
     ]
    },
    {
     "name": "stdout",
     "output_type": "stream",
     "text": [
      "83/83 - 0s - 133ms/epoch - 2ms/step\n",
      "80/80 - 0s - 244ms/epoch - 3ms/step\n",
      "[('male', 0.0, 7.84), ('music', 7.84, 9.84), ('male', 9.84, 12.280000000000001), ('noEnergy', 12.280000000000001, 13.0), ('male', 13.0, 20.84), ('noEnergy', 20.84, 21.6), ('male', 21.6, 29.54), ('female', 29.54, 31.080000000000002), ('noEnergy', 31.080000000000002, 32.5), ('male', 32.5, 36.52), ('noEnergy', 36.52, 37.6), ('male', 37.6, 41.44), ('noEnergy', 41.44, 42.62), ('male', 42.62, 50.800000000000004), ('noEnergy', 50.800000000000004, 51.9), ('male', 51.9, 54.14), ('noEnergy', 54.14, 55.02), ('male', 55.02, 60.02)]\n",
      "/tmp/wav/tv-TF1-162736.wav\n"
     ]
    },
    {
     "name": "stderr",
     "output_type": "stream",
     "text": [
      "/home/ddoukhan/git_repos/davidreda/env/lib/python3.10/site-packages/pyannote/algorithms/utils/viterbi.py:86: FutureWarning: arrays to stack must be passed as a \"sequence\" type such as list or tuple. Support for non-sequence iterables such as generators is deprecated as of NumPy 1.16 and will raise an error in the future.\n",
      "  return np.vstack(\n",
      "/home/ddoukhan/git_repos/davidreda/env/lib/python3.10/site-packages/pyannote/algorithms/utils/viterbi.py:95: FutureWarning: arrays to stack must be passed as a \"sequence\" type such as list or tuple. Support for non-sequence iterables such as generators is deprecated as of NumPy 1.16 and will raise an error in the future.\n",
      "  return np.vstack(\n"
     ]
    },
    {
     "name": "stdout",
     "output_type": "stream",
     "text": [
      "97/97 - 0s - 156ms/epoch - 2ms/step\n",
      "88/88 - 0s - 265ms/epoch - 3ms/step\n",
      "[('music', 0.0, 0.56), ('male', 0.56, 3.3200000000000003), ('female', 3.3200000000000003, 18.78), ('music', 18.78, 20.64), ('male', 20.64, 24.32), ('female', 24.32, 25.900000000000002), ('male', 25.900000000000002, 31.080000000000002), ('noise', 31.080000000000002, 34.4), ('male', 34.4, 43.72), ('female', 43.72, 48.76), ('male', 48.76, 61.96)]\n",
      "/tmp/wav/radio-FBL-220700.wav\n"
     ]
    },
    {
     "name": "stderr",
     "output_type": "stream",
     "text": [
      "/home/ddoukhan/git_repos/davidreda/env/lib/python3.10/site-packages/pyannote/algorithms/utils/viterbi.py:86: FutureWarning: arrays to stack must be passed as a \"sequence\" type such as list or tuple. Support for non-sequence iterables such as generators is deprecated as of NumPy 1.16 and will raise an error in the future.\n",
      "  return np.vstack(\n",
      "/home/ddoukhan/git_repos/davidreda/env/lib/python3.10/site-packages/pyannote/algorithms/utils/viterbi.py:95: FutureWarning: arrays to stack must be passed as a \"sequence\" type such as list or tuple. Support for non-sequence iterables such as generators is deprecated as of NumPy 1.16 and will raise an error in the future.\n",
      "  return np.vstack(\n"
     ]
    },
    {
     "name": "stdout",
     "output_type": "stream",
     "text": [
      "94/94 - 0s - 166ms/epoch - 2ms/step\n",
      "[('music', 0.0, 60.0)]\n",
      "/tmp/wav/tv-T5M-144346.wav\n"
     ]
    },
    {
     "name": "stderr",
     "output_type": "stream",
     "text": [
      "/home/ddoukhan/git_repos/davidreda/env/lib/python3.10/site-packages/pyannote/algorithms/utils/viterbi.py:86: FutureWarning: arrays to stack must be passed as a \"sequence\" type such as list or tuple. Support for non-sequence iterables such as generators is deprecated as of NumPy 1.16 and will raise an error in the future.\n",
      "  return np.vstack(\n",
      "/home/ddoukhan/git_repos/davidreda/env/lib/python3.10/site-packages/pyannote/algorithms/utils/viterbi.py:95: FutureWarning: arrays to stack must be passed as a \"sequence\" type such as list or tuple. Support for non-sequence iterables such as generators is deprecated as of NumPy 1.16 and will raise an error in the future.\n",
      "  return np.vstack(\n"
     ]
    },
    {
     "name": "stdout",
     "output_type": "stream",
     "text": [
      "96/96 - 0s - 153ms/epoch - 2ms/step\n",
      "85/85 - 0s - 256ms/epoch - 3ms/step\n",
      "[('music', 0.0, 1.68), ('male', 1.68, 2.94), ('noise', 2.94, 8.46), ('female', 8.46, 22.580000000000002), ('male', 22.580000000000002, 23.76), ('female', 23.76, 61.120000000000005)]\n",
      "/tmp/wav/tv-FR2-012411.wav\n"
     ]
    },
    {
     "name": "stderr",
     "output_type": "stream",
     "text": [
      "/home/ddoukhan/git_repos/davidreda/env/lib/python3.10/site-packages/pyannote/algorithms/utils/viterbi.py:86: FutureWarning: arrays to stack must be passed as a \"sequence\" type such as list or tuple. Support for non-sequence iterables such as generators is deprecated as of NumPy 1.16 and will raise an error in the future.\n",
      "  return np.vstack(\n",
      "/home/ddoukhan/git_repos/davidreda/env/lib/python3.10/site-packages/pyannote/algorithms/utils/viterbi.py:95: FutureWarning: arrays to stack must be passed as a \"sequence\" type such as list or tuple. Support for non-sequence iterables such as generators is deprecated as of NumPy 1.16 and will raise an error in the future.\n",
      "  return np.vstack(\n"
     ]
    },
    {
     "name": "stdout",
     "output_type": "stream",
     "text": [
      "94/94 - 0s - 150ms/epoch - 2ms/step\n",
      "25/25 - 0s - 82ms/epoch - 3ms/step\n",
      "[('female', 0.0, 5.28), ('music', 5.28, 15.280000000000001), ('noEnergy', 15.280000000000001, 15.700000000000001), ('male', 15.700000000000001, 16.8), ('noEnergy', 16.8, 18.18), ('music', 18.18, 49.980000000000004), ('female', 49.980000000000004, 51.32), ('male', 51.32, 52.88), ('music', 52.88, 55.1), ('male', 55.1, 56.44), ('female', 56.44, 61.480000000000004)]\n",
      "/tmp/wav/tv-FR4-133239.wav\n"
     ]
    },
    {
     "name": "stderr",
     "output_type": "stream",
     "text": [
      "/home/ddoukhan/git_repos/davidreda/env/lib/python3.10/site-packages/pyannote/algorithms/utils/viterbi.py:86: FutureWarning: arrays to stack must be passed as a \"sequence\" type such as list or tuple. Support for non-sequence iterables such as generators is deprecated as of NumPy 1.16 and will raise an error in the future.\n",
      "  return np.vstack(\n",
      "/home/ddoukhan/git_repos/davidreda/env/lib/python3.10/site-packages/pyannote/algorithms/utils/viterbi.py:95: FutureWarning: arrays to stack must be passed as a \"sequence\" type such as list or tuple. Support for non-sequence iterables such as generators is deprecated as of NumPy 1.16 and will raise an error in the future.\n",
      "  return np.vstack(\n"
     ]
    },
    {
     "name": "stdout",
     "output_type": "stream",
     "text": [
      "93/93 - 0s - 149ms/epoch - 2ms/step\n",
      "93/93 - 0s - 285ms/epoch - 3ms/step\n",
      "[('male', 0.0, 16.96), ('noEnergy', 16.96, 18.38), ('male', 18.38, 23.56), ('female', 23.56, 25.46), ('male', 25.46, 57.82), ('noEnergy', 57.82, 58.9), ('male', 58.9, 61.56)]\n",
      "/tmp/wav/tv-F24-101322.wav\n"
     ]
    },
    {
     "name": "stderr",
     "output_type": "stream",
     "text": [
      "/home/ddoukhan/git_repos/davidreda/env/lib/python3.10/site-packages/pyannote/algorithms/utils/viterbi.py:86: FutureWarning: arrays to stack must be passed as a \"sequence\" type such as list or tuple. Support for non-sequence iterables such as generators is deprecated as of NumPy 1.16 and will raise an error in the future.\n",
      "  return np.vstack(\n",
      "/home/ddoukhan/git_repos/davidreda/env/lib/python3.10/site-packages/pyannote/algorithms/utils/viterbi.py:95: FutureWarning: arrays to stack must be passed as a \"sequence\" type such as list or tuple. Support for non-sequence iterables such as generators is deprecated as of NumPy 1.16 and will raise an error in the future.\n",
      "  return np.vstack(\n"
     ]
    },
    {
     "name": "stdout",
     "output_type": "stream",
     "text": [
      "93/93 - 0s - 148ms/epoch - 2ms/step\n",
      "88/88 - 0s - 268ms/epoch - 3ms/step\n",
      "[('female', 0.0, 4.7), ('noEnergy', 4.7, 6.0600000000000005), ('noise', 6.0600000000000005, 9.14), ('male', 9.14, 41.88), ('noEnergy', 41.88, 43.02), ('female', 43.02, 52.94), ('male', 52.94, 61.4)]\n",
      "/tmp/wav/tv-FR2-050843.wav\n"
     ]
    },
    {
     "name": "stderr",
     "output_type": "stream",
     "text": [
      "/home/ddoukhan/git_repos/davidreda/env/lib/python3.10/site-packages/pyannote/algorithms/utils/viterbi.py:86: FutureWarning: arrays to stack must be passed as a \"sequence\" type such as list or tuple. Support for non-sequence iterables such as generators is deprecated as of NumPy 1.16 and will raise an error in the future.\n",
      "  return np.vstack(\n",
      "/home/ddoukhan/git_repos/davidreda/env/lib/python3.10/site-packages/pyannote/algorithms/utils/viterbi.py:95: FutureWarning: arrays to stack must be passed as a \"sequence\" type such as list or tuple. Support for non-sequence iterables such as generators is deprecated as of NumPy 1.16 and will raise an error in the future.\n",
      "  return np.vstack(\n"
     ]
    },
    {
     "name": "stdout",
     "output_type": "stream",
     "text": [
      "94/94 - 0s - 149ms/epoch - 2ms/step\n",
      "73/73 - 0s - 223ms/epoch - 3ms/step\n",
      "[('noEnergy', 0.0, 0.26), ('music', 0.26, 6.94), ('male', 6.94, 36.62), ('music', 36.62, 39.54), ('male', 39.54, 56.22), ('music', 56.22, 60.34)]\n",
      "/tmp/wav/tv-F24-080416.wav\n"
     ]
    },
    {
     "name": "stderr",
     "output_type": "stream",
     "text": [
      "/home/ddoukhan/git_repos/davidreda/env/lib/python3.10/site-packages/pyannote/algorithms/utils/viterbi.py:86: FutureWarning: arrays to stack must be passed as a \"sequence\" type such as list or tuple. Support for non-sequence iterables such as generators is deprecated as of NumPy 1.16 and will raise an error in the future.\n",
      "  return np.vstack(\n",
      "/home/ddoukhan/git_repos/davidreda/env/lib/python3.10/site-packages/pyannote/algorithms/utils/viterbi.py:95: FutureWarning: arrays to stack must be passed as a \"sequence\" type such as list or tuple. Support for non-sequence iterables such as generators is deprecated as of NumPy 1.16 and will raise an error in the future.\n",
      "  return np.vstack(\n"
     ]
    },
    {
     "name": "stdout",
     "output_type": "stream",
     "text": [
      "96/96 - 0s - 152ms/epoch - 2ms/step\n",
      "93/93 - 0s - 281ms/epoch - 3ms/step\n",
      "[('noise', 0.0, 1.78), ('female', 1.78, 8.040000000000001), ('male', 8.040000000000001, 26.14), ('female', 26.14, 61.08)]\n",
      "/tmp/wav/tv-ART-183717.wav\n"
     ]
    },
    {
     "name": "stderr",
     "output_type": "stream",
     "text": [
      "/home/ddoukhan/git_repos/davidreda/env/lib/python3.10/site-packages/pyannote/algorithms/utils/viterbi.py:86: FutureWarning: arrays to stack must be passed as a \"sequence\" type such as list or tuple. Support for non-sequence iterables such as generators is deprecated as of NumPy 1.16 and will raise an error in the future.\n",
      "  return np.vstack(\n",
      "/home/ddoukhan/git_repos/davidreda/env/lib/python3.10/site-packages/pyannote/algorithms/utils/viterbi.py:95: FutureWarning: arrays to stack must be passed as a \"sequence\" type such as list or tuple. Support for non-sequence iterables such as generators is deprecated as of NumPy 1.16 and will raise an error in the future.\n",
      "  return np.vstack(\n"
     ]
    },
    {
     "name": "stdout",
     "output_type": "stream",
     "text": [
      "94/94 - 0s - 147ms/epoch - 2ms/step\n",
      "70/70 - 0s - 213ms/epoch - 3ms/step\n",
      "[('male', 0.0, 1.62), ('noise', 1.62, 8.98), ('male', 8.98, 11.44), ('noEnergy', 11.44, 11.84), ('male', 11.84, 26.02), ('noEnergy', 26.02, 26.62), ('noise', 26.62, 28.84), ('male', 28.84, 31.060000000000002), ('noEnergy', 31.060000000000002, 31.740000000000002), ('male', 31.740000000000002, 34.96), ('noise', 34.96, 40.92), ('male', 40.92, 61.84)]\n",
      "/tmp/wav/radio-FIF-180928.wav\n"
     ]
    },
    {
     "name": "stderr",
     "output_type": "stream",
     "text": [
      "/home/ddoukhan/git_repos/davidreda/env/lib/python3.10/site-packages/pyannote/algorithms/utils/viterbi.py:86: FutureWarning: arrays to stack must be passed as a \"sequence\" type such as list or tuple. Support for non-sequence iterables such as generators is deprecated as of NumPy 1.16 and will raise an error in the future.\n",
      "  return np.vstack(\n",
      "/home/ddoukhan/git_repos/davidreda/env/lib/python3.10/site-packages/pyannote/algorithms/utils/viterbi.py:95: FutureWarning: arrays to stack must be passed as a \"sequence\" type such as list or tuple. Support for non-sequence iterables such as generators is deprecated as of NumPy 1.16 and will raise an error in the future.\n",
      "  return np.vstack(\n"
     ]
    },
    {
     "name": "stdout",
     "output_type": "stream",
     "text": [
      "91/91 - 0s - 140ms/epoch - 2ms/step\n",
      "91/91 - 0s - 289ms/epoch - 3ms/step\n",
      "[('female', 0.0, 2.14), ('noEnergy', 2.14, 2.58), ('female', 2.58, 7.66), ('noEnergy', 7.66, 8.24), ('female', 8.24, 27.900000000000002), ('noEnergy', 27.900000000000002, 28.64), ('female', 28.64, 31.7), ('male', 31.7, 60.0)]\n",
      "/tmp/wav/tv-FR4-001205.wav\n"
     ]
    },
    {
     "name": "stderr",
     "output_type": "stream",
     "text": [
      "/home/ddoukhan/git_repos/davidreda/env/lib/python3.10/site-packages/pyannote/algorithms/utils/viterbi.py:86: FutureWarning: arrays to stack must be passed as a \"sequence\" type such as list or tuple. Support for non-sequence iterables such as generators is deprecated as of NumPy 1.16 and will raise an error in the future.\n",
      "  return np.vstack(\n",
      "/home/ddoukhan/git_repos/davidreda/env/lib/python3.10/site-packages/pyannote/algorithms/utils/viterbi.py:95: FutureWarning: arrays to stack must be passed as a \"sequence\" type such as list or tuple. Support for non-sequence iterables such as generators is deprecated as of NumPy 1.16 and will raise an error in the future.\n",
      "  return np.vstack(\n"
     ]
    },
    {
     "name": "stdout",
     "output_type": "stream",
     "text": [
      "95/95 - 0s - 152ms/epoch - 2ms/step\n",
      "95/95 - 0s - 286ms/epoch - 3ms/step\n",
      "[('male', 0.0, 60.480000000000004)]\n",
      "/tmp/wav/radio-RMC-001824.wav\n"
     ]
    },
    {
     "name": "stderr",
     "output_type": "stream",
     "text": [
      "/home/ddoukhan/git_repos/davidreda/env/lib/python3.10/site-packages/pyannote/algorithms/utils/viterbi.py:86: FutureWarning: arrays to stack must be passed as a \"sequence\" type such as list or tuple. Support for non-sequence iterables such as generators is deprecated as of NumPy 1.16 and will raise an error in the future.\n",
      "  return np.vstack(\n",
      "/home/ddoukhan/git_repos/davidreda/env/lib/python3.10/site-packages/pyannote/algorithms/utils/viterbi.py:95: FutureWarning: arrays to stack must be passed as a \"sequence\" type such as list or tuple. Support for non-sequence iterables such as generators is deprecated as of NumPy 1.16 and will raise an error in the future.\n",
      "  return np.vstack(\n"
     ]
    },
    {
     "name": "stdout",
     "output_type": "stream",
     "text": [
      "93/93 - 0s - 152ms/epoch - 2ms/step\n",
      "93/93 - 0s - 282ms/epoch - 3ms/step\n",
      "[('male', 0.0, 54.6), ('noEnergy', 54.6, 55.22), ('male', 55.22, 60.0)]\n",
      "/tmp/wav/radio-FBL-234419.wav\n"
     ]
    },
    {
     "name": "stderr",
     "output_type": "stream",
     "text": [
      "/home/ddoukhan/git_repos/davidreda/env/lib/python3.10/site-packages/pyannote/algorithms/utils/viterbi.py:86: FutureWarning: arrays to stack must be passed as a \"sequence\" type such as list or tuple. Support for non-sequence iterables such as generators is deprecated as of NumPy 1.16 and will raise an error in the future.\n",
      "  return np.vstack(\n",
      "/home/ddoukhan/git_repos/davidreda/env/lib/python3.10/site-packages/pyannote/algorithms/utils/viterbi.py:95: FutureWarning: arrays to stack must be passed as a \"sequence\" type such as list or tuple. Support for non-sequence iterables such as generators is deprecated as of NumPy 1.16 and will raise an error in the future.\n",
      "  return np.vstack(\n"
     ]
    },
    {
     "name": "stdout",
     "output_type": "stream",
     "text": [
      "94/94 - 0s - 149ms/epoch - 2ms/step\n",
      "[('music', 0.0, 60.02)]\n",
      "/tmp/wav/tv-LCI-050538.wav\n"
     ]
    },
    {
     "name": "stderr",
     "output_type": "stream",
     "text": [
      "/home/ddoukhan/git_repos/davidreda/env/lib/python3.10/site-packages/pyannote/algorithms/utils/viterbi.py:86: FutureWarning: arrays to stack must be passed as a \"sequence\" type such as list or tuple. Support for non-sequence iterables such as generators is deprecated as of NumPy 1.16 and will raise an error in the future.\n",
      "  return np.vstack(\n",
      "/home/ddoukhan/git_repos/davidreda/env/lib/python3.10/site-packages/pyannote/algorithms/utils/viterbi.py:95: FutureWarning: arrays to stack must be passed as a \"sequence\" type such as list or tuple. Support for non-sequence iterables such as generators is deprecated as of NumPy 1.16 and will raise an error in the future.\n",
      "  return np.vstack(\n"
     ]
    },
    {
     "name": "stdout",
     "output_type": "stream",
     "text": [
      "92/92 - 0s - 149ms/epoch - 2ms/step\n",
      "92/92 - 0s - 278ms/epoch - 3ms/step\n",
      "[('male', 0.0, 6.92), ('noEnergy', 6.92, 7.6000000000000005), ('male', 7.6000000000000005, 8.38), ('female', 8.38, 25.82), ('male', 25.82, 28.42), ('female', 28.42, 31.0), ('male', 31.0, 33.02), ('noEnergy', 33.02, 33.76), ('male', 33.76, 35.6), ('female', 35.6, 36.76), ('male', 36.76, 46.92), ('female', 46.92, 60.160000000000004)]\n",
      "/tmp/wav/tv-TFX-231251.wav\n"
     ]
    },
    {
     "name": "stderr",
     "output_type": "stream",
     "text": [
      "/home/ddoukhan/git_repos/davidreda/env/lib/python3.10/site-packages/pyannote/algorithms/utils/viterbi.py:86: FutureWarning: arrays to stack must be passed as a \"sequence\" type such as list or tuple. Support for non-sequence iterables such as generators is deprecated as of NumPy 1.16 and will raise an error in the future.\n",
      "  return np.vstack(\n",
      "/home/ddoukhan/git_repos/davidreda/env/lib/python3.10/site-packages/pyannote/algorithms/utils/viterbi.py:95: FutureWarning: arrays to stack must be passed as a \"sequence\" type such as list or tuple. Support for non-sequence iterables such as generators is deprecated as of NumPy 1.16 and will raise an error in the future.\n",
      "  return np.vstack(\n"
     ]
    },
    {
     "name": "stdout",
     "output_type": "stream",
     "text": [
      "97/97 - 0s - 156ms/epoch - 2ms/step\n",
      "33/33 - 0s - 107ms/epoch - 3ms/step\n",
      "[('music', 0.0, 8.94), ('noise', 8.94, 11.200000000000001), ('music', 11.200000000000001, 32.04), ('noise', 32.04, 36.800000000000004), ('male', 36.800000000000004, 43.7), ('noise', 43.7, 45.74), ('male', 45.74, 53.08), ('noise', 53.08, 54.96), ('male', 54.96, 61.76)]\n",
      "/tmp/wav/tv-FR2-161917.wav\n"
     ]
    },
    {
     "name": "stderr",
     "output_type": "stream",
     "text": [
      "/home/ddoukhan/git_repos/davidreda/env/lib/python3.10/site-packages/pyannote/algorithms/utils/viterbi.py:86: FutureWarning: arrays to stack must be passed as a \"sequence\" type such as list or tuple. Support for non-sequence iterables such as generators is deprecated as of NumPy 1.16 and will raise an error in the future.\n",
      "  return np.vstack(\n",
      "/home/ddoukhan/git_repos/davidreda/env/lib/python3.10/site-packages/pyannote/algorithms/utils/viterbi.py:95: FutureWarning: arrays to stack must be passed as a \"sequence\" type such as list or tuple. Support for non-sequence iterables such as generators is deprecated as of NumPy 1.16 and will raise an error in the future.\n",
      "  return np.vstack(\n"
     ]
    },
    {
     "name": "stdout",
     "output_type": "stream",
     "text": [
      "97/97 - 0s - 155ms/epoch - 2ms/step\n",
      "97/97 - 0s - 291ms/epoch - 3ms/step\n",
      "[('female', 0.0, 3.1), ('male', 3.1, 11.46), ('female', 11.46, 13.68), ('male', 13.68, 14.700000000000001), ('female', 14.700000000000001, 18.72), ('male', 18.72, 21.92), ('female', 21.92, 24.48), ('male', 24.48, 44.64), ('female', 44.64, 49.0), ('male', 49.0, 61.88)]\n",
      "/tmp/wav/radio-RMC-114358.wav\n"
     ]
    },
    {
     "name": "stderr",
     "output_type": "stream",
     "text": [
      "/home/ddoukhan/git_repos/davidreda/env/lib/python3.10/site-packages/pyannote/algorithms/utils/viterbi.py:86: FutureWarning: arrays to stack must be passed as a \"sequence\" type such as list or tuple. Support for non-sequence iterables such as generators is deprecated as of NumPy 1.16 and will raise an error in the future.\n",
      "  return np.vstack(\n",
      "/home/ddoukhan/git_repos/davidreda/env/lib/python3.10/site-packages/pyannote/algorithms/utils/viterbi.py:95: FutureWarning: arrays to stack must be passed as a \"sequence\" type such as list or tuple. Support for non-sequence iterables such as generators is deprecated as of NumPy 1.16 and will raise an error in the future.\n",
      "  return np.vstack(\n"
     ]
    },
    {
     "name": "stdout",
     "output_type": "stream",
     "text": [
      "94/94 - 0s - 151ms/epoch - 2ms/step\n",
      "94/94 - 0s - 284ms/epoch - 3ms/step\n",
      "[('male', 0.0, 19.3), ('noEnergy', 19.3, 19.740000000000002), ('male', 19.740000000000002, 60.0)]\n",
      "/tmp/wav/radio-FMU-050837.wav\n"
     ]
    },
    {
     "name": "stderr",
     "output_type": "stream",
     "text": [
      "/home/ddoukhan/git_repos/davidreda/env/lib/python3.10/site-packages/pyannote/algorithms/utils/viterbi.py:86: FutureWarning: arrays to stack must be passed as a \"sequence\" type such as list or tuple. Support for non-sequence iterables such as generators is deprecated as of NumPy 1.16 and will raise an error in the future.\n",
      "  return np.vstack(\n",
      "/home/ddoukhan/git_repos/davidreda/env/lib/python3.10/site-packages/pyannote/algorithms/utils/viterbi.py:95: FutureWarning: arrays to stack must be passed as a \"sequence\" type such as list or tuple. Support for non-sequence iterables such as generators is deprecated as of NumPy 1.16 and will raise an error in the future.\n",
      "  return np.vstack(\n"
     ]
    },
    {
     "name": "stdout",
     "output_type": "stream",
     "text": [
      "94/94 - 0s - 151ms/epoch - 2ms/step\n",
      "[('music', 0.0, 60.0)]\n",
      "/tmp/wav/tv-LCI-061740.wav\n"
     ]
    },
    {
     "name": "stderr",
     "output_type": "stream",
     "text": [
      "/home/ddoukhan/git_repos/davidreda/env/lib/python3.10/site-packages/pyannote/algorithms/utils/viterbi.py:86: FutureWarning: arrays to stack must be passed as a \"sequence\" type such as list or tuple. Support for non-sequence iterables such as generators is deprecated as of NumPy 1.16 and will raise an error in the future.\n",
      "  return np.vstack(\n",
      "/home/ddoukhan/git_repos/davidreda/env/lib/python3.10/site-packages/pyannote/algorithms/utils/viterbi.py:95: FutureWarning: arrays to stack must be passed as a \"sequence\" type such as list or tuple. Support for non-sequence iterables such as generators is deprecated as of NumPy 1.16 and will raise an error in the future.\n",
      "  return np.vstack(\n"
     ]
    },
    {
     "name": "stdout",
     "output_type": "stream",
     "text": [
      "93/93 - 0s - 146ms/epoch - 2ms/step\n",
      "80/80 - 0s - 243ms/epoch - 3ms/step\n",
      "[('male', 0.0, 11.82), ('noEnergy', 11.82, 12.780000000000001), ('female', 12.780000000000001, 27.7), ('noEnergy', 27.7, 28.18), ('female', 28.18, 32.480000000000004), ('male', 32.480000000000004, 34.06), ('female', 34.06, 41.94), ('male', 41.94, 48.74), ('music', 48.74, 54.620000000000005), ('male', 54.620000000000005, 55.160000000000004), ('female', 55.160000000000004, 56.72), ('male', 56.72, 57.9), ('noEnergy', 57.9, 58.620000000000005), ('music', 58.620000000000005, 61.06), ('noEnergy', 61.06, 61.68), ('noise', 61.68, 61.92)]\n",
      "/tmp/wav/tv-BFT-050719.wav\n"
     ]
    },
    {
     "name": "stderr",
     "output_type": "stream",
     "text": [
      "/home/ddoukhan/git_repos/davidreda/env/lib/python3.10/site-packages/pyannote/algorithms/utils/viterbi.py:86: FutureWarning: arrays to stack must be passed as a \"sequence\" type such as list or tuple. Support for non-sequence iterables such as generators is deprecated as of NumPy 1.16 and will raise an error in the future.\n",
      "  return np.vstack(\n",
      "/home/ddoukhan/git_repos/davidreda/env/lib/python3.10/site-packages/pyannote/algorithms/utils/viterbi.py:95: FutureWarning: arrays to stack must be passed as a \"sequence\" type such as list or tuple. Support for non-sequence iterables such as generators is deprecated as of NumPy 1.16 and will raise an error in the future.\n",
      "  return np.vstack(\n"
     ]
    },
    {
     "name": "stdout",
     "output_type": "stream",
     "text": [
      "93/93 - 0s - 148ms/epoch - 2ms/step\n",
      "93/93 - 0s - 280ms/epoch - 3ms/step\n",
      "[('male', 0.0, 29.240000000000002), ('noEnergy', 29.240000000000002, 29.740000000000002), ('male', 29.740000000000002, 36.160000000000004), ('noEnergy', 36.160000000000004, 36.96), ('male', 36.96, 38.26), ('noEnergy', 38.26, 39.1), ('male', 39.1, 39.82), ('female', 39.82, 42.6), ('male', 42.6, 44.38), ('noEnergy', 44.38, 44.84), ('male', 44.84, 61.92)]\n",
      "/tmp/wav/radio-FIF-175908.wav\n"
     ]
    },
    {
     "name": "stderr",
     "output_type": "stream",
     "text": [
      "/home/ddoukhan/git_repos/davidreda/env/lib/python3.10/site-packages/pyannote/algorithms/utils/viterbi.py:86: FutureWarning: arrays to stack must be passed as a \"sequence\" type such as list or tuple. Support for non-sequence iterables such as generators is deprecated as of NumPy 1.16 and will raise an error in the future.\n",
      "  return np.vstack(\n",
      "/home/ddoukhan/git_repos/davidreda/env/lib/python3.10/site-packages/pyannote/algorithms/utils/viterbi.py:95: FutureWarning: arrays to stack must be passed as a \"sequence\" type such as list or tuple. Support for non-sequence iterables such as generators is deprecated as of NumPy 1.16 and will raise an error in the future.\n",
      "  return np.vstack(\n"
     ]
    },
    {
     "name": "stdout",
     "output_type": "stream",
     "text": [
      "94/94 - 0s - 150ms/epoch - 2ms/step\n",
      "87/87 - 0s - 265ms/epoch - 3ms/step\n",
      "[('male', 0.0, 21.86), ('music', 21.86, 26.66), ('male', 26.66, 27.72), ('female', 27.72, 36.22), ('male', 36.22, 59.96)]\n",
      "/tmp/wav/radio-RMC-154221.wav\n"
     ]
    },
    {
     "name": "stderr",
     "output_type": "stream",
     "text": [
      "/home/ddoukhan/git_repos/davidreda/env/lib/python3.10/site-packages/pyannote/algorithms/utils/viterbi.py:86: FutureWarning: arrays to stack must be passed as a \"sequence\" type such as list or tuple. Support for non-sequence iterables such as generators is deprecated as of NumPy 1.16 and will raise an error in the future.\n",
      "  return np.vstack(\n",
      "/home/ddoukhan/git_repos/davidreda/env/lib/python3.10/site-packages/pyannote/algorithms/utils/viterbi.py:95: FutureWarning: arrays to stack must be passed as a \"sequence\" type such as list or tuple. Support for non-sequence iterables such as generators is deprecated as of NumPy 1.16 and will raise an error in the future.\n",
      "  return np.vstack(\n"
     ]
    },
    {
     "name": "stdout",
     "output_type": "stream",
     "text": [
      "94/94 - 0s - 150ms/epoch - 2ms/step\n",
      "94/94 - 0s - 287ms/epoch - 3ms/step\n",
      "[('male', 0.0, 60.0)]\n",
      "/tmp/wav/tv-FR4-203954.wav\n"
     ]
    },
    {
     "name": "stderr",
     "output_type": "stream",
     "text": [
      "/home/ddoukhan/git_repos/davidreda/env/lib/python3.10/site-packages/pyannote/algorithms/utils/viterbi.py:86: FutureWarning: arrays to stack must be passed as a \"sequence\" type such as list or tuple. Support for non-sequence iterables such as generators is deprecated as of NumPy 1.16 and will raise an error in the future.\n",
      "  return np.vstack(\n",
      "/home/ddoukhan/git_repos/davidreda/env/lib/python3.10/site-packages/pyannote/algorithms/utils/viterbi.py:95: FutureWarning: arrays to stack must be passed as a \"sequence\" type such as list or tuple. Support for non-sequence iterables such as generators is deprecated as of NumPy 1.16 and will raise an error in the future.\n",
      "  return np.vstack(\n"
     ]
    },
    {
     "name": "stdout",
     "output_type": "stream",
     "text": [
      "95/95 - 0s - 149ms/epoch - 2ms/step\n",
      "95/95 - 0s - 289ms/epoch - 3ms/step\n",
      "[('male', 0.0, 1.74), ('female', 1.74, 4.1), ('male', 4.1, 7.84), ('female', 7.84, 22.5), ('male', 22.5, 53.02), ('female', 53.02, 54.800000000000004), ('male', 54.800000000000004, 60.44)]\n",
      "/tmp/wav/tv-F24-075121.wav\n"
     ]
    },
    {
     "name": "stderr",
     "output_type": "stream",
     "text": [
      "/home/ddoukhan/git_repos/davidreda/env/lib/python3.10/site-packages/pyannote/algorithms/utils/viterbi.py:86: FutureWarning: arrays to stack must be passed as a \"sequence\" type such as list or tuple. Support for non-sequence iterables such as generators is deprecated as of NumPy 1.16 and will raise an error in the future.\n",
      "  return np.vstack(\n",
      "/home/ddoukhan/git_repos/davidreda/env/lib/python3.10/site-packages/pyannote/algorithms/utils/viterbi.py:95: FutureWarning: arrays to stack must be passed as a \"sequence\" type such as list or tuple. Support for non-sequence iterables such as generators is deprecated as of NumPy 1.16 and will raise an error in the future.\n",
      "  return np.vstack(\n"
     ]
    },
    {
     "name": "stdout",
     "output_type": "stream",
     "text": [
      "92/92 - 0s - 141ms/epoch - 2ms/step\n",
      "92/92 - 0s - 277ms/epoch - 3ms/step\n",
      "[('male', 0.0, 7.76), ('noEnergy', 7.76, 8.6), ('female', 8.6, 14.3), ('noEnergy', 14.3, 15.26), ('male', 15.26, 31.66), ('noEnergy', 31.66, 32.36), ('male', 32.36, 54.08), ('noEnergy', 54.08, 54.6), ('male', 54.6, 61.4)]\n",
      "/tmp/wav/tv-T5M-221506.wav\n"
     ]
    },
    {
     "name": "stderr",
     "output_type": "stream",
     "text": [
      "/home/ddoukhan/git_repos/davidreda/env/lib/python3.10/site-packages/pyannote/algorithms/utils/viterbi.py:86: FutureWarning: arrays to stack must be passed as a \"sequence\" type such as list or tuple. Support for non-sequence iterables such as generators is deprecated as of NumPy 1.16 and will raise an error in the future.\n",
      "  return np.vstack(\n",
      "/home/ddoukhan/git_repos/davidreda/env/lib/python3.10/site-packages/pyannote/algorithms/utils/viterbi.py:95: FutureWarning: arrays to stack must be passed as a \"sequence\" type such as list or tuple. Support for non-sequence iterables such as generators is deprecated as of NumPy 1.16 and will raise an error in the future.\n",
      "  return np.vstack(\n"
     ]
    },
    {
     "name": "stdout",
     "output_type": "stream",
     "text": [
      "95/95 - 0s - 147ms/epoch - 2ms/step\n",
      "73/73 - 0s - 222ms/epoch - 3ms/step\n",
      "[('female', 0.0, 3.66), ('noise', 3.66, 6.82), ('female', 6.82, 11.44), ('noise', 11.44, 13.56), ('male', 13.56, 26.38), ('noise', 26.38, 30.92), ('male', 30.92, 44.32), ('noise', 44.32, 47.42), ('female', 47.42, 59.38), ('noise', 59.38, 60.52)]\n",
      "/tmp/wav/tv-FR4-093405.wav\n"
     ]
    },
    {
     "name": "stderr",
     "output_type": "stream",
     "text": [
      "/home/ddoukhan/git_repos/davidreda/env/lib/python3.10/site-packages/pyannote/algorithms/utils/viterbi.py:86: FutureWarning: arrays to stack must be passed as a \"sequence\" type such as list or tuple. Support for non-sequence iterables such as generators is deprecated as of NumPy 1.16 and will raise an error in the future.\n",
      "  return np.vstack(\n",
      "/home/ddoukhan/git_repos/davidreda/env/lib/python3.10/site-packages/pyannote/algorithms/utils/viterbi.py:95: FutureWarning: arrays to stack must be passed as a \"sequence\" type such as list or tuple. Support for non-sequence iterables such as generators is deprecated as of NumPy 1.16 and will raise an error in the future.\n",
      "  return np.vstack(\n"
     ]
    },
    {
     "name": "stdout",
     "output_type": "stream",
     "text": [
      "93/93 - 0s - 145ms/epoch - 2ms/step\n",
      "69/69 - 0s - 213ms/epoch - 3ms/step\n",
      "[('female', 0.0, 1.34), ('male', 1.34, 6.3), ('female', 6.3, 12.5), ('male', 12.5, 14.94), ('female', 14.94, 17.42), ('noEnergy', 17.42, 18.080000000000002), ('female', 18.080000000000002, 19.86), ('music', 19.86, 34.78), ('noEnergy', 34.78, 35.96), ('female', 35.96, 39.18), ('male', 39.18, 41.78), ('female', 41.78, 47.980000000000004), ('male', 47.980000000000004, 50.0), ('female', 50.0, 53.68), ('male', 53.68, 55.14), ('female', 55.14, 60.82)]\n",
      "/tmp/wav/tv-C+_-203351.wav\n"
     ]
    },
    {
     "name": "stderr",
     "output_type": "stream",
     "text": [
      "/home/ddoukhan/git_repos/davidreda/env/lib/python3.10/site-packages/pyannote/algorithms/utils/viterbi.py:86: FutureWarning: arrays to stack must be passed as a \"sequence\" type such as list or tuple. Support for non-sequence iterables such as generators is deprecated as of NumPy 1.16 and will raise an error in the future.\n",
      "  return np.vstack(\n",
      "/home/ddoukhan/git_repos/davidreda/env/lib/python3.10/site-packages/pyannote/algorithms/utils/viterbi.py:95: FutureWarning: arrays to stack must be passed as a \"sequence\" type such as list or tuple. Support for non-sequence iterables such as generators is deprecated as of NumPy 1.16 and will raise an error in the future.\n",
      "  return np.vstack(\n",
      "/home/ddoukhan/git_repos/davidreda/env/lib/python3.10/site-packages/inaSpeechSegmenter/segmenter.py:62: RuntimeWarning: invalid value encountered in subtract\n",
      "  data = (data - np.mean(data, axis=1).reshape((len(data), 1))) / np.std(data, axis=1).reshape((len(data), 1))\n",
      "/home/ddoukhan/git_repos/davidreda/env/lib/python3.10/site-packages/numpy/core/_methods.py:236: RuntimeWarning: invalid value encountered in subtract\n",
      "  x = asanyarray(arr - arrmean)\n"
     ]
    },
    {
     "name": "stdout",
     "output_type": "stream",
     "text": [
      "94/94 - 0s - 149ms/epoch - 2ms/step\n",
      "60/60 - 0s - 185ms/epoch - 3ms/step\n",
      "[('music', 0.0, 6.82), ('male', 6.82, 10.92), ('female', 10.92, 16.66), ('noEnergy', 16.66, 17.18), ('male', 17.18, 25.400000000000002), ('noise', 25.400000000000002, 33.72), ('music', 33.72, 40.5), ('male', 40.5, 46.88), ('noEnergy', 46.88, 47.480000000000004), ('male', 47.480000000000004, 61.26)]\n",
      "/tmp/wav/radio-FBL-092729.wav\n"
     ]
    },
    {
     "name": "stderr",
     "output_type": "stream",
     "text": [
      "/home/ddoukhan/git_repos/davidreda/env/lib/python3.10/site-packages/pyannote/algorithms/utils/viterbi.py:86: FutureWarning: arrays to stack must be passed as a \"sequence\" type such as list or tuple. Support for non-sequence iterables such as generators is deprecated as of NumPy 1.16 and will raise an error in the future.\n",
      "  return np.vstack(\n",
      "/home/ddoukhan/git_repos/davidreda/env/lib/python3.10/site-packages/pyannote/algorithms/utils/viterbi.py:95: FutureWarning: arrays to stack must be passed as a \"sequence\" type such as list or tuple. Support for non-sequence iterables such as generators is deprecated as of NumPy 1.16 and will raise an error in the future.\n",
      "  return np.vstack(\n"
     ]
    },
    {
     "name": "stdout",
     "output_type": "stream",
     "text": [
      "94/94 - 0s - 148ms/epoch - 2ms/step\n",
      "[('music', 0.0, 60.02)]\n",
      "/tmp/wav/radio-FBL-174018.wav\n"
     ]
    },
    {
     "name": "stderr",
     "output_type": "stream",
     "text": [
      "/home/ddoukhan/git_repos/davidreda/env/lib/python3.10/site-packages/pyannote/algorithms/utils/viterbi.py:86: FutureWarning: arrays to stack must be passed as a \"sequence\" type such as list or tuple. Support for non-sequence iterables such as generators is deprecated as of NumPy 1.16 and will raise an error in the future.\n",
      "  return np.vstack(\n",
      "/home/ddoukhan/git_repos/davidreda/env/lib/python3.10/site-packages/pyannote/algorithms/utils/viterbi.py:95: FutureWarning: arrays to stack must be passed as a \"sequence\" type such as list or tuple. Support for non-sequence iterables such as generators is deprecated as of NumPy 1.16 and will raise an error in the future.\n",
      "  return np.vstack(\n"
     ]
    },
    {
     "name": "stdout",
     "output_type": "stream",
     "text": [
      "94/94 - 0s - 146ms/epoch - 2ms/step\n",
      "35/35 - 0s - 111ms/epoch - 3ms/step\n",
      "[('music', 0.0, 37.800000000000004), ('female', 37.800000000000004, 40.72), ('male', 40.72, 41.28), ('noEnergy', 41.28, 41.72), ('male', 41.72, 60.02)]\n",
      "/tmp/wav/radio-FIP-110726.wav\n"
     ]
    },
    {
     "name": "stderr",
     "output_type": "stream",
     "text": [
      "/home/ddoukhan/git_repos/davidreda/env/lib/python3.10/site-packages/pyannote/algorithms/utils/viterbi.py:86: FutureWarning: arrays to stack must be passed as a \"sequence\" type such as list or tuple. Support for non-sequence iterables such as generators is deprecated as of NumPy 1.16 and will raise an error in the future.\n",
      "  return np.vstack(\n",
      "/home/ddoukhan/git_repos/davidreda/env/lib/python3.10/site-packages/pyannote/algorithms/utils/viterbi.py:95: FutureWarning: arrays to stack must be passed as a \"sequence\" type such as list or tuple. Support for non-sequence iterables such as generators is deprecated as of NumPy 1.16 and will raise an error in the future.\n",
      "  return np.vstack(\n"
     ]
    },
    {
     "name": "stdout",
     "output_type": "stream",
     "text": [
      "94/94 - 0s - 149ms/epoch - 2ms/step\n",
      "[('music', 0.0, 60.0)]\n",
      "/tmp/wav/tv-F24-045809.wav\n"
     ]
    },
    {
     "name": "stderr",
     "output_type": "stream",
     "text": [
      "/home/ddoukhan/git_repos/davidreda/env/lib/python3.10/site-packages/pyannote/algorithms/utils/viterbi.py:86: FutureWarning: arrays to stack must be passed as a \"sequence\" type such as list or tuple. Support for non-sequence iterables such as generators is deprecated as of NumPy 1.16 and will raise an error in the future.\n",
      "  return np.vstack(\n",
      "/home/ddoukhan/git_repos/davidreda/env/lib/python3.10/site-packages/pyannote/algorithms/utils/viterbi.py:95: FutureWarning: arrays to stack must be passed as a \"sequence\" type such as list or tuple. Support for non-sequence iterables such as generators is deprecated as of NumPy 1.16 and will raise an error in the future.\n",
      "  return np.vstack(\n"
     ]
    },
    {
     "name": "stdout",
     "output_type": "stream",
     "text": [
      "97/97 - 0s - 154ms/epoch - 2ms/step\n",
      "84/84 - 0s - 256ms/epoch - 3ms/step\n",
      "[('music', 0.0, 5.36), ('female', 5.36, 57.34), ('music', 57.34, 60.36), ('male', 60.36, 61.9)]\n",
      "/tmp/wav/radio-FMU-181337.wav\n"
     ]
    },
    {
     "name": "stderr",
     "output_type": "stream",
     "text": [
      "/home/ddoukhan/git_repos/davidreda/env/lib/python3.10/site-packages/pyannote/algorithms/utils/viterbi.py:86: FutureWarning: arrays to stack must be passed as a \"sequence\" type such as list or tuple. Support for non-sequence iterables such as generators is deprecated as of NumPy 1.16 and will raise an error in the future.\n",
      "  return np.vstack(\n",
      "/home/ddoukhan/git_repos/davidreda/env/lib/python3.10/site-packages/pyannote/algorithms/utils/viterbi.py:95: FutureWarning: arrays to stack must be passed as a \"sequence\" type such as list or tuple. Support for non-sequence iterables such as generators is deprecated as of NumPy 1.16 and will raise an error in the future.\n",
      "  return np.vstack(\n"
     ]
    },
    {
     "name": "stdout",
     "output_type": "stream",
     "text": [
      "94/94 - 0s - 148ms/epoch - 2ms/step\n",
      "[('music', 0.0, 60.02)]\n",
      "/tmp/wav/tv-C+_-190401.wav\n"
     ]
    },
    {
     "name": "stderr",
     "output_type": "stream",
     "text": [
      "/home/ddoukhan/git_repos/davidreda/env/lib/python3.10/site-packages/pyannote/algorithms/utils/viterbi.py:86: FutureWarning: arrays to stack must be passed as a \"sequence\" type such as list or tuple. Support for non-sequence iterables such as generators is deprecated as of NumPy 1.16 and will raise an error in the future.\n",
      "  return np.vstack(\n",
      "/home/ddoukhan/git_repos/davidreda/env/lib/python3.10/site-packages/pyannote/algorithms/utils/viterbi.py:95: FutureWarning: arrays to stack must be passed as a \"sequence\" type such as list or tuple. Support for non-sequence iterables such as generators is deprecated as of NumPy 1.16 and will raise an error in the future.\n",
      "  return np.vstack(\n"
     ]
    },
    {
     "name": "stdout",
     "output_type": "stream",
     "text": [
      "96/96 - 0s - 152ms/epoch - 2ms/step\n",
      "68/68 - 0s - 207ms/epoch - 3ms/step\n",
      "[('noise', 0.0, 2.04), ('music', 2.04, 8.66), ('male', 8.66, 50.08), ('noEnergy', 50.08, 50.82), ('male', 50.82, 52.76), ('music', 52.76, 53.74), ('noise', 53.74, 62.0)]\n",
      "/tmp/wav/radio-FIF-184016.wav\n"
     ]
    },
    {
     "name": "stderr",
     "output_type": "stream",
     "text": [
      "/home/ddoukhan/git_repos/davidreda/env/lib/python3.10/site-packages/pyannote/algorithms/utils/viterbi.py:86: FutureWarning: arrays to stack must be passed as a \"sequence\" type such as list or tuple. Support for non-sequence iterables such as generators is deprecated as of NumPy 1.16 and will raise an error in the future.\n",
      "  return np.vstack(\n",
      "/home/ddoukhan/git_repos/davidreda/env/lib/python3.10/site-packages/pyannote/algorithms/utils/viterbi.py:95: FutureWarning: arrays to stack must be passed as a \"sequence\" type such as list or tuple. Support for non-sequence iterables such as generators is deprecated as of NumPy 1.16 and will raise an error in the future.\n",
      "  return np.vstack(\n"
     ]
    },
    {
     "name": "stdout",
     "output_type": "stream",
     "text": [
      "94/94 - 0s - 148ms/epoch - 2ms/step\n",
      "94/94 - 0s - 284ms/epoch - 3ms/step\n",
      "[('male', 0.0, 60.0)]\n",
      "/tmp/wav/tv-BFT-020755.wav\n"
     ]
    },
    {
     "name": "stderr",
     "output_type": "stream",
     "text": [
      "/home/ddoukhan/git_repos/davidreda/env/lib/python3.10/site-packages/pyannote/algorithms/utils/viterbi.py:86: FutureWarning: arrays to stack must be passed as a \"sequence\" type such as list or tuple. Support for non-sequence iterables such as generators is deprecated as of NumPy 1.16 and will raise an error in the future.\n",
      "  return np.vstack(\n",
      "/home/ddoukhan/git_repos/davidreda/env/lib/python3.10/site-packages/pyannote/algorithms/utils/viterbi.py:95: FutureWarning: arrays to stack must be passed as a \"sequence\" type such as list or tuple. Support for non-sequence iterables such as generators is deprecated as of NumPy 1.16 and will raise an error in the future.\n",
      "  return np.vstack(\n"
     ]
    },
    {
     "name": "stdout",
     "output_type": "stream",
     "text": [
      "94/94 - 0s - 146ms/epoch - 2ms/step\n",
      "94/94 - 0s - 284ms/epoch - 3ms/step\n",
      "[('female', 0.0, 26.72), ('male', 26.72, 43.660000000000004), ('noEnergy', 43.660000000000004, 44.18), ('male', 44.18, 56.64), ('noEnergy', 56.64, 57.32), ('female', 57.32, 59.32), ('male', 59.32, 60.46), ('female', 60.46, 61.120000000000005)]\n",
      "/tmp/wav/tv-FR3-145020.wav\n"
     ]
    },
    {
     "name": "stderr",
     "output_type": "stream",
     "text": [
      "/home/ddoukhan/git_repos/davidreda/env/lib/python3.10/site-packages/pyannote/algorithms/utils/viterbi.py:86: FutureWarning: arrays to stack must be passed as a \"sequence\" type such as list or tuple. Support for non-sequence iterables such as generators is deprecated as of NumPy 1.16 and will raise an error in the future.\n",
      "  return np.vstack(\n",
      "/home/ddoukhan/git_repos/davidreda/env/lib/python3.10/site-packages/pyannote/algorithms/utils/viterbi.py:95: FutureWarning: arrays to stack must be passed as a \"sequence\" type such as list or tuple. Support for non-sequence iterables such as generators is deprecated as of NumPy 1.16 and will raise an error in the future.\n",
      "  return np.vstack(\n"
     ]
    },
    {
     "name": "stdout",
     "output_type": "stream",
     "text": [
      "96/96 - 0s - 152ms/epoch - 2ms/step\n",
      "96/96 - 0s - 290ms/epoch - 3ms/step\n",
      "[('male', 0.0, 13.32), ('noEnergy', 13.32, 13.74), ('male', 13.74, 61.68)]\n",
      "/tmp/wav/tv-TF1-131538.wav\n"
     ]
    },
    {
     "name": "stderr",
     "output_type": "stream",
     "text": [
      "/home/ddoukhan/git_repos/davidreda/env/lib/python3.10/site-packages/pyannote/algorithms/utils/viterbi.py:86: FutureWarning: arrays to stack must be passed as a \"sequence\" type such as list or tuple. Support for non-sequence iterables such as generators is deprecated as of NumPy 1.16 and will raise an error in the future.\n",
      "  return np.vstack(\n",
      "/home/ddoukhan/git_repos/davidreda/env/lib/python3.10/site-packages/pyannote/algorithms/utils/viterbi.py:95: FutureWarning: arrays to stack must be passed as a \"sequence\" type such as list or tuple. Support for non-sequence iterables such as generators is deprecated as of NumPy 1.16 and will raise an error in the future.\n",
      "  return np.vstack(\n"
     ]
    },
    {
     "name": "stdout",
     "output_type": "stream",
     "text": [
      "93/93 - 0s - 147ms/epoch - 2ms/step\n",
      "93/93 - 0s - 280ms/epoch - 3ms/step\n",
      "[('male', 0.0, 26.2), ('noEnergy', 26.2, 27.02), ('male', 27.02, 37.6), ('noEnergy', 37.6, 38.0), ('female', 38.0, 38.74), ('male', 38.74, 60.160000000000004)]\n",
      "/tmp/wav/tv-N12-195609.wav\n"
     ]
    },
    {
     "name": "stderr",
     "output_type": "stream",
     "text": [
      "/home/ddoukhan/git_repos/davidreda/env/lib/python3.10/site-packages/pyannote/algorithms/utils/viterbi.py:86: FutureWarning: arrays to stack must be passed as a \"sequence\" type such as list or tuple. Support for non-sequence iterables such as generators is deprecated as of NumPy 1.16 and will raise an error in the future.\n",
      "  return np.vstack(\n",
      "/home/ddoukhan/git_repos/davidreda/env/lib/python3.10/site-packages/pyannote/algorithms/utils/viterbi.py:95: FutureWarning: arrays to stack must be passed as a \"sequence\" type such as list or tuple. Support for non-sequence iterables such as generators is deprecated as of NumPy 1.16 and will raise an error in the future.\n",
      "  return np.vstack(\n"
     ]
    },
    {
     "name": "stdout",
     "output_type": "stream",
     "text": [
      "96/96 - 0s - 149ms/epoch - 2ms/step\n",
      "44/44 - 0s - 137ms/epoch - 3ms/step\n",
      "[('music', 0.0, 7.16), ('female', 7.16, 11.8), ('music', 11.8, 23.18), ('noise', 23.18, 25.94), ('music', 25.94, 28.900000000000002), ('noise', 28.900000000000002, 34.54), ('male', 34.54, 40.88), ('female', 40.88, 43.26), ('male', 43.26, 46.0), ('female', 46.0, 49.480000000000004), ('music', 49.480000000000004, 53.26), ('male', 53.26, 55.660000000000004), ('female', 55.660000000000004, 57.94), ('male', 57.94, 61.32)]\n",
      "/tmp/wav/tv-FR4-005308.wav\n"
     ]
    },
    {
     "name": "stderr",
     "output_type": "stream",
     "text": [
      "/home/ddoukhan/git_repos/davidreda/env/lib/python3.10/site-packages/pyannote/algorithms/utils/viterbi.py:86: FutureWarning: arrays to stack must be passed as a \"sequence\" type such as list or tuple. Support for non-sequence iterables such as generators is deprecated as of NumPy 1.16 and will raise an error in the future.\n",
      "  return np.vstack(\n",
      "/home/ddoukhan/git_repos/davidreda/env/lib/python3.10/site-packages/pyannote/algorithms/utils/viterbi.py:95: FutureWarning: arrays to stack must be passed as a \"sequence\" type such as list or tuple. Support for non-sequence iterables such as generators is deprecated as of NumPy 1.16 and will raise an error in the future.\n",
      "  return np.vstack(\n"
     ]
    },
    {
     "name": "stdout",
     "output_type": "stream",
     "text": [
      "94/94 - 0s - 149ms/epoch - 2ms/step\n",
      "91/91 - 0s - 278ms/epoch - 3ms/step\n",
      "[('male', 0.0, 1.24), ('female', 1.24, 12.4), ('male', 12.4, 14.96), ('female', 14.96, 16.44), ('male', 16.44, 37.300000000000004), ('noEnergy', 37.300000000000004, 38.0), ('music', 38.0, 39.980000000000004), ('female', 39.980000000000004, 45.02), ('male', 45.02, 49.56), ('female', 49.56, 54.38), ('noEnergy', 54.38, 54.94), ('female', 54.94, 55.980000000000004), ('noEnergy', 55.980000000000004, 56.92), ('male', 56.92, 59.94), ('female', 59.94, 62.06)]\n",
      "/tmp/wav/tv-N12-132328.wav\n"
     ]
    },
    {
     "name": "stderr",
     "output_type": "stream",
     "text": [
      "/home/ddoukhan/git_repos/davidreda/env/lib/python3.10/site-packages/pyannote/algorithms/utils/viterbi.py:86: FutureWarning: arrays to stack must be passed as a \"sequence\" type such as list or tuple. Support for non-sequence iterables such as generators is deprecated as of NumPy 1.16 and will raise an error in the future.\n",
      "  return np.vstack(\n",
      "/home/ddoukhan/git_repos/davidreda/env/lib/python3.10/site-packages/pyannote/algorithms/utils/viterbi.py:95: FutureWarning: arrays to stack must be passed as a \"sequence\" type such as list or tuple. Support for non-sequence iterables such as generators is deprecated as of NumPy 1.16 and will raise an error in the future.\n",
      "  return np.vstack(\n"
     ]
    },
    {
     "name": "stdout",
     "output_type": "stream",
     "text": [
      "95/95 - 0s - 150ms/epoch - 2ms/step\n",
      "95/95 - 0s - 287ms/epoch - 3ms/step\n",
      "[('female', 0.0, 19.900000000000002), ('male', 19.900000000000002, 35.34), ('noEnergy', 35.34, 35.800000000000004), ('male', 35.800000000000004, 36.32), ('female', 36.32, 61.22)]\n",
      "/tmp/wav/radio-FMU-051454.wav\n"
     ]
    },
    {
     "name": "stderr",
     "output_type": "stream",
     "text": [
      "/home/ddoukhan/git_repos/davidreda/env/lib/python3.10/site-packages/pyannote/algorithms/utils/viterbi.py:86: FutureWarning: arrays to stack must be passed as a \"sequence\" type such as list or tuple. Support for non-sequence iterables such as generators is deprecated as of NumPy 1.16 and will raise an error in the future.\n",
      "  return np.vstack(\n",
      "/home/ddoukhan/git_repos/davidreda/env/lib/python3.10/site-packages/pyannote/algorithms/utils/viterbi.py:95: FutureWarning: arrays to stack must be passed as a \"sequence\" type such as list or tuple. Support for non-sequence iterables such as generators is deprecated as of NumPy 1.16 and will raise an error in the future.\n",
      "  return np.vstack(\n"
     ]
    },
    {
     "name": "stdout",
     "output_type": "stream",
     "text": [
      "94/94 - 0s - 144ms/epoch - 2ms/step\n",
      "[('music', 0.0, 60.0)]\n",
      "/tmp/wav/tv-C+N-023637.wav\n"
     ]
    },
    {
     "name": "stderr",
     "output_type": "stream",
     "text": [
      "/home/ddoukhan/git_repos/davidreda/env/lib/python3.10/site-packages/pyannote/algorithms/utils/viterbi.py:86: FutureWarning: arrays to stack must be passed as a \"sequence\" type such as list or tuple. Support for non-sequence iterables such as generators is deprecated as of NumPy 1.16 and will raise an error in the future.\n",
      "  return np.vstack(\n",
      "/home/ddoukhan/git_repos/davidreda/env/lib/python3.10/site-packages/pyannote/algorithms/utils/viterbi.py:95: FutureWarning: arrays to stack must be passed as a \"sequence\" type such as list or tuple. Support for non-sequence iterables such as generators is deprecated as of NumPy 1.16 and will raise an error in the future.\n",
      "  return np.vstack(\n"
     ]
    },
    {
     "name": "stdout",
     "output_type": "stream",
     "text": [
      "95/95 - 0s - 149ms/epoch - 2ms/step\n",
      "95/95 - 0s - 287ms/epoch - 3ms/step\n",
      "[('female', 0.0, 9.96), ('noEnergy', 9.96, 11.08), ('female', 11.08, 53.2), ('noEnergy', 53.2, 53.82), ('male', 53.82, 57.5), ('female', 57.5, 61.92)]\n",
      "/tmp/wav/tv-M6_-075818.wav\n"
     ]
    },
    {
     "name": "stderr",
     "output_type": "stream",
     "text": [
      "/home/ddoukhan/git_repos/davidreda/env/lib/python3.10/site-packages/pyannote/algorithms/utils/viterbi.py:86: FutureWarning: arrays to stack must be passed as a \"sequence\" type such as list or tuple. Support for non-sequence iterables such as generators is deprecated as of NumPy 1.16 and will raise an error in the future.\n",
      "  return np.vstack(\n",
      "/home/ddoukhan/git_repos/davidreda/env/lib/python3.10/site-packages/pyannote/algorithms/utils/viterbi.py:95: FutureWarning: arrays to stack must be passed as a \"sequence\" type such as list or tuple. Support for non-sequence iterables such as generators is deprecated as of NumPy 1.16 and will raise an error in the future.\n",
      "  return np.vstack(\n"
     ]
    },
    {
     "name": "stdout",
     "output_type": "stream",
     "text": [
      "94/94 - 0s - 144ms/epoch - 2ms/step\n",
      "39/39 - 0s - 124ms/epoch - 3ms/step\n",
      "[('music', 0.0, 4.64), ('noise', 4.64, 6.94), ('male', 6.94, 9.72), ('noise', 9.72, 14.42), ('music', 14.42, 16.080000000000002), ('noise', 16.080000000000002, 24.42), ('music', 24.42, 34.52), ('female', 34.52, 39.26), ('male', 39.26, 40.28), ('noEnergy', 40.28, 40.78), ('female', 40.78, 42.72), ('noEnergy', 42.72, 43.32), ('male', 43.32, 51.22), ('music', 51.22, 54.660000000000004), ('male', 54.660000000000004, 61.160000000000004)]\n",
      "/tmp/wav/tv-TF1-215118.wav\n"
     ]
    },
    {
     "name": "stderr",
     "output_type": "stream",
     "text": [
      "/home/ddoukhan/git_repos/davidreda/env/lib/python3.10/site-packages/pyannote/algorithms/utils/viterbi.py:86: FutureWarning: arrays to stack must be passed as a \"sequence\" type such as list or tuple. Support for non-sequence iterables such as generators is deprecated as of NumPy 1.16 and will raise an error in the future.\n",
      "  return np.vstack(\n",
      "/home/ddoukhan/git_repos/davidreda/env/lib/python3.10/site-packages/pyannote/algorithms/utils/viterbi.py:95: FutureWarning: arrays to stack must be passed as a \"sequence\" type such as list or tuple. Support for non-sequence iterables such as generators is deprecated as of NumPy 1.16 and will raise an error in the future.\n",
      "  return np.vstack(\n",
      "/home/ddoukhan/git_repos/davidreda/env/lib/python3.10/site-packages/inaSpeechSegmenter/segmenter.py:62: RuntimeWarning: invalid value encountered in subtract\n",
      "  data = (data - np.mean(data, axis=1).reshape((len(data), 1))) / np.std(data, axis=1).reshape((len(data), 1))\n",
      "/home/ddoukhan/git_repos/davidreda/env/lib/python3.10/site-packages/numpy/core/_methods.py:236: RuntimeWarning: invalid value encountered in subtract\n",
      "  x = asanyarray(arr - arrmean)\n"
     ]
    },
    {
     "name": "stdout",
     "output_type": "stream",
     "text": [
      "93/93 - 0s - 145ms/epoch - 2ms/step\n",
      "33/33 - 0s - 106ms/epoch - 3ms/step\n",
      "[('noEnergy', 0.0, 0.38), ('female', 0.38, 7.84), ('music', 7.84, 12.64), ('female', 12.64, 15.1), ('male', 15.1, 18.900000000000002), ('female', 18.900000000000002, 20.32), ('noEnergy', 20.32, 20.76), ('music', 20.76, 42.96), ('female', 42.96, 47.14), ('music', 47.14, 50.44), ('noEnergy', 50.44, 51.08), ('music', 51.08, 57.88), ('noise', 57.88, 59.06), ('male', 59.06, 60.36)]\n",
      "/tmp/wav/radio-FMU-122555.wav\n"
     ]
    },
    {
     "name": "stderr",
     "output_type": "stream",
     "text": [
      "/home/ddoukhan/git_repos/davidreda/env/lib/python3.10/site-packages/pyannote/algorithms/utils/viterbi.py:86: FutureWarning: arrays to stack must be passed as a \"sequence\" type such as list or tuple. Support for non-sequence iterables such as generators is deprecated as of NumPy 1.16 and will raise an error in the future.\n",
      "  return np.vstack(\n",
      "/home/ddoukhan/git_repos/davidreda/env/lib/python3.10/site-packages/pyannote/algorithms/utils/viterbi.py:95: FutureWarning: arrays to stack must be passed as a \"sequence\" type such as list or tuple. Support for non-sequence iterables such as generators is deprecated as of NumPy 1.16 and will raise an error in the future.\n",
      "  return np.vstack(\n"
     ]
    },
    {
     "name": "stdout",
     "output_type": "stream",
     "text": [
      "93/93 - 0s - 145ms/epoch - 2ms/step\n",
      "[('music', 0.0, 25.92), ('noEnergy', 25.92, 26.54), ('music', 26.54, 30.66), ('noEnergy', 30.66, 31.16), ('music', 31.16, 52.660000000000004), ('noise', 52.660000000000004, 60.02)]\n",
      "/tmp/wav/radio-FMU-000842.wav\n"
     ]
    },
    {
     "name": "stderr",
     "output_type": "stream",
     "text": [
      "/home/ddoukhan/git_repos/davidreda/env/lib/python3.10/site-packages/pyannote/algorithms/utils/viterbi.py:86: FutureWarning: arrays to stack must be passed as a \"sequence\" type such as list or tuple. Support for non-sequence iterables such as generators is deprecated as of NumPy 1.16 and will raise an error in the future.\n",
      "  return np.vstack(\n",
      "/home/ddoukhan/git_repos/davidreda/env/lib/python3.10/site-packages/pyannote/algorithms/utils/viterbi.py:95: FutureWarning: arrays to stack must be passed as a \"sequence\" type such as list or tuple. Support for non-sequence iterables such as generators is deprecated as of NumPy 1.16 and will raise an error in the future.\n",
      "  return np.vstack(\n"
     ]
    },
    {
     "name": "stdout",
     "output_type": "stream",
     "text": [
      "93/93 - 0s - 146ms/epoch - 2ms/step\n",
      "[('music', 0.0, 18.78), ('noEnergy', 18.78, 19.84), ('music', 19.84, 60.02)]\n"
     ]
    }
   ],
   "source": [
    "for f in glob.glob(wavdir + '/*.wav'):\n",
    "    print(f)\n",
    "    base = splitext(basename(f))[0]\n",
    "    seg = s(f)\n",
    "    print(seg)\n",
    "    df = pd.DataFrame.from_records(seg, columns=['label', 'start', 'stop'])\n",
    "    df.to_csv('../../automatic_baselines/inaspeechsegmenter/%s.csv' % base, index=False)"
   ]
  },
  {
   "cell_type": "code",
   "execution_count": null,
   "id": "0d928433",
   "metadata": {},
   "outputs": [],
   "source": []
  }
 ],
 "metadata": {
  "kernelspec": {
   "display_name": "Python 3 (ipykernel)",
   "language": "python",
   "name": "python3"
  },
  "language_info": {
   "codemirror_mode": {
    "name": "ipython",
    "version": 3
   },
   "file_extension": ".py",
   "mimetype": "text/x-python",
   "name": "python",
   "nbconvert_exporter": "python",
   "pygments_lexer": "ipython3",
   "version": "3.10.12"
  }
 },
 "nbformat": 4,
 "nbformat_minor": 5
}
