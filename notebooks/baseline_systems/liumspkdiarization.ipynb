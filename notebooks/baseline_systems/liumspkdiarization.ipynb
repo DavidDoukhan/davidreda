{
 "cells": [
  {
   "cell_type": "code",
   "execution_count": null,
   "id": "0c7ce60e",
   "metadata": {},
   "outputs": [],
   "source": [
    "import glob\n",
    "import os\n",
    "import pandas as pd"
   ]
  },
  {
   "cell_type": "code",
   "execution_count": null,
   "id": "0c034084",
   "metadata": {},
   "outputs": [],
   "source": [
    "patcmd = '/usr/bin/java -Xmx2024m -jar ./LIUM_SpkDiarization-8.4.1.jar --fInputMask=\"%s\" --sOutputMask=\"%s\" --doCEClustering \"%s\"'\n",
    "wavdir = '../../wav/' #should be updated after wav download from FTP\n",
    "\n",
    "for f in glob.glob(wavdir + '*.wav'):\n",
    "    base, _ = os.path.splitext(os.path.basename(f))\n",
    "    out = '../../automatic_baselines/liumspkdirization_raw/%s.seg' % base\n",
    "    if os.path.exists(out):\n",
    "        continue\n",
    "    cmd = patcmd % (f, out, base)\n",
    "    print(cmd)\n",
    "    os.system(cmd)"
   ]
  },
  {
   "cell_type": "code",
   "execution_count": null,
   "id": "18c492c9",
   "metadata": {},
   "outputs": [],
   "source": [
    "names = ['show', 'skip', 'startcs', 'durcs', 'gender', 'canal', 'uni', 'spkr']\n",
    "for f in glob.glob('../../automatic_baselines/liumspkdirization_raw/*.seg'):\n",
    "    print(f)\n",
    "    base, _ = os.path.splitext(os.path.basename(f))\n",
    "    df = pd.read_csv(f, sep=' ', comment=';', header=None, names=names)\n",
    "    df = df.sort_values(by=['startcs'])\n",
    "    retdf = pd.DataFrame()\n",
    "    retdf['start'] = df.startcs / 100.\n",
    "    retdf['stop'] = (df.startcs + df.durcs) / 100.\n",
    "    retdf['label'] = df.gender.map(lambda x : 'female' if x == 'F' else 'male')\n",
    "    retdf['canal'] = df.canal.map(lambda x: 'telephone' if x == 'T' else 'studio')\n",
    "    retdf.to_csv('../../automatic_baselines/liumspkdirization_csv/%s.csv' % base, index = False)"
   ]
  },
  {
   "cell_type": "code",
   "execution_count": null,
   "id": "6c9bc505",
   "metadata": {},
   "outputs": [],
   "source": []
  }
 ],
 "metadata": {
  "kernelspec": {
   "display_name": "Python 3 (ipykernel)",
   "language": "python",
   "name": "python3"
  },
  "language_info": {
   "codemirror_mode": {
    "name": "ipython",
    "version": 3
   },
   "file_extension": ".py",
   "mimetype": "text/x-python",
   "name": "python",
   "nbconvert_exporter": "python",
   "pygments_lexer": "ipython3",
   "version": "3.8.10"
  }
 },
 "nbformat": 4,
 "nbformat_minor": 5
}
