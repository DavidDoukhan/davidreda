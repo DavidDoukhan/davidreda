{
 "cells": [
  {
   "cell_type": "code",
   "execution_count": 1,
   "id": "832f2d55",
   "metadata": {},
   "outputs": [],
   "source": [
    "from inaGVAD.vad_metrics import VadEval\n",
    "from inaGVAD.metadata import fileid2metadata\n",
    "import glob\n",
    "import pandas as pd"
   ]
  },
  {
   "cell_type": "code",
   "execution_count": 2,
   "id": "a075f8ec",
   "metadata": {},
   "outputs": [
    {
     "data": {
      "text/html": [
       "<div>\n",
       "<style scoped>\n",
       "    .dataframe tbody tr th:only-of-type {\n",
       "        vertical-align: middle;\n",
       "    }\n",
       "\n",
       "    .dataframe tbody tr th {\n",
       "        vertical-align: top;\n",
       "    }\n",
       "\n",
       "    .dataframe thead th {\n",
       "        text-align: right;\n",
       "    }\n",
       "</style>\n",
       "<table border=\"1\" class=\"dataframe\">\n",
       "  <thead>\n",
       "    <tr style=\"text-align: right;\">\n",
       "      <th></th>\n",
       "      <th>fileid</th>\n",
       "      <th>media</th>\n",
       "      <th>channel_code</th>\n",
       "      <th>channel_name</th>\n",
       "      <th>channel_category</th>\n",
       "      <th>broadcast_hour</th>\n",
       "    </tr>\n",
       "  </thead>\n",
       "  <tbody>\n",
       "    <tr>\n",
       "      <th>0</th>\n",
       "      <td>tv-C+_-141814</td>\n",
       "      <td>tv</td>\n",
       "      <td>C+_</td>\n",
       "      <td>Canal+</td>\n",
       "      <td>generalist_tv</td>\n",
       "      <td>14</td>\n",
       "    </tr>\n",
       "    <tr>\n",
       "      <th>1</th>\n",
       "      <td>tv-TF1-194413</td>\n",
       "      <td>tv</td>\n",
       "      <td>TF1</td>\n",
       "      <td>TF1</td>\n",
       "      <td>generalist_tv</td>\n",
       "      <td>19</td>\n",
       "    </tr>\n",
       "    <tr>\n",
       "      <th>2</th>\n",
       "      <td>radio-FIF-103502</td>\n",
       "      <td>radio</td>\n",
       "      <td>FIF</td>\n",
       "      <td>France Info</td>\n",
       "      <td>generalist_radio</td>\n",
       "      <td>10</td>\n",
       "    </tr>\n",
       "    <tr>\n",
       "      <th>3</th>\n",
       "      <td>radio-FBL-012717</td>\n",
       "      <td>radio</td>\n",
       "      <td>FBL</td>\n",
       "      <td>France Bleu</td>\n",
       "      <td>music_radio</td>\n",
       "      <td>1</td>\n",
       "    </tr>\n",
       "    <tr>\n",
       "      <th>4</th>\n",
       "      <td>radio-FBL-011904</td>\n",
       "      <td>radio</td>\n",
       "      <td>FBL</td>\n",
       "      <td>France Bleu</td>\n",
       "      <td>music_radio</td>\n",
       "      <td>1</td>\n",
       "    </tr>\n",
       "    <tr>\n",
       "      <th>...</th>\n",
       "      <td>...</td>\n",
       "      <td>...</td>\n",
       "      <td>...</td>\n",
       "      <td>...</td>\n",
       "      <td>...</td>\n",
       "      <td>...</td>\n",
       "    </tr>\n",
       "    <tr>\n",
       "      <th>272</th>\n",
       "      <td>radio-FMU-000842</td>\n",
       "      <td>radio</td>\n",
       "      <td>FMU</td>\n",
       "      <td>France Musique</td>\n",
       "      <td>music_radio</td>\n",
       "      <td>0</td>\n",
       "    </tr>\n",
       "    <tr>\n",
       "      <th>273</th>\n",
       "      <td>tv-C+N-184644</td>\n",
       "      <td>tv</td>\n",
       "      <td>C+N</td>\n",
       "      <td>CNEWS</td>\n",
       "      <td>news_tv</td>\n",
       "      <td>18</td>\n",
       "    </tr>\n",
       "    <tr>\n",
       "      <th>274</th>\n",
       "      <td>tv-LCI-200527</td>\n",
       "      <td>tv</td>\n",
       "      <td>LCI</td>\n",
       "      <td>LCI</td>\n",
       "      <td>news_tv</td>\n",
       "      <td>20</td>\n",
       "    </tr>\n",
       "    <tr>\n",
       "      <th>275</th>\n",
       "      <td>radio-MUV-031209</td>\n",
       "      <td>radio</td>\n",
       "      <td>MUV</td>\n",
       "      <td>Mouv'</td>\n",
       "      <td>music_radio</td>\n",
       "      <td>3</td>\n",
       "    </tr>\n",
       "    <tr>\n",
       "      <th>276</th>\n",
       "      <td>tv-FR4-005308</td>\n",
       "      <td>tv</td>\n",
       "      <td>FR4</td>\n",
       "      <td>France 4</td>\n",
       "      <td>generalist_tv</td>\n",
       "      <td>0</td>\n",
       "    </tr>\n",
       "  </tbody>\n",
       "</table>\n",
       "<p>277 rows × 6 columns</p>\n",
       "</div>"
      ],
      "text/plain": [
       "               fileid  media channel_code    channel_name  channel_category  \\\n",
       "0       tv-C+_-141814     tv          C+_          Canal+     generalist_tv   \n",
       "1       tv-TF1-194413     tv          TF1             TF1     generalist_tv   \n",
       "2    radio-FIF-103502  radio          FIF     France Info  generalist_radio   \n",
       "3    radio-FBL-012717  radio          FBL     France Bleu       music_radio   \n",
       "4    radio-FBL-011904  radio          FBL     France Bleu       music_radio   \n",
       "..                ...    ...          ...             ...               ...   \n",
       "272  radio-FMU-000842  radio          FMU  France Musique       music_radio   \n",
       "273     tv-C+N-184644     tv          C+N           CNEWS           news_tv   \n",
       "274     tv-LCI-200527     tv          LCI             LCI           news_tv   \n",
       "275  radio-MUV-031209  radio          MUV           Mouv'       music_radio   \n",
       "276     tv-FR4-005308     tv          FR4        France 4     generalist_tv   \n",
       "\n",
       "     broadcast_hour  \n",
       "0                14  \n",
       "1                19  \n",
       "2                10  \n",
       "3                 1  \n",
       "4                 1  \n",
       "..              ...  \n",
       "272               0  \n",
       "273              18  \n",
       "274              20  \n",
       "275               3  \n",
       "276               0  \n",
       "\n",
       "[277 rows x 6 columns]"
      ]
     },
     "execution_count": 2,
     "metadata": {},
     "output_type": "execute_result"
    }
   ],
   "source": [
    "df = pd.DataFrame.from_records([fileid2metadata(x) for x in glob.glob('../../annotations/trs/*.trs')])\n",
    "df"
   ]
  },
  {
   "cell_type": "code",
   "execution_count": 3,
   "id": "37868263",
   "metadata": {},
   "outputs": [],
   "source": [
    "lsystems = ['inaspeechsegmenter', 'liumspkdiarization_csv', 'rvad_csv', 'silero_vad', 'pyannote_vad', 'speechbrain_vad']\n",
    "ve = VadEval(collar=0.3)"
   ]
  },
  {
   "cell_type": "code",
   "execution_count": 4,
   "id": "985f5a39",
   "metadata": {},
   "outputs": [
    {
     "name": "stdout",
     "output_type": "stream",
     "text": [
      "inaspeechsegmenter {'accuracy': 0.9328096686186261, 'precision': 0.9216109208956147, 'recall': 0.9724278249623988, 'fmeasure': 0.9463376662467702}\n",
      "liumspkdiarization_csv {'accuracy': 0.8412262485689355, 'precision': 0.8139075360910878, 'recall': 0.9585612039848338, 'fmeasure': 0.8803316753494729}\n",
      "rvad_csv {'accuracy': 0.6974821088462414, 'precision': 0.6778461662612372, 'recall': 0.9594465372805209, 'fmeasure': 0.7944299215667192}\n",
      "silero_vad {'accuracy': 0.8484739332910665, 'precision': 0.8117290461870477, 'recall': 0.9781648446105309, 'fmeasure': 0.8872088121107543}\n",
      "pyannote_vad {'accuracy': 0.8905697128181659, 'precision': 0.8541998983114646, 'recall': 0.989233983070536, 'fmeasure': 0.9167712238332169}\n",
      "speechbrain_vad {'accuracy': 0.9104895674326066, 'precision': 0.8865004181586101, 'recall': 0.9783388505035628, 'fmeasure': 0.930158233630953}\n"
     ]
    }
   ],
   "source": [
    "for system in lsystems:\n",
    "    tmp, summary = ve.compare_directories('../../annotations/vad/', '../../automatic_baselines/' + system)\n",
    "    print(system, summary)\n",
    "    tmp = tmp[['basename', 'accuracy']].rename({'accuracy' : system}, axis=1)\n",
    "    df = df.join(tmp.set_index('basename'), on='fileid')"
   ]
  },
  {
   "cell_type": "code",
   "execution_count": 5,
   "id": "b2eae547",
   "metadata": {},
   "outputs": [],
   "source": [
    "df['best3acc'] = (df.inaspeechsegmenter + df.pyannote_vad + df.speechbrain_vad) / 3."
   ]
  },
  {
   "cell_type": "code",
   "execution_count": 6,
   "id": "083cbf49",
   "metadata": {},
   "outputs": [],
   "source": [
    "def difficulty(x):\n",
    "    if x < .85:\n",
    "        return 'HARD'\n",
    "    elif x >= .95:\n",
    "        return 'EASY'\n",
    "    return 'MEDIUM'\n",
    "\n",
    "df['vad_difficulty'] = df.best3acc.map(difficulty)"
   ]
  },
  {
   "cell_type": "code",
   "execution_count": 7,
   "id": "c8929915",
   "metadata": {},
   "outputs": [],
   "source": [
    "df = df.drop(lsystems + ['best3acc'], axis=1)"
   ]
  },
  {
   "cell_type": "code",
   "execution_count": 13,
   "id": "e8e0e5ec",
   "metadata": {},
   "outputs": [],
   "source": [
    "ldev = []\n",
    "ltest = []\n",
    "\n",
    "for k, sdf in df.groupby('channel_category'):\n",
    "    shuffled = sdf.sample(frac=1).reset_index(drop=True)\n",
    "    ldev.append(shuffled[:15])\n",
    "    ltest.append(shuffled[15:])"
   ]
  },
  {
   "cell_type": "code",
   "execution_count": 14,
   "id": "9ad834c0",
   "metadata": {},
   "outputs": [],
   "source": [
    "dfdev = pd.concat(ldev).sort_values(by='fileid').reset_index(drop=True)\n",
    "dftest = pd.concat(ltest).sort_values(by='fileid').reset_index(drop=True)\n"
   ]
  },
  {
   "cell_type": "code",
   "execution_count": 15,
   "id": "c6d11b0a",
   "metadata": {},
   "outputs": [],
   "source": [
    "dfdev.to_csv('../../annotations/filesplit/devset.csv', index=False)\n",
    "dftest.to_csv('../../annotations/filesplit/testset.csv', index=False)"
   ]
  },
  {
   "cell_type": "code",
   "execution_count": 18,
   "id": "10833621",
   "metadata": {},
   "outputs": [
    {
     "name": "stdout",
     "output_type": "stream",
     "text": [
      "generalist_radio 15\n",
      "   EASY 10 66.66666666666667\n",
      "   MEDIUM 5 33.333333333333336\n",
      "   HARD 0 0.0\n",
      "generalist_tv 15\n",
      "   EASY 2 13.333333333333334\n",
      "   MEDIUM 9 60.0\n",
      "   HARD 4 26.666666666666668\n",
      "music_radio 15\n",
      "   EASY 7 46.666666666666664\n",
      "   MEDIUM 4 26.666666666666668\n",
      "   HARD 4 26.666666666666668\n",
      "news_tv 15\n",
      "   EASY 9 60.0\n",
      "   MEDIUM 5 33.333333333333336\n",
      "   HARD 1 6.666666666666667\n"
     ]
    }
   ],
   "source": [
    "for k, sdf in dfdev.groupby('channel_category'):\n",
    "    print(k, len(sdf))\n",
    "    for k in ['EASY', 'MEDIUM', 'HARD']:\n",
    "        nb = (sdf.vad_difficulty == k).sum()\n",
    "        print('  ',k, nb, 100* nb/ len(sdf))"
   ]
  },
  {
   "cell_type": "code",
   "execution_count": 19,
   "id": "a5dd194f",
   "metadata": {},
   "outputs": [
    {
     "name": "stdout",
     "output_type": "stream",
     "text": [
      "generalist_radio 34\n",
      "   EASY 25 73.52941176470588\n",
      "   MEDIUM 6 17.647058823529413\n",
      "   HARD 3 8.823529411764707\n",
      "generalist_tv 93\n",
      "   EASY 17 18.27956989247312\n",
      "   MEDIUM 49 52.68817204301075\n",
      "   HARD 27 29.032258064516128\n",
      "music_radio 46\n",
      "   EASY 25 54.34782608695652\n",
      "   MEDIUM 8 17.391304347826086\n",
      "   HARD 13 28.26086956521739\n",
      "news_tv 44\n",
      "   EASY 28 63.63636363636363\n",
      "   MEDIUM 15 34.09090909090909\n",
      "   HARD 1 2.272727272727273\n"
     ]
    }
   ],
   "source": [
    "for k, sdf in dftest.groupby('channel_category'):\n",
    "    print(k, len(sdf))\n",
    "    for k in ['EASY', 'MEDIUM', 'HARD']:\n",
    "        nb = (sdf.vad_difficulty == k).sum()\n",
    "        print('  ',k, nb, 100* nb/ len(sdf))"
   ]
  },
  {
   "cell_type": "code",
   "execution_count": null,
   "id": "b6cb7e60",
   "metadata": {},
   "outputs": [],
   "source": []
  }
 ],
 "metadata": {
  "kernelspec": {
   "display_name": "Python 3 (ipykernel)",
   "language": "python",
   "name": "python3"
  },
  "language_info": {
   "codemirror_mode": {
    "name": "ipython",
    "version": 3
   },
   "file_extension": ".py",
   "mimetype": "text/x-python",
   "name": "python",
   "nbconvert_exporter": "python",
   "pygments_lexer": "ipython3",
   "version": "3.10.12"
  }
 },
 "nbformat": 4,
 "nbformat_minor": 5
}
